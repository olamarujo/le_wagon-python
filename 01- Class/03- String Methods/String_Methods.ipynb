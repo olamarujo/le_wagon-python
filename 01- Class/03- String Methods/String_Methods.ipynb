{
  "cells": [
    {
      "cell_type": "markdown",
      "metadata": {
        "id": "BM8VhcK7rcQa"
      },
      "source": [
        "# String Methods\n",
        "\n",
        "The String class is one of the most used classes in Python and programming languages in general. A lot of built-in methods already exist to make life easier. Your goal in this exercise will be to:\n",
        "\n",
        "- Learn to look for the right method, using the Python documentation\n",
        "\n",
        "We're going to use Google Colab notebooks for this as each cell of colab can interpret our code and print the results when it's run. This allows you to see your work as you go.\n",
        "\n",
        "- Each cell reads the code written by the user, which can be any valid Python expression like \"Hello\", 2+2, \"hello\".upper() …\n",
        "- It evaluates the result of this code when run.\n",
        "- It prints out the result."
      ]
    },
    {
      "cell_type": "code",
      "execution_count": null,
      "metadata": {
        "colab": {
          "base_uri": "https://localhost:8080/"
        },
        "id": "zN8m8j_srowi",
        "outputId": "416fb639-39e0-49c3-c3ae-c3bc1f0f890c"
      },
      "outputs": [
        {
          "data": {
            "text/plain": [
              "2"
            ]
          },
          "execution_count": 1,
          "metadata": {},
          "output_type": "execute_result"
        }
      ],
      "source": [
        "# Let's try running this cell and take a look at the output\n",
        "1 + 1"
      ]
    },
    {
      "cell_type": "markdown",
      "metadata": {
        "id": "Di60H8NXseFL"
      },
      "source": [
        "What about a more complicated example?\n",
        "\n",
        "In Python, everything (a string, an integer, a floating number, a list…) is an **object**. We can call **methods** on these objects. Such methods are called **instance methods** since they can only be called on instances of the **class**. The object on which we call the method is called the receiver.\n",
        "\n",
        "You can read more about the difference between a function and a method [here](https://www.tutorialspoint.com/difference-between-method-and-function-in-python)\n",
        "\n",
        "There are lots of useful methods in python, but today we're going to start by learning how a method will act on an object in the Class `str`.\n",
        "\n",
        "What's a `str`? When you are dealing with a string type in Python, under the hood that string is an object and that object is an instance of the class `str`. The `str` class has lots of default methods associated with it that are useful for manipulating and transforming strings!\n",
        "\n",
        "Some methods make the string all uppercase; some split the string at a given point; some replace certain characters with others. When we create a string object in Python, all these methods are automatically assigned to it, which makes it quick and easy to manipulate that string!\n",
        "\n",
        "Confused? Don't worry, it's your first day with python! This is a lot of information and you're not expected to understand it all just yet 😉\n",
        "\n",
        "Let's use the cell below to see how we could get **help** understanding the `lower` method for the `str` class."
      ]
    },
    {
      "cell_type": "code",
      "execution_count": null,
      "metadata": {
        "colab": {
          "base_uri": "https://localhost:8080/"
        },
        "id": "Gnyh79uzJ_GV",
        "outputId": "8534a48d-2b0d-4176-e49b-d128965c7e84"
      },
      "outputs": [
        {
          "name": "stdout",
          "output_type": "stream",
          "text": [
            "Help on method_descriptor:\n",
            "\n",
            "lower(self, /) unbound builtins.str method\n",
            "    Return a copy of the string converted to lowercase.\n",
            "\n"
          ]
        }
      ],
      "source": [
        "# help, I want to use a method for a string object, but I'm not sure how it works\n",
        "help(str.lower)"
      ]
    },
    {
      "cell_type": "markdown",
      "metadata": {
        "id": "tcwJ5OtvxNE6"
      },
      "source": [
        "## String Methods Documentation\n",
        "\n",
        "Find the right Python methods of the String class and try them out with our examples until you get the right answers.\n",
        "\n",
        "Code is all about being inventive and knowing how and where to look for the info you need! Often, the most difficult step is to ask Google the right question. To find the methods you'll need for this challenge, use:\n",
        "\n",
        "- Google and [Stack Overflow](http://stackoverflow.com/)\n",
        "- The [python doc](https://docs.python.org/3) if you have a rough idea of the method you are looking for.\n",
        "\n",
        "Don't use any kind of AI for this task. Learning to use documentation is a vital skill for programmers to develop and the point of the exercise is to learn how to put the puzzle pieces together by yourself.\n",
        "\n",
        "When you think you've found the method you're looking for, and you think you know how to use it, use the examples we've provided to test this method on something! Experimenting is a crucial step for beginners."
      ]
    },
    {
      "cell_type": "markdown",
      "metadata": {
        "id": "7AkQAPiZ0gjs"
      },
      "source": [
        "### Count repetition\n",
        "\n",
        "Use a string method to print how many times `c_substring` occurs in `c_string`\n",
        "\n",
        "The result should be `6`"
      ]
    },
    {
      "cell_type": "code",
      "execution_count": 1,
      "metadata": {
        "id": "-w0gj9nZ0SKF"
      },
      "outputs": [],
      "source": [
        "# use a string method to print how many times c_substring occurs in c_string\n",
        "c_string = \"000123000123\"\n",
        "c_substring = \"0\""
      ]
    },
    {
      "cell_type": "code",
      "execution_count": 2,
      "metadata": {
        "id": "i2ImDY541ATw"
      },
      "outputs": [
        {
          "data": {
            "text/plain": [
              "6"
            ]
          },
          "execution_count": 2,
          "metadata": {},
          "output_type": "execute_result"
        }
      ],
      "source": [
        "# YOUR CODE HERE\n",
        "c_string.count(c_substring)"
      ]
    },
    {
      "cell_type": "markdown",
      "metadata": {
        "id": "UDUrFZSE1Dcc"
      },
      "source": [
        "### Is a question\n",
        "\n",
        "Use a string method to print `True` if d_string ends with a \"?\"\n",
        "\n",
        "The result should be `True`"
      ]
    },
    {
      "cell_type": "code",
      "execution_count": 3,
      "metadata": {
        "id": "-wnyENlO1Cj5"
      },
      "outputs": [],
      "source": [
        "# use a string method to print True if d_string ends with a \"?\"\n",
        "d_string = \"How are you?\""
      ]
    },
    {
      "cell_type": "code",
      "execution_count": 4,
      "metadata": {
        "id": "u7afW-kV1U1E"
      },
      "outputs": [
        {
          "data": {
            "text/plain": [
              "True"
            ]
          },
          "execution_count": 4,
          "metadata": {},
          "output_type": "execute_result"
        }
      ],
      "source": [
        "# YOUR CODE HERE\n",
        "d_string.endswith('?')"
      ]
    },
    {
      "cell_type": "markdown",
      "metadata": {
        "id": "5oPktG5p1YO7"
      },
      "source": [
        "### Remove surrounding whitespaces\n",
        "\n",
        "Use a string method to print a copy of the string `\"  hey yo  \"` with leading and trailing whitespaces removed\n",
        "\n",
        "The result should be `\"hey yo\"`"
      ]
    },
    {
      "cell_type": "code",
      "execution_count": 5,
      "metadata": {
        "id": "6WJDKDlU1WkJ"
      },
      "outputs": [],
      "source": [
        "# use a string method to print a copy of the e_string with leading and trailing whitespaces removed\n",
        "e_string = \"  hey yo  \""
      ]
    },
    {
      "cell_type": "code",
      "execution_count": 6,
      "metadata": {
        "id": "fL19_HB12heq"
      },
      "outputs": [
        {
          "data": {
            "text/plain": [
              "'hey yo'"
            ]
          },
          "execution_count": 6,
          "metadata": {},
          "output_type": "execute_result"
        }
      ],
      "source": [
        "# YOUR CODE HERE\n",
        "e_string.strip()"
      ]
    },
    {
      "cell_type": "markdown",
      "metadata": {
        "id": "OX3nuF-F2lB_"
      },
      "source": [
        "### Replace\n",
        "\n",
        "Use a string method to print a copy of the string `\"casanova\"` with the new letter replacing the old one\n",
        "\n",
        "The result should be `\"cosonovo\"`"
      ]
    },
    {
      "cell_type": "code",
      "execution_count": 7,
      "metadata": {
        "id": "rFjQBQKx2jnZ"
      },
      "outputs": [],
      "source": [
        "# use a string method to print a copy of the f_string with the new letter replacing the old one\n",
        "f_string = \"casanova\""
      ]
    },
    {
      "cell_type": "code",
      "execution_count": 8,
      "metadata": {
        "id": "wJbb-UzD24U5"
      },
      "outputs": [
        {
          "data": {
            "text/plain": [
              "'cosonovo'"
            ]
          },
          "execution_count": 8,
          "metadata": {},
          "output_type": "execute_result"
        }
      ],
      "source": [
        "# YOUR CODE HERE\n",
        "f_string.replace('a', 'o')"
      ]
    },
    {
      "cell_type": "markdown",
      "metadata": {
        "id": "seDEQhEizDDF"
      },
      "source": [
        "### Add a comma\n",
        "\n",
        "Use a string method to print `a_string` (`\"John Peter Jude\"`) with each name separated by a comma\n",
        "\n",
        "The result should be `\"John, Peter, Jude\"`\n"
      ]
    },
    {
      "cell_type": "code",
      "execution_count": 9,
      "metadata": {
        "id": "rkzZVp0SsYS3"
      },
      "outputs": [],
      "source": [
        "# use a string method to print a copy of the following string with every word separated by a comma\n",
        "a_string = \"John Peter Jude\""
      ]
    },
    {
      "cell_type": "code",
      "execution_count": 10,
      "metadata": {
        "id": "pM9A4O-qzBYV"
      },
      "outputs": [
        {
          "data": {
            "text/plain": [
              "'John, Peter, Jude'"
            ]
          },
          "execution_count": 10,
          "metadata": {},
          "output_type": "execute_result"
        }
      ],
      "source": [
        "# YOUR CODE HERE\n",
        "a_string.replace(' ', ', ')"
      ]
    },
    {
      "cell_type": "markdown",
      "metadata": {
        "id": "KLFlqg_9z03m"
      },
      "source": [
        "### Belongs to\n",
        "\n",
        "Find a way to ouput `True` if `b_string` contains a certain `b_word`\n",
        "\n",
        "The result should be `True`\n",
        "\n",
        "<details>\n",
        "<summary>Hint</summary>\n",
        "\n",
        "This one isn't a \"method\" as such, but it is a way of manipulating a string!\n",
        "\n",
        "</details>"
      ]
    },
    {
      "cell_type": "code",
      "execution_count": 11,
      "metadata": {
        "id": "w8RAh1xq0Vek"
      },
      "outputs": [],
      "source": [
        "# use a string method to print True if the following string contains a certain word\n",
        "b_string = \"hey jude\"\n",
        "b_word = \"jude\""
      ]
    },
    {
      "cell_type": "code",
      "execution_count": 13,
      "metadata": {
        "id": "AvT2T9sczbpa"
      },
      "outputs": [
        {
          "data": {
            "text/plain": [
              "True"
            ]
          },
          "execution_count": 13,
          "metadata": {},
          "output_type": "execute_result"
        }
      ],
      "source": [
        "# YOUR CODE\n",
        "b_word in b_string"
      ]
    },
    {
      "cell_type": "markdown",
      "metadata": {
        "id": "ksh8a4LO3DT4"
      },
      "source": [
        "### Full description concatenation\n",
        "\n",
        "Print a sentence with the `first_name` and the `last_name` capitalized and the `age` using concatenation\n",
        "\n",
        "The result should be `\"John Doe is 33\"`\n",
        "\n",
        "This one requires more than just string methods! For this first try, don't use string interpolation that's for the next cell!\n",
        "\n",
        "<details>\n",
        "<summary>Hint</summary>\n",
        "\n",
        "You can add strings together!\n",
        "\n",
        "`\"Bruce\" + ' ' + \"Wayne\"` = `\"Bruce Wayne\"`\n",
        "\n",
        "</details>\n"
      ]
    },
    {
      "cell_type": "code",
      "execution_count": 14,
      "metadata": {
        "id": "_zynupUN26cc"
      },
      "outputs": [],
      "source": [
        "first_name = \"john\"\n",
        "last_name = \"doe\"\n",
        "age = \"33\""
      ]
    },
    {
      "cell_type": "code",
      "execution_count": null,
      "metadata": {
        "id": "_0bUhJLa3iNW"
      },
      "outputs": [
        {
          "data": {
            "text/plain": [
              "'John Doe 33'"
            ]
          },
          "execution_count": 16,
          "metadata": {},
          "output_type": "execute_result"
        }
      ],
      "source": [
        "# YOUR CODE HERE\n",
        "first_name.capitalize() + \" \" + last_name.capitalize() + \" \" + age"
      ]
    },
    {
      "cell_type": "markdown",
      "metadata": {
        "id": "SqHSGn6l4RIn"
      },
      "source": [
        "### Full description formatting\n",
        "\n",
        "Try the same as above but this time with string interpolation!\n",
        "\n",
        "<details>\n",
        "<summary>Hint</summary>\n",
        "\n",
        "String interpolation is sometimes called an f string because it has to start with an f (this is leftover from the term `format` from an older style of interpolation)!\n",
        "\n",
        "`f'{\"Bruce\"} {\"Wayne\"}'` = `\"Bruce Wayne\"`\n",
        "\n",
        "</details>"
      ]
    },
    {
      "cell_type": "code",
      "execution_count": 17,
      "metadata": {
        "id": "CntRkt7k4bsY"
      },
      "outputs": [
        {
          "data": {
            "text/plain": [
              "('john', 'doe', '33')"
            ]
          },
          "execution_count": 17,
          "metadata": {},
          "output_type": "execute_result"
        }
      ],
      "source": [
        "# we don't need to define the variables again, they already exist and the originals weren't transformed!\n",
        "# as proof we'll print them out here to show you they are not capitalised\n",
        "first_name, last_name, age"
      ]
    },
    {
      "cell_type": "code",
      "execution_count": 18,
      "metadata": {
        "id": "bbrYdxV-4Ltw"
      },
      "outputs": [
        {
          "data": {
            "text/plain": [
              "'John Doe 33'"
            ]
          },
          "execution_count": 18,
          "metadata": {},
          "output_type": "execute_result"
        }
      ],
      "source": [
        "# YOUR CODE HERE\n",
        "\n",
        "f'{first_name.capitalize()} {last_name.capitalize()} 33'"
      ]
    },
    {
      "cell_type": "markdown",
      "metadata": {
        "id": "pwcj8H7146kr"
      },
      "source": [
        "You did it! Congratulations, you've conquered a key element of Python!"
      ]
    }
  ],
  "metadata": {
    "colab": {
      "provenance": []
    },
    "kernelspec": {
      "display_name": "Python 3",
      "name": "python3"
    },
    "language_info": {
      "codemirror_mode": {
        "name": "ipython",
        "version": 3
      },
      "file_extension": ".py",
      "mimetype": "text/x-python",
      "name": "python",
      "nbconvert_exporter": "python",
      "pygments_lexer": "ipython3",
      "version": "3.13.3"
    }
  },
  "nbformat": 4,
  "nbformat_minor": 0
}
