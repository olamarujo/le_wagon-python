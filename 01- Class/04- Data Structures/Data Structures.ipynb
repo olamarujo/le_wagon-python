{
  "cells": [
    {
      "cell_type": "markdown",
      "metadata": {
        "id": "gZ7LYZig3qm_"
      },
      "source": [
        "# Data Structures\n",
        "\n",
        "In this exercise, we will cover the most useful built-in data structures.\n",
        "Before diving into the code, take some time to read the following:\n",
        "\n",
        "- [Lists](https://docs.python.org/3.7/tutorial/introduction.html#lists), called array in other languages\n",
        "- [More on lists](https://docs.python.org/3.7/tutorial/datastructures.html#more-on-lists)\n",
        "- [List Comprehensions](https://docs.python.org/3.7/tutorial/datastructures.html#list-comprehensions)\n",
        "- [Tuples](https://docs.python.org/3.7/tutorial/datastructures.html#tuples-and-sequences)\n",
        "- [Dictionaries](https://docs.python.org/3.7/tutorial/datastructures.html#dictionaries), called hash or hashmap in other languages\n",
        "- [Looping Techniques](https://docs.python.org/3.7/tutorial/datastructures.html#looping-techniques) with the `for` keyword\n",
        "\n",
        "All done? Let's code!"
      ]
    },
    {
      "cell_type": "markdown",
      "metadata": {
        "id": "Iyfj5-VE3ygs"
      },
      "source": [
        "## Currencies\n",
        "\n",
        "Let's build a currency converter. In this exercise, we will manipulate lists, dictionaries and tuples.\n",
        "\n",
        "1. Create a new dictionary called `rates`. It should have the following structure:\n",
        "  - **Keys** will be the currency we're exchanging from and to in 6 letter strings, *e.g. `\"USDEUR\"`, `\"GBPEUR\"`, `\"CHFEUR\"`*.\n",
        "  - **Values** will be the exchange rate between the two currencies. It will be stored as a simple Python [float number](https://docs.python.org/3/library/stdtypes.html#numeric-types-int-float-complex).\n",
        "  - For the exchange rates, you can use the rates we supply below, or find the actual current rates on Google if you want!\n",
        "    - US Dollar (`USD`) to Euro = `0.85`\n",
        "    - Pound (`GBP`) to Euro = `1.13`\n",
        "    - Swiss Franc (`CHF`) to Euro = `0.86`\n",
        "    - Euro (`EUR`) to Pound = `0.885`\n",
        "\n",
        "1. We're going to implement a function called `convert` which takes two parameters as follows:\n",
        "  - The first parameter is a **tuple** of two elements: a float and a currency *(e.g. `(100, \"USD\")`)*.  This is currency the money starts in.\n",
        "  - The second parameter is a **string**. This will be the currency you want to convert the amount into.\n",
        "\n",
        "1. We should round the results to the nearest whole number for ease.\n",
        "\n",
        "1. One last thing, with functions it's good practice to think of all possible outcomes. Here, we need to decide what happens if the currencies entered don't have a matching key-value pair in the `rates` dictionary. When called with an unknown rate *(e.g. `\"RMBEUR\"`)*, the convert function should return `\"Exchange rate not currently available\"` as we don't have an exchange rate for those two currencies.\n",
        "\n",
        "\n",
        "Let's tackle each of these steps one at a time!"
      ]
    },
    {
      "cell_type": "markdown",
      "metadata": {
        "id": "Vv7MGJnp318d"
      },
      "source": [
        "### Step One: Creating the Rates Dictionary"
      ]
    },
    {
      "cell_type": "code",
      "execution_count": 1,
      "metadata": {
        "id": "TrA3rpzIKNEm"
      },
      "outputs": [],
      "source": [
        "# Follow the description above to create the rates dictionary with 4 keys that match the exchange rates we've provided\n",
        "rates = {\n",
        "    'USDEUR': 0.85,\n",
        "    'EURUSD': 1/0.85,\n",
        "    'GBPEUR': 1.13,\n",
        "    'CHFEUR': 0.86,\n",
        "    'EURCHF': 1/0.86,\n",
        "    'EURGBP': 0.885\n",
        "}"
      ]
    },
    {
      "cell_type": "markdown",
      "metadata": {
        "id": "bMjjN3r83-aP"
      },
      "source": [
        "Ok let's test that dictionary. Run the code below and if the answer looks like this `[0.85, 1.13, 0.86, 0.885]` then we're on the right track!"
      ]
    },
    {
      "cell_type": "code",
      "execution_count": 2,
      "metadata": {
        "id": "Jm1ZQRHH35Gl"
      },
      "outputs": [
        {
          "name": "stdout",
          "output_type": "stream",
          "text": [
            "[0.85, 1.13, 0.86, 0.885]\n"
          ]
        }
      ],
      "source": [
        "values = [rates[key]for key in [\"USDEUR\", \"GBPEUR\", \"CHFEUR\", \"EURGBP\"]]\n",
        "print(values)"
      ]
    },
    {
      "cell_type": "markdown",
      "metadata": {
        "id": "DSiZNueX4Hhs"
      },
      "source": [
        "## Step Two: Defining the Convert Function\n",
        "\n",
        "How do we define a function? Let's remind ourselves!\n",
        "\n",
        "Functions have the following structure:\n",
        "\n",
        "```python\n",
        "def function_name(parameter1, parameter2):\n",
        "  '''Description of what the function is used for'''\n",
        "  result = parameter1 - parameter2\n",
        "  return result\n",
        "```\n",
        "\n",
        "A function needs a name and it often needs parameters.\n",
        "\n",
        "Then it lays out the instructions for what actions to take, often involving some transformation of those parameters.\n",
        "\n",
        "Then, finally, it **returns** whatever the final output should be.\n",
        "\n",
        "We're working with a dictionary, so now would be a good time to refresh yourself on some [dictionary methods](https://www.w3schools.com/python/python_ref_dictionary.asp)!\n",
        "\n",
        "<details>\n",
        "<summary><b>Hint</b></summary>\n",
        "\n",
        "One of the easiest ways to check all our dictionary keys would be to loop through our dictionary using the [.items()](https://www.w3schools.com/python/ref_dictionary_items.asp) method.\n",
        "\n",
        "</details>\n",
        "\n",
        "We're also probably going to need some `for loops` so let's remind ourselves of their structure!\n",
        "\n",
        "```python\n",
        "for element in a_list:\n",
        "  print(element)\n",
        "```\n",
        "\n",
        "And we're going to need some `if statements`, so let's remind ourselves of the stucture for those too!\n",
        "\n",
        "```python\n",
        "if x = y and a < b:\n",
        "  print('same)\n",
        "```\n",
        "\n",
        "**A Final Note**\n",
        "\n",
        "You'll need to account for the currency codes being at either the beginning of the key or at the end!\n",
        "\n",
        "If the parameters are `((10, \"GBP\"), \"EUR\")` you are exchanging pounds to euros and you'll need the rate associated with `\"GBPEUR\"`\n",
        "\n",
        "But, if the parameters are `((10, \"EUR\"), \"GBP\")` you are exchanging euros to pounds and you'll need the rate associated with `\"EURGBP\"`"
      ]
    },
    {
      "cell_type": "code",
      "execution_count": 3,
      "metadata": {
        "id": "Dg9NNcPx4B8C"
      },
      "outputs": [],
      "source": [
        "# let's define our convert function using the original steps. Keep it simple for now and don't worry about step 3 and 4\n",
        "\n",
        "def convert(value_currency1, currency_2):\n",
        "\n",
        "        if value_currency1[1] + currency_2 in rates.keys():\n",
        "            return rates[value_currency1[1] + currency_2] * value_currency1[0]"
      ]
    },
    {
      "cell_type": "markdown",
      "metadata": {
        "id": "KeBGIAwu4N3c"
      },
      "source": [
        "Use the cell below to test your function as you go!\n",
        "\n",
        "We've filled in the arguments, so if your function works correctly, then the answer should be `117.6470588...`"
      ]
    },
    {
      "cell_type": "code",
      "execution_count": 4,
      "metadata": {
        "id": "FsnXyQn34L-i"
      },
      "outputs": [
        {
          "data": {
            "text/plain": [
              "117.64705882352942"
            ]
          },
          "execution_count": 4,
          "metadata": {},
          "output_type": "execute_result"
        }
      ],
      "source": [
        "convert((100, \"EUR\"), \"USD\")"
      ]
    },
    {
      "cell_type": "markdown",
      "metadata": {
        "id": "F7e-wWJK4SmC"
      },
      "source": [
        "**Remember! Check your function output regularly:**\n",
        "\n",
        "- Is anything being printed out?\n",
        "- Is it the correct data type?\n",
        "- Does the printed output match your expectations?\n",
        "- Is there an error? Do you understand the error? If you do, debug and try again. If you don't, open a ticket!\n",
        "\n",
        "In the real world, this approach allows you to easily see if your function works and what it does before spending lots of time waiting for more complicated tests to run.\n",
        "\n",
        "Remember, coding is an iterative process, so your code will rarely perform as you expect it to the first time. Testing early and often helps you meet basic requirements before testing all possible errors, thus reducing overall debugging time!"
      ]
    },
    {
      "cell_type": "markdown",
      "metadata": {
        "id": "jKG1MOWD4Vti"
      },
      "source": [
        "## Step Three: Rounding the final results\n",
        "\n",
        "Let's copy the function you made above and make some edits.\n",
        "\n",
        "We're going to add the requirement for rounding! Go back and check step 3 for the exact requirements."
      ]
    },
    {
      "cell_type": "code",
      "execution_count": 5,
      "metadata": {
        "id": "n7tCZQyc4Q--"
      },
      "outputs": [],
      "source": [
        "# let's add rounding to our returns!\n",
        "def convert(value_currency1, currency_2):\n",
        "\n",
        "        if value_currency1[1] + currency_2 in rates.keys():\n",
        "            return round(rates[value_currency1[1] + currency_2] * value_currency1[0], 2)"
      ]
    },
    {
      "cell_type": "markdown",
      "metadata": {
        "id": "luqvGQyS4cLC"
      },
      "source": [
        "Just like last time, let's use the cell below to test your function as you go!\n",
        "\n",
        "We've filled in the arguments, so if your function works correctly, then the answer should be `88`"
      ]
    },
    {
      "cell_type": "code",
      "execution_count": 6,
      "metadata": {
        "id": "x5QNkWmE4Z8W"
      },
      "outputs": [
        {
          "data": {
            "text/plain": [
              "117.65"
            ]
          },
          "execution_count": 6,
          "metadata": {},
          "output_type": "execute_result"
        }
      ],
      "source": [
        "convert((100, \"EUR\"), \"USD\")"
      ]
    },
    {
      "cell_type": "markdown",
      "metadata": {
        "id": "2T8EiVR84faF"
      },
      "source": [
        "### Step Four: Deal with Outliers\n",
        "\n",
        "We need to add an extra `return` to deal with inputs that don't have a matching key in our `rates` dictionary.\n",
        "\n",
        "Head back up to step 4 to see what the requirements were."
      ]
    },
    {
      "cell_type": "code",
      "execution_count": 7,
      "metadata": {
        "id": "co9MPUi74ebL"
      },
      "outputs": [],
      "source": [
        "# let's add a return to deal with outliers.\n",
        "def convert(value_currency1, currency_2):\n",
        "\n",
        "        if value_currency1[1] + currency_2 in rates.keys():\n",
        "            return round(rates[value_currency1[1] + currency_2] * value_currency1[0])\n",
        "        else:\n",
        "            print(\"Exchange rate not currently available\")"
      ]
    },
    {
      "cell_type": "markdown",
      "metadata": {
        "id": "iJOJMYI04o2O"
      },
      "source": [
        "Just like last time, let's use the cell below to test your function as you go!\n",
        "\n",
        "We've filled in the arguments, so if your function works correctly, then the answer should be `\"Exchange rate not currently available\"`"
      ]
    },
    {
      "cell_type": "code",
      "execution_count": 8,
      "metadata": {
        "id": "60RmvpfQ4kou"
      },
      "outputs": [
        {
          "name": "stdout",
          "output_type": "stream",
          "text": [
            "Exchange rate not currently available\n"
          ]
        }
      ],
      "source": [
        "convert((100, \"RMB\"), \"EUR\")"
      ]
    },
    {
      "cell_type": "markdown",
      "metadata": {
        "id": "J9oQMk1D4u2J"
      },
      "source": [
        "## Expanding our Conversion Calculator\n",
        "\n",
        "OK, this is all amazing, but what if we really want to convert some currencies we don't currently have?\n",
        "\n",
        "Let's add a few more exchange rates to our dictionary!\n",
        "\n",
        "- Danish Krone (`DKK`) to Euros = `0.13`\n",
        "- Euros (`EUR`) to Danish Krone = `7.46`\n",
        "- Japanese Yen (`JPY`) to Pounds = `0.0051`\n",
        "- Pounds (`GBP`) to Japanese Yen = `194.56`\n",
        "\n",
        "So, how do you add new keys and values to an existing dictionary?"
      ]
    },
    {
      "cell_type": "code",
      "execution_count": 9,
      "metadata": {
        "id": "OQgZGRJY4nxZ"
      },
      "outputs": [],
      "source": [
        "# add your new rates to your dictionary\n",
        "rates['DKKEUR'] = 0.13\n",
        "rates['EURDKK'] = 7.46\n",
        "rates['JPYGBP'] = 0.0051\n",
        "rates['GBPJPY'] = 194.56"
      ]
    },
    {
      "cell_type": "markdown",
      "metadata": {
        "id": "NUDsPyP-42vy"
      },
      "source": [
        "Run the cell below to check that all your new keys and values were successfully added."
      ]
    },
    {
      "cell_type": "code",
      "execution_count": 10,
      "metadata": {
        "id": "v8_b6rHc40zi"
      },
      "outputs": [
        {
          "data": {
            "text/plain": [
              "{'USDEUR': 0.85,\n",
              " 'EURUSD': 1.1764705882352942,\n",
              " 'GBPEUR': 1.13,\n",
              " 'CHFEUR': 0.86,\n",
              " 'EURCHF': 1.1627906976744187,\n",
              " 'EURGBP': 0.885,\n",
              " 'DKKEUR': 0.13,\n",
              " 'EURDKK': 7.46,\n",
              " 'JPYGBP': 0.0051,\n",
              " 'GBPJPY': 194.56}"
            ]
          },
          "execution_count": 10,
          "metadata": {},
          "output_type": "execute_result"
        }
      ],
      "source": [
        "rates"
      ]
    },
    {
      "cell_type": "markdown",
      "metadata": {
        "id": "lxZcqGQF47sM"
      },
      "source": [
        "Now let's test out our converter! The result of the below cell should be `13.0`"
      ]
    },
    {
      "cell_type": "code",
      "execution_count": 11,
      "metadata": {
        "id": "BZdfRM0V45Pp"
      },
      "outputs": [
        {
          "data": {
            "text/plain": [
              "13"
            ]
          },
          "execution_count": 11,
          "metadata": {},
          "output_type": "execute_result"
        }
      ],
      "source": [
        "convert((100, \"DKK\"), \"EUR\")"
      ]
    },
    {
      "cell_type": "markdown",
      "metadata": {
        "id": "PFfl0gfv4-u_"
      },
      "source": [
        "The result of this cell should be `19608.0`"
      ]
    },
    {
      "cell_type": "code",
      "execution_count": 12,
      "metadata": {
        "id": "AePKWXHb5Bed"
      },
      "outputs": [
        {
          "data": {
            "text/plain": [
              "19456"
            ]
          },
          "execution_count": 12,
          "metadata": {},
          "output_type": "execute_result"
        }
      ],
      "source": [
        "convert((100, \"GBP\"), \"JPY\")"
      ]
    },
    {
      "cell_type": "markdown",
      "metadata": {
        "id": "kHDgR3Y75Etg"
      },
      "source": [
        "Congratulations! You have a new currency converter function and you can add and update exchange rates as needed by updating your `rates` dictionary!"
      ]
    }
  ],
  "metadata": {
    "colab": {
      "provenance": []
    },
    "kernelspec": {
      "display_name": "Python 3",
      "name": "python3"
    },
    "language_info": {
      "codemirror_mode": {
        "name": "ipython",
        "version": 3
      },
      "file_extension": ".py",
      "mimetype": "text/x-python",
      "name": "python",
      "nbconvert_exporter": "python",
      "pygments_lexer": "ipython3",
      "version": "3.13.3"
    }
  },
  "nbformat": 4,
  "nbformat_minor": 0
}
