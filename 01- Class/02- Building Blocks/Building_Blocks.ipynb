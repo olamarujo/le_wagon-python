{
  "cells": [
    {
      "cell_type": "markdown",
      "metadata": {
        "id": "sJRwmRfI8s97"
      },
      "source": [
        "# Building Blocks\n",
        "\n",
        "## Python Basics: Strings, numbers and Variables\n",
        "Welcome to this introductory Python notebook! Here, we will learn about three fundamental concepts in Python: **strings**, **numerical data** and **variables**. <br> <br>\n",
        "A **string** in Python is a sequence of characters. It is a type of data that is used to represent text rather than numbers. In contrast, numerical data usually comes in two forms: an **int** or a **float** (you can think of these as whole numbers and decimal point numbers).<br> <br>\n",
        "A **variable** in Python is simply a container that holds data which can be changed later throughout programming. They'll usually be denoted by an all lowercase word like `df` or `my_string`.<br><br>\n",
        "Let's get started! If you need any assistance, just ask a TA!"
      ]
    },
    {
      "cell_type": "markdown",
      "metadata": {
        "id": "1AQfrW6_BjAs"
      },
      "source": [
        "## Strings\n",
        "In Python, you can create a string by enclosing characters in quotes. Python treats single quotes the same as double quotes. Let's see some examples.\n",
        "\n",
        "Select the cell below by clicking anywhere on it and then run it by either hitting \"Run\" in the top left corner or by pressing \"Shift\" and \"Enter\" at the same time."
      ]
    },
    {
      "cell_type": "code",
      "execution_count": 1,
      "metadata": {
        "id": "nUTqK1U4Jk7M"
      },
      "outputs": [],
      "source": [
        "# String examples\n",
        "string1 = 'Hello, World!'\n",
        "string2 = \"Python is fun!\""
      ]
    },
    {
      "cell_type": "markdown",
      "metadata": {
        "id": "Sv7U0JzkBuAB"
      },
      "source": [
        "We've now defined two variables. We don't expect to see any output yet as all we have done is assign our strings to their corresponding variables names. To see what these variables contain, we can print their output using the print function below:"
      ]
    },
    {
      "cell_type": "code",
      "execution_count": 2,
      "metadata": {
        "id": "qE1HreMYBqi_"
      },
      "outputs": [
        {
          "name": "stdout",
          "output_type": "stream",
          "text": [
            "Hello, World!\n",
            "Python is fun!\n"
          ]
        }
      ],
      "source": [
        "print(string1)\n",
        "print(string2)"
      ]
    },
    {
      "cell_type": "markdown",
      "metadata": {
        "id": "QInchrsKB0rY"
      },
      "source": [
        "Now, it's your turn! Try to create your own strings and print them out. You can change the text inside the quotes."
      ]
    },
    {
      "cell_type": "code",
      "execution_count": 3,
      "metadata": {
        "id": "affgOV69BxJW"
      },
      "outputs": [],
      "source": [
        "# Your code here\n",
        "your_string_1 = 'Hi, i am Rodrigo'\n",
        "your_string_2 = 'I am also known as olamarujo'"
      ]
    },
    {
      "cell_type": "markdown",
      "metadata": {
        "id": "WE1l28Q8B56S"
      },
      "source": [
        "Now verify that you can print their output by printing each one out:"
      ]
    },
    {
      "cell_type": "code",
      "execution_count": 4,
      "metadata": {
        "id": "tIfYlafDB3Pz"
      },
      "outputs": [
        {
          "name": "stdout",
          "output_type": "stream",
          "text": [
            "Hi, i am Rodrigo\n",
            "I am also known as olamarujo\n"
          ]
        }
      ],
      "source": [
        "print(your_string_1)\n",
        "# Write code to print out your second variable here\n",
        "print(your_string_2)"
      ]
    },
    {
      "cell_type": "markdown",
      "metadata": {
        "id": "g1J4ehc_B-0V"
      },
      "source": [
        "## Variables\n",
        "In Python, variables are created when you assign a value to it. Python has no command for declaring a variable. Let's see some examples by running the cell below."
      ]
    },
    {
      "cell_type": "code",
      "execution_count": 5,
      "metadata": {
        "id": "wfLI6_roB8cy"
      },
      "outputs": [
        {
          "name": "stdout",
          "output_type": "stream",
          "text": [
            "5\n",
            "John\n"
          ]
        }
      ],
      "source": [
        "# Variable examples\n",
        "x = 5\n",
        "y = 'John'\n",
        "\n",
        "print(x)\n",
        "print(y)"
      ]
    },
    {
      "cell_type": "markdown",
      "metadata": {
        "id": "VAirLk73CEWv"
      },
      "source": [
        "Now, it's your turn! Try to create two numerical variables and print their sum."
      ]
    },
    {
      "cell_type": "code",
      "execution_count": 6,
      "metadata": {
        "id": "dP7yxtUiCBTw"
      },
      "outputs": [],
      "source": [
        "# Your code here\n",
        "number_1 = 1\n",
        "number_2 = 2"
      ]
    },
    {
      "cell_type": "code",
      "execution_count": 7,
      "metadata": {
        "id": "Sff2J9H3CGuF"
      },
      "outputs": [
        {
          "name": "stdout",
          "output_type": "stream",
          "text": [
            "3\n"
          ]
        }
      ],
      "source": [
        "print(number_1 + number_2)"
      ]
    },
    {
      "cell_type": "markdown",
      "metadata": {
        "id": "EHrkyCH1CJxo"
      },
      "source": [
        "If we want, we can re-assign (overwrite) whatever our variable is and we can modify the calculation we've printed. Go back to the cell above, change the two numbers and also change the operator in the print statement (e.g. to a `-` or a `/` or a `*` etc.). You should see the output of your print statement change."
      ]
    },
    {
      "cell_type": "markdown",
      "metadata": {
        "id": "WHlhuHThCSOy"
      },
      "source": [
        "## String Indexing\n",
        "In Python, strings are arrays of bytes representing Unicode characters. This means that Python has a built-in string index. The indexing of the string starts from `0` up to `n-1` where `n` is the length of the string. Let's see some examples."
      ]
    },
    {
      "cell_type": "code",
      "execution_count": 8,
      "metadata": {
        "id": "1dA68d6aCJEv"
      },
      "outputs": [
        {
          "name": "stdout",
          "output_type": "stream",
          "text": [
            "e\n",
            "llo\n",
            "d\n"
          ]
        }
      ],
      "source": [
        "# String indexing examples\n",
        "hello_variable = 'Hello, World!'\n",
        "\n",
        "# Get the character at position 1 (remember that the first character has the position 0)\n",
        "print(hello_variable[1])\n",
        "\n",
        "# Get the characters from position 2 to position 5 (not included)\n",
        "print(hello_variable[2:5])\n",
        "\n",
        "# We can also work backwards using the `-` sign. So -1\n",
        "# will give us the last letter, -2 will give us the second last etc.\n",
        "print(hello_variable[-2])"
      ]
    },
    {
      "cell_type": "markdown",
      "metadata": {
        "id": "uk5y98BsCd0y"
      },
      "source": [
        "Now, it's your turn! Try to index your own strings. You can change the text inside the quotes and the index numbers."
      ]
    },
    {
      "cell_type": "code",
      "execution_count": 9,
      "metadata": {
        "id": "gAk9OqHpCa6n"
      },
      "outputs": [
        {
          "name": "stdout",
          "output_type": "stream",
          "text": [
            "H\n",
            "Pythons\n",
            "Condas\n"
          ]
        }
      ],
      "source": [
        "# Your code here\n",
        "your_string = 'Hello Sailor, it`s time to hunt some snakes Pythons and Condas worth more!'\n",
        "\n",
        "# Try indexing your_string\n",
        "# For example:\n",
        "print(your_string[0])\n",
        "# Then try slicing your string using the method you've seen above\n",
        "print(your_string[44:51])\n",
        "print(your_string[56:62])"
      ]
    },
    {
      "cell_type": "markdown",
      "metadata": {
        "id": "bbCzrWqACiY3"
      },
      "source": [
        "## Challenge: Write Your Own Function\n",
        "Now that you've learned about strings, numbers and variables, let's put your knowledge to the test with a function. Try to write a function that takes a string as an input, and returns the first letter of that string lower cased and the last letter upper cased. For example, if the input string is 'Hello, World!', the output should be 'hD'.\n",
        "\n",
        "Remember: functions typically accept some input and then perform an operation on them before returning something. It'll always start with a `def` before having an open set of brackets and the name (essentially a placeholder) for whatever your function will be accepting, then a colon. On the line/s below it will perform an operation on the input, often assign it to a new variable and then return that variable.\n",
        "\n",
        "<details>\n",
        "  <summary>Hint</summary>\n",
        "\n",
        "You can add two strings together - we call it concatenation!\n",
        "\n",
        "`\"a\" + \"b\"` = `\"ab\"`\n",
        "\n",
        "\n",
        "</details>"
      ]
    },
    {
      "cell_type": "code",
      "execution_count": 10,
      "metadata": {
        "id": "t-uKRKGvCfy4"
      },
      "outputs": [],
      "source": [
        "# An example function that takes the input word and puts the first letter at the end, assigns a new version\n",
        "# of that word to a new temporary variable called new_word, and then returns that new_word\n",
        "def letter_swap(word):\n",
        "    new_word = word[1:] + word[0]\n",
        "    return new_word"
      ]
    },
    {
      "cell_type": "markdown",
      "metadata": {
        "id": "QwqZEpSlCqGn"
      },
      "source": [
        "Run the cell above, then try using the function with your own word!"
      ]
    },
    {
      "cell_type": "code",
      "execution_count": 11,
      "metadata": {
        "id": "egbGwO3bCnyk"
      },
      "outputs": [
        {
          "data": {
            "text/plain": [
              "'xamplee'"
            ]
          },
          "execution_count": 11,
          "metadata": {},
          "output_type": "execute_result"
        }
      ],
      "source": [
        "letter_swap(\"example\")"
      ]
    },
    {
      "cell_type": "markdown",
      "metadata": {
        "id": "FSXKKAGPMbT2"
      },
      "source": [
        "Now to implement your own function - call it `upper_and_lower` - here.\n",
        "\n",
        "Don't be afraid to do it piece by piece and test as you go rather than all at once and don't hesitate to reach out to a TA if you feel stuck."
      ]
    },
    {
      "cell_type": "code",
      "execution_count": 12,
      "metadata": {
        "id": "xSfoHcuYCs3c"
      },
      "outputs": [],
      "source": [
        "def upper_and_lower(string):\n",
        "    return string[0].lower() + string[-1].upper()"
      ]
    },
    {
      "cell_type": "markdown",
      "metadata": {
        "id": "q5muNJTTDgHH"
      },
      "source": [
        "You can run this test at the end to make sure your function is working correctly!"
      ]
    },
    {
      "cell_type": "code",
      "execution_count": 13,
      "metadata": {
        "id": "FgYoolcPDWOQ"
      },
      "outputs": [
        {
          "name": "stdout",
          "output_type": "stream",
          "text": [
            "All tests passed!\n"
          ]
        }
      ],
      "source": [
        "# Test cases\n",
        "def test_modify_string():\n",
        "    assert upper_and_lower('Hello, World') == 'hD'\n",
        "    assert upper_and_lower('Python') == 'pN'\n",
        "    assert upper_and_lower('a') == 'aA'\n",
        "    assert upper_and_lower('abc') == 'aC'\n",
        "    assert upper_and_lower('ABC') == 'aC'\n",
        "    print(\"All tests passed!\")\n",
        "test_modify_string()"
      ]
    }
  ],
  "metadata": {
    "colab": {
      "provenance": []
    },
    "kernelspec": {
      "display_name": "Python 3",
      "name": "python3"
    },
    "language_info": {
      "codemirror_mode": {
        "name": "ipython",
        "version": 3
      },
      "file_extension": ".py",
      "mimetype": "text/x-python",
      "name": "python",
      "nbconvert_exporter": "python",
      "pygments_lexer": "ipython3",
      "version": "3.13.3"
    }
  },
  "nbformat": 4,
  "nbformat_minor": 0
}
