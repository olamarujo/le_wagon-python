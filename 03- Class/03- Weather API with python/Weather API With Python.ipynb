{
 "cells": [
  {
   "cell_type": "markdown",
   "id": "c42f9d05",
   "metadata": {
    "id": "c42f9d05"
   },
   "source": [
    " ![Emil](data:image/png;base64,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)\n"
   ]
  },
  {
   "cell_type": "markdown",
   "id": "49199789",
   "metadata": {
    "id": "49199789"
   },
   "source": [
    "#  OpenWeatherMap API 🌦️"
   ]
  },
  {
   "cell_type": "markdown",
   "id": "11466eaf",
   "metadata": {
    "id": "11466eaf"
   },
   "source": [
    "In this challenge, we will use OpenWeatherMap API to retrieve extract temperature forecasts for any city around the globe 🌡️\n"
   ]
  },
  {
   "cell_type": "markdown",
   "id": "6338b9c1",
   "metadata": {
    "id": "6338b9c1"
   },
   "source": [
    "## Read the documentation\n"
   ]
  },
  {
   "cell_type": "markdown",
   "id": "e9aba9bc",
   "metadata": {
    "id": "e9aba9bc"
   },
   "source": [
    "When presented with a new API to use, your first reflex should be to go straight to the documentation, and figure out the following:\n",
    "\n",
    "- Does it output JSON?\n",
    "- Does this API require authentication? (do I need to sign up to get an API key? Do I need to pay?)\n",
    "- Which endpoints can I call? What data does it return?\n",
    "\n",
    "\n",
    "\n",
    "(Go back to the `API 101` lecture from week 3 if you are confused about some of the above terms)\n",
    "\n",
    "\n",
    "👯‍♂️ Buddy time! Go to [OpenWeatherMap API documentation](https://openweathermap.org/api) read it, and try answering those questions. When you are comfortable with what this API is about, you can start working on the challenge.\n",
    "\n"
   ]
  },
  {
   "cell_type": "markdown",
   "id": "bb70b4b7",
   "metadata": {
    "id": "bb70b4b7"
   },
   "source": [
    "## Authentication (and a small 🎁 from us)\n"
   ]
  },
  {
   "cell_type": "markdown",
   "id": "b41faad9",
   "metadata": {
    "id": "b41faad9"
   },
   "source": [
    "You might have noticed that OpenWeatherMap requires you to sign up for an API key. Even though OpenWeatherMap offers a [few free API calls](https://openweathermap.org/price), they still want to know how different users consume the API (and track if you hit your API call limit 😜). This is the norm for most APIs out there.\n",
    "\n",
    "\n",
    "You can either:\n",
    "\n",
    "- Sign up for an API key (which might take 10-20 minutes to get activated)\n",
    "- Use a proxy we created for you 👉 https://weather.lewagon.com/. This URL already includes the API key, so you can just replace the host of OpenWeatherMap with the Le Wagon website and skip the API key parameter in your request. For example:\n",
    "\n",
    "`https://api.openweathermap.org/geo/1.0/direct?q=Barcelona&appid=XXXXXXXXXXX`\n",
    "\n",
    "becomes:\n",
    "\n",
    "`https://weather.lewagon.com/geo/1.0/direct?q=Barcelona`\n",
    "\n",
    "**Note**: make sure to check https://weather.lewagon.com/ to see the documentation on which endpoints are proxied (if you get a Forbidden error copy and paste the link in a new tab!). Try to click on one of the examples displayed to make sure that you can run API calls succesfully.\n",
    "\n",
    "\n",
    "If the endpoint you want to access is not shown, you will need to access it with your own API key instead.\n"
   ]
  },
  {
   "cell_type": "markdown",
   "id": "78e3bb3d",
   "metadata": {
    "id": "78e3bb3d"
   },
   "source": [
    "## Make some API calls"
   ]
  },
  {
   "cell_type": "markdown",
   "id": "6eb0521b",
   "metadata": {
    "id": "6eb0521b"
   },
   "source": [
    "### With the browser\n",
    "\n"
   ]
  },
  {
   "cell_type": "markdown",
   "id": "fc8ef717",
   "metadata": {
    "id": "fc8ef717"
   },
   "source": [
    "Have a look at the following link.\n",
    "\n",
    "<code>https://weather.lewagon.com/geo/1.0/direct?q=Paris</code>\n",
    "\n",
    "Is it a little hard to read ? If you are using Google Chrome, we recommend you to install the [JSONVue extension](https://chromewebstore.google.com/detail/jsonvue/chklaanhfefbnpoihckbnefhakgolnmc), it will make reading JSON on your browser much easier.\n",
    "Once installed, reload the page, and admire the difference !\n",
    "\n"
   ]
  },
  {
   "cell_type": "markdown",
   "id": "80c6c6a4",
   "metadata": {
    "id": "80c6c6a4"
   },
   "source": [
    "### With Python\n"
   ]
  },
  {
   "cell_type": "markdown",
   "id": "94084171",
   "metadata": {
    "id": "94084171"
   },
   "source": [
    "Now it's your turn to code ! \\\n",
    "Use the `requests`library and load the data for the city of Paris in a variable called `paris_info`and print it. \\\n",
    "This should look exactly the same as in your browser.\n"
   ]
  },
  {
   "cell_type": "markdown",
   "id": "489abeb0",
   "metadata": {
    "id": "489abeb0"
   },
   "source": [
    "<details>\n",
    "    <summary>Hint 🔍</summary>\n",
    "\n",
    "Do not copy the whole URL provided above, try to use `params` argument of the `requests.get()`method instead.\n",
    "    \n",
    "</details>"
   ]
  },
  {
   "cell_type": "code",
   "execution_count": 1,
   "id": "c3531541",
   "metadata": {
    "ExecuteTime": {
     "end_time": "2024-02-12T19:24:27.093572Z",
     "start_time": "2024-02-12T19:24:27.005595Z"
    },
    "id": "c3531541",
    "scrolled": true
   },
   "outputs": [
    {
     "data": {
      "text/plain": [
       "{'coord': {'lon': 2.3488, 'lat': 48.8534},\n",
       " 'weather': [{'id': 801,\n",
       "   'main': 'Clouds',\n",
       "   'description': 'few clouds',\n",
       "   'icon': '02d'}],\n",
       " 'base': 'stations',\n",
       " 'main': {'temp': 286.36,\n",
       "  'feels_like': 285.93,\n",
       "  'temp_min': 285.96,\n",
       "  'temp_max': 287.03,\n",
       "  'pressure': 1024,\n",
       "  'humidity': 84,\n",
       "  'sea_level': 1024,\n",
       "  'grnd_level': 1014},\n",
       " 'visibility': 10000,\n",
       " 'wind': {'speed': 4.63, 'deg': 70},\n",
       " 'clouds': {'all': 20},\n",
       " 'dt': 1760693369,\n",
       " 'sys': {'type': 2,\n",
       "  'id': 2012208,\n",
       "  'country': 'FR',\n",
       "  'sunrise': 1760681630,\n",
       "  'sunset': 1760720263},\n",
       " 'timezone': 7200,\n",
       " 'id': 2988507,\n",
       " 'name': 'Paris',\n",
       " 'cod': 200}"
      ]
     },
     "execution_count": 1,
     "metadata": {},
     "output_type": "execute_result"
    }
   ],
   "source": [
    "import requests\n",
    "import json\n",
    "\n",
    "# load my api key \n",
    "with open('api_key.json', 'r') as f:\n",
    "    content = json.load(f)\n",
    "\n",
    "api_key = content['api_key']\n",
    "url = 'https://api.openweathermap.org/data/2.5/weather'\n",
    "\n",
    "params = {\n",
    "    'q' : 'paris',\n",
    "    'appid' : api_key\n",
    "}\n",
    "\n",
    "paris_info = requests.get(url, params=params).json()\n",
    "\n",
    "paris_info"
   ]
  },
  {
   "cell_type": "markdown",
   "id": "9bc6760e",
   "metadata": {
    "id": "9bc6760e"
   },
   "source": [
    "What is the type of `paris_info`?"
   ]
  },
  {
   "cell_type": "markdown",
   "id": "a0f5b11d",
   "metadata": {
    "id": "a0f5b11d"
   },
   "source": [
    "🎉 Congratulations, you just made your first API call with Python!\n"
   ]
  },
  {
   "cell_type": "markdown",
   "id": "6c90fbce",
   "metadata": {
    "ExecuteTime": {
     "end_time": "2024-02-12T11:13:53.933879Z",
     "start_time": "2024-02-12T11:13:53.866047Z"
    },
    "id": "6c90fbce"
   },
   "source": [
    "### Retrieve specific information"
   ]
  },
  {
   "cell_type": "markdown",
   "id": "37a94186",
   "metadata": {
    "id": "37a94186"
   },
   "source": [
    "Using your `paris_info`variable, retrieve the latitude and longitude of Paris and store them in a list named `paris_coordinates`\n"
   ]
  },
  {
   "cell_type": "code",
   "execution_count": 2,
   "id": "9edad896",
   "metadata": {
    "ExecuteTime": {
     "end_time": "2024-02-12T19:24:27.101906Z",
     "start_time": "2024-02-12T19:24:27.098945Z"
    },
    "id": "9edad896",
    "scrolled": true
   },
   "outputs": [
    {
     "data": {
      "text/plain": [
       "{'lon': 2.3488, 'lat': 48.8534}"
      ]
     },
     "execution_count": 2,
     "metadata": {},
     "output_type": "execute_result"
    }
   ],
   "source": [
    "paris_coordinates = paris_info['coord']\n",
    "paris_coordinates"
   ]
  },
  {
   "cell_type": "markdown",
   "id": "7147a08b",
   "metadata": {
    "id": "7147a08b"
   },
   "source": [
    "Finally, create a `get_coordinates`function that will take a city name as argument and return its coordinates in a list."
   ]
  },
  {
   "cell_type": "code",
   "execution_count": 3,
   "id": "9b839486",
   "metadata": {
    "ExecuteTime": {
     "end_time": "2024-02-12T19:24:27.140556Z",
     "start_time": "2024-02-12T19:24:27.102928Z"
    },
    "id": "9b839486"
   },
   "outputs": [],
   "source": [
    "def get_coordinates(city, api_key):\n",
    "    url = 'https://api.openweathermap.org/data/2.5/weather'\n",
    "\n",
    "    params = {\n",
    "        'q' : city,\n",
    "        'appid' : api_key\n",
    "    }\n",
    "\n",
    "    city_info = requests.get(url, params=params).json()\n",
    "\n",
    "    coordinates_list = [value for value in city_info['coord'].values()]\n",
    "\n",
    "    return coordinates_list"
   ]
  },
  {
   "cell_type": "code",
   "execution_count": 4,
   "id": "bdbd31d9",
   "metadata": {},
   "outputs": [
    {
     "data": {
      "text/plain": [
       "[2.3488, 48.8534]"
      ]
     },
     "execution_count": 4,
     "metadata": {},
     "output_type": "execute_result"
    }
   ],
   "source": [
    "paris_coordinates = get_coordinates('paris', api_key)\n",
    "paris_coordinates"
   ]
  },
  {
   "cell_type": "markdown",
   "id": "630e96fb",
   "metadata": {
    "id": "630e96fb"
   },
   "source": [
    "## Weather Forecasts\n"
   ]
  },
  {
   "cell_type": "markdown",
   "id": "05840373",
   "metadata": {
    "id": "05840373"
   },
   "source": [
    "### Paris forecasts\n"
   ]
  },
  {
   "cell_type": "markdown",
   "id": "10b5c840",
   "metadata": {
    "id": "10b5c840"
   },
   "source": [
    "Go back to the documentation, and find an endpoint you can use to get weather forecasts data.\n",
    "\n"
   ]
  },
  {
   "cell_type": "markdown",
   "id": "e80bab23",
   "metadata": {
    "id": "e80bab23"
   },
   "source": [
    "<details>\n",
    "    <summary>Hint 🔍</summary>\n",
    "\n",
    "The proxy provided by Le Wagon has a `forecast` endpoint.\n",
    "\n",
    "</details>\n"
   ]
  },
  {
   "cell_type": "markdown",
   "id": "4311fccd",
   "metadata": {
    "id": "4311fccd"
   },
   "source": [
    "What are the `query parameters` we need to get that information? \\\n",
    "Using that endpoint, store the weather forecasts of Paris in a variable named `paris_forecasts`."
   ]
  },
  {
   "cell_type": "markdown",
   "id": "ebe86ec3",
   "metadata": {
    "id": "ebe86ec3"
   },
   "source": [
    "<details>\n",
    "    <summary>Hint 🔍</summary>\n",
    "\n",
    "You can re-use your `get_coordinates` function.\n",
    "\n",
    "</details>\n"
   ]
  },
  {
   "cell_type": "code",
   "execution_count": 5,
   "id": "5c66e17c",
   "metadata": {
    "ExecuteTime": {
     "end_time": "2024-02-12T19:24:27.236019Z",
     "start_time": "2024-02-12T19:24:27.141656Z"
    },
    "id": "5c66e17c"
   },
   "outputs": [
    {
     "data": {
      "text/plain": [
       "{'cod': '200',\n",
       " 'message': 0,\n",
       " 'cnt': 40,\n",
       " 'list': [{'dt': 1760702400,\n",
       "   'main': {'temp': 287.23,\n",
       "    'feels_like': 286.6,\n",
       "    'temp_min': 287.23,\n",
       "    'temp_max': 288.42,\n",
       "    'pressure': 1024,\n",
       "    'sea_level': 1024,\n",
       "    'grnd_level': 1013,\n",
       "    'humidity': 73,\n",
       "    'temp_kf': -1.19},\n",
       "   'weather': [{'id': 802,\n",
       "     'main': 'Clouds',\n",
       "     'description': 'scattered clouds',\n",
       "     'icon': '03d'}],\n",
       "   'clouds': {'all': 28},\n",
       "   'wind': {'speed': 3.92, 'deg': 67, 'gust': 5.73},\n",
       "   'visibility': 10000,\n",
       "   'pop': 0,\n",
       "   'sys': {'pod': 'd'},\n",
       "   'dt_txt': '2025-10-17 12:00:00'},\n",
       "  {'dt': 1760713200,\n",
       "   'main': {'temp': 289.45,\n",
       "    'feels_like': 288.52,\n",
       "    'temp_min': 289.45,\n",
       "    'temp_max': 290.86,\n",
       "    'pressure': 1023,\n",
       "    'sea_level': 1023,\n",
       "    'grnd_level': 1012,\n",
       "    'humidity': 53,\n",
       "    'temp_kf': -1.41},\n",
       "   'weather': [{'id': 800,\n",
       "     'main': 'Clear',\n",
       "     'description': 'clear sky',\n",
       "     'icon': '01d'}],\n",
       "   'clouds': {'all': 7},\n",
       "   'wind': {'speed': 3.75, 'deg': 66, 'gust': 5.2},\n",
       "   'visibility': 10000,\n",
       "   'pop': 0,\n",
       "   'sys': {'pod': 'd'},\n",
       "   'dt_txt': '2025-10-17 15:00:00'},\n",
       "  {'dt': 1760724000,\n",
       "   'main': {'temp': 286.22,\n",
       "    'feels_like': 284.81,\n",
       "    'temp_min': 286.22,\n",
       "    'temp_max': 286.22,\n",
       "    'pressure': 1023,\n",
       "    'sea_level': 1023,\n",
       "    'grnd_level': 1013,\n",
       "    'humidity': 47,\n",
       "    'temp_kf': 0},\n",
       "   'weather': [{'id': 800,\n",
       "     'main': 'Clear',\n",
       "     'description': 'clear sky',\n",
       "     'icon': '01n'}],\n",
       "   'clouds': {'all': 0},\n",
       "   'wind': {'speed': 2.88, 'deg': 61, 'gust': 7.44},\n",
       "   'visibility': 10000,\n",
       "   'pop': 0,\n",
       "   'sys': {'pod': 'n'},\n",
       "   'dt_txt': '2025-10-17 18:00:00'},\n",
       "  {'dt': 1760734800,\n",
       "   'main': {'temp': 284.42,\n",
       "    'feels_like': 283.04,\n",
       "    'temp_min': 284.42,\n",
       "    'temp_max': 284.42,\n",
       "    'pressure': 1024,\n",
       "    'sea_level': 1024,\n",
       "    'grnd_level': 1014,\n",
       "    'humidity': 55,\n",
       "    'temp_kf': 0},\n",
       "   'weather': [{'id': 800,\n",
       "     'main': 'Clear',\n",
       "     'description': 'clear sky',\n",
       "     'icon': '01n'}],\n",
       "   'clouds': {'all': 0},\n",
       "   'wind': {'speed': 3.18, 'deg': 66, 'gust': 8.87},\n",
       "   'visibility': 10000,\n",
       "   'pop': 0,\n",
       "   'sys': {'pod': 'n'},\n",
       "   'dt_txt': '2025-10-17 21:00:00'},\n",
       "  {'dt': 1760745600,\n",
       "   'main': {'temp': 285.85,\n",
       "    'feels_like': 284.77,\n",
       "    'temp_min': 285.85,\n",
       "    'temp_max': 285.85,\n",
       "    'pressure': 1024,\n",
       "    'sea_level': 1024,\n",
       "    'grnd_level': 1015,\n",
       "    'humidity': 61,\n",
       "    'temp_kf': 0},\n",
       "   'weather': [{'id': 800,\n",
       "     'main': 'Clear',\n",
       "     'description': 'clear sky',\n",
       "     'icon': '01n'}],\n",
       "   'clouds': {'all': 0},\n",
       "   'wind': {'speed': 2.79, 'deg': 61, 'gust': 8.29},\n",
       "   'visibility': 10000,\n",
       "   'pop': 0,\n",
       "   'sys': {'pod': 'n'},\n",
       "   'dt_txt': '2025-10-18 00:00:00'},\n",
       "  {'dt': 1760756400,\n",
       "   'main': {'temp': 284.14,\n",
       "    'feels_like': 283.02,\n",
       "    'temp_min': 284.14,\n",
       "    'temp_max': 284.14,\n",
       "    'pressure': 1024,\n",
       "    'sea_level': 1024,\n",
       "    'grnd_level': 1014,\n",
       "    'humidity': 66,\n",
       "    'temp_kf': 0},\n",
       "   'weather': [{'id': 800,\n",
       "     'main': 'Clear',\n",
       "     'description': 'clear sky',\n",
       "     'icon': '01n'}],\n",
       "   'clouds': {'all': 2},\n",
       "   'wind': {'speed': 2.26, 'deg': 71, 'gust': 7.51},\n",
       "   'visibility': 10000,\n",
       "   'pop': 0,\n",
       "   'sys': {'pod': 'n'},\n",
       "   'dt_txt': '2025-10-18 03:00:00'},\n",
       "  {'dt': 1760767200,\n",
       "   'main': {'temp': 283.3,\n",
       "    'feels_like': 282.17,\n",
       "    'temp_min': 283.3,\n",
       "    'temp_max': 283.3,\n",
       "    'pressure': 1024,\n",
       "    'sea_level': 1024,\n",
       "    'grnd_level': 1014,\n",
       "    'humidity': 69,\n",
       "    'temp_kf': 0},\n",
       "   'weather': [{'id': 800,\n",
       "     'main': 'Clear',\n",
       "     'description': 'clear sky',\n",
       "     'icon': '01n'}],\n",
       "   'clouds': {'all': 6},\n",
       "   'wind': {'speed': 2.26, 'deg': 82, 'gust': 8.11},\n",
       "   'visibility': 10000,\n",
       "   'pop': 0,\n",
       "   'sys': {'pod': 'n'},\n",
       "   'dt_txt': '2025-10-18 06:00:00'},\n",
       "  {'dt': 1760778000,\n",
       "   'main': {'temp': 285.38,\n",
       "    'feels_like': 284.17,\n",
       "    'temp_min': 285.38,\n",
       "    'temp_max': 285.38,\n",
       "    'pressure': 1024,\n",
       "    'sea_level': 1024,\n",
       "    'grnd_level': 1015,\n",
       "    'humidity': 58,\n",
       "    'temp_kf': 0},\n",
       "   'weather': [{'id': 804,\n",
       "     'main': 'Clouds',\n",
       "     'description': 'overcast clouds',\n",
       "     'icon': '04d'}],\n",
       "   'clouds': {'all': 85},\n",
       "   'wind': {'speed': 3.34, 'deg': 97, 'gust': 7.27},\n",
       "   'visibility': 10000,\n",
       "   'pop': 0,\n",
       "   'sys': {'pod': 'd'},\n",
       "   'dt_txt': '2025-10-18 09:00:00'},\n",
       "  {'dt': 1760788800,\n",
       "   'main': {'temp': 289.33,\n",
       "    'feels_like': 288.1,\n",
       "    'temp_min': 289.33,\n",
       "    'temp_max': 289.33,\n",
       "    'pressure': 1023,\n",
       "    'sea_level': 1023,\n",
       "    'grnd_level': 1013,\n",
       "    'humidity': 42,\n",
       "    'temp_kf': 0},\n",
       "   'weather': [{'id': 804,\n",
       "     'main': 'Clouds',\n",
       "     'description': 'overcast clouds',\n",
       "     'icon': '04d'}],\n",
       "   'clouds': {'all': 92},\n",
       "   'wind': {'speed': 4, 'deg': 104, 'gust': 5.93},\n",
       "   'visibility': 10000,\n",
       "   'pop': 0,\n",
       "   'sys': {'pod': 'd'},\n",
       "   'dt_txt': '2025-10-18 12:00:00'},\n",
       "  {'dt': 1760799600,\n",
       "   'main': {'temp': 290.01,\n",
       "    'feels_like': 288.8,\n",
       "    'temp_min': 290.01,\n",
       "    'temp_max': 290.01,\n",
       "    'pressure': 1020,\n",
       "    'sea_level': 1020,\n",
       "    'grnd_level': 1011,\n",
       "    'humidity': 40,\n",
       "    'temp_kf': 0},\n",
       "   'weather': [{'id': 804,\n",
       "     'main': 'Clouds',\n",
       "     'description': 'overcast clouds',\n",
       "     'icon': '04d'}],\n",
       "   'clouds': {'all': 100},\n",
       "   'wind': {'speed': 3.74, 'deg': 109, 'gust': 5.35},\n",
       "   'visibility': 10000,\n",
       "   'pop': 0,\n",
       "   'sys': {'pod': 'd'},\n",
       "   'dt_txt': '2025-10-18 15:00:00'},\n",
       "  {'dt': 1760810400,\n",
       "   'main': {'temp': 288.27,\n",
       "    'feels_like': 287.14,\n",
       "    'temp_min': 288.27,\n",
       "    'temp_max': 288.27,\n",
       "    'pressure': 1020,\n",
       "    'sea_level': 1020,\n",
       "    'grnd_level': 1010,\n",
       "    'humidity': 50,\n",
       "    'temp_kf': 0},\n",
       "   'weather': [{'id': 804,\n",
       "     'main': 'Clouds',\n",
       "     'description': 'overcast clouds',\n",
       "     'icon': '04n'}],\n",
       "   'clouds': {'all': 100},\n",
       "   'wind': {'speed': 3.38, 'deg': 101, 'gust': 8.44},\n",
       "   'visibility': 10000,\n",
       "   'pop': 0,\n",
       "   'sys': {'pod': 'n'},\n",
       "   'dt_txt': '2025-10-18 18:00:00'},\n",
       "  {'dt': 1760821200,\n",
       "   'main': {'temp': 287.08,\n",
       "    'feels_like': 286.02,\n",
       "    'temp_min': 287.08,\n",
       "    'temp_max': 287.08,\n",
       "    'pressure': 1018,\n",
       "    'sea_level': 1018,\n",
       "    'grnd_level': 1009,\n",
       "    'humidity': 57,\n",
       "    'temp_kf': 0},\n",
       "   'weather': [{'id': 804,\n",
       "     'main': 'Clouds',\n",
       "     'description': 'overcast clouds',\n",
       "     'icon': '04n'}],\n",
       "   'clouds': {'all': 100},\n",
       "   'wind': {'speed': 3.08, 'deg': 120, 'gust': 9.76},\n",
       "   'visibility': 10000,\n",
       "   'pop': 0,\n",
       "   'sys': {'pod': 'n'},\n",
       "   'dt_txt': '2025-10-18 21:00:00'},\n",
       "  {'dt': 1760832000,\n",
       "   'main': {'temp': 285.87,\n",
       "    'feels_like': 284.74,\n",
       "    'temp_min': 285.87,\n",
       "    'temp_max': 285.87,\n",
       "    'pressure': 1017,\n",
       "    'sea_level': 1017,\n",
       "    'grnd_level': 1007,\n",
       "    'humidity': 59,\n",
       "    'temp_kf': 0},\n",
       "   'weather': [{'id': 804,\n",
       "     'main': 'Clouds',\n",
       "     'description': 'overcast clouds',\n",
       "     'icon': '04n'}],\n",
       "   'clouds': {'all': 99},\n",
       "   'wind': {'speed': 2.46, 'deg': 131, 'gust': 7.25},\n",
       "   'visibility': 10000,\n",
       "   'pop': 0,\n",
       "   'sys': {'pod': 'n'},\n",
       "   'dt_txt': '2025-10-19 00:00:00'},\n",
       "  {'dt': 1760842800,\n",
       "   'main': {'temp': 285.52,\n",
       "    'feels_like': 284.43,\n",
       "    'temp_min': 285.52,\n",
       "    'temp_max': 285.52,\n",
       "    'pressure': 1015,\n",
       "    'sea_level': 1015,\n",
       "    'grnd_level': 1005,\n",
       "    'humidity': 62,\n",
       "    'temp_kf': 0},\n",
       "   'weather': [{'id': 804,\n",
       "     'main': 'Clouds',\n",
       "     'description': 'overcast clouds',\n",
       "     'icon': '04n'}],\n",
       "   'clouds': {'all': 100},\n",
       "   'wind': {'speed': 1.97, 'deg': 150, 'gust': 5.64},\n",
       "   'visibility': 10000,\n",
       "   'pop': 0,\n",
       "   'sys': {'pod': 'n'},\n",
       "   'dt_txt': '2025-10-19 03:00:00'},\n",
       "  {'dt': 1760853600,\n",
       "   'main': {'temp': 285.29,\n",
       "    'feels_like': 284.28,\n",
       "    'temp_min': 285.29,\n",
       "    'temp_max': 285.29,\n",
       "    'pressure': 1013,\n",
       "    'sea_level': 1013,\n",
       "    'grnd_level': 1003,\n",
       "    'humidity': 66,\n",
       "    'temp_kf': 0},\n",
       "   'weather': [{'id': 804,\n",
       "     'main': 'Clouds',\n",
       "     'description': 'overcast clouds',\n",
       "     'icon': '04n'}],\n",
       "   'clouds': {'all': 100},\n",
       "   'wind': {'speed': 1.81, 'deg': 157, 'gust': 5.76},\n",
       "   'visibility': 10000,\n",
       "   'pop': 0,\n",
       "   'sys': {'pod': 'n'},\n",
       "   'dt_txt': '2025-10-19 06:00:00'},\n",
       "  {'dt': 1760864400,\n",
       "   'main': {'temp': 287.06,\n",
       "    'feels_like': 286.02,\n",
       "    'temp_min': 287.06,\n",
       "    'temp_max': 287.06,\n",
       "    'pressure': 1012,\n",
       "    'sea_level': 1012,\n",
       "    'grnd_level': 1002,\n",
       "    'humidity': 58,\n",
       "    'temp_kf': 0},\n",
       "   'weather': [{'id': 804,\n",
       "     'main': 'Clouds',\n",
       "     'description': 'overcast clouds',\n",
       "     'icon': '04d'}],\n",
       "   'clouds': {'all': 100},\n",
       "   'wind': {'speed': 2.7, 'deg': 182, 'gust': 5.57},\n",
       "   'visibility': 10000,\n",
       "   'pop': 0,\n",
       "   'sys': {'pod': 'd'},\n",
       "   'dt_txt': '2025-10-19 09:00:00'},\n",
       "  {'dt': 1760875200,\n",
       "   'main': {'temp': 290.41,\n",
       "    'feels_like': 289.47,\n",
       "    'temp_min': 290.41,\n",
       "    'temp_max': 290.41,\n",
       "    'pressure': 1009,\n",
       "    'sea_level': 1009,\n",
       "    'grnd_level': 1000,\n",
       "    'humidity': 49,\n",
       "    'temp_kf': 0},\n",
       "   'weather': [{'id': 804,\n",
       "     'main': 'Clouds',\n",
       "     'description': 'overcast clouds',\n",
       "     'icon': '04d'}],\n",
       "   'clouds': {'all': 100},\n",
       "   'wind': {'speed': 3.58, 'deg': 168, 'gust': 9.25},\n",
       "   'visibility': 10000,\n",
       "   'pop': 0,\n",
       "   'sys': {'pod': 'd'},\n",
       "   'dt_txt': '2025-10-19 12:00:00'},\n",
       "  {'dt': 1760886000,\n",
       "   'main': {'temp': 292.79,\n",
       "    'feels_like': 291.88,\n",
       "    'temp_min': 292.79,\n",
       "    'temp_max': 292.79,\n",
       "    'pressure': 1006,\n",
       "    'sea_level': 1006,\n",
       "    'grnd_level': 996,\n",
       "    'humidity': 41,\n",
       "    'temp_kf': 0},\n",
       "   'weather': [{'id': 804,\n",
       "     'main': 'Clouds',\n",
       "     'description': 'overcast clouds',\n",
       "     'icon': '04d'}],\n",
       "   'clouds': {'all': 99},\n",
       "   'wind': {'speed': 4.72, 'deg': 182, 'gust': 10.7},\n",
       "   'visibility': 10000,\n",
       "   'pop': 0,\n",
       "   'sys': {'pod': 'd'},\n",
       "   'dt_txt': '2025-10-19 15:00:00'},\n",
       "  {'dt': 1760896800,\n",
       "   'main': {'temp': 289.31,\n",
       "    'feels_like': 288.99,\n",
       "    'temp_min': 289.31,\n",
       "    'temp_max': 289.31,\n",
       "    'pressure': 1005,\n",
       "    'sea_level': 1005,\n",
       "    'grnd_level': 996,\n",
       "    'humidity': 77,\n",
       "    'temp_kf': 0},\n",
       "   'weather': [{'id': 500,\n",
       "     'main': 'Rain',\n",
       "     'description': 'light rain',\n",
       "     'icon': '10n'}],\n",
       "   'clouds': {'all': 99},\n",
       "   'wind': {'speed': 4.61, 'deg': 194, 'gust': 11.46},\n",
       "   'visibility': 10000,\n",
       "   'pop': 1,\n",
       "   'rain': {'3h': 0.99},\n",
       "   'sys': {'pod': 'n'},\n",
       "   'dt_txt': '2025-10-19 18:00:00'},\n",
       "  {'dt': 1760907600,\n",
       "   'main': {'temp': 289.12,\n",
       "    'feels_like': 288.86,\n",
       "    'temp_min': 289.12,\n",
       "    'temp_max': 289.12,\n",
       "    'pressure': 1003,\n",
       "    'sea_level': 1003,\n",
       "    'grnd_level': 994,\n",
       "    'humidity': 80,\n",
       "    'temp_kf': 0},\n",
       "   'weather': [{'id': 500,\n",
       "     'main': 'Rain',\n",
       "     'description': 'light rain',\n",
       "     'icon': '10n'}],\n",
       "   'clouds': {'all': 99},\n",
       "   'wind': {'speed': 5.14, 'deg': 186, 'gust': 13.24},\n",
       "   'visibility': 10000,\n",
       "   'pop': 1,\n",
       "   'rain': {'3h': 0.62},\n",
       "   'sys': {'pod': 'n'},\n",
       "   'dt_txt': '2025-10-19 21:00:00'},\n",
       "  {'dt': 1760918400,\n",
       "   'main': {'temp': 288.86,\n",
       "    'feels_like': 288.73,\n",
       "    'temp_min': 288.86,\n",
       "    'temp_max': 288.86,\n",
       "    'pressure': 1001,\n",
       "    'sea_level': 1001,\n",
       "    'grnd_level': 991,\n",
       "    'humidity': 86,\n",
       "    'temp_kf': 0},\n",
       "   'weather': [{'id': 501,\n",
       "     'main': 'Rain',\n",
       "     'description': 'moderate rain',\n",
       "     'icon': '10n'}],\n",
       "   'clouds': {'all': 100},\n",
       "   'wind': {'speed': 5.49, 'deg': 200, 'gust': 12.07},\n",
       "   'visibility': 10000,\n",
       "   'pop': 1,\n",
       "   'rain': {'3h': 4.87},\n",
       "   'sys': {'pod': 'n'},\n",
       "   'dt_txt': '2025-10-20 00:00:00'},\n",
       "  {'dt': 1760929200,\n",
       "   'main': {'temp': 289,\n",
       "    'feels_like': 288.86,\n",
       "    'temp_min': 289,\n",
       "    'temp_max': 289,\n",
       "    'pressure': 1000,\n",
       "    'sea_level': 1000,\n",
       "    'grnd_level': 990,\n",
       "    'humidity': 85,\n",
       "    'temp_kf': 0},\n",
       "   'weather': [{'id': 500,\n",
       "     'main': 'Rain',\n",
       "     'description': 'light rain',\n",
       "     'icon': '10n'}],\n",
       "   'clouds': {'all': 100},\n",
       "   'wind': {'speed': 4.53, 'deg': 211, 'gust': 11.19},\n",
       "   'visibility': 10000,\n",
       "   'pop': 0.88,\n",
       "   'rain': {'3h': 0.66},\n",
       "   'sys': {'pod': 'n'},\n",
       "   'dt_txt': '2025-10-20 03:00:00'},\n",
       "  {'dt': 1760940000,\n",
       "   'main': {'temp': 287.24,\n",
       "    'feels_like': 286.74,\n",
       "    'temp_min': 287.24,\n",
       "    'temp_max': 287.24,\n",
       "    'pressure': 1000,\n",
       "    'sea_level': 1000,\n",
       "    'grnd_level': 990,\n",
       "    'humidity': 78,\n",
       "    'temp_kf': 0},\n",
       "   'weather': [{'id': 804,\n",
       "     'main': 'Clouds',\n",
       "     'description': 'overcast clouds',\n",
       "     'icon': '04n'}],\n",
       "   'clouds': {'all': 96},\n",
       "   'wind': {'speed': 3.92, 'deg': 220, 'gust': 10.77},\n",
       "   'visibility': 10000,\n",
       "   'pop': 0.54,\n",
       "   'sys': {'pod': 'n'},\n",
       "   'dt_txt': '2025-10-20 06:00:00'},\n",
       "  {'dt': 1760950800,\n",
       "   'main': {'temp': 288.24,\n",
       "    'feels_like': 287.82,\n",
       "    'temp_min': 288.24,\n",
       "    'temp_max': 288.24,\n",
       "    'pressure': 1000,\n",
       "    'sea_level': 1000,\n",
       "    'grnd_level': 990,\n",
       "    'humidity': 77,\n",
       "    'temp_kf': 0},\n",
       "   'weather': [{'id': 803,\n",
       "     'main': 'Clouds',\n",
       "     'description': 'broken clouds',\n",
       "     'icon': '04d'}],\n",
       "   'clouds': {'all': 72},\n",
       "   'wind': {'speed': 4.52, 'deg': 212, 'gust': 11},\n",
       "   'visibility': 10000,\n",
       "   'pop': 0,\n",
       "   'sys': {'pod': 'd'},\n",
       "   'dt_txt': '2025-10-20 09:00:00'},\n",
       "  {'dt': 1760961600,\n",
       "   'main': {'temp': 291.44,\n",
       "    'feels_like': 290.71,\n",
       "    'temp_min': 291.44,\n",
       "    'temp_max': 291.44,\n",
       "    'pressure': 999,\n",
       "    'sea_level': 999,\n",
       "    'grnd_level': 990,\n",
       "    'humidity': 53,\n",
       "    'temp_kf': 0},\n",
       "   'weather': [{'id': 803,\n",
       "     'main': 'Clouds',\n",
       "     'description': 'broken clouds',\n",
       "     'icon': '04d'}],\n",
       "   'clouds': {'all': 57},\n",
       "   'wind': {'speed': 5.74, 'deg': 227, 'gust': 10.7},\n",
       "   'visibility': 10000,\n",
       "   'pop': 0,\n",
       "   'sys': {'pod': 'd'},\n",
       "   'dt_txt': '2025-10-20 12:00:00'},\n",
       "  {'dt': 1760972400,\n",
       "   'main': {'temp': 291.83,\n",
       "    'feels_like': 291.01,\n",
       "    'temp_min': 291.83,\n",
       "    'temp_max': 291.83,\n",
       "    'pressure': 998,\n",
       "    'sea_level': 998,\n",
       "    'grnd_level': 988,\n",
       "    'humidity': 48,\n",
       "    'temp_kf': 0},\n",
       "   'weather': [{'id': 500,\n",
       "     'main': 'Rain',\n",
       "     'description': 'light rain',\n",
       "     'icon': '10d'}],\n",
       "   'clouds': {'all': 53},\n",
       "   'wind': {'speed': 5.93, 'deg': 226, 'gust': 12.22},\n",
       "   'visibility': 10000,\n",
       "   'pop': 0.2,\n",
       "   'rain': {'3h': 0.11},\n",
       "   'sys': {'pod': 'd'},\n",
       "   'dt_txt': '2025-10-20 15:00:00'},\n",
       "  {'dt': 1760983200,\n",
       "   'main': {'temp': 288.85,\n",
       "    'feels_like': 288.2,\n",
       "    'temp_min': 288.85,\n",
       "    'temp_max': 288.85,\n",
       "    'pressure': 999,\n",
       "    'sea_level': 999,\n",
       "    'grnd_level': 989,\n",
       "    'humidity': 66,\n",
       "    'temp_kf': 0},\n",
       "   'weather': [{'id': 803,\n",
       "     'main': 'Clouds',\n",
       "     'description': 'broken clouds',\n",
       "     'icon': '04n'}],\n",
       "   'clouds': {'all': 76},\n",
       "   'wind': {'speed': 6.79, 'deg': 215, 'gust': 13.56},\n",
       "   'visibility': 10000,\n",
       "   'pop': 0,\n",
       "   'sys': {'pod': 'n'},\n",
       "   'dt_txt': '2025-10-20 18:00:00'},\n",
       "  {'dt': 1760994000,\n",
       "   'main': {'temp': 287.65,\n",
       "    'feels_like': 287.24,\n",
       "    'temp_min': 287.65,\n",
       "    'temp_max': 287.65,\n",
       "    'pressure': 999,\n",
       "    'sea_level': 999,\n",
       "    'grnd_level': 989,\n",
       "    'humidity': 80,\n",
       "    'temp_kf': 0},\n",
       "   'weather': [{'id': 500,\n",
       "     'main': 'Rain',\n",
       "     'description': 'light rain',\n",
       "     'icon': '10n'}],\n",
       "   'clouds': {'all': 100},\n",
       "   'wind': {'speed': 6.59, 'deg': 219, 'gust': 13.99},\n",
       "   'visibility': 10000,\n",
       "   'pop': 1,\n",
       "   'rain': {'3h': 1.3},\n",
       "   'sys': {'pod': 'n'},\n",
       "   'dt_txt': '2025-10-20 21:00:00'},\n",
       "  {'dt': 1761004800,\n",
       "   'main': {'temp': 287.4,\n",
       "    'feels_like': 286.94,\n",
       "    'temp_min': 287.4,\n",
       "    'temp_max': 287.4,\n",
       "    'pressure': 999,\n",
       "    'sea_level': 999,\n",
       "    'grnd_level': 989,\n",
       "    'humidity': 79,\n",
       "    'temp_kf': 0},\n",
       "   'weather': [{'id': 500,\n",
       "     'main': 'Rain',\n",
       "     'description': 'light rain',\n",
       "     'icon': '10n'}],\n",
       "   'clouds': {'all': 98},\n",
       "   'wind': {'speed': 6.16, 'deg': 227, 'gust': 12.11},\n",
       "   'visibility': 10000,\n",
       "   'pop': 1,\n",
       "   'rain': {'3h': 1.07},\n",
       "   'sys': {'pod': 'n'},\n",
       "   'dt_txt': '2025-10-21 00:00:00'},\n",
       "  {'dt': 1761015600,\n",
       "   'main': {'temp': 286.68,\n",
       "    'feels_like': 286.26,\n",
       "    'temp_min': 286.68,\n",
       "    'temp_max': 286.68,\n",
       "    'pressure': 999,\n",
       "    'sea_level': 999,\n",
       "    'grnd_level': 989,\n",
       "    'humidity': 83,\n",
       "    'temp_kf': 0},\n",
       "   'weather': [{'id': 500,\n",
       "     'main': 'Rain',\n",
       "     'description': 'light rain',\n",
       "     'icon': '10n'}],\n",
       "   'clouds': {'all': 49},\n",
       "   'wind': {'speed': 5.16, 'deg': 230, 'gust': 10.88},\n",
       "   'visibility': 10000,\n",
       "   'pop': 0.92,\n",
       "   'rain': {'3h': 0.77},\n",
       "   'sys': {'pod': 'n'},\n",
       "   'dt_txt': '2025-10-21 03:00:00'},\n",
       "  {'dt': 1761026400,\n",
       "   'main': {'temp': 286.58,\n",
       "    'feels_like': 286.15,\n",
       "    'temp_min': 286.58,\n",
       "    'temp_max': 286.58,\n",
       "    'pressure': 999,\n",
       "    'sea_level': 999,\n",
       "    'grnd_level': 990,\n",
       "    'humidity': 83,\n",
       "    'temp_kf': 0},\n",
       "   'weather': [{'id': 500,\n",
       "     'main': 'Rain',\n",
       "     'description': 'light rain',\n",
       "     'icon': '10n'}],\n",
       "   'clouds': {'all': 74},\n",
       "   'wind': {'speed': 3.97, 'deg': 221, 'gust': 8.82},\n",
       "   'visibility': 10000,\n",
       "   'pop': 0.86,\n",
       "   'rain': {'3h': 0.41},\n",
       "   'sys': {'pod': 'n'},\n",
       "   'dt_txt': '2025-10-21 06:00:00'},\n",
       "  {'dt': 1761037200,\n",
       "   'main': {'temp': 287.73,\n",
       "    'feels_like': 287.25,\n",
       "    'temp_min': 287.73,\n",
       "    'temp_max': 287.73,\n",
       "    'pressure': 1000,\n",
       "    'sea_level': 1000,\n",
       "    'grnd_level': 991,\n",
       "    'humidity': 77,\n",
       "    'temp_kf': 0},\n",
       "   'weather': [{'id': 500,\n",
       "     'main': 'Rain',\n",
       "     'description': 'light rain',\n",
       "     'icon': '10d'}],\n",
       "   'clouds': {'all': 92},\n",
       "   'wind': {'speed': 4.23, 'deg': 229, 'gust': 8.53},\n",
       "   'visibility': 10000,\n",
       "   'pop': 0.37,\n",
       "   'rain': {'3h': 0.3},\n",
       "   'sys': {'pod': 'd'},\n",
       "   'dt_txt': '2025-10-21 09:00:00'},\n",
       "  {'dt': 1761048000,\n",
       "   'main': {'temp': 287.66,\n",
       "    'feels_like': 287.23,\n",
       "    'temp_min': 287.66,\n",
       "    'temp_max': 287.66,\n",
       "    'pressure': 1000,\n",
       "    'sea_level': 1000,\n",
       "    'grnd_level': 990,\n",
       "    'humidity': 79,\n",
       "    'temp_kf': 0},\n",
       "   'weather': [{'id': 500,\n",
       "     'main': 'Rain',\n",
       "     'description': 'light rain',\n",
       "     'icon': '10d'}],\n",
       "   'clouds': {'all': 93},\n",
       "   'wind': {'speed': 4.6, 'deg': 226, 'gust': 9.33},\n",
       "   'visibility': 10000,\n",
       "   'pop': 1,\n",
       "   'rain': {'3h': 0.64},\n",
       "   'sys': {'pod': 'd'},\n",
       "   'dt_txt': '2025-10-21 12:00:00'},\n",
       "  {'dt': 1761058800,\n",
       "   'main': {'temp': 288.31,\n",
       "    'feels_like': 287.87,\n",
       "    'temp_min': 288.31,\n",
       "    'temp_max': 288.31,\n",
       "    'pressure': 1000,\n",
       "    'sea_level': 1000,\n",
       "    'grnd_level': 990,\n",
       "    'humidity': 76,\n",
       "    'temp_kf': 0},\n",
       "   'weather': [{'id': 500,\n",
       "     'main': 'Rain',\n",
       "     'description': 'light rain',\n",
       "     'icon': '10d'}],\n",
       "   'clouds': {'all': 99},\n",
       "   'wind': {'speed': 3.95, 'deg': 227, 'gust': 9.4},\n",
       "   'visibility': 10000,\n",
       "   'pop': 0.44,\n",
       "   'rain': {'3h': 0.26},\n",
       "   'sys': {'pod': 'd'},\n",
       "   'dt_txt': '2025-10-21 15:00:00'},\n",
       "  {'dt': 1761069600,\n",
       "   'main': {'temp': 288.38,\n",
       "    'feels_like': 287.86,\n",
       "    'temp_min': 288.38,\n",
       "    'temp_max': 288.38,\n",
       "    'pressure': 1000,\n",
       "    'sea_level': 1000,\n",
       "    'grnd_level': 991,\n",
       "    'humidity': 73,\n",
       "    'temp_kf': 0},\n",
       "   'weather': [{'id': 500,\n",
       "     'main': 'Rain',\n",
       "     'description': 'light rain',\n",
       "     'icon': '10n'}],\n",
       "   'clouds': {'all': 99},\n",
       "   'wind': {'speed': 3.66, 'deg': 229, 'gust': 10.75},\n",
       "   'visibility': 10000,\n",
       "   'pop': 0.37,\n",
       "   'rain': {'3h': 0.25},\n",
       "   'sys': {'pod': 'n'},\n",
       "   'dt_txt': '2025-10-21 18:00:00'},\n",
       "  {'dt': 1761080400,\n",
       "   'main': {'temp': 287.67,\n",
       "    'feels_like': 287.14,\n",
       "    'temp_min': 287.67,\n",
       "    'temp_max': 287.67,\n",
       "    'pressure': 1002,\n",
       "    'sea_level': 1002,\n",
       "    'grnd_level': 992,\n",
       "    'humidity': 75,\n",
       "    'temp_kf': 0},\n",
       "   'weather': [{'id': 803,\n",
       "     'main': 'Clouds',\n",
       "     'description': 'broken clouds',\n",
       "     'icon': '04n'}],\n",
       "   'clouds': {'all': 84},\n",
       "   'wind': {'speed': 3.82, 'deg': 255, 'gust': 9.95},\n",
       "   'visibility': 10000,\n",
       "   'pop': 0,\n",
       "   'sys': {'pod': 'n'},\n",
       "   'dt_txt': '2025-10-21 21:00:00'},\n",
       "  {'dt': 1761091200,\n",
       "   'main': {'temp': 285.71,\n",
       "    'feels_like': 285.16,\n",
       "    'temp_min': 285.71,\n",
       "    'temp_max': 285.71,\n",
       "    'pressure': 1003,\n",
       "    'sea_level': 1003,\n",
       "    'grnd_level': 994,\n",
       "    'humidity': 82,\n",
       "    'temp_kf': 0},\n",
       "   'weather': [{'id': 803,\n",
       "     'main': 'Clouds',\n",
       "     'description': 'broken clouds',\n",
       "     'icon': '04n'}],\n",
       "   'clouds': {'all': 51},\n",
       "   'wind': {'speed': 4.44, 'deg': 254, 'gust': 11.4},\n",
       "   'visibility': 10000,\n",
       "   'pop': 0,\n",
       "   'sys': {'pod': 'n'},\n",
       "   'dt_txt': '2025-10-22 00:00:00'},\n",
       "  {'dt': 1761102000,\n",
       "   'main': {'temp': 286.66,\n",
       "    'feels_like': 285.87,\n",
       "    'temp_min': 286.66,\n",
       "    'temp_max': 286.66,\n",
       "    'pressure': 1005,\n",
       "    'sea_level': 1005,\n",
       "    'grnd_level': 995,\n",
       "    'humidity': 69,\n",
       "    'temp_kf': 0},\n",
       "   'weather': [{'id': 803,\n",
       "     'main': 'Clouds',\n",
       "     'description': 'broken clouds',\n",
       "     'icon': '04n'}],\n",
       "   'clouds': {'all': 82},\n",
       "   'wind': {'speed': 4.76, 'deg': 264, 'gust': 9.34},\n",
       "   'visibility': 10000,\n",
       "   'pop': 0,\n",
       "   'sys': {'pod': 'n'},\n",
       "   'dt_txt': '2025-10-22 03:00:00'},\n",
       "  {'dt': 1761112800,\n",
       "   'main': {'temp': 286.24,\n",
       "    'feels_like': 285.46,\n",
       "    'temp_min': 286.24,\n",
       "    'temp_max': 286.24,\n",
       "    'pressure': 1006,\n",
       "    'sea_level': 1006,\n",
       "    'grnd_level': 997,\n",
       "    'humidity': 71,\n",
       "    'temp_kf': 0},\n",
       "   'weather': [{'id': 804,\n",
       "     'main': 'Clouds',\n",
       "     'description': 'overcast clouds',\n",
       "     'icon': '04n'}],\n",
       "   'clouds': {'all': 89},\n",
       "   'wind': {'speed': 3.9, 'deg': 260, 'gust': 8.33},\n",
       "   'visibility': 10000,\n",
       "   'pop': 0,\n",
       "   'sys': {'pod': 'n'},\n",
       "   'dt_txt': '2025-10-22 06:00:00'},\n",
       "  {'dt': 1761123600,\n",
       "   'main': {'temp': 287,\n",
       "    'feels_like': 286.24,\n",
       "    'temp_min': 287,\n",
       "    'temp_max': 287,\n",
       "    'pressure': 1008,\n",
       "    'sea_level': 1008,\n",
       "    'grnd_level': 998,\n",
       "    'humidity': 69,\n",
       "    'temp_kf': 0},\n",
       "   'weather': [{'id': 802,\n",
       "     'main': 'Clouds',\n",
       "     'description': 'scattered clouds',\n",
       "     'icon': '03d'}],\n",
       "   'clouds': {'all': 30},\n",
       "   'wind': {'speed': 3.83, 'deg': 249, 'gust': 6.42},\n",
       "   'visibility': 10000,\n",
       "   'pop': 0,\n",
       "   'sys': {'pod': 'd'},\n",
       "   'dt_txt': '2025-10-22 09:00:00'}],\n",
       " 'city': {'id': 2988507,\n",
       "  'name': 'Paris',\n",
       "  'coord': {'lat': 48.8534, 'lon': 2.3488},\n",
       "  'country': 'FR',\n",
       "  'population': 2138551,\n",
       "  'timezone': 7200,\n",
       "  'sunrise': 1760681630,\n",
       "  'sunset': 1760720263}}"
      ]
     },
     "execution_count": 5,
     "metadata": {},
     "output_type": "execute_result"
    }
   ],
   "source": [
    "\n",
    "url = 'https://api.openweathermap.org/data/2.5/forecast'\n",
    "\n",
    "params = {\n",
    "    'q' : 'paris',\n",
    "    'cnt': 40,\n",
    "    'appid' : api_key\n",
    "}\n",
    "\n",
    "paris_forecast = requests.get(url, params=params).json()\n",
    "\n",
    "paris_forecast"
   ]
  },
  {
   "cell_type": "markdown",
   "id": "06f10c6f",
   "metadata": {
    "id": "06f10c6f"
   },
   "source": [
    "Starting from your `paris_forecasts` variable and using a for loop, create 2 variables named `times` and `maxs` that will respectively store the forecast datetimes and maximum temperatures of Paris.\n"
   ]
  },
  {
   "cell_type": "code",
   "execution_count": 6,
   "id": "ee20714c",
   "metadata": {
    "ExecuteTime": {
     "end_time": "2024-02-12T19:24:27.239244Z",
     "start_time": "2024-02-12T19:24:27.237017Z"
    },
    "id": "ee20714c"
   },
   "outputs": [],
   "source": [
    "times = [time['dt_txt'] for time in paris_forecast['list']]\n",
    "maxs = [maxi['main']['temp_max'] for maxi in paris_forecast['list']]"
   ]
  },
  {
   "cell_type": "markdown",
   "id": "e65d7aaa",
   "metadata": {
    "id": "e65d7aaa"
   },
   "source": [
    "Finally, store your 2 lists in a `paris_dict` dictionary, assigning them to 2 keys: `datetime` and `max_temperature`\n",
    "\n"
   ]
  },
  {
   "cell_type": "code",
   "execution_count": 7,
   "id": "6185ea93",
   "metadata": {
    "ExecuteTime": {
     "end_time": "2024-02-12T19:24:27.242679Z",
     "start_time": "2024-02-12T19:24:27.240171Z"
    },
    "id": "6185ea93"
   },
   "outputs": [
    {
     "data": {
      "text/plain": [
       "{'datetime': ['2025-10-17 12:00:00',\n",
       "  '2025-10-17 15:00:00',\n",
       "  '2025-10-17 18:00:00',\n",
       "  '2025-10-17 21:00:00',\n",
       "  '2025-10-18 00:00:00',\n",
       "  '2025-10-18 03:00:00',\n",
       "  '2025-10-18 06:00:00',\n",
       "  '2025-10-18 09:00:00',\n",
       "  '2025-10-18 12:00:00',\n",
       "  '2025-10-18 15:00:00',\n",
       "  '2025-10-18 18:00:00',\n",
       "  '2025-10-18 21:00:00',\n",
       "  '2025-10-19 00:00:00',\n",
       "  '2025-10-19 03:00:00',\n",
       "  '2025-10-19 06:00:00',\n",
       "  '2025-10-19 09:00:00',\n",
       "  '2025-10-19 12:00:00',\n",
       "  '2025-10-19 15:00:00',\n",
       "  '2025-10-19 18:00:00',\n",
       "  '2025-10-19 21:00:00',\n",
       "  '2025-10-20 00:00:00',\n",
       "  '2025-10-20 03:00:00',\n",
       "  '2025-10-20 06:00:00',\n",
       "  '2025-10-20 09:00:00',\n",
       "  '2025-10-20 12:00:00',\n",
       "  '2025-10-20 15:00:00',\n",
       "  '2025-10-20 18:00:00',\n",
       "  '2025-10-20 21:00:00',\n",
       "  '2025-10-21 00:00:00',\n",
       "  '2025-10-21 03:00:00',\n",
       "  '2025-10-21 06:00:00',\n",
       "  '2025-10-21 09:00:00',\n",
       "  '2025-10-21 12:00:00',\n",
       "  '2025-10-21 15:00:00',\n",
       "  '2025-10-21 18:00:00',\n",
       "  '2025-10-21 21:00:00',\n",
       "  '2025-10-22 00:00:00',\n",
       "  '2025-10-22 03:00:00',\n",
       "  '2025-10-22 06:00:00',\n",
       "  '2025-10-22 09:00:00'],\n",
       " 'max_temperature': [288.42,\n",
       "  290.86,\n",
       "  286.22,\n",
       "  284.42,\n",
       "  285.85,\n",
       "  284.14,\n",
       "  283.3,\n",
       "  285.38,\n",
       "  289.33,\n",
       "  290.01,\n",
       "  288.27,\n",
       "  287.08,\n",
       "  285.87,\n",
       "  285.52,\n",
       "  285.29,\n",
       "  287.06,\n",
       "  290.41,\n",
       "  292.79,\n",
       "  289.31,\n",
       "  289.12,\n",
       "  288.86,\n",
       "  289,\n",
       "  287.24,\n",
       "  288.24,\n",
       "  291.44,\n",
       "  291.83,\n",
       "  288.85,\n",
       "  287.65,\n",
       "  287.4,\n",
       "  286.68,\n",
       "  286.58,\n",
       "  287.73,\n",
       "  287.66,\n",
       "  288.31,\n",
       "  288.38,\n",
       "  287.67,\n",
       "  285.71,\n",
       "  286.66,\n",
       "  286.24,\n",
       "  287]}"
      ]
     },
     "execution_count": 7,
     "metadata": {},
     "output_type": "execute_result"
    }
   ],
   "source": [
    "paris_dict = {\n",
    "    'datetime': times,\n",
    "    'max_temperature': maxs\n",
    "}\n",
    "\n",
    "paris_dict"
   ]
  },
  {
   "cell_type": "markdown",
   "id": "7e79bebf",
   "metadata": {
    "id": "7e79bebf"
   },
   "source": [
    "### Any city forecasts"
   ]
  },
  {
   "cell_type": "markdown",
   "id": "8feae0f0",
   "metadata": {
    "id": "8feae0f0"
   },
   "source": [
    "Using every previous step, create a `get_forecasts` function that will take a city name as argument and return a dictionnary containing the forecast datetimes and maximum temperatures. 🚀"
   ]
  },
  {
   "cell_type": "code",
   "execution_count": 8,
   "id": "2c5a31fc",
   "metadata": {
    "ExecuteTime": {
     "end_time": "2024-02-12T19:24:27.245970Z",
     "start_time": "2024-02-12T19:24:27.243514Z"
    },
    "id": "2c5a31fc"
   },
   "outputs": [],
   "source": [
    "def get_forecast(city, api_key):\n",
    "\n",
    "    url = 'https://api.openweathermap.org/data/2.5/forecast'\n",
    "\n",
    "    params = {\n",
    "        'q' : city,\n",
    "        'cnt': 40,\n",
    "        'appid' : api_key\n",
    "    }\n",
    "\n",
    "    city_forecast = requests.get(url, params=params).json()\n",
    "\n",
    "    times = [time['dt_txt'] for time in city_forecast['list']]\n",
    "    maxs = [maxi['main']['temp_max'] for maxi in city_forecast['list']]\n",
    "\n",
    "    city_dict = {\n",
    "        'datetime': times,\n",
    "        'max_temperature': maxs\n",
    "    }\n",
    "\n",
    "    return city_dict  "
   ]
  },
  {
   "cell_type": "code",
   "execution_count": 9,
   "id": "0f0fb94d",
   "metadata": {},
   "outputs": [
    {
     "data": {
      "text/plain": [
       "{'datetime': ['2025-10-17 12:00:00',\n",
       "  '2025-10-17 15:00:00',\n",
       "  '2025-10-17 18:00:00',\n",
       "  '2025-10-17 21:00:00',\n",
       "  '2025-10-18 00:00:00',\n",
       "  '2025-10-18 03:00:00',\n",
       "  '2025-10-18 06:00:00',\n",
       "  '2025-10-18 09:00:00',\n",
       "  '2025-10-18 12:00:00',\n",
       "  '2025-10-18 15:00:00',\n",
       "  '2025-10-18 18:00:00',\n",
       "  '2025-10-18 21:00:00',\n",
       "  '2025-10-19 00:00:00',\n",
       "  '2025-10-19 03:00:00',\n",
       "  '2025-10-19 06:00:00',\n",
       "  '2025-10-19 09:00:00',\n",
       "  '2025-10-19 12:00:00',\n",
       "  '2025-10-19 15:00:00',\n",
       "  '2025-10-19 18:00:00',\n",
       "  '2025-10-19 21:00:00',\n",
       "  '2025-10-20 00:00:00',\n",
       "  '2025-10-20 03:00:00',\n",
       "  '2025-10-20 06:00:00',\n",
       "  '2025-10-20 09:00:00',\n",
       "  '2025-10-20 12:00:00',\n",
       "  '2025-10-20 15:00:00',\n",
       "  '2025-10-20 18:00:00',\n",
       "  '2025-10-20 21:00:00',\n",
       "  '2025-10-21 00:00:00',\n",
       "  '2025-10-21 03:00:00',\n",
       "  '2025-10-21 06:00:00',\n",
       "  '2025-10-21 09:00:00',\n",
       "  '2025-10-21 12:00:00',\n",
       "  '2025-10-21 15:00:00',\n",
       "  '2025-10-21 18:00:00',\n",
       "  '2025-10-21 21:00:00',\n",
       "  '2025-10-22 00:00:00',\n",
       "  '2025-10-22 03:00:00',\n",
       "  '2025-10-22 06:00:00',\n",
       "  '2025-10-22 09:00:00'],\n",
       " 'max_temperature': [288.42,\n",
       "  290.86,\n",
       "  286.22,\n",
       "  284.42,\n",
       "  285.85,\n",
       "  284.14,\n",
       "  283.3,\n",
       "  285.38,\n",
       "  289.33,\n",
       "  290.01,\n",
       "  288.27,\n",
       "  287.08,\n",
       "  285.87,\n",
       "  285.52,\n",
       "  285.29,\n",
       "  287.06,\n",
       "  290.41,\n",
       "  292.79,\n",
       "  289.31,\n",
       "  289.12,\n",
       "  288.86,\n",
       "  289,\n",
       "  287.24,\n",
       "  288.24,\n",
       "  291.44,\n",
       "  291.83,\n",
       "  288.85,\n",
       "  287.65,\n",
       "  287.4,\n",
       "  286.68,\n",
       "  286.58,\n",
       "  287.73,\n",
       "  287.66,\n",
       "  288.31,\n",
       "  288.38,\n",
       "  287.67,\n",
       "  285.71,\n",
       "  286.66,\n",
       "  286.24,\n",
       "  287]}"
      ]
     },
     "execution_count": 9,
     "metadata": {},
     "output_type": "execute_result"
    }
   ],
   "source": [
    "paris_dict = get_forecast('paris', api_key)\n",
    "paris_dict"
   ]
  },
  {
   "cell_type": "markdown",
   "id": "48f42042",
   "metadata": {
    "id": "48f42042"
   },
   "source": [
    "Congratulations ! 🎉 \\\n",
    "You have now created a powerful function that can give you hourly temperature forecasts thanks to some API calls !"
   ]
  },
  {
   "cell_type": "markdown",
   "id": "8653f18d",
   "metadata": {
    "id": "8653f18d"
   },
   "source": [
    "### Bonus : Visualization"
   ]
  },
  {
   "cell_type": "markdown",
   "id": "bce35933",
   "metadata": {
    "id": "bce35933"
   },
   "source": [
    "Run the following lines of code to plot the temperature forecasts for various cities accross the globe 🌍 \\\n",
    "Don't worry about about the `plotly.express` library, we will cover it in the next lecture."
   ]
  },
  {
   "cell_type": "code",
   "execution_count": 12,
   "id": "51c84609",
   "metadata": {
    "ExecuteTime": {
     "end_time": "2024-02-12T19:24:28.315634Z",
     "start_time": "2024-02-12T19:24:27.247937Z"
    },
    "id": "51c84609"
   },
   "outputs": [
    {
     "data": {
      "application/vnd.plotly.v1+json": {
       "config": {
        "plotlyServerURL": "https://plot.ly"
       },
       "data": [
        {
         "hovertemplate": "variable=Paris<br>datetime=%{x}<br>value=%{y}<extra></extra>",
         "legendgroup": "Paris",
         "line": {
          "color": "#636efa",
          "dash": "solid"
         },
         "marker": {
          "symbol": "circle"
         },
         "mode": "lines",
         "name": "Paris",
         "orientation": "v",
         "showlegend": true,
         "type": "scatter",
         "x": [
          "2025-10-17T12:00:00.000000000",
          "2025-10-17T15:00:00.000000000",
          "2025-10-17T18:00:00.000000000",
          "2025-10-17T21:00:00.000000000",
          "2025-10-18T00:00:00.000000000",
          "2025-10-18T03:00:00.000000000",
          "2025-10-18T06:00:00.000000000",
          "2025-10-18T09:00:00.000000000",
          "2025-10-18T12:00:00.000000000",
          "2025-10-18T15:00:00.000000000",
          "2025-10-18T18:00:00.000000000",
          "2025-10-18T21:00:00.000000000",
          "2025-10-19T00:00:00.000000000",
          "2025-10-19T03:00:00.000000000",
          "2025-10-19T06:00:00.000000000",
          "2025-10-19T09:00:00.000000000",
          "2025-10-19T12:00:00.000000000",
          "2025-10-19T15:00:00.000000000",
          "2025-10-19T18:00:00.000000000",
          "2025-10-19T21:00:00.000000000",
          "2025-10-20T00:00:00.000000000",
          "2025-10-20T03:00:00.000000000",
          "2025-10-20T06:00:00.000000000",
          "2025-10-20T09:00:00.000000000",
          "2025-10-20T12:00:00.000000000",
          "2025-10-20T15:00:00.000000000",
          "2025-10-20T18:00:00.000000000",
          "2025-10-20T21:00:00.000000000",
          "2025-10-21T00:00:00.000000000",
          "2025-10-21T03:00:00.000000000",
          "2025-10-21T06:00:00.000000000",
          "2025-10-21T09:00:00.000000000",
          "2025-10-21T12:00:00.000000000",
          "2025-10-21T15:00:00.000000000",
          "2025-10-21T18:00:00.000000000",
          "2025-10-21T21:00:00.000000000",
          "2025-10-22T00:00:00.000000000",
          "2025-10-22T03:00:00.000000000",
          "2025-10-22T06:00:00.000000000",
          "2025-10-22T09:00:00.000000000"
         ],
         "xaxis": "x",
         "y": {
          "bdata": "H4XrUbgGckD2KFyPwi1yQOxRuB6F43FAH4XrUbjGcUCamZmZmd1xQArXo3A9wnFAzczMzMy0cUCuR+F6FNZxQOF6FK5HFXJAXI/C9SggckC4HoXrUQRyQOF6FK5H8XFAUrgehevdcUC4HoXrUdhxQHE9Ctej1HFAKVyPwvXwcUDD9ShcjyZyQHE9CtejTHJAKVyPwvUUckBSuB6F6xFyQPYoXI/CDXJAAAAAAAAQckCkcD0K1/NxQKRwPQrXA3JA16NwPQo3ckDhehSuRz1yQJqZmZmZDXJAZmZmZmb6cUBmZmZmZvZxQHsUrkfh6nFA4XoUrkfpcUBI4XoUrvtxQMP1KFyP+nFAKVyPwvUEckCuR+F6FAZyQB+F61G4+nFAj8L1KFzbcUDD9Shcj+pxQKRwPQrX43FAAAAAAADwcUA=",
          "dtype": "f8"
         },
         "yaxis": "y"
        },
        {
         "hovertemplate": "variable=London<br>datetime=%{x}<br>value=%{y}<extra></extra>",
         "legendgroup": "London",
         "line": {
          "color": "#EF553B",
          "dash": "solid"
         },
         "marker": {
          "symbol": "circle"
         },
         "mode": "lines",
         "name": "London",
         "orientation": "v",
         "showlegend": true,
         "type": "scatter",
         "x": [
          "2025-10-17T12:00:00.000000000",
          "2025-10-17T15:00:00.000000000",
          "2025-10-17T18:00:00.000000000",
          "2025-10-17T21:00:00.000000000",
          "2025-10-18T00:00:00.000000000",
          "2025-10-18T03:00:00.000000000",
          "2025-10-18T06:00:00.000000000",
          "2025-10-18T09:00:00.000000000",
          "2025-10-18T12:00:00.000000000",
          "2025-10-18T15:00:00.000000000",
          "2025-10-18T18:00:00.000000000",
          "2025-10-18T21:00:00.000000000",
          "2025-10-19T00:00:00.000000000",
          "2025-10-19T03:00:00.000000000",
          "2025-10-19T06:00:00.000000000",
          "2025-10-19T09:00:00.000000000",
          "2025-10-19T12:00:00.000000000",
          "2025-10-19T15:00:00.000000000",
          "2025-10-19T18:00:00.000000000",
          "2025-10-19T21:00:00.000000000",
          "2025-10-20T00:00:00.000000000",
          "2025-10-20T03:00:00.000000000",
          "2025-10-20T06:00:00.000000000",
          "2025-10-20T09:00:00.000000000",
          "2025-10-20T12:00:00.000000000",
          "2025-10-20T15:00:00.000000000",
          "2025-10-20T18:00:00.000000000",
          "2025-10-20T21:00:00.000000000",
          "2025-10-21T00:00:00.000000000",
          "2025-10-21T03:00:00.000000000",
          "2025-10-21T06:00:00.000000000",
          "2025-10-21T09:00:00.000000000",
          "2025-10-21T12:00:00.000000000",
          "2025-10-21T15:00:00.000000000",
          "2025-10-21T18:00:00.000000000",
          "2025-10-21T21:00:00.000000000",
          "2025-10-22T00:00:00.000000000",
          "2025-10-22T03:00:00.000000000",
          "2025-10-22T06:00:00.000000000",
          "2025-10-22T09:00:00.000000000"
         ],
         "xaxis": "x",
         "y": {
          "bdata": "XI/C9SgAckAAAAAAABByQPYoXI/C5XFAhetRuB7JcUBI4XoUrq9xQEjhehSut3FASOF6FK6zcUBSuB6F69VxQEjhehSu/3FAhetRuB75cUCPwvUoXOdxQArXo3A94nFAexSuR+HicUBcj8L1KOBxQIXrUbge3XFApHA9CtfbcUBmZmZmZupxQNejcD0K93FArkfhehTycUB7FK5H4QJyQGZmZmZm9nFAPQrXo3DZcUAUrkfhethxQAAAAAAA9HFAH4XrUbjmcUBcj8L1KPBxQFK4HoXr4XFAXI/C9SjccUCuR+F6FM5xQB+F61G4znFAAAAAAADUcUAfhetRuNZxQI/C9Shc73FAFK5H4XoIckAfhetRuO5xQClcj8L12HFAmpmZmZnRcUAK16NwPbpxQClcj8L1rHFAj8L1KFzDcUA=",
          "dtype": "f8"
         },
         "yaxis": "y"
        },
        {
         "hovertemplate": "variable=Lisbon<br>datetime=%{x}<br>value=%{y}<extra></extra>",
         "legendgroup": "Lisbon",
         "line": {
          "color": "#00cc96",
          "dash": "solid"
         },
         "marker": {
          "symbol": "circle"
         },
         "mode": "lines",
         "name": "Lisbon",
         "orientation": "v",
         "showlegend": true,
         "type": "scatter",
         "x": [
          "2025-10-17T12:00:00.000000000",
          "2025-10-17T15:00:00.000000000",
          "2025-10-17T18:00:00.000000000",
          "2025-10-17T21:00:00.000000000",
          "2025-10-18T00:00:00.000000000",
          "2025-10-18T03:00:00.000000000",
          "2025-10-18T06:00:00.000000000",
          "2025-10-18T09:00:00.000000000",
          "2025-10-18T12:00:00.000000000",
          "2025-10-18T15:00:00.000000000",
          "2025-10-18T18:00:00.000000000",
          "2025-10-18T21:00:00.000000000",
          "2025-10-19T00:00:00.000000000",
          "2025-10-19T03:00:00.000000000",
          "2025-10-19T06:00:00.000000000",
          "2025-10-19T09:00:00.000000000",
          "2025-10-19T12:00:00.000000000",
          "2025-10-19T15:00:00.000000000",
          "2025-10-19T18:00:00.000000000",
          "2025-10-19T21:00:00.000000000",
          "2025-10-20T00:00:00.000000000",
          "2025-10-20T03:00:00.000000000",
          "2025-10-20T06:00:00.000000000",
          "2025-10-20T09:00:00.000000000",
          "2025-10-20T12:00:00.000000000",
          "2025-10-20T15:00:00.000000000",
          "2025-10-20T18:00:00.000000000",
          "2025-10-20T21:00:00.000000000",
          "2025-10-21T00:00:00.000000000",
          "2025-10-21T03:00:00.000000000",
          "2025-10-21T06:00:00.000000000",
          "2025-10-21T09:00:00.000000000",
          "2025-10-21T12:00:00.000000000",
          "2025-10-21T15:00:00.000000000",
          "2025-10-21T18:00:00.000000000",
          "2025-10-21T21:00:00.000000000",
          "2025-10-22T00:00:00.000000000",
          "2025-10-22T03:00:00.000000000",
          "2025-10-22T06:00:00.000000000",
          "2025-10-22T09:00:00.000000000"
         ],
         "xaxis": "x",
         "y": {
          "bdata": "cT0K16OIckCamZmZmZ1yQK5H4XoUenJAUrgehethckDD9Shcj1JyQIXrUbgeSXJAhetRuB49ckD2KFyPwllyQPYoXI/CfXJAcT0K16OQckDD9Shcj2pyQArXo3A9WnJArkfhehRWckBI4XoUrk9yQClcj8L1THJAcT0K16NUckA9CtejcHlyQM3MzMzMaHJAUrgehetZckBcj8L1KFRyQGZmZmZmUnJAFK5H4XpQckAAAAAAAEhyQB+F61G4YnJAcT0K16OIckCF61G4HoVyQFyPwvUoWHJA16NwPQpHckBxPQrXo0ByQOxRuB6FP3JASOF6FK5DckCuR+F6FFpyQIXrUbgeeXJAFK5H4XqEckCkcD0K12dyQHsUrkfhVnJA4XoUrkdNckDXo3A9CkdyQClcj8L1RHJAhetRuB5ZckA=",
          "dtype": "f8"
         },
         "yaxis": "y"
        },
        {
         "hovertemplate": "variable=New York<br>datetime=%{x}<br>value=%{y}<extra></extra>",
         "legendgroup": "New York",
         "line": {
          "color": "#ab63fa",
          "dash": "solid"
         },
         "marker": {
          "symbol": "circle"
         },
         "mode": "lines",
         "name": "New York",
         "orientation": "v",
         "showlegend": true,
         "type": "scatter",
         "x": [
          "2025-10-17T12:00:00.000000000",
          "2025-10-17T15:00:00.000000000",
          "2025-10-17T18:00:00.000000000",
          "2025-10-17T21:00:00.000000000",
          "2025-10-18T00:00:00.000000000",
          "2025-10-18T03:00:00.000000000",
          "2025-10-18T06:00:00.000000000",
          "2025-10-18T09:00:00.000000000",
          "2025-10-18T12:00:00.000000000",
          "2025-10-18T15:00:00.000000000",
          "2025-10-18T18:00:00.000000000",
          "2025-10-18T21:00:00.000000000",
          "2025-10-19T00:00:00.000000000",
          "2025-10-19T03:00:00.000000000",
          "2025-10-19T06:00:00.000000000",
          "2025-10-19T09:00:00.000000000",
          "2025-10-19T12:00:00.000000000",
          "2025-10-19T15:00:00.000000000",
          "2025-10-19T18:00:00.000000000",
          "2025-10-19T21:00:00.000000000",
          "2025-10-20T00:00:00.000000000",
          "2025-10-20T03:00:00.000000000",
          "2025-10-20T06:00:00.000000000",
          "2025-10-20T09:00:00.000000000",
          "2025-10-20T12:00:00.000000000",
          "2025-10-20T15:00:00.000000000",
          "2025-10-20T18:00:00.000000000",
          "2025-10-20T21:00:00.000000000",
          "2025-10-21T00:00:00.000000000",
          "2025-10-21T03:00:00.000000000",
          "2025-10-21T06:00:00.000000000",
          "2025-10-21T09:00:00.000000000",
          "2025-10-21T12:00:00.000000000",
          "2025-10-21T15:00:00.000000000",
          "2025-10-21T18:00:00.000000000",
          "2025-10-21T21:00:00.000000000",
          "2025-10-22T00:00:00.000000000",
          "2025-10-22T03:00:00.000000000",
          "2025-10-22T06:00:00.000000000",
          "2025-10-22T09:00:00.000000000"
         ],
         "xaxis": "x",
         "y": {
          "bdata": "j8L1KFyrcUCuR+F6FO5xQMP1KFyPJnJAFK5H4Xo0ckAzMzMzM/9xQHsUrkfh6nFAZmZmZmbacUC4HoXrUcxxQD0K16NwyXFAw/UoXI/+cUC4HoXrUSByQEjhehSuH3JA4XoUrkcRckBI4XoUrg9yQAAAAAAAAHJAj8L1KFzzcUDsUbgehftxQLgehetRRHJAj8L1KFxbckCamZmZmU1yQD0K16NwPXJA9ihcj8I9ckDXo3A9Cj9yQHsUrkfhOnJAXI/C9SgAckAK16NwPR5yQArXo3A9NnJAhetRuB4lckAfhetRuA5yQFK4HoXr/XFAmpmZmZnpcUApXI/C9dxxQFK4HoXr2XFAhetRuB4VckBI4XoUrlNyQJqZmZmZWXJApHA9CtcvckBSuB6F6x1yQEjhehSuF3JAZmZmZmYSckA=",
          "dtype": "f8"
         },
         "yaxis": "y"
        },
        {
         "hovertemplate": "variable=Cape Town<br>datetime=%{x}<br>value=%{y}<extra></extra>",
         "legendgroup": "Cape Town",
         "line": {
          "color": "#FFA15A",
          "dash": "solid"
         },
         "marker": {
          "symbol": "circle"
         },
         "mode": "lines",
         "name": "Cape Town",
         "orientation": "v",
         "showlegend": true,
         "type": "scatter",
         "x": [
          "2025-10-17T12:00:00.000000000",
          "2025-10-17T15:00:00.000000000",
          "2025-10-17T18:00:00.000000000",
          "2025-10-17T21:00:00.000000000",
          "2025-10-18T00:00:00.000000000",
          "2025-10-18T03:00:00.000000000",
          "2025-10-18T06:00:00.000000000",
          "2025-10-18T09:00:00.000000000",
          "2025-10-18T12:00:00.000000000",
          "2025-10-18T15:00:00.000000000",
          "2025-10-18T18:00:00.000000000",
          "2025-10-18T21:00:00.000000000",
          "2025-10-19T00:00:00.000000000",
          "2025-10-19T03:00:00.000000000",
          "2025-10-19T06:00:00.000000000",
          "2025-10-19T09:00:00.000000000",
          "2025-10-19T12:00:00.000000000",
          "2025-10-19T15:00:00.000000000",
          "2025-10-19T18:00:00.000000000",
          "2025-10-19T21:00:00.000000000",
          "2025-10-20T00:00:00.000000000",
          "2025-10-20T03:00:00.000000000",
          "2025-10-20T06:00:00.000000000",
          "2025-10-20T09:00:00.000000000",
          "2025-10-20T12:00:00.000000000",
          "2025-10-20T15:00:00.000000000",
          "2025-10-20T18:00:00.000000000",
          "2025-10-20T21:00:00.000000000",
          "2025-10-21T00:00:00.000000000",
          "2025-10-21T03:00:00.000000000",
          "2025-10-21T06:00:00.000000000",
          "2025-10-21T09:00:00.000000000",
          "2025-10-21T12:00:00.000000000",
          "2025-10-21T15:00:00.000000000",
          "2025-10-21T18:00:00.000000000",
          "2025-10-21T21:00:00.000000000",
          "2025-10-22T00:00:00.000000000",
          "2025-10-22T03:00:00.000000000",
          "2025-10-22T06:00:00.000000000",
          "2025-10-22T09:00:00.000000000"
         ],
         "xaxis": "x",
         "y": {
          "bdata": "7FG4HoWbckApXI/C9XByQM3MzMzMHHJAAAAAAAAQckDXo3A9CgtyQHsUrkfhAnJAcT0K16MMckBSuB6F6yVyQPYoXI/CMXJASOF6FK4nckBcj8L1KAxyQKRwPQrXA3JAZmZmZmb6cUBcj8L1KPRxQPYoXI/CDXJAhetRuB5NckB7FK5H4V5yQOF6FK5HVXJA7FG4HoUvckDD9ShcjwZyQD0K16Nw9XFAexSuR+HqcUBI4XoUrgtyQJqZmZmZZXJAZmZmZmZ+ckCuR+F6FF5yQFyPwvUoPHJA7FG4HoUbckB7FK5H4QpyQOxRuB6F/3FAcT0K16McckB7FK5H4W5yQGZmZmZmqnJAzczMzMyockDD9Shcj0pyQMP1KFyPNnJAw/UoXI8mckDXo3A9Ch9yQB+F61G4RnJAcT0K16NsckA=",
          "dtype": "f8"
         },
         "yaxis": "y"
        },
        {
         "hovertemplate": "variable=Madrid<br>datetime=%{x}<br>value=%{y}<extra></extra>",
         "legendgroup": "Madrid",
         "line": {
          "color": "#19d3f3",
          "dash": "solid"
         },
         "marker": {
          "symbol": "circle"
         },
         "mode": "lines",
         "name": "Madrid",
         "orientation": "v",
         "showlegend": true,
         "type": "scatter",
         "x": [
          "2025-10-17T12:00:00.000000000",
          "2025-10-17T15:00:00.000000000",
          "2025-10-17T18:00:00.000000000",
          "2025-10-17T21:00:00.000000000",
          "2025-10-18T00:00:00.000000000",
          "2025-10-18T03:00:00.000000000",
          "2025-10-18T06:00:00.000000000",
          "2025-10-18T09:00:00.000000000",
          "2025-10-18T12:00:00.000000000",
          "2025-10-18T15:00:00.000000000",
          "2025-10-18T18:00:00.000000000",
          "2025-10-18T21:00:00.000000000",
          "2025-10-19T00:00:00.000000000",
          "2025-10-19T03:00:00.000000000",
          "2025-10-19T06:00:00.000000000",
          "2025-10-19T09:00:00.000000000",
          "2025-10-19T12:00:00.000000000",
          "2025-10-19T15:00:00.000000000",
          "2025-10-19T18:00:00.000000000",
          "2025-10-19T21:00:00.000000000",
          "2025-10-20T00:00:00.000000000",
          "2025-10-20T03:00:00.000000000",
          "2025-10-20T06:00:00.000000000",
          "2025-10-20T09:00:00.000000000",
          "2025-10-20T12:00:00.000000000",
          "2025-10-20T15:00:00.000000000",
          "2025-10-20T18:00:00.000000000",
          "2025-10-20T21:00:00.000000000",
          "2025-10-21T00:00:00.000000000",
          "2025-10-21T03:00:00.000000000",
          "2025-10-21T06:00:00.000000000",
          "2025-10-21T09:00:00.000000000",
          "2025-10-21T12:00:00.000000000",
          "2025-10-21T15:00:00.000000000",
          "2025-10-21T18:00:00.000000000",
          "2025-10-21T21:00:00.000000000",
          "2025-10-22T00:00:00.000000000",
          "2025-10-22T03:00:00.000000000",
          "2025-10-22T06:00:00.000000000",
          "2025-10-22T09:00:00.000000000"
         ],
         "xaxis": "x",
         "y": {
          "bdata": "CtejcD1ackAUrkfhephyQOxRuB6FD3JArkfhehQackA9CtejcPVxQD0K16NwJXJApHA9CtcTckAfhetRuDJyQArXo3A9dnJAexSuR+GackBI4XoUroNyQEjhehSuZ3JAH4XrUbhOckB7FK5H4T5yQD0K16NwLXJAUrgehetBckD2KFyPwoFyQIXrUbgejXJAzczMzMxkckBSuB6F61lyQKRwPQrXN3JAAAAAAAAkckDhehSuRxVyQNejcD0KL3JASOF6FK5vckCamZmZmX1yQHE9CtejdHJAexSuR+FSckAK16NwPTJyQAAAAAAAHHJAzczMzMwMckBI4XoUrg9yQEjhehSuW3JAj8L1KFx3ckBI4XoUrmtyQHE9CtejSHJA4XoUrkc5ckBcj8L1KCByQD0K16NwDXJAzczMzMwockA=",
          "dtype": "f8"
         },
         "yaxis": "y"
        }
       ],
       "layout": {
        "legend": {
         "title": {
          "text": "variable"
         },
         "tracegroupgap": 0
        },
        "margin": {
         "t": 60
        },
        "template": {
         "data": {
          "bar": [
           {
            "error_x": {
             "color": "#2a3f5f"
            },
            "error_y": {
             "color": "#2a3f5f"
            },
            "marker": {
             "line": {
              "color": "#E5ECF6",
              "width": 0.5
             },
             "pattern": {
              "fillmode": "overlay",
              "size": 10,
              "solidity": 0.2
             }
            },
            "type": "bar"
           }
          ],
          "barpolar": [
           {
            "marker": {
             "line": {
              "color": "#E5ECF6",
              "width": 0.5
             },
             "pattern": {
              "fillmode": "overlay",
              "size": 10,
              "solidity": 0.2
             }
            },
            "type": "barpolar"
           }
          ],
          "carpet": [
           {
            "aaxis": {
             "endlinecolor": "#2a3f5f",
             "gridcolor": "white",
             "linecolor": "white",
             "minorgridcolor": "white",
             "startlinecolor": "#2a3f5f"
            },
            "baxis": {
             "endlinecolor": "#2a3f5f",
             "gridcolor": "white",
             "linecolor": "white",
             "minorgridcolor": "white",
             "startlinecolor": "#2a3f5f"
            },
            "type": "carpet"
           }
          ],
          "choropleth": [
           {
            "colorbar": {
             "outlinewidth": 0,
             "ticks": ""
            },
            "type": "choropleth"
           }
          ],
          "contour": [
           {
            "colorbar": {
             "outlinewidth": 0,
             "ticks": ""
            },
            "colorscale": [
             [
              0,
              "#0d0887"
             ],
             [
              0.1111111111111111,
              "#46039f"
             ],
             [
              0.2222222222222222,
              "#7201a8"
             ],
             [
              0.3333333333333333,
              "#9c179e"
             ],
             [
              0.4444444444444444,
              "#bd3786"
             ],
             [
              0.5555555555555556,
              "#d8576b"
             ],
             [
              0.6666666666666666,
              "#ed7953"
             ],
             [
              0.7777777777777778,
              "#fb9f3a"
             ],
             [
              0.8888888888888888,
              "#fdca26"
             ],
             [
              1,
              "#f0f921"
             ]
            ],
            "type": "contour"
           }
          ],
          "contourcarpet": [
           {
            "colorbar": {
             "outlinewidth": 0,
             "ticks": ""
            },
            "type": "contourcarpet"
           }
          ],
          "heatmap": [
           {
            "colorbar": {
             "outlinewidth": 0,
             "ticks": ""
            },
            "colorscale": [
             [
              0,
              "#0d0887"
             ],
             [
              0.1111111111111111,
              "#46039f"
             ],
             [
              0.2222222222222222,
              "#7201a8"
             ],
             [
              0.3333333333333333,
              "#9c179e"
             ],
             [
              0.4444444444444444,
              "#bd3786"
             ],
             [
              0.5555555555555556,
              "#d8576b"
             ],
             [
              0.6666666666666666,
              "#ed7953"
             ],
             [
              0.7777777777777778,
              "#fb9f3a"
             ],
             [
              0.8888888888888888,
              "#fdca26"
             ],
             [
              1,
              "#f0f921"
             ]
            ],
            "type": "heatmap"
           }
          ],
          "histogram": [
           {
            "marker": {
             "pattern": {
              "fillmode": "overlay",
              "size": 10,
              "solidity": 0.2
             }
            },
            "type": "histogram"
           }
          ],
          "histogram2d": [
           {
            "colorbar": {
             "outlinewidth": 0,
             "ticks": ""
            },
            "colorscale": [
             [
              0,
              "#0d0887"
             ],
             [
              0.1111111111111111,
              "#46039f"
             ],
             [
              0.2222222222222222,
              "#7201a8"
             ],
             [
              0.3333333333333333,
              "#9c179e"
             ],
             [
              0.4444444444444444,
              "#bd3786"
             ],
             [
              0.5555555555555556,
              "#d8576b"
             ],
             [
              0.6666666666666666,
              "#ed7953"
             ],
             [
              0.7777777777777778,
              "#fb9f3a"
             ],
             [
              0.8888888888888888,
              "#fdca26"
             ],
             [
              1,
              "#f0f921"
             ]
            ],
            "type": "histogram2d"
           }
          ],
          "histogram2dcontour": [
           {
            "colorbar": {
             "outlinewidth": 0,
             "ticks": ""
            },
            "colorscale": [
             [
              0,
              "#0d0887"
             ],
             [
              0.1111111111111111,
              "#46039f"
             ],
             [
              0.2222222222222222,
              "#7201a8"
             ],
             [
              0.3333333333333333,
              "#9c179e"
             ],
             [
              0.4444444444444444,
              "#bd3786"
             ],
             [
              0.5555555555555556,
              "#d8576b"
             ],
             [
              0.6666666666666666,
              "#ed7953"
             ],
             [
              0.7777777777777778,
              "#fb9f3a"
             ],
             [
              0.8888888888888888,
              "#fdca26"
             ],
             [
              1,
              "#f0f921"
             ]
            ],
            "type": "histogram2dcontour"
           }
          ],
          "mesh3d": [
           {
            "colorbar": {
             "outlinewidth": 0,
             "ticks": ""
            },
            "type": "mesh3d"
           }
          ],
          "parcoords": [
           {
            "line": {
             "colorbar": {
              "outlinewidth": 0,
              "ticks": ""
             }
            },
            "type": "parcoords"
           }
          ],
          "pie": [
           {
            "automargin": true,
            "type": "pie"
           }
          ],
          "scatter": [
           {
            "fillpattern": {
             "fillmode": "overlay",
             "size": 10,
             "solidity": 0.2
            },
            "type": "scatter"
           }
          ],
          "scatter3d": [
           {
            "line": {
             "colorbar": {
              "outlinewidth": 0,
              "ticks": ""
             }
            },
            "marker": {
             "colorbar": {
              "outlinewidth": 0,
              "ticks": ""
             }
            },
            "type": "scatter3d"
           }
          ],
          "scattercarpet": [
           {
            "marker": {
             "colorbar": {
              "outlinewidth": 0,
              "ticks": ""
             }
            },
            "type": "scattercarpet"
           }
          ],
          "scattergeo": [
           {
            "marker": {
             "colorbar": {
              "outlinewidth": 0,
              "ticks": ""
             }
            },
            "type": "scattergeo"
           }
          ],
          "scattergl": [
           {
            "marker": {
             "colorbar": {
              "outlinewidth": 0,
              "ticks": ""
             }
            },
            "type": "scattergl"
           }
          ],
          "scattermap": [
           {
            "marker": {
             "colorbar": {
              "outlinewidth": 0,
              "ticks": ""
             }
            },
            "type": "scattermap"
           }
          ],
          "scattermapbox": [
           {
            "marker": {
             "colorbar": {
              "outlinewidth": 0,
              "ticks": ""
             }
            },
            "type": "scattermapbox"
           }
          ],
          "scatterpolar": [
           {
            "marker": {
             "colorbar": {
              "outlinewidth": 0,
              "ticks": ""
             }
            },
            "type": "scatterpolar"
           }
          ],
          "scatterpolargl": [
           {
            "marker": {
             "colorbar": {
              "outlinewidth": 0,
              "ticks": ""
             }
            },
            "type": "scatterpolargl"
           }
          ],
          "scatterternary": [
           {
            "marker": {
             "colorbar": {
              "outlinewidth": 0,
              "ticks": ""
             }
            },
            "type": "scatterternary"
           }
          ],
          "surface": [
           {
            "colorbar": {
             "outlinewidth": 0,
             "ticks": ""
            },
            "colorscale": [
             [
              0,
              "#0d0887"
             ],
             [
              0.1111111111111111,
              "#46039f"
             ],
             [
              0.2222222222222222,
              "#7201a8"
             ],
             [
              0.3333333333333333,
              "#9c179e"
             ],
             [
              0.4444444444444444,
              "#bd3786"
             ],
             [
              0.5555555555555556,
              "#d8576b"
             ],
             [
              0.6666666666666666,
              "#ed7953"
             ],
             [
              0.7777777777777778,
              "#fb9f3a"
             ],
             [
              0.8888888888888888,
              "#fdca26"
             ],
             [
              1,
              "#f0f921"
             ]
            ],
            "type": "surface"
           }
          ],
          "table": [
           {
            "cells": {
             "fill": {
              "color": "#EBF0F8"
             },
             "line": {
              "color": "white"
             }
            },
            "header": {
             "fill": {
              "color": "#C8D4E3"
             },
             "line": {
              "color": "white"
             }
            },
            "type": "table"
           }
          ]
         },
         "layout": {
          "annotationdefaults": {
           "arrowcolor": "#2a3f5f",
           "arrowhead": 0,
           "arrowwidth": 1
          },
          "autotypenumbers": "strict",
          "coloraxis": {
           "colorbar": {
            "outlinewidth": 0,
            "ticks": ""
           }
          },
          "colorscale": {
           "diverging": [
            [
             0,
             "#8e0152"
            ],
            [
             0.1,
             "#c51b7d"
            ],
            [
             0.2,
             "#de77ae"
            ],
            [
             0.3,
             "#f1b6da"
            ],
            [
             0.4,
             "#fde0ef"
            ],
            [
             0.5,
             "#f7f7f7"
            ],
            [
             0.6,
             "#e6f5d0"
            ],
            [
             0.7,
             "#b8e186"
            ],
            [
             0.8,
             "#7fbc41"
            ],
            [
             0.9,
             "#4d9221"
            ],
            [
             1,
             "#276419"
            ]
           ],
           "sequential": [
            [
             0,
             "#0d0887"
            ],
            [
             0.1111111111111111,
             "#46039f"
            ],
            [
             0.2222222222222222,
             "#7201a8"
            ],
            [
             0.3333333333333333,
             "#9c179e"
            ],
            [
             0.4444444444444444,
             "#bd3786"
            ],
            [
             0.5555555555555556,
             "#d8576b"
            ],
            [
             0.6666666666666666,
             "#ed7953"
            ],
            [
             0.7777777777777778,
             "#fb9f3a"
            ],
            [
             0.8888888888888888,
             "#fdca26"
            ],
            [
             1,
             "#f0f921"
            ]
           ],
           "sequentialminus": [
            [
             0,
             "#0d0887"
            ],
            [
             0.1111111111111111,
             "#46039f"
            ],
            [
             0.2222222222222222,
             "#7201a8"
            ],
            [
             0.3333333333333333,
             "#9c179e"
            ],
            [
             0.4444444444444444,
             "#bd3786"
            ],
            [
             0.5555555555555556,
             "#d8576b"
            ],
            [
             0.6666666666666666,
             "#ed7953"
            ],
            [
             0.7777777777777778,
             "#fb9f3a"
            ],
            [
             0.8888888888888888,
             "#fdca26"
            ],
            [
             1,
             "#f0f921"
            ]
           ]
          },
          "colorway": [
           "#636efa",
           "#EF553B",
           "#00cc96",
           "#ab63fa",
           "#FFA15A",
           "#19d3f3",
           "#FF6692",
           "#B6E880",
           "#FF97FF",
           "#FECB52"
          ],
          "font": {
           "color": "#2a3f5f"
          },
          "geo": {
           "bgcolor": "white",
           "lakecolor": "white",
           "landcolor": "#E5ECF6",
           "showlakes": true,
           "showland": true,
           "subunitcolor": "white"
          },
          "hoverlabel": {
           "align": "left"
          },
          "hovermode": "closest",
          "mapbox": {
           "style": "light"
          },
          "paper_bgcolor": "white",
          "plot_bgcolor": "#E5ECF6",
          "polar": {
           "angularaxis": {
            "gridcolor": "white",
            "linecolor": "white",
            "ticks": ""
           },
           "bgcolor": "#E5ECF6",
           "radialaxis": {
            "gridcolor": "white",
            "linecolor": "white",
            "ticks": ""
           }
          },
          "scene": {
           "xaxis": {
            "backgroundcolor": "#E5ECF6",
            "gridcolor": "white",
            "gridwidth": 2,
            "linecolor": "white",
            "showbackground": true,
            "ticks": "",
            "zerolinecolor": "white"
           },
           "yaxis": {
            "backgroundcolor": "#E5ECF6",
            "gridcolor": "white",
            "gridwidth": 2,
            "linecolor": "white",
            "showbackground": true,
            "ticks": "",
            "zerolinecolor": "white"
           },
           "zaxis": {
            "backgroundcolor": "#E5ECF6",
            "gridcolor": "white",
            "gridwidth": 2,
            "linecolor": "white",
            "showbackground": true,
            "ticks": "",
            "zerolinecolor": "white"
           }
          },
          "shapedefaults": {
           "line": {
            "color": "#2a3f5f"
           }
          },
          "ternary": {
           "aaxis": {
            "gridcolor": "white",
            "linecolor": "white",
            "ticks": ""
           },
           "baxis": {
            "gridcolor": "white",
            "linecolor": "white",
            "ticks": ""
           },
           "bgcolor": "#E5ECF6",
           "caxis": {
            "gridcolor": "white",
            "linecolor": "white",
            "ticks": ""
           }
          },
          "title": {
           "x": 0.05
          },
          "xaxis": {
           "automargin": true,
           "gridcolor": "white",
           "linecolor": "white",
           "ticks": "",
           "title": {
            "standoff": 15
           },
           "zerolinecolor": "white",
           "zerolinewidth": 2
          },
          "yaxis": {
           "automargin": true,
           "gridcolor": "white",
           "linecolor": "white",
           "ticks": "",
           "title": {
            "standoff": 15
           },
           "zerolinecolor": "white",
           "zerolinewidth": 2
          }
         }
        },
        "xaxis": {
         "anchor": "y",
         "domain": [
          0,
          1
         ],
         "title": {
          "text": "datetime"
         }
        },
        "yaxis": {
         "anchor": "x",
         "domain": [
          0,
          1
         ],
         "title": {
          "text": "value"
         }
        }
       }
      }
     },
     "metadata": {},
     "output_type": "display_data"
    }
   ],
   "source": [
    "import pandas as pd\n",
    "import plotly.express as px\n",
    "\n",
    "cities = [\"Paris\",\"London\",\"Lisbon\",\"New York\",\"Cape Town\", \"Madrid\"] # Feel free to add or remove some cities\n",
    "\n",
    "df=pd.DataFrame()\n",
    "\n",
    "for city in cities:\n",
    "\n",
    "\n",
    "    city_df=pd.DataFrame(get_forecast(city, api_key))\n",
    "    city_df['datetime']=pd.to_datetime(city_df['datetime'])\n",
    "    city_df.set_index('datetime',inplace=True)\n",
    "    city_df.columns=[city]\n",
    "    df=pd.concat([df,city_df],axis=1)\n",
    "\n",
    "\n",
    "px.line(df)\n"
   ]
  }
 ],
 "metadata": {
  "colab": {
   "provenance": []
  },
  "kernelspec": {
   "display_name": "Python (le_wagon-python)",
   "language": "python",
   "name": "le_wagon-python"
  },
  "language_info": {
   "codemirror_mode": {
    "name": "ipython",
    "version": 3
   },
   "file_extension": ".py",
   "mimetype": "text/x-python",
   "name": "python",
   "nbconvert_exporter": "python",
   "pygments_lexer": "ipython3",
   "version": "3.13.3"
  },
  "toc": {
   "base_numbering": 1,
   "nav_menu": {},
   "number_sections": true,
   "sideBar": true,
   "skip_h1_title": false,
   "title_cell": "Table of Contents",
   "title_sidebar": "Contents",
   "toc_cell": false,
   "toc_position": {},
   "toc_section_display": true,
   "toc_window_display": false
  }
 },
 "nbformat": 4,
 "nbformat_minor": 5
}
