{
 "cells": [
  {
   "cell_type": "markdown",
   "metadata": {
    "id": "-JzbMZMGL2W1"
   },
   "source": [
    " ![Emil](data:image/png;base64,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)"
   ]
  },
  {
   "cell_type": "markdown",
   "metadata": {
    "id": "3Io8S5AZL2W3"
   },
   "source": [
    "# Get competitor's products and prices info"
   ]
  },
  {
   "cell_type": "markdown",
   "metadata": {
    "id": "VnLjA5xKm8Qe"
   },
   "source": [
    "Naturalia is a health food French company, and one of the main competitors of Greenweez.\n",
    "\n",
    "In this challenge, you will gather information on Naturalia products to help Greenweez drive its pricing strategy."
   ]
  },
  {
   "cell_type": "markdown",
   "metadata": {
    "id": "ieZeo9gDU-W-"
   },
   "source": [
    "## Naturalia website"
   ]
  },
  {
   "cell_type": "markdown",
   "metadata": {
    "id": "ycTTzp-Im8Qe"
   },
   "source": [
    "### BeautifulSoup\n"
   ]
  },
  {
   "cell_type": "markdown",
   "metadata": {
    "id": "I6MDzJAuMakU"
   },
   "source": [
    "Go to the [website](https://www.naturalia.fr/catalogsearch/result/?q=compote) and study the url. What is the endpoint? What is the query parameter ?"
   ]
  },
  {
   "cell_type": "markdown",
   "metadata": {
    "id": "VmqxnprDvdLf"
   },
   "source": [
    "endpoint = https://www.naturalia.fr/catalogsearch/result/\n",
    "\n",
    "parameter q = compote"
   ]
  },
  {
   "cell_type": "markdown",
   "metadata": {
    "id": "wLD3dlJQ36Eb"
   },
   "source": [
    "Using `requests` and `bs4`libraries, convert the html code to a BeautifulSoup object and store it in a `soup`variable.\n",
    "\n",
    "Have a look at the lecture if you're unsure about the syntax."
   ]
  },
  {
   "cell_type": "code",
   "execution_count": 1,
   "metadata": {
    "ExecuteTime": {
     "end_time": "2024-02-15T23:05:44.811352Z",
     "start_time": "2024-02-15T23:05:43.555455Z"
    },
    "id": "rSLYqKoy4Jzs"
   },
   "outputs": [],
   "source": [
    "import requests \n",
    "from bs4 import BeautifulSoup"
   ]
  },
  {
   "cell_type": "code",
   "execution_count": 7,
   "metadata": {},
   "outputs": [
    {
     "name": "stdout",
     "output_type": "stream",
     "text": [
      "200\n"
     ]
    }
   ],
   "source": [
    "url = 'https://www.naturalia.fr/catalogsearch/result/'\n",
    "params = {\n",
    "    'q': 'compote'\n",
    "}\n",
    "response = requests.get(url=url, params=params)\n",
    "\n",
    "print(response.status_code)\n",
    "\n",
    "soup = BeautifulSoup(response.text, 'html.parser')"
   ]
  },
  {
   "cell_type": "markdown",
   "metadata": {
    "id": "GmvFyItum8Qf"
   },
   "source": [
    "### Investigating the page layout\n"
   ]
  },
  {
   "cell_type": "markdown",
   "metadata": {
    "id": "tQxbJNX7vgT-"
   },
   "source": [
    "We want to get information about all the products displayed on the page.\n",
    "\n",
    "By examining the website's HTML code, determine the HTML tag that contains information for each product."
   ]
  },
  {
   "cell_type": "markdown",
   "metadata": {
    "id": "M_bnA_B9m8Qf"
   },
   "source": [
    "- li class='item product product-item'\n",
    "- div class=\"product attribute description\"\n"
   ]
  },
  {
   "cell_type": "markdown",
   "metadata": {
    "id": "Uwo4yRCevwjj"
   },
   "source": [
    "Use BeautifulSoup's `find_all()` method to retrieve all **li** tags with the class **item product product-item** and store the results in a variable named `items`.\n",
    "\n",
    "Have a look at the lecture for guidance."
   ]
  },
  {
   "cell_type": "code",
   "execution_count": 8,
   "metadata": {
    "ExecuteTime": {
     "end_time": "2024-02-15T23:05:44.833237Z",
     "start_time": "2024-02-15T23:05:44.812581Z"
    },
    "id": "8iwwDDNa5xNN"
   },
   "outputs": [],
   "source": [
    "items = []\n",
    "\n",
    "for item in soup.find_all('li', class_= \"item product product-item\"):\n",
    "    items.append(item)"
   ]
  },
  {
   "cell_type": "markdown",
   "metadata": {
    "id": "DnBISGY7m8Qg"
   },
   "source": [
    "What is the type of `items`?\n"
   ]
  },
  {
   "cell_type": "code",
   "execution_count": 10,
   "metadata": {
    "id": "d3a86bCAm8Qg"
   },
   "outputs": [
    {
     "data": {
      "text/plain": [
       "bs4.element.Tag"
      ]
     },
     "execution_count": 10,
     "metadata": {},
     "output_type": "execute_result"
    }
   ],
   "source": [
    "type(items[0])"
   ]
  },
  {
   "cell_type": "markdown",
   "metadata": {
    "id": "gLEXlvaam8Qg"
   },
   "source": [
    "### Scraping one product information\n"
   ]
  },
  {
   "cell_type": "markdown",
   "metadata": {
    "id": "_30OyUNkwJiM"
   },
   "source": [
    "Store the first item in a variable named `item`."
   ]
  },
  {
   "cell_type": "code",
   "execution_count": 31,
   "metadata": {
    "ExecuteTime": {
     "end_time": "2024-02-15T23:05:44.838297Z",
     "start_time": "2024-02-15T23:05:44.834273Z"
    },
    "id": "o28OfDaJm8Qg",
    "scrolled": true
   },
   "outputs": [],
   "source": [
    "item = items[0]"
   ]
  },
  {
   "cell_type": "markdown",
   "metadata": {
    "id": "mehp2mts6FRO"
   },
   "source": [
    "HTML can be tough to decipher when reading it in the notebook.\n",
    "\n",
    "Use your browser's console to identify the HTML tag storing the product information (name and url) of the first item. \\\n",
    "Extract it with BeautifulSoup and store the results in a variable named `item_description`."
   ]
  },
  {
   "cell_type": "code",
   "execution_count": 47,
   "metadata": {
    "ExecuteTime": {
     "end_time": "2024-02-15T23:05:44.842413Z",
     "start_time": "2024-02-15T23:05:44.839989Z"
    },
    "id": "-aTYQS2Isaib"
   },
   "outputs": [
    {
     "data": {
      "text/plain": [
       "<a class=\"product-item-link\" href=\"https://www.naturalia.fr/produit/compote-fraise-315g\">\n",
       "                                                        Compote Fraise 315g Bio                         </a>"
      ]
     },
     "execution_count": 47,
     "metadata": {},
     "output_type": "execute_result"
    }
   ],
   "source": [
    "item_description = item.find('a', class_='product-item-link')\n",
    "\n",
    "item_description"
   ]
  },
  {
   "cell_type": "markdown",
   "metadata": {
    "id": "f32qgQskm8Qh"
   },
   "source": [
    "Now extract the name and url from `item_description`and store them in two variables named `item_name` and `item_url`.\n"
   ]
  },
  {
   "cell_type": "code",
   "execution_count": 51,
   "metadata": {
    "ExecuteTime": {
     "end_time": "2024-02-15T23:05:44.844910Z",
     "start_time": "2024-02-15T23:05:44.843319Z"
    },
    "id": "_DJQKjRJm8Qh"
   },
   "outputs": [
    {
     "data": {
      "text/plain": [
       "'Compote Fraise 315g Bio'"
      ]
     },
     "execution_count": 51,
     "metadata": {},
     "output_type": "execute_result"
    }
   ],
   "source": [
    "item_name = item_description.get_text(strip=True)\n",
    "item_name"
   ]
  },
  {
   "cell_type": "code",
   "execution_count": 52,
   "metadata": {},
   "outputs": [
    {
     "data": {
      "text/plain": [
       "'https://www.naturalia.fr/produit/compote-fraise-315g'"
      ]
     },
     "execution_count": 52,
     "metadata": {},
     "output_type": "execute_result"
    }
   ],
   "source": [
    "item_url = item_description['href']\n",
    "item_url"
   ]
  },
  {
   "cell_type": "markdown",
   "metadata": {
    "id": "b8zs57SNm8Qh"
   },
   "source": [
    "Repeat the same process to extract the price of the first item, and store it in a variable named `item_price`.\n"
   ]
  },
  {
   "cell_type": "markdown",
   "metadata": {
    "id": "-bgQx9b3m8Qh"
   },
   "source": [
    "<details>\n",
    "    <summary>Hint 🔍</summary>\n",
    "\n",
    "You will be required to do some cleaning with the output, including:\n",
    "    \n",
    "- get rid of the unnecessary characters (`strip()`and `replace()` methods can help)\n",
    "- change the data type\n",
    "\n",
    "</details>"
   ]
  },
  {
   "cell_type": "code",
   "execution_count": 57,
   "metadata": {
    "ExecuteTime": {
     "end_time": "2024-02-15T23:05:44.850708Z",
     "start_time": "2024-02-15T23:05:44.848322Z"
    },
    "id": "kcF1svlg7SHp"
   },
   "outputs": [
    {
     "data": {
      "text/plain": [
       "'6,02'"
      ]
     },
     "execution_count": 57,
     "metadata": {},
     "output_type": "execute_result"
    }
   ],
   "source": [
    "item_price  = item.find('span', class_='price').text.replace('\\xa0€', '')\n",
    "item_price"
   ]
  },
  {
   "cell_type": "markdown",
   "metadata": {
    "id": "kPaAwKwkm8Qh"
   },
   "source": [
    "### Scraping all products information"
   ]
  },
  {
   "cell_type": "markdown",
   "metadata": {
    "id": "vAgxIVQ3m8Qh"
   },
   "source": [
    "We will now repeat the process to gather the information of all the products displayed on the page.\n",
    "\n",
    "By re-using your previous code, iterate over all the products and create a list of dictionaries containg all the products information (product name, price and url).\n",
    "\n",
    "Complete the following code and execute it."
   ]
  },
  {
   "cell_type": "code",
   "execution_count": 58,
   "metadata": {
    "ExecuteTime": {
     "end_time": "2024-02-15T23:05:44.858644Z",
     "start_time": "2024-02-15T23:05:44.851612Z"
    },
    "id": "pR5XWG_P8VB8"
   },
   "outputs": [
    {
     "data": {
      "text/html": [
       "<div>\n",
       "<style scoped>\n",
       "    .dataframe tbody tr th:only-of-type {\n",
       "        vertical-align: middle;\n",
       "    }\n",
       "\n",
       "    .dataframe tbody tr th {\n",
       "        vertical-align: top;\n",
       "    }\n",
       "\n",
       "    .dataframe thead th {\n",
       "        text-align: right;\n",
       "    }\n",
       "</style>\n",
       "<table border=\"1\" class=\"dataframe\">\n",
       "  <thead>\n",
       "    <tr style=\"text-align: right;\">\n",
       "      <th></th>\n",
       "      <th>Name</th>\n",
       "      <th>Price</th>\n",
       "      <th>Link</th>\n",
       "    </tr>\n",
       "  </thead>\n",
       "  <tbody>\n",
       "    <tr>\n",
       "      <th>0</th>\n",
       "      <td>Compote Fraise 315g Bio</td>\n",
       "      <td>6,02</td>\n",
       "      <td>https://www.naturalia.fr/produit/compote-frais...</td>\n",
       "    </tr>\n",
       "    <tr>\n",
       "      <th>1</th>\n",
       "      <td>Compote de Pêche allégée 540g Bio</td>\n",
       "      <td>7,64</td>\n",
       "      <td>https://www.naturalia.fr/produit/compote-peche...</td>\n",
       "    </tr>\n",
       "    <tr>\n",
       "      <th>2</th>\n",
       "      <td>Compote de Pêche 725G Bio</td>\n",
       "      <td>9,13</td>\n",
       "      <td>https://www.naturalia.fr/produit/compote-peche...</td>\n",
       "    </tr>\n",
       "    <tr>\n",
       "      <th>3</th>\n",
       "      <td>Compote Pommes Family 935g Bio</td>\n",
       "      <td>6,07</td>\n",
       "      <td>https://www.naturalia.fr/produit/compote-pomme...</td>\n",
       "    </tr>\n",
       "    <tr>\n",
       "      <th>4</th>\n",
       "      <td>Compote de Pomme &amp; Châtaigne 700g +20% Bio</td>\n",
       "      <td>5,15</td>\n",
       "      <td>https://www.naturalia.fr/produit/compote-pomme...</td>\n",
       "    </tr>\n",
       "    <tr>\n",
       "      <th>5</th>\n",
       "      <td>Compote de pomme &amp; châtaigne 4x100G Bio</td>\n",
       "      <td>4,20</td>\n",
       "      <td>https://www.naturalia.fr/produit/compot-pomme-...</td>\n",
       "    </tr>\n",
       "    <tr>\n",
       "      <th>6</th>\n",
       "      <td>Compote de pêches plates 315G Bio</td>\n",
       "      <td>4,58</td>\n",
       "      <td>https://www.naturalia.fr/produit/compotes-pech...</td>\n",
       "    </tr>\n",
       "    <tr>\n",
       "      <th>7</th>\n",
       "      <td>Compote Abricot 725G Bio</td>\n",
       "      <td>8,93</td>\n",
       "      <td>https://www.naturalia.fr/produit/compote-abric...</td>\n",
       "    </tr>\n",
       "    <tr>\n",
       "      <th>8</th>\n",
       "      <td>Compote de Pomme Maxi Format 1.050kg Bio</td>\n",
       "      <td>7,09</td>\n",
       "      <td>https://www.naturalia.fr/produit/puree-pomme-1...</td>\n",
       "    </tr>\n",
       "    <tr>\n",
       "      <th>9</th>\n",
       "      <td>Compote Pomme Poire Maxi Format 1.050kg Bio</td>\n",
       "      <td>8,82</td>\n",
       "      <td>https://www.naturalia.fr/produit/puree-pomme-p...</td>\n",
       "    </tr>\n",
       "    <tr>\n",
       "      <th>10</th>\n",
       "      <td>Purée de carotte en gourde 120g Bio</td>\n",
       "      <td>1,55</td>\n",
       "      <td>https://www.naturalia.fr/produit/gourde-puree-...</td>\n",
       "    </tr>\n",
       "    <tr>\n",
       "      <th>11</th>\n",
       "      <td>Purée de Pomme et Banane sans sucres ajoutés 7...</td>\n",
       "      <td>6,07</td>\n",
       "      <td>https://www.naturalia.fr/produit/puree-pomme-b...</td>\n",
       "    </tr>\n",
       "    <tr>\n",
       "      <th>12</th>\n",
       "      <td>Gourdes Fruits à boire 12M 8x120Ml Bio</td>\n",
       "      <td>11,82</td>\n",
       "      <td>https://www.naturalia.fr/produit/gourdes-fruit...</td>\n",
       "    </tr>\n",
       "    <tr>\n",
       "      <th>13</th>\n",
       "      <td>4X90G Vitabio Cool Fruit/Pomme Bio</td>\n",
       "      <td>4,58</td>\n",
       "      <td>https://www.naturalia.fr/produit/4x90g-vitabio...</td>\n",
       "    </tr>\n",
       "    <tr>\n",
       "      <th>14</th>\n",
       "      <td>Dani'Pom Purée de Pomme &amp; Châtaigne 700g Bio</td>\n",
       "      <td>7,09</td>\n",
       "      <td>https://www.naturalia.fr/produit/pomme-chataig...</td>\n",
       "    </tr>\n",
       "    <tr>\n",
       "      <th>15</th>\n",
       "      <td>Neo-Popote Pomme Rhubarbe 4x100g Bio</td>\n",
       "      <td>4,90</td>\n",
       "      <td>https://www.naturalia.fr/produit/dessert-pom-r...</td>\n",
       "    </tr>\n",
       "    <tr>\n",
       "      <th>16</th>\n",
       "      <td>Gourde de Pêche dès 4M 120g Bio</td>\n",
       "      <td>2,30</td>\n",
       "      <td>https://www.naturalia.fr/produit/grd-peche-120g</td>\n",
       "    </tr>\n",
       "    <tr>\n",
       "      <th>17</th>\n",
       "      <td>Purée de banane en gourde 120g Bio</td>\n",
       "      <td>1,79</td>\n",
       "      <td>https://www.naturalia.fr/produit/gourde-puree-...</td>\n",
       "    </tr>\n",
       "    <tr>\n",
       "      <th>18</th>\n",
       "      <td>Gourde de Cerise dès 6M 120g Bio</td>\n",
       "      <td>2,91</td>\n",
       "      <td>https://www.naturalia.fr/produit/grde-cerise-120g</td>\n",
       "    </tr>\n",
       "    <tr>\n",
       "      <th>19</th>\n",
       "      <td>Purée de pommes en gourde 120g Bio</td>\n",
       "      <td>1,79</td>\n",
       "      <td>https://www.naturalia.fr/produit/gourde-puree-...</td>\n",
       "    </tr>\n",
       "    <tr>\n",
       "      <th>20</th>\n",
       "      <td>Gourde de Figue dès 6M 120g Bio</td>\n",
       "      <td>2,75</td>\n",
       "      <td>https://www.naturalia.fr/produit/grde-figue-120g</td>\n",
       "    </tr>\n",
       "    <tr>\n",
       "      <th>21</th>\n",
       "      <td>Dani'Pom Purée de Pomme &amp; Fruits rouges 700g B...</td>\n",
       "      <td>6,38</td>\n",
       "      <td>https://www.naturalia.fr/produit/puree-pomme-f...</td>\n",
       "    </tr>\n",
       "    <tr>\n",
       "      <th>22</th>\n",
       "      <td>Gourde de Mirabelle dès 6M 120g Bio</td>\n",
       "      <td>2,75</td>\n",
       "      <td>https://www.naturalia.fr/produit/grde-mirabell...</td>\n",
       "    </tr>\n",
       "    <tr>\n",
       "      <th>23</th>\n",
       "      <td>Gourde de Fraise dès 6M 120g Bio</td>\n",
       "      <td>2,45</td>\n",
       "      <td>https://www.naturalia.fr/produit/grde-fraise-120g</td>\n",
       "    </tr>\n",
       "  </tbody>\n",
       "</table>\n",
       "</div>"
      ],
      "text/plain": [
       "                                                 Name  Price  \\\n",
       "0                             Compote Fraise 315g Bio   6,02   \n",
       "1                   Compote de Pêche allégée 540g Bio   7,64   \n",
       "2                           Compote de Pêche 725G Bio   9,13   \n",
       "3                      Compote Pommes Family 935g Bio   6,07   \n",
       "4          Compote de Pomme & Châtaigne 700g +20% Bio   5,15   \n",
       "5             Compote de pomme & châtaigne 4x100G Bio   4,20   \n",
       "6                   Compote de pêches plates 315G Bio   4,58   \n",
       "7                            Compote Abricot 725G Bio   8,93   \n",
       "8            Compote de Pomme Maxi Format 1.050kg Bio   7,09   \n",
       "9         Compote Pomme Poire Maxi Format 1.050kg Bio   8,82   \n",
       "10                Purée de carotte en gourde 120g Bio   1,55   \n",
       "11  Purée de Pomme et Banane sans sucres ajoutés 7...   6,07   \n",
       "12             Gourdes Fruits à boire 12M 8x120Ml Bio  11,82   \n",
       "13                 4X90G Vitabio Cool Fruit/Pomme Bio   4,58   \n",
       "14       Dani'Pom Purée de Pomme & Châtaigne 700g Bio   7,09   \n",
       "15               Neo-Popote Pomme Rhubarbe 4x100g Bio   4,90   \n",
       "16                    Gourde de Pêche dès 4M 120g Bio   2,30   \n",
       "17                 Purée de banane en gourde 120g Bio   1,79   \n",
       "18                   Gourde de Cerise dès 6M 120g Bio   2,91   \n",
       "19                 Purée de pommes en gourde 120g Bio   1,79   \n",
       "20                    Gourde de Figue dès 6M 120g Bio   2,75   \n",
       "21  Dani'Pom Purée de Pomme & Fruits rouges 700g B...   6,38   \n",
       "22                Gourde de Mirabelle dès 6M 120g Bio   2,75   \n",
       "23                   Gourde de Fraise dès 6M 120g Bio   2,45   \n",
       "\n",
       "                                                 Link  \n",
       "0   https://www.naturalia.fr/produit/compote-frais...  \n",
       "1   https://www.naturalia.fr/produit/compote-peche...  \n",
       "2   https://www.naturalia.fr/produit/compote-peche...  \n",
       "3   https://www.naturalia.fr/produit/compote-pomme...  \n",
       "4   https://www.naturalia.fr/produit/compote-pomme...  \n",
       "5   https://www.naturalia.fr/produit/compot-pomme-...  \n",
       "6   https://www.naturalia.fr/produit/compotes-pech...  \n",
       "7   https://www.naturalia.fr/produit/compote-abric...  \n",
       "8   https://www.naturalia.fr/produit/puree-pomme-1...  \n",
       "9   https://www.naturalia.fr/produit/puree-pomme-p...  \n",
       "10  https://www.naturalia.fr/produit/gourde-puree-...  \n",
       "11  https://www.naturalia.fr/produit/puree-pomme-b...  \n",
       "12  https://www.naturalia.fr/produit/gourdes-fruit...  \n",
       "13  https://www.naturalia.fr/produit/4x90g-vitabio...  \n",
       "14  https://www.naturalia.fr/produit/pomme-chataig...  \n",
       "15  https://www.naturalia.fr/produit/dessert-pom-r...  \n",
       "16    https://www.naturalia.fr/produit/grd-peche-120g  \n",
       "17  https://www.naturalia.fr/produit/gourde-puree-...  \n",
       "18  https://www.naturalia.fr/produit/grde-cerise-120g  \n",
       "19  https://www.naturalia.fr/produit/gourde-puree-...  \n",
       "20   https://www.naturalia.fr/produit/grde-figue-120g  \n",
       "21  https://www.naturalia.fr/produit/puree-pomme-f...  \n",
       "22  https://www.naturalia.fr/produit/grde-mirabell...  \n",
       "23  https://www.naturalia.fr/produit/grde-fraise-120g  "
      ]
     },
     "execution_count": 58,
     "metadata": {},
     "output_type": "execute_result"
    }
   ],
   "source": [
    "import pandas as pd\n",
    "\n",
    "products = []\n",
    "\n",
    "# iterate over items\n",
    "for item in items:\n",
    "\n",
    "    description = item.find('a', class_='product-item-link')\n",
    "    \n",
    "    name = description.get_text(strip=True)\n",
    "    url = description['href']\n",
    "\n",
    "    price  = item.find('span', class_='price').text.replace('\\xa0€', '')\n",
    "\n",
    "    product = {\n",
    "        'Name' : name,\n",
    "        'Price' : price,\n",
    "        'Link' : url\n",
    "    }\n",
    "\n",
    "    products.append(product)\n",
    "\n",
    "df = pd.DataFrame(products)\n",
    "df"
   ]
  },
  {
   "cell_type": "markdown",
   "metadata": {
    "id": "W_cI1Ds4m8Qi"
   },
   "source": [
    "Congratulations! You just scraped your first web page using Python! 🤖"
   ]
  },
  {
   "cell_type": "markdown",
   "metadata": {
    "id": "1uyNHj7O7pu1"
   },
   "source": [
    "---\n",
    "\n",
    "Did we scrape all the products though ?\n"
   ]
  },
  {
   "cell_type": "markdown",
   "metadata": {
    "id": "qVM4aB0Xm8Qi"
   },
   "source": [
    "Yes\n"
   ]
  },
  {
   "cell_type": "markdown",
   "metadata": {
    "id": "m-YEXXpdm8Qi"
   },
   "source": [
    "### Scraping all the pages"
   ]
  },
  {
   "cell_type": "markdown",
   "metadata": {
    "id": "1VYw0YkXm8Qi"
   },
   "source": [
    "Use your web browser inspector to identify the HTML tag containing the URL for the next page. \\\n",
    "Store this in a variable named `next_page_item`"
   ]
  },
  {
   "cell_type": "code",
   "execution_count": 89,
   "metadata": {
    "ExecuteTime": {
     "end_time": "2024-02-15T23:05:45.850432Z",
     "start_time": "2024-02-15T23:05:45.823673Z"
    },
    "id": "Zs7IibfV9gTi"
   },
   "outputs": [],
   "source": [
    "next_page = soup.find('li', class_='item pages-item-next')"
   ]
  },
  {
   "cell_type": "markdown",
   "metadata": {
    "id": "x3TEADFdm8Qi"
   },
   "source": [
    "Now extract the URL from it and store it in a variable named `next_page_url`."
   ]
  },
  {
   "cell_type": "code",
   "execution_count": 88,
   "metadata": {
    "ExecuteTime": {
     "end_time": "2024-02-15T23:06:07.961441Z",
     "start_time": "2024-02-15T23:06:07.949678Z"
    },
    "id": "mbUykrF1m8Qi"
   },
   "outputs": [
    {
     "data": {
      "text/plain": [
       "'https://www.naturalia.fr/catalogsearch/result/index/?p=2&q=compote'"
      ]
     },
     "execution_count": 88,
     "metadata": {},
     "output_type": "execute_result"
    }
   ],
   "source": [
    "next_page_url = next_page.find('a', class_='action next')['href']\n",
    "next_page_url"
   ]
  },
  {
   "cell_type": "markdown",
   "metadata": {
    "id": "sqfSdrbx9nPN"
   },
   "source": [
    "Now try to repeat the `next_page_item`instructions **on the last page**. Does it work ?"
   ]
  },
  {
   "cell_type": "markdown",
   "metadata": {
    "id": "YKBWS6ogm8Qn"
   },
   "source": [
    "The last page does not have a button to go to next page.\n"
   ]
  },
  {
   "cell_type": "markdown",
   "metadata": {
    "id": "0gF-FK4Mm8Qn"
   },
   "source": [
    "There is no \"Next page\" button on the last page (obviously). Therefore, when we try to locate it, the`find()` method outputs a None value.\n",
    "\n",
    "We can actually use that to our advantage in a `while`loop !\n"
   ]
  },
  {
   "cell_type": "markdown",
   "metadata": {
    "id": "DA-mLKVi99pZ"
   },
   "source": [
    "---\n",
    "\n",
    "**Hard Mode**\n",
    "\n",
    "By re-using all of the previous steps, create a final function that will take a `search_term` as a parameter (like we did with \"compote\") and will return a DataFrame containing products information from all the pages.\n"
   ]
  },
  {
   "cell_type": "markdown",
   "metadata": {
    "id": "wr03ip7vm8Qn"
   },
   "source": [
    "<details>\n",
    "    <summary>Hint 🔍 </summary>\n",
    "\n",
    "You can use a while loop to iterate over pages until there is no next page anymore.\n",
    "\n",
    "</details>"
   ]
  },
  {
   "cell_type": "code",
   "execution_count": null,
   "metadata": {
    "ExecuteTime": {
     "end_time": "2024-02-15T21:32:01.716170Z",
     "start_time": "2024-02-15T21:31:56.894743Z"
    },
    "id": "vboXHusvm8Qo"
   },
   "outputs": [
    {
     "data": {
      "text/html": [
       "<div>\n",
       "<style scoped>\n",
       "    .dataframe tbody tr th:only-of-type {\n",
       "        vertical-align: middle;\n",
       "    }\n",
       "\n",
       "    .dataframe tbody tr th {\n",
       "        vertical-align: top;\n",
       "    }\n",
       "\n",
       "    .dataframe thead th {\n",
       "        text-align: right;\n",
       "    }\n",
       "</style>\n",
       "<table border=\"1\" class=\"dataframe\">\n",
       "  <thead>\n",
       "    <tr style=\"text-align: right;\">\n",
       "      <th></th>\n",
       "      <th>Name</th>\n",
       "      <th>Price</th>\n",
       "      <th>Link</th>\n",
       "    </tr>\n",
       "  </thead>\n",
       "  <tbody>\n",
       "    <tr>\n",
       "      <th>0</th>\n",
       "      <td>Compote Fraise 315g Bio</td>\n",
       "      <td>6,02</td>\n",
       "      <td>https://www.naturalia.fr/produit/compote-frais...</td>\n",
       "    </tr>\n",
       "    <tr>\n",
       "      <th>1</th>\n",
       "      <td>Compote de Pêche allégée 540g Bio</td>\n",
       "      <td>7,64</td>\n",
       "      <td>https://www.naturalia.fr/produit/compote-peche...</td>\n",
       "    </tr>\n",
       "    <tr>\n",
       "      <th>2</th>\n",
       "      <td>Compote de Pêche 725G Bio</td>\n",
       "      <td>9,13</td>\n",
       "      <td>https://www.naturalia.fr/produit/compote-peche...</td>\n",
       "    </tr>\n",
       "    <tr>\n",
       "      <th>3</th>\n",
       "      <td>Compote Pommes Family 935g Bio</td>\n",
       "      <td>6,07</td>\n",
       "      <td>https://www.naturalia.fr/produit/compote-pomme...</td>\n",
       "    </tr>\n",
       "    <tr>\n",
       "      <th>4</th>\n",
       "      <td>Compote de Pomme &amp; Châtaigne 700g +20% Bio</td>\n",
       "      <td>5,15</td>\n",
       "      <td>https://www.naturalia.fr/produit/compote-pomme...</td>\n",
       "    </tr>\n",
       "    <tr>\n",
       "      <th>...</th>\n",
       "      <td>...</td>\n",
       "      <td>...</td>\n",
       "      <td>...</td>\n",
       "    </tr>\n",
       "    <tr>\n",
       "      <th>111</th>\n",
       "      <td>Citron beldis Bio 135g Bio</td>\n",
       "      <td>6,53</td>\n",
       "      <td>https://www.naturalia.fr/produit/citron-confit...</td>\n",
       "    </tr>\n",
       "    <tr>\n",
       "      <th>112</th>\n",
       "      <td>Purée de pommes et fraises conversion 380g</td>\n",
       "      <td>4,23</td>\n",
       "      <td>https://www.naturalia.fr/produit/puree-pommes-...</td>\n",
       "    </tr>\n",
       "    <tr>\n",
       "      <th>113</th>\n",
       "      <td>Purée de pommes et d'abricots conversion 380g</td>\n",
       "      <td>4,28</td>\n",
       "      <td>https://www.naturalia.fr/produit/puree-pommes-...</td>\n",
       "    </tr>\n",
       "    <tr>\n",
       "      <th>114</th>\n",
       "      <td>Purée de Pomme Banane 1,05kg Bio</td>\n",
       "      <td>7,91</td>\n",
       "      <td>https://www.naturalia.fr/produit/puree-pomme-b...</td>\n",
       "    </tr>\n",
       "    <tr>\n",
       "      <th>115</th>\n",
       "      <td>Purée de Pomme Fruits Rouges 4x100g Bio</td>\n",
       "      <td>5,10</td>\n",
       "      <td>https://www.naturalia.fr/produit/dessert-pom-f...</td>\n",
       "    </tr>\n",
       "  </tbody>\n",
       "</table>\n",
       "<p>116 rows × 3 columns</p>\n",
       "</div>"
      ],
      "text/plain": [
       "                                              Name Price  \\\n",
       "0                          Compote Fraise 315g Bio  6,02   \n",
       "1                Compote de Pêche allégée 540g Bio  7,64   \n",
       "2                        Compote de Pêche 725G Bio  9,13   \n",
       "3                   Compote Pommes Family 935g Bio  6,07   \n",
       "4       Compote de Pomme & Châtaigne 700g +20% Bio  5,15   \n",
       "..                                             ...   ...   \n",
       "111                     Citron beldis Bio 135g Bio  6,53   \n",
       "112     Purée de pommes et fraises conversion 380g  4,23   \n",
       "113  Purée de pommes et d'abricots conversion 380g  4,28   \n",
       "114               Purée de Pomme Banane 1,05kg Bio  7,91   \n",
       "115        Purée de Pomme Fruits Rouges 4x100g Bio  5,10   \n",
       "\n",
       "                                                  Link  \n",
       "0    https://www.naturalia.fr/produit/compote-frais...  \n",
       "1    https://www.naturalia.fr/produit/compote-peche...  \n",
       "2    https://www.naturalia.fr/produit/compote-peche...  \n",
       "3    https://www.naturalia.fr/produit/compote-pomme...  \n",
       "4    https://www.naturalia.fr/produit/compote-pomme...  \n",
       "..                                                 ...  \n",
       "111  https://www.naturalia.fr/produit/citron-confit...  \n",
       "112  https://www.naturalia.fr/produit/puree-pommes-...  \n",
       "113  https://www.naturalia.fr/produit/puree-pommes-...  \n",
       "114  https://www.naturalia.fr/produit/puree-pomme-b...  \n",
       "115  https://www.naturalia.fr/produit/dessert-pom-f...  \n",
       "\n",
       "[116 rows x 3 columns]"
      ]
     },
     "execution_count": 92,
     "metadata": {},
     "output_type": "execute_result"
    }
   ],
   "source": [
    "def naturalia_web_scraper(search_term):\n",
    "\n",
    "    url = \"https://www.naturalia.fr/catalogsearch/result/?q=\" + search_term\n",
    "\n",
    "    next_page = True\n",
    "\n",
    "    #all products info\n",
    "\n",
    "    products=[]\n",
    "\n",
    "    while(next_page): #as long as there is a next page, the loop will iterate\n",
    "\n",
    "        response = requests.get(url=url)\n",
    "\n",
    "        soup = BeautifulSoup(response.text, 'html.parser')        \n",
    "        \n",
    "        items = []\n",
    "\n",
    "        for item in soup.find_all('li', class_= \"item product product-item\"):\n",
    "            items.append(item)\n",
    "\n",
    "    # iterate over items\n",
    "        for item in items:\n",
    "\n",
    "            description = item.find('a', class_='product-item-link')\n",
    "\n",
    "            name = description.get_text(strip=True)\n",
    "            url = description['href']\n",
    "\n",
    "            price  = item.find('span', class_='price').text.replace('\\xa0€', '')\n",
    "\n",
    "            product = {\n",
    "                'Name' : name,\n",
    "                'Price' : price,\n",
    "                'Link' : url\n",
    "            }\n",
    "\n",
    "            products.append(product)\n",
    "\n",
    "        next_page = soup.find('li', class_='item pages-item-next')\n",
    "\n",
    "        if next_page is not None:\n",
    "\n",
    "            url = next_page.find('a', class_='action next')['href']\n",
    "\n",
    "    # combine all products in a single DataFrame\n",
    "    df = pd.DataFrame(products)\n",
    "\n",
    "    return df\n"
   ]
  },
  {
   "cell_type": "code",
   "execution_count": 93,
   "metadata": {},
   "outputs": [
    {
     "data": {
      "text/html": [
       "<div>\n",
       "<style scoped>\n",
       "    .dataframe tbody tr th:only-of-type {\n",
       "        vertical-align: middle;\n",
       "    }\n",
       "\n",
       "    .dataframe tbody tr th {\n",
       "        vertical-align: top;\n",
       "    }\n",
       "\n",
       "    .dataframe thead th {\n",
       "        text-align: right;\n",
       "    }\n",
       "</style>\n",
       "<table border=\"1\" class=\"dataframe\">\n",
       "  <thead>\n",
       "    <tr style=\"text-align: right;\">\n",
       "      <th></th>\n",
       "      <th>Name</th>\n",
       "      <th>Price</th>\n",
       "      <th>Link</th>\n",
       "    </tr>\n",
       "  </thead>\n",
       "  <tbody>\n",
       "    <tr>\n",
       "      <th>0</th>\n",
       "      <td>Compote Fraise 315g Bio</td>\n",
       "      <td>6,02</td>\n",
       "      <td>https://www.naturalia.fr/produit/compote-frais...</td>\n",
       "    </tr>\n",
       "    <tr>\n",
       "      <th>1</th>\n",
       "      <td>Compote de Pêche allégée 540g Bio</td>\n",
       "      <td>7,64</td>\n",
       "      <td>https://www.naturalia.fr/produit/compote-peche...</td>\n",
       "    </tr>\n",
       "    <tr>\n",
       "      <th>2</th>\n",
       "      <td>Compote de Pêche 725G Bio</td>\n",
       "      <td>9,13</td>\n",
       "      <td>https://www.naturalia.fr/produit/compote-peche...</td>\n",
       "    </tr>\n",
       "    <tr>\n",
       "      <th>3</th>\n",
       "      <td>Compote Pommes Family 935g Bio</td>\n",
       "      <td>6,07</td>\n",
       "      <td>https://www.naturalia.fr/produit/compote-pomme...</td>\n",
       "    </tr>\n",
       "    <tr>\n",
       "      <th>4</th>\n",
       "      <td>Compote de Pomme &amp; Châtaigne 700g +20% Bio</td>\n",
       "      <td>5,15</td>\n",
       "      <td>https://www.naturalia.fr/produit/compote-pomme...</td>\n",
       "    </tr>\n",
       "    <tr>\n",
       "      <th>...</th>\n",
       "      <td>...</td>\n",
       "      <td>...</td>\n",
       "      <td>...</td>\n",
       "    </tr>\n",
       "    <tr>\n",
       "      <th>111</th>\n",
       "      <td>Citron beldis Bio 135g Bio</td>\n",
       "      <td>6,53</td>\n",
       "      <td>https://www.naturalia.fr/produit/citron-confit...</td>\n",
       "    </tr>\n",
       "    <tr>\n",
       "      <th>112</th>\n",
       "      <td>Purée de pommes et fraises conversion 380g</td>\n",
       "      <td>4,23</td>\n",
       "      <td>https://www.naturalia.fr/produit/puree-pommes-...</td>\n",
       "    </tr>\n",
       "    <tr>\n",
       "      <th>113</th>\n",
       "      <td>Purée de pommes et d'abricots conversion 380g</td>\n",
       "      <td>4,28</td>\n",
       "      <td>https://www.naturalia.fr/produit/puree-pommes-...</td>\n",
       "    </tr>\n",
       "    <tr>\n",
       "      <th>114</th>\n",
       "      <td>Purée de Pomme Banane 1,05kg Bio</td>\n",
       "      <td>7,91</td>\n",
       "      <td>https://www.naturalia.fr/produit/puree-pomme-b...</td>\n",
       "    </tr>\n",
       "    <tr>\n",
       "      <th>115</th>\n",
       "      <td>Purée de Pomme Fruits Rouges 4x100g Bio</td>\n",
       "      <td>5,10</td>\n",
       "      <td>https://www.naturalia.fr/produit/dessert-pom-f...</td>\n",
       "    </tr>\n",
       "  </tbody>\n",
       "</table>\n",
       "<p>116 rows × 3 columns</p>\n",
       "</div>"
      ],
      "text/plain": [
       "                                              Name Price  \\\n",
       "0                          Compote Fraise 315g Bio  6,02   \n",
       "1                Compote de Pêche allégée 540g Bio  7,64   \n",
       "2                        Compote de Pêche 725G Bio  9,13   \n",
       "3                   Compote Pommes Family 935g Bio  6,07   \n",
       "4       Compote de Pomme & Châtaigne 700g +20% Bio  5,15   \n",
       "..                                             ...   ...   \n",
       "111                     Citron beldis Bio 135g Bio  6,53   \n",
       "112     Purée de pommes et fraises conversion 380g  4,23   \n",
       "113  Purée de pommes et d'abricots conversion 380g  4,28   \n",
       "114               Purée de Pomme Banane 1,05kg Bio  7,91   \n",
       "115        Purée de Pomme Fruits Rouges 4x100g Bio  5,10   \n",
       "\n",
       "                                                  Link  \n",
       "0    https://www.naturalia.fr/produit/compote-frais...  \n",
       "1    https://www.naturalia.fr/produit/compote-peche...  \n",
       "2    https://www.naturalia.fr/produit/compote-peche...  \n",
       "3    https://www.naturalia.fr/produit/compote-pomme...  \n",
       "4    https://www.naturalia.fr/produit/compote-pomme...  \n",
       "..                                                 ...  \n",
       "111  https://www.naturalia.fr/produit/citron-confit...  \n",
       "112  https://www.naturalia.fr/produit/puree-pommes-...  \n",
       "113  https://www.naturalia.fr/produit/puree-pommes-...  \n",
       "114  https://www.naturalia.fr/produit/puree-pomme-b...  \n",
       "115  https://www.naturalia.fr/produit/dessert-pom-f...  \n",
       "\n",
       "[116 rows x 3 columns]"
      ]
     },
     "execution_count": 93,
     "metadata": {},
     "output_type": "execute_result"
    }
   ],
   "source": [
    "df = naturalia_web_scraper(\"compote\")\n",
    "df"
   ]
  },
  {
   "cell_type": "code",
   "execution_count": 94,
   "metadata": {},
   "outputs": [],
   "source": [
    "df.to_csv('natura;ia_compote.csv')"
   ]
  },
  {
   "cell_type": "markdown",
   "metadata": {
    "id": "PFXXaAO-m8Qo"
   },
   "source": [
    "Congratulations ! 🎉"
   ]
  },
  {
   "cell_type": "markdown",
   "metadata": {
    "id": "S-Trg3cAm8Qo"
   },
   "source": [
    "## Bonus: Scraping Walmart ?\n",
    "\n"
   ]
  },
  {
   "cell_type": "markdown",
   "metadata": {
    "id": "CsBSGog-IBfq"
   },
   "source": [
    "Imagine we want to scrape product information from [this url](https://www.walmart.ca/parcourir/epicerie/collations-bonbons/coupes-compote-pommes-puree-fruits/10019-6000194328523-6000195492964) now.\n",
    "\n",
    "Run the following line of code."
   ]
  },
  {
   "cell_type": "code",
   "execution_count": null,
   "metadata": {
    "ExecuteTime": {
     "end_time": "2024-02-15T21:34:57.493283Z",
     "start_time": "2024-02-15T21:34:57.212849Z"
    },
    "id": "AnT7Ep85m8Qo",
    "scrolled": true
   },
   "outputs": [],
   "source": [
    "url = \"https://www.walmart.com/search?q=compote\"\n",
    "\n",
    "response = requests.get(url)\n",
    "response.text\n",
    "\n",
    "soup = BeautifulSoup(response.text, 'html.parser')"
   ]
  },
  {
   "cell_type": "markdown",
   "metadata": {
    "id": "WuD1JqEsm8Qo"
   },
   "source": [
    "We cannot use BeautifulSoup, because Walmart is using an anti Web Scraping system, which messes with the HTML parsing.\n",
    "\n",
    "We would need some advanced scraping libraries such as [Selenium](https://www.selenium.dev/) to proceed (more on that during the recap).\n"
   ]
  }
 ],
 "metadata": {
  "colab": {
   "provenance": []
  },
  "kernelspec": {
   "display_name": "Python (le_wagon-python)",
   "language": "python",
   "name": "le_wagon-python"
  },
  "language_info": {
   "codemirror_mode": {
    "name": "ipython",
    "version": 3
   },
   "file_extension": ".py",
   "mimetype": "text/x-python",
   "name": "python",
   "nbconvert_exporter": "python",
   "pygments_lexer": "ipython3",
   "version": "3.13.3"
  },
  "toc": {
   "base_numbering": 1,
   "nav_menu": {},
   "number_sections": true,
   "sideBar": true,
   "skip_h1_title": false,
   "title_cell": "Table of Contents",
   "title_sidebar": "Contents",
   "toc_cell": false,
   "toc_position": {},
   "toc_section_display": true,
   "toc_window_display": false
  }
 },
 "nbformat": 4,
 "nbformat_minor": 0
}
