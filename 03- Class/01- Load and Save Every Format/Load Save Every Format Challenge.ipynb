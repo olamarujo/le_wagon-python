{
 "cells": [
  {
   "cell_type": "markdown",
   "metadata": {
    "id": "-JzbMZMGL2W1"
   },
   "source": [
    " ![Emil](data:image/png;base64,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)"
   ]
  },
  {
   "cell_type": "markdown",
   "metadata": {
    "id": "3Io8S5AZL2W3"
   },
   "source": [
    "# Load & save different formats"
   ]
  },
  {
   "cell_type": "markdown",
   "metadata": {
    "id": "ieZeo9gDU-W-"
   },
   "source": [
    "## CSV files"
   ]
  },
  {
   "cell_type": "markdown",
   "metadata": {
    "id": "4SJidhkMWlzC"
   },
   "source": [
    "You are working as a Data Analyst at Greenweez and someone from the marketing team asks you to help open `gwz_orders_samples_other_format.csv` as they are having some issues."
   ]
  },
  {
   "cell_type": "markdown",
   "metadata": {
    "id": "I6MDzJAuMakU"
   },
   "source": [
    "Import [gwz_orders_samples_other_format.csv](https://drive.google.com/file/d/14XBnRoi_S4PYi0JHQJHoRciwhXJZJUjX/view?usp=sharing) in colab and load it in a dataframe `df_orders`."
   ]
  },
  {
   "cell_type": "code",
   "execution_count": 49,
   "metadata": {
    "ExecuteTime": {
     "end_time": "2024-02-13T22:14:57.057426Z",
     "start_time": "2024-02-13T22:14:57.032764Z"
    },
    "id": "QIT2QfrxcvLf"
   },
   "outputs": [],
   "source": [
    "import pandas as pd\n",
    "\n",
    "df_orders = pd.read_csv('gwz_orders_samples_other_format.csv')"
   ]
  },
  {
   "cell_type": "markdown",
   "metadata": {
    "id": "XceXgMSQVsz6"
   },
   "source": [
    "Is there something wrong with this data ?\n",
    "Display `df_orders` and have a look at the [documentation](https://pandas.pydata.org/docs/reference/api/pandas.read_csv.html) to see how to solve this issue."
   ]
  },
  {
   "cell_type": "code",
   "execution_count": 50,
   "metadata": {
    "ExecuteTime": {
     "end_time": "2024-02-13T22:18:31.574718Z",
     "start_time": "2024-02-13T22:18:31.553069Z"
    },
    "id": "f4J2YreTSjqZ"
   },
   "outputs": [
    {
     "data": {
      "text/html": [
       "<div>\n",
       "<style scoped>\n",
       "    .dataframe tbody tr th:only-of-type {\n",
       "        vertical-align: middle;\n",
       "    }\n",
       "\n",
       "    .dataframe tbody tr th {\n",
       "        vertical-align: top;\n",
       "    }\n",
       "\n",
       "    .dataframe thead th {\n",
       "        text-align: right;\n",
       "    }\n",
       "</style>\n",
       "<table border=\"1\" class=\"dataframe\">\n",
       "  <thead>\n",
       "    <tr style=\"text-align: right;\">\n",
       "      <th></th>\n",
       "      <th>\\tdate_date\\torders_id\\tcustomers_id\\tcountry\\tdepartment\\ttotal_quantity\\ttotal_turnover</th>\n",
       "    </tr>\n",
       "  </thead>\n",
       "  <tbody>\n",
       "    <tr>\n",
       "      <th>0</th>\n",
       "      <td>0\\t2019-01-01\\t571\\t560\\tFRANCE\\t77.0\\t52\\t92.71</td>\n",
       "    </tr>\n",
       "    <tr>\n",
       "      <th>1</th>\n",
       "      <td>1\\t2019-01-01\\t287\\t282\\tFRANCE\\t17.0\\t19\\t97.94</td>\n",
       "    </tr>\n",
       "    <tr>\n",
       "      <th>2</th>\n",
       "      <td>2\\t2019-01-01\\t113\\t113\\tFRANCE\\t50.0\\t20\\t94.15</td>\n",
       "    </tr>\n",
       "    <tr>\n",
       "      <th>3</th>\n",
       "      <td>3\\t2019-01-01\\t519\\t510\\tFRANCE\\t22.0\\t8\\t73.78</td>\n",
       "    </tr>\n",
       "    <tr>\n",
       "      <th>4</th>\n",
       "      <td>4\\t2019-01-01\\t224\\t222\\tFRANCE\\t13.0\\t2\\t27.99</td>\n",
       "    </tr>\n",
       "    <tr>\n",
       "      <th>...</th>\n",
       "      <td>...</td>\n",
       "    </tr>\n",
       "    <tr>\n",
       "      <th>9995</th>\n",
       "      <td>9995\\t2019-01-13\\t10207\\t5293\\tFRANCE\\t44.0\\t1...</td>\n",
       "    </tr>\n",
       "    <tr>\n",
       "      <th>9996</th>\n",
       "      <td>9996\\t2019-01-13\\t10155\\t9724\\tFRANCE\\t5.0\\t1\\...</td>\n",
       "    </tr>\n",
       "    <tr>\n",
       "      <th>9997</th>\n",
       "      <td>9997\\t2019-01-13\\t10151\\t9720\\tFRANCE\\t75.0\\t2...</td>\n",
       "    </tr>\n",
       "    <tr>\n",
       "      <th>9998</th>\n",
       "      <td>9998\\t2019-01-13\\t10822\\t10365\\tFRANCE\\t66.0\\t...</td>\n",
       "    </tr>\n",
       "    <tr>\n",
       "      <th>9999</th>\n",
       "      <td>9999\\t2019-01-13\\t10638\\t10189\\tFRANCE\\t81.0\\t...</td>\n",
       "    </tr>\n",
       "  </tbody>\n",
       "</table>\n",
       "<p>10000 rows × 1 columns</p>\n",
       "</div>"
      ],
      "text/plain": [
       "     \\tdate_date\\torders_id\\tcustomers_id\\tcountry\\tdepartment\\ttotal_quantity\\ttotal_turnover\n",
       "0      0\\t2019-01-01\\t571\\t560\\tFRANCE\\t77.0\\t52\\t92.71                                       \n",
       "1      1\\t2019-01-01\\t287\\t282\\tFRANCE\\t17.0\\t19\\t97.94                                       \n",
       "2      2\\t2019-01-01\\t113\\t113\\tFRANCE\\t50.0\\t20\\t94.15                                       \n",
       "3       3\\t2019-01-01\\t519\\t510\\tFRANCE\\t22.0\\t8\\t73.78                                       \n",
       "4       4\\t2019-01-01\\t224\\t222\\tFRANCE\\t13.0\\t2\\t27.99                                       \n",
       "...                                                 ...                                       \n",
       "9995  9995\\t2019-01-13\\t10207\\t5293\\tFRANCE\\t44.0\\t1...                                       \n",
       "9996  9996\\t2019-01-13\\t10155\\t9724\\tFRANCE\\t5.0\\t1\\...                                       \n",
       "9997  9997\\t2019-01-13\\t10151\\t9720\\tFRANCE\\t75.0\\t2...                                       \n",
       "9998  9998\\t2019-01-13\\t10822\\t10365\\tFRANCE\\t66.0\\t...                                       \n",
       "9999  9999\\t2019-01-13\\t10638\\t10189\\tFRANCE\\t81.0\\t...                                       \n",
       "\n",
       "[10000 rows x 1 columns]"
      ]
     },
     "execution_count": 50,
     "metadata": {},
     "output_type": "execute_result"
    }
   ],
   "source": [
    "df_orders"
   ]
  },
  {
   "cell_type": "code",
   "execution_count": 51,
   "metadata": {},
   "outputs": [],
   "source": [
    "df_orders = pd.read_csv('gwz_orders_samples_other_format.csv', delimiter='\\t')\n",
    "df_orders.drop(columns=['Unnamed: 0'], inplace=True)"
   ]
  },
  {
   "cell_type": "code",
   "execution_count": 52,
   "metadata": {},
   "outputs": [
    {
     "data": {
      "text/html": [
       "<div>\n",
       "<style scoped>\n",
       "    .dataframe tbody tr th:only-of-type {\n",
       "        vertical-align: middle;\n",
       "    }\n",
       "\n",
       "    .dataframe tbody tr th {\n",
       "        vertical-align: top;\n",
       "    }\n",
       "\n",
       "    .dataframe thead th {\n",
       "        text-align: right;\n",
       "    }\n",
       "</style>\n",
       "<table border=\"1\" class=\"dataframe\">\n",
       "  <thead>\n",
       "    <tr style=\"text-align: right;\">\n",
       "      <th></th>\n",
       "      <th>date_date</th>\n",
       "      <th>orders_id</th>\n",
       "      <th>customers_id</th>\n",
       "      <th>country</th>\n",
       "      <th>department</th>\n",
       "      <th>total_quantity</th>\n",
       "      <th>total_turnover</th>\n",
       "    </tr>\n",
       "  </thead>\n",
       "  <tbody>\n",
       "    <tr>\n",
       "      <th>0</th>\n",
       "      <td>2019-01-01</td>\n",
       "      <td>571</td>\n",
       "      <td>560</td>\n",
       "      <td>FRANCE</td>\n",
       "      <td>77.0</td>\n",
       "      <td>52</td>\n",
       "      <td>92.71</td>\n",
       "    </tr>\n",
       "    <tr>\n",
       "      <th>1</th>\n",
       "      <td>2019-01-01</td>\n",
       "      <td>287</td>\n",
       "      <td>282</td>\n",
       "      <td>FRANCE</td>\n",
       "      <td>17.0</td>\n",
       "      <td>19</td>\n",
       "      <td>97.94</td>\n",
       "    </tr>\n",
       "    <tr>\n",
       "      <th>2</th>\n",
       "      <td>2019-01-01</td>\n",
       "      <td>113</td>\n",
       "      <td>113</td>\n",
       "      <td>FRANCE</td>\n",
       "      <td>50.0</td>\n",
       "      <td>20</td>\n",
       "      <td>94.15</td>\n",
       "    </tr>\n",
       "    <tr>\n",
       "      <th>3</th>\n",
       "      <td>2019-01-01</td>\n",
       "      <td>519</td>\n",
       "      <td>510</td>\n",
       "      <td>FRANCE</td>\n",
       "      <td>22.0</td>\n",
       "      <td>8</td>\n",
       "      <td>73.78</td>\n",
       "    </tr>\n",
       "    <tr>\n",
       "      <th>4</th>\n",
       "      <td>2019-01-01</td>\n",
       "      <td>224</td>\n",
       "      <td>222</td>\n",
       "      <td>FRANCE</td>\n",
       "      <td>13.0</td>\n",
       "      <td>2</td>\n",
       "      <td>27.99</td>\n",
       "    </tr>\n",
       "    <tr>\n",
       "      <th>...</th>\n",
       "      <td>...</td>\n",
       "      <td>...</td>\n",
       "      <td>...</td>\n",
       "      <td>...</td>\n",
       "      <td>...</td>\n",
       "      <td>...</td>\n",
       "      <td>...</td>\n",
       "    </tr>\n",
       "    <tr>\n",
       "      <th>9995</th>\n",
       "      <td>2019-01-13</td>\n",
       "      <td>10207</td>\n",
       "      <td>5293</td>\n",
       "      <td>FRANCE</td>\n",
       "      <td>44.0</td>\n",
       "      <td>19</td>\n",
       "      <td>77.71</td>\n",
       "    </tr>\n",
       "    <tr>\n",
       "      <th>9996</th>\n",
       "      <td>2019-01-13</td>\n",
       "      <td>10155</td>\n",
       "      <td>9724</td>\n",
       "      <td>FRANCE</td>\n",
       "      <td>5.0</td>\n",
       "      <td>1</td>\n",
       "      <td>63.33</td>\n",
       "    </tr>\n",
       "    <tr>\n",
       "      <th>9997</th>\n",
       "      <td>2019-01-13</td>\n",
       "      <td>10151</td>\n",
       "      <td>9720</td>\n",
       "      <td>FRANCE</td>\n",
       "      <td>75.0</td>\n",
       "      <td>24</td>\n",
       "      <td>83.47</td>\n",
       "    </tr>\n",
       "    <tr>\n",
       "      <th>9998</th>\n",
       "      <td>2019-01-13</td>\n",
       "      <td>10822</td>\n",
       "      <td>10365</td>\n",
       "      <td>FRANCE</td>\n",
       "      <td>66.0</td>\n",
       "      <td>15</td>\n",
       "      <td>39.41</td>\n",
       "    </tr>\n",
       "    <tr>\n",
       "      <th>9999</th>\n",
       "      <td>2019-01-13</td>\n",
       "      <td>10638</td>\n",
       "      <td>10189</td>\n",
       "      <td>FRANCE</td>\n",
       "      <td>81.0</td>\n",
       "      <td>11</td>\n",
       "      <td>91.76</td>\n",
       "    </tr>\n",
       "  </tbody>\n",
       "</table>\n",
       "<p>10000 rows × 7 columns</p>\n",
       "</div>"
      ],
      "text/plain": [
       "       date_date  orders_id  customers_id country  department  total_quantity  \\\n",
       "0     2019-01-01        571           560  FRANCE        77.0              52   \n",
       "1     2019-01-01        287           282  FRANCE        17.0              19   \n",
       "2     2019-01-01        113           113  FRANCE        50.0              20   \n",
       "3     2019-01-01        519           510  FRANCE        22.0               8   \n",
       "4     2019-01-01        224           222  FRANCE        13.0               2   \n",
       "...          ...        ...           ...     ...         ...             ...   \n",
       "9995  2019-01-13      10207          5293  FRANCE        44.0              19   \n",
       "9996  2019-01-13      10155          9724  FRANCE         5.0               1   \n",
       "9997  2019-01-13      10151          9720  FRANCE        75.0              24   \n",
       "9998  2019-01-13      10822         10365  FRANCE        66.0              15   \n",
       "9999  2019-01-13      10638         10189  FRANCE        81.0              11   \n",
       "\n",
       "      total_turnover  \n",
       "0              92.71  \n",
       "1              97.94  \n",
       "2              94.15  \n",
       "3              73.78  \n",
       "4              27.99  \n",
       "...              ...  \n",
       "9995           77.71  \n",
       "9996           63.33  \n",
       "9997           83.47  \n",
       "9998           39.41  \n",
       "9999           91.76  \n",
       "\n",
       "[10000 rows x 7 columns]"
      ]
     },
     "execution_count": 52,
     "metadata": {},
     "output_type": "execute_result"
    }
   ],
   "source": [
    "df_orders"
   ]
  },
  {
   "cell_type": "markdown",
   "metadata": {
    "id": "-x7sfkObWcMM"
   },
   "source": [
    "3) Once you have managed to properly load the data, export it to a new `gwz_orders_samples_other_format_clean.csv` that the marketing team can use.\n",
    "\n",
    "<details>\n",
    "    <summary> Hint 🔍 </summary>\n",
    "    The csv file doesn't need to include an index.  \n",
    "    You should also make sure of the separator used!\n",
    "    \n",
    "</details>"
   ]
  },
  {
   "cell_type": "code",
   "execution_count": 53,
   "metadata": {
    "ExecuteTime": {
     "end_time": "2024-02-13T22:19:08.742868Z",
     "start_time": "2024-02-13T22:19:08.689075Z"
    },
    "id": "d5HHGXuQTdaO"
   },
   "outputs": [],
   "source": [
    "df_orders.to_csv('gwz_orders_samples_other_format_clean.csv', index=False)"
   ]
  },
  {
   "cell_type": "markdown",
   "metadata": {
    "id": "wFS5XLEiXSOq"
   },
   "source": [
    "CSV files can be misleading at times, but these issues can be solved in Python!"
   ]
  },
  {
   "cell_type": "markdown",
   "metadata": {
    "id": "0HuB1hs5XX_a"
   },
   "source": [
    "## Dealing with json files"
   ]
  },
  {
   "cell_type": "markdown",
   "metadata": {
    "id": "i2XPClZKXo4I"
   },
   "source": [
    "Execute the following cell to initialize a dictionary `d`\n",
    "\n"
   ]
  },
  {
   "cell_type": "code",
   "execution_count": 54,
   "metadata": {
    "ExecuteTime": {
     "end_time": "2024-02-13T22:19:34.968201Z",
     "start_time": "2024-02-13T22:19:34.960715Z"
    },
    "id": "HToZNjvWXpbz"
   },
   "outputs": [],
   "source": [
    "d = {\"firstname\": \"leonardo\",\n",
    "     \"lastname\": \"dicaprio\",\n",
    "     \"job\": \"actor\"}"
   ]
  },
  {
   "cell_type": "markdown",
   "metadata": {
    "id": "TC8FVd1RX--t"
   },
   "source": [
    "Create a file named `actors.json` from `d`. Have a look at the lecture if you are lost with the syntax.\n"
   ]
  },
  {
   "cell_type": "code",
   "execution_count": 55,
   "metadata": {
    "ExecuteTime": {
     "end_time": "2024-02-13T22:20:03.637123Z",
     "start_time": "2024-02-13T22:20:03.632250Z"
    },
    "id": "zVBhP6Y4YXQu"
   },
   "outputs": [],
   "source": [
    "import json\n",
    "\n",
    "with open('actors.json', 'w') as f:\n",
    "    json.dump(d, f)"
   ]
  },
  {
   "cell_type": "markdown",
   "metadata": {
    "id": "KhBbp2Z3YtDy"
   },
   "source": [
    "Open the new `actors.json` file and add a new key `nationality` (Leonardo Dicaprio is American). \\\n",
    "Save the result to the same file name. Check your file.\n"
   ]
  },
  {
   "cell_type": "code",
   "execution_count": 56,
   "metadata": {
    "ExecuteTime": {
     "end_time": "2024-02-13T22:22:23.802231Z",
     "start_time": "2024-02-13T22:22:23.792127Z"
    },
    "id": "9zWlWwpzY3WX"
   },
   "outputs": [
    {
     "data": {
      "text/plain": [
       "{'firstname': 'leonardo', 'lastname': 'dicaprio', 'job': 'actor'}"
      ]
     },
     "execution_count": 56,
     "metadata": {},
     "output_type": "execute_result"
    }
   ],
   "source": [
    "with open('actors.json', 'r') as f:\n",
    "    content = json.load(f)\n",
    "\n",
    "content"
   ]
  },
  {
   "cell_type": "code",
   "execution_count": 57,
   "metadata": {},
   "outputs": [],
   "source": [
    "content['nationality'] = 'american'\n",
    "\n",
    "with open('actors.json', 'w') as f:\n",
    "    json.dump(content, f)"
   ]
  },
  {
   "cell_type": "markdown",
   "metadata": {
    "id": "ku3qjHuMZptK"
   },
   "source": [
    "## Working with Excel files"
   ]
  },
  {
   "cell_type": "markdown",
   "metadata": {
    "id": "s72hJ83ef90w"
   },
   "source": [
    "For this part of the challenge, imagine you are owner of mutliple restaurants. You are currently doing your accounting on Excel."
   ]
  },
  {
   "cell_type": "markdown",
   "metadata": {
    "id": "FYLxkz3lgLAR"
   },
   "source": [
    "Download the [Excel file](https://docs.google.com/spreadsheets/d/1BFFYMoV85sqMHxkl5DSk6dg21XmCLtlb/edit?usp=sharing&ouid=101172426362035713447&rtpof=true&sd=true) and explore it.\n",
    "\n",
    "How many sheets are there?\n",
    "What kind of data do you have?"
   ]
  },
  {
   "cell_type": "markdown",
   "metadata": {
    "id": "-jgHKDmdg8Sb"
   },
   "source": [
    "> **Your Answer Here (Double click)**\n",
    "\n"
   ]
  },
  {
   "cell_type": "markdown",
   "metadata": {
    "id": "5VypOjrBhlXW"
   },
   "source": [
    "Import the Excel file into your Google Colab environment.  \n",
    "Load the data from the *first sheet* in a `df_sales_restaurant_1` DataFrame"
   ]
  },
  {
   "cell_type": "code",
   "execution_count": 58,
   "metadata": {
    "ExecuteTime": {
     "end_time": "2024-02-13T22:25:54.157912Z",
     "start_time": "2024-02-13T22:25:54.128710Z"
    },
    "id": "9bnrMuSRajwG"
   },
   "outputs": [],
   "source": [
    "df_sales_restaurant_1 = pd.read_excel('restaurants_accountability.xlsx')"
   ]
  },
  {
   "cell_type": "code",
   "execution_count": 59,
   "metadata": {},
   "outputs": [
    {
     "data": {
      "text/html": [
       "<div>\n",
       "<style scoped>\n",
       "    .dataframe tbody tr th:only-of-type {\n",
       "        vertical-align: middle;\n",
       "    }\n",
       "\n",
       "    .dataframe tbody tr th {\n",
       "        vertical-align: top;\n",
       "    }\n",
       "\n",
       "    .dataframe thead th {\n",
       "        text-align: right;\n",
       "    }\n",
       "</style>\n",
       "<table border=\"1\" class=\"dataframe\">\n",
       "  <thead>\n",
       "    <tr style=\"text-align: right;\">\n",
       "      <th></th>\n",
       "      <th>Date</th>\n",
       "      <th>Turnover</th>\n",
       "      <th>Cost</th>\n",
       "      <th>Margin</th>\n",
       "    </tr>\n",
       "  </thead>\n",
       "  <tbody>\n",
       "    <tr>\n",
       "      <th>0</th>\n",
       "      <td>2021-12-01</td>\n",
       "      <td>1500</td>\n",
       "      <td>1200</td>\n",
       "      <td>300</td>\n",
       "    </tr>\n",
       "    <tr>\n",
       "      <th>1</th>\n",
       "      <td>2021-12-02</td>\n",
       "      <td>1200</td>\n",
       "      <td>900</td>\n",
       "      <td>300</td>\n",
       "    </tr>\n",
       "    <tr>\n",
       "      <th>2</th>\n",
       "      <td>2021-12-03</td>\n",
       "      <td>1900</td>\n",
       "      <td>1200</td>\n",
       "      <td>700</td>\n",
       "    </tr>\n",
       "    <tr>\n",
       "      <th>3</th>\n",
       "      <td>2021-12-04</td>\n",
       "      <td>2300</td>\n",
       "      <td>1500</td>\n",
       "      <td>800</td>\n",
       "    </tr>\n",
       "    <tr>\n",
       "      <th>4</th>\n",
       "      <td>2021-12-05</td>\n",
       "      <td>2100</td>\n",
       "      <td>1100</td>\n",
       "      <td>1000</td>\n",
       "    </tr>\n",
       "  </tbody>\n",
       "</table>\n",
       "</div>"
      ],
      "text/plain": [
       "        Date  Turnover  Cost  Margin\n",
       "0 2021-12-01      1500  1200     300\n",
       "1 2021-12-02      1200   900     300\n",
       "2 2021-12-03      1900  1200     700\n",
       "3 2021-12-04      2300  1500     800\n",
       "4 2021-12-05      2100  1100    1000"
      ]
     },
     "execution_count": 59,
     "metadata": {},
     "output_type": "execute_result"
    }
   ],
   "source": [
    "df_sales_restaurant_1"
   ]
  },
  {
   "cell_type": "markdown",
   "metadata": {
    "id": "W_8tgU-jjEjZ"
   },
   "source": [
    "How can you list all the sheets in an Excel file with Pandas ?  \n",
    "\n",
    "\n",
    "<details>\n",
    "    <summary> Hint 🔍 </summary>\n",
    "    \n",
    "`pd.ExcelFile()` [documentation](https://pandas.pydata.org/pandas-docs/stable/reference/api/pandas.ExcelFile.html) can help ...\n",
    "</details>"
   ]
  },
  {
   "cell_type": "code",
   "execution_count": 60,
   "metadata": {
    "ExecuteTime": {
     "end_time": "2024-02-13T22:26:29.135730Z",
     "start_time": "2024-02-13T22:26:29.114672Z"
    },
    "id": "NAqp3HFUjL8j"
   },
   "outputs": [
    {
     "data": {
      "text/plain": [
       "['Restaurant1', 'Restaurant2']"
      ]
     },
     "execution_count": 60,
     "metadata": {},
     "output_type": "execute_result"
    }
   ],
   "source": [
    "pd.ExcelFile('restaurants_accountability.xlsx').sheet_names"
   ]
  },
  {
   "cell_type": "markdown",
   "metadata": {
    "id": "fRe_krGXg5si"
   },
   "source": [
    "Now, load the data from the *second sheet* in a dataframe called `df_sales_restaurant_2`.\n",
    "\n",
    "\n",
    "<details>\n",
    "    <summary> Hint 🔍 </summary>\n",
    "    How can you choose the sheet you want to access ? Consult the documentation or StackOverflow if you're having doubts.\n",
    "</details>"
   ]
  },
  {
   "cell_type": "code",
   "execution_count": 61,
   "metadata": {
    "ExecuteTime": {
     "end_time": "2024-02-13T22:27:23.636836Z",
     "start_time": "2024-02-13T22:27:23.609812Z"
    },
    "id": "9H8J_U9akZK9"
   },
   "outputs": [
    {
     "data": {
      "text/html": [
       "<div>\n",
       "<style scoped>\n",
       "    .dataframe tbody tr th:only-of-type {\n",
       "        vertical-align: middle;\n",
       "    }\n",
       "\n",
       "    .dataframe tbody tr th {\n",
       "        vertical-align: top;\n",
       "    }\n",
       "\n",
       "    .dataframe thead th {\n",
       "        text-align: right;\n",
       "    }\n",
       "</style>\n",
       "<table border=\"1\" class=\"dataframe\">\n",
       "  <thead>\n",
       "    <tr style=\"text-align: right;\">\n",
       "      <th></th>\n",
       "      <th>Unnamed: 0</th>\n",
       "      <th>Unnamed: 1</th>\n",
       "      <th>Unnamed: 2</th>\n",
       "      <th>Unnamed: 3</th>\n",
       "      <th>Unnamed: 4</th>\n",
       "      <th>Unnamed: 5</th>\n",
       "    </tr>\n",
       "  </thead>\n",
       "  <tbody>\n",
       "    <tr>\n",
       "      <th>0</th>\n",
       "      <td>NaN</td>\n",
       "      <td>NaN</td>\n",
       "      <td>NaN</td>\n",
       "      <td>NaN</td>\n",
       "      <td>NaN</td>\n",
       "      <td>NaN</td>\n",
       "    </tr>\n",
       "    <tr>\n",
       "      <th>1</th>\n",
       "      <td>NaN</td>\n",
       "      <td>NaN</td>\n",
       "      <td>NaN</td>\n",
       "      <td>NaN</td>\n",
       "      <td>NaN</td>\n",
       "      <td>NaN</td>\n",
       "    </tr>\n",
       "    <tr>\n",
       "      <th>2</th>\n",
       "      <td>NaN</td>\n",
       "      <td>NaN</td>\n",
       "      <td>Date</td>\n",
       "      <td>Turnover</td>\n",
       "      <td>Cost</td>\n",
       "      <td>Margin</td>\n",
       "    </tr>\n",
       "    <tr>\n",
       "      <th>3</th>\n",
       "      <td>NaN</td>\n",
       "      <td>NaN</td>\n",
       "      <td>2021-12-01 00:00:00</td>\n",
       "      <td>700</td>\n",
       "      <td>600</td>\n",
       "      <td>100</td>\n",
       "    </tr>\n",
       "    <tr>\n",
       "      <th>4</th>\n",
       "      <td>NaN</td>\n",
       "      <td>NaN</td>\n",
       "      <td>2021-12-02 00:00:00</td>\n",
       "      <td>920</td>\n",
       "      <td>540</td>\n",
       "      <td>380</td>\n",
       "    </tr>\n",
       "    <tr>\n",
       "      <th>5</th>\n",
       "      <td>NaN</td>\n",
       "      <td>NaN</td>\n",
       "      <td>2021-12-03 00:00:00</td>\n",
       "      <td>810</td>\n",
       "      <td>600</td>\n",
       "      <td>210</td>\n",
       "    </tr>\n",
       "    <tr>\n",
       "      <th>6</th>\n",
       "      <td>NaN</td>\n",
       "      <td>NaN</td>\n",
       "      <td>2021-12-04 00:00:00</td>\n",
       "      <td>1000</td>\n",
       "      <td>300</td>\n",
       "      <td>700</td>\n",
       "    </tr>\n",
       "    <tr>\n",
       "      <th>7</th>\n",
       "      <td>NaN</td>\n",
       "      <td>NaN</td>\n",
       "      <td>2021-12-05 00:00:00</td>\n",
       "      <td>300</td>\n",
       "      <td>200</td>\n",
       "      <td>100</td>\n",
       "    </tr>\n",
       "  </tbody>\n",
       "</table>\n",
       "</div>"
      ],
      "text/plain": [
       "   Unnamed: 0  Unnamed: 1           Unnamed: 2 Unnamed: 3 Unnamed: 4  \\\n",
       "0         NaN         NaN                  NaN        NaN        NaN   \n",
       "1         NaN         NaN                  NaN        NaN        NaN   \n",
       "2         NaN         NaN                 Date   Turnover       Cost   \n",
       "3         NaN         NaN  2021-12-01 00:00:00        700        600   \n",
       "4         NaN         NaN  2021-12-02 00:00:00        920        540   \n",
       "5         NaN         NaN  2021-12-03 00:00:00        810        600   \n",
       "6         NaN         NaN  2021-12-04 00:00:00       1000        300   \n",
       "7         NaN         NaN  2021-12-05 00:00:00        300        200   \n",
       "\n",
       "  Unnamed: 5  \n",
       "0        NaN  \n",
       "1        NaN  \n",
       "2     Margin  \n",
       "3        100  \n",
       "4        380  \n",
       "5        210  \n",
       "6        700  \n",
       "7        100  "
      ]
     },
     "execution_count": 61,
     "metadata": {},
     "output_type": "execute_result"
    }
   ],
   "source": [
    "df_sales_restaurant_2 = pd.read_excel('restaurants_accountability.xlsx', sheet_name='Restaurant2')\n",
    "df_sales_restaurant_2"
   ]
  },
  {
   "cell_type": "markdown",
   "metadata": {
    "id": "DGbyNsLAiiJK"
   },
   "source": [
    "Do you notice anything unusual with this dataframe ? Inspect the sheet in the Excel file again, and try to understand the reason behind the weird format"
   ]
  },
  {
   "cell_type": "markdown",
   "metadata": {
    "ExecuteTime": {
     "end_time": "2024-02-06T17:36:31.143999Z",
     "start_time": "2024-02-06T17:36:31.123044Z"
    },
    "id": "yjYbofFjiiJK"
   },
   "source": [
    "> **Your Answer Here (Double click)**\n"
   ]
  },
  {
   "cell_type": "markdown",
   "metadata": {
    "id": "rRO4a9R-iiJK"
   },
   "source": [
    "Modify your previous line of code to load the data correctly. \\\n",
    "Have a look at the [documentation](https://pandas.pydata.org/docs/reference/api/pandas.read_excel.html) if you're having doubts."
   ]
  },
  {
   "cell_type": "code",
   "execution_count": 62,
   "metadata": {
    "ExecuteTime": {
     "end_time": "2024-02-13T22:29:53.330400Z",
     "start_time": "2024-02-13T22:29:53.303557Z"
    },
    "id": "HJRcUUYuiiJK"
   },
   "outputs": [
    {
     "data": {
      "text/html": [
       "<div>\n",
       "<style scoped>\n",
       "    .dataframe tbody tr th:only-of-type {\n",
       "        vertical-align: middle;\n",
       "    }\n",
       "\n",
       "    .dataframe tbody tr th {\n",
       "        vertical-align: top;\n",
       "    }\n",
       "\n",
       "    .dataframe thead th {\n",
       "        text-align: right;\n",
       "    }\n",
       "</style>\n",
       "<table border=\"1\" class=\"dataframe\">\n",
       "  <thead>\n",
       "    <tr style=\"text-align: right;\">\n",
       "      <th></th>\n",
       "      <th>Date</th>\n",
       "      <th>Turnover</th>\n",
       "      <th>Cost</th>\n",
       "      <th>Margin</th>\n",
       "    </tr>\n",
       "  </thead>\n",
       "  <tbody>\n",
       "    <tr>\n",
       "      <th>0</th>\n",
       "      <td>2021-12-01</td>\n",
       "      <td>700</td>\n",
       "      <td>600</td>\n",
       "      <td>100</td>\n",
       "    </tr>\n",
       "    <tr>\n",
       "      <th>1</th>\n",
       "      <td>2021-12-02</td>\n",
       "      <td>920</td>\n",
       "      <td>540</td>\n",
       "      <td>380</td>\n",
       "    </tr>\n",
       "    <tr>\n",
       "      <th>2</th>\n",
       "      <td>2021-12-03</td>\n",
       "      <td>810</td>\n",
       "      <td>600</td>\n",
       "      <td>210</td>\n",
       "    </tr>\n",
       "    <tr>\n",
       "      <th>3</th>\n",
       "      <td>2021-12-04</td>\n",
       "      <td>1000</td>\n",
       "      <td>300</td>\n",
       "      <td>700</td>\n",
       "    </tr>\n",
       "    <tr>\n",
       "      <th>4</th>\n",
       "      <td>2021-12-05</td>\n",
       "      <td>300</td>\n",
       "      <td>200</td>\n",
       "      <td>100</td>\n",
       "    </tr>\n",
       "  </tbody>\n",
       "</table>\n",
       "</div>"
      ],
      "text/plain": [
       "        Date  Turnover  Cost  Margin\n",
       "0 2021-12-01       700   600     100\n",
       "1 2021-12-02       920   540     380\n",
       "2 2021-12-03       810   600     210\n",
       "3 2021-12-04      1000   300     700\n",
       "4 2021-12-05       300   200     100"
      ]
     },
     "execution_count": 62,
     "metadata": {},
     "output_type": "execute_result"
    }
   ],
   "source": [
    "df_sales_restaurant_2 = pd.read_excel(\n",
    "    'restaurants_accountability.xlsx', \n",
    "    sheet_name='Restaurant2', \n",
    "    skiprows=list(range(3)), \n",
    "    usecols=['Date', 'Turnover', 'Cost', 'Margin']\n",
    ")\n",
    "df_sales_restaurant_2"
   ]
  },
  {
   "cell_type": "markdown",
   "metadata": {
    "id": "5f3yxpZXlBfa"
   },
   "source": [
    "Add in each dataframe a new `restaurant_id`column (id = 1 for restaurant_1 and id = 2 for restaurant_2) and concatenate the two dataframes into a single one named `df_sales`.  \n",
    "\n",
    "Pay attention to the `axis`along which you will concatenate the two dataframes."
   ]
  },
  {
   "cell_type": "code",
   "execution_count": 64,
   "metadata": {
    "id": "YV0AENqcretI"
   },
   "outputs": [
    {
     "data": {
      "text/html": [
       "<div>\n",
       "<style scoped>\n",
       "    .dataframe tbody tr th:only-of-type {\n",
       "        vertical-align: middle;\n",
       "    }\n",
       "\n",
       "    .dataframe tbody tr th {\n",
       "        vertical-align: top;\n",
       "    }\n",
       "\n",
       "    .dataframe thead th {\n",
       "        text-align: right;\n",
       "    }\n",
       "</style>\n",
       "<table border=\"1\" class=\"dataframe\">\n",
       "  <thead>\n",
       "    <tr style=\"text-align: right;\">\n",
       "      <th></th>\n",
       "      <th>Date</th>\n",
       "      <th>Turnover</th>\n",
       "      <th>Cost</th>\n",
       "      <th>Margin</th>\n",
       "      <th>restaurant_id</th>\n",
       "    </tr>\n",
       "  </thead>\n",
       "  <tbody>\n",
       "    <tr>\n",
       "      <th>0</th>\n",
       "      <td>2021-12-01</td>\n",
       "      <td>1500</td>\n",
       "      <td>1200</td>\n",
       "      <td>300</td>\n",
       "      <td>1</td>\n",
       "    </tr>\n",
       "    <tr>\n",
       "      <th>1</th>\n",
       "      <td>2021-12-02</td>\n",
       "      <td>1200</td>\n",
       "      <td>900</td>\n",
       "      <td>300</td>\n",
       "      <td>1</td>\n",
       "    </tr>\n",
       "    <tr>\n",
       "      <th>2</th>\n",
       "      <td>2021-12-03</td>\n",
       "      <td>1900</td>\n",
       "      <td>1200</td>\n",
       "      <td>700</td>\n",
       "      <td>1</td>\n",
       "    </tr>\n",
       "    <tr>\n",
       "      <th>3</th>\n",
       "      <td>2021-12-04</td>\n",
       "      <td>2300</td>\n",
       "      <td>1500</td>\n",
       "      <td>800</td>\n",
       "      <td>1</td>\n",
       "    </tr>\n",
       "    <tr>\n",
       "      <th>4</th>\n",
       "      <td>2021-12-05</td>\n",
       "      <td>2100</td>\n",
       "      <td>1100</td>\n",
       "      <td>1000</td>\n",
       "      <td>1</td>\n",
       "    </tr>\n",
       "    <tr>\n",
       "      <th>0</th>\n",
       "      <td>2021-12-01</td>\n",
       "      <td>700</td>\n",
       "      <td>600</td>\n",
       "      <td>100</td>\n",
       "      <td>2</td>\n",
       "    </tr>\n",
       "    <tr>\n",
       "      <th>1</th>\n",
       "      <td>2021-12-02</td>\n",
       "      <td>920</td>\n",
       "      <td>540</td>\n",
       "      <td>380</td>\n",
       "      <td>2</td>\n",
       "    </tr>\n",
       "    <tr>\n",
       "      <th>2</th>\n",
       "      <td>2021-12-03</td>\n",
       "      <td>810</td>\n",
       "      <td>600</td>\n",
       "      <td>210</td>\n",
       "      <td>2</td>\n",
       "    </tr>\n",
       "    <tr>\n",
       "      <th>3</th>\n",
       "      <td>2021-12-04</td>\n",
       "      <td>1000</td>\n",
       "      <td>300</td>\n",
       "      <td>700</td>\n",
       "      <td>2</td>\n",
       "    </tr>\n",
       "    <tr>\n",
       "      <th>4</th>\n",
       "      <td>2021-12-05</td>\n",
       "      <td>300</td>\n",
       "      <td>200</td>\n",
       "      <td>100</td>\n",
       "      <td>2</td>\n",
       "    </tr>\n",
       "  </tbody>\n",
       "</table>\n",
       "</div>"
      ],
      "text/plain": [
       "        Date  Turnover  Cost  Margin  restaurant_id\n",
       "0 2021-12-01      1500  1200     300              1\n",
       "1 2021-12-02      1200   900     300              1\n",
       "2 2021-12-03      1900  1200     700              1\n",
       "3 2021-12-04      2300  1500     800              1\n",
       "4 2021-12-05      2100  1100    1000              1\n",
       "0 2021-12-01       700   600     100              2\n",
       "1 2021-12-02       920   540     380              2\n",
       "2 2021-12-03       810   600     210              2\n",
       "3 2021-12-04      1000   300     700              2\n",
       "4 2021-12-05       300   200     100              2"
      ]
     },
     "execution_count": 64,
     "metadata": {},
     "output_type": "execute_result"
    }
   ],
   "source": [
    "df_sales_restaurant_1['restaurant_id'] = 1\n",
    "df_sales_restaurant_2['restaurant_id'] = 2\n",
    "\n",
    "df_sales = pd.concat([df_sales_restaurant_1, df_sales_restaurant_2])\n",
    "\n",
    "df_sales"
   ]
  },
  {
   "cell_type": "markdown",
   "metadata": {
    "id": "E54LQJk4lz1V"
   },
   "source": [
    "Export the concatenated dataframe to a new `restaurants_accountability_full.xlsx` file in a sheet called `All`\n",
    "\n"
   ]
  },
  {
   "cell_type": "code",
   "execution_count": 65,
   "metadata": {
    "ExecuteTime": {
     "end_time": "2024-02-13T22:33:50.606886Z",
     "start_time": "2024-02-13T22:33:50.573842Z"
    },
    "id": "f5URAHTmncvm"
   },
   "outputs": [],
   "source": [
    "df_sales.to_excel('restaurants_accountability_full.xlsx')"
   ]
  }
 ],
 "metadata": {
  "colab": {
   "provenance": []
  },
  "kernelspec": {
   "display_name": "Python (le_wagon-python)",
   "language": "python",
   "name": "le_wagon-python"
  },
  "language_info": {
   "codemirror_mode": {
    "name": "ipython",
    "version": 3
   },
   "file_extension": ".py",
   "mimetype": "text/x-python",
   "name": "python",
   "nbconvert_exporter": "python",
   "pygments_lexer": "ipython3",
   "version": "3.13.3"
  },
  "toc": {
   "base_numbering": 1,
   "nav_menu": {},
   "number_sections": true,
   "sideBar": true,
   "skip_h1_title": false,
   "title_cell": "Table of Contents",
   "title_sidebar": "Contents",
   "toc_cell": false,
   "toc_position": {},
   "toc_section_display": true,
   "toc_window_display": false
  }
 },
 "nbformat": 4,
 "nbformat_minor": 0
}
