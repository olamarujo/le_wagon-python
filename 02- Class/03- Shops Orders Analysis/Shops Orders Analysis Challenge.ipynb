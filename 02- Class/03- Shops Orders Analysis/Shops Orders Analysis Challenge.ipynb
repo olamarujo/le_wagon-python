{
 "cells": [
  {
   "cell_type": "markdown",
   "metadata": {
    "id": "-JzbMZMGL2W1"
   },
   "source": [
    " ![Emil](data:image/png;base64,iVBORw0KGgoAAAANSUhEUgAAAbYAAABzCAMAAADDhdfxAAAAyVBMVEX////mDwUbGiHlAAAAAADmDQH5zszpS0npNC/+7ezvcm4ZGCAAAA4AAAn97+71qaYPDhfb29yenqDT09SzsrRfX2PZ2doVFBzwdnPnJyPwjIuMjI++vr4NCxXxgX7xhYKVlZf72tnt7e4EABD29vbk5OUzMjf4w8DLy8zw8PA8O0CpqatWVlr+9vX4ycdIR0spKC54eHtmZmntYV2Af4IiISdPT1PznpzpPTn3ubb72NdvbnH1rKrnHBTylJHuamXrSUTsYV7rVVIDzG+MAAARjUlEQVR4nO2dC1PiPBfHkQaVbeuWa1Rat0LBclEQAS+ou4/f/0O9Sdpcm3KtOvj2P7MzKw1pk19PcnJyWgqFXLlyfaXK7x8nn66P8+PvbufP0vOR8TU6/+6W/iQ9GqWjL1HJ+Lj97sb+GN18FTUk4893t/bH6Mn4MmrI3q6/u7k/RHdfaGy5uWWm9y80NoTt47vb+0N0/rXYnnKnJBP9+lpsp+XvbvDPUI7tIJVjO0jl2A5SObaDVI7tIJVjO0jl2A5SObaDVI7tIJVjO0jl2A5SObaDVI7tIJVjO0jl2A5SObaDVI7tIJVjO0jl2A5Sm2ArrcoQ3ypfL8eWkVZio7xO//335/Lx8fX5+fia6ub5+fHx8u/J2zbwcmwZKQ0bIXbxcf7n9fjs7DY9Te729uz4/fxpQ3KrsdUasabt7Bv6s6THVjLeTs6fr8ubZjWeXb//2wTcamw+cCKBWhZN+8nSYjPeXrdP1r/7a6ydJ1djq9rFSDm2ddJhKx2d7VTXy1pwObaMpMNm3Oxa28vT6pEyx5aRNNhKb3sk6r+vNLgcW0bSYbvYp8K7ixXccmwZKRXb8bks7KM8/xI/+fWIPjq7Qv+7fLzhTuf1igcdc2wZKRXblRINwQ8UKh+9Ic/lmP7x7536MWfp3HJsGWkFNrnDMbZSSS6HQL3ExfDy/E9sceXU+S3HlpGywkbIvcWvHrlO8ydzbBkpQ2yokPEc1fo7xdz2w1ZxW9MBUqNVb2bcDXp1Q3foD92wslHRemuzorghru/7VbcWbFLxEJX1lbKZYkMGF3P70HPbA1tQXxRty4NIjgXgwO+m1lMf0eCm0onBLCXo6dJvjHitzdZ47gFg2cAqDmY1qZhy7oo/nndQUQA683GLnNSnRRPh1dr9YA6AbaGKnV7D7avH6bW30P/bw8XcAhYuC3szoVeyxYa4RePki36Y3B3bcAAcs8hkQnvSSgs4D1lssyUfaAIvPlCVDyzjb3iAgq4sHRua7GyW3WjyoCmoi1+uLE2xqO0sEdWxFRdV7hx30ekIhR3Qqyrg4nNYi6DgTnijTdixlqzFGWNDYM7S6t0DW3cEYFERAufq62nTtsKBfKBlxd91GtLn/QlUPq92OqZ8Og8MC378fVvEVoVKUdNCF7aIawSSYTYbwFGbAQbSTVAA8aWMAl9pNKqYdkzW2I6MX6RevVeyI7aa56nQohb7+opGcd+Ynnyvj1k3AMlSXUA/jqwwuAdm4mwmqOqwTTVFoV0f6bDVLV07ILjXYIPjKUgWtZufhK0URzQftFsLO2Fzk6ZGe/JeWxHDYEuDYc1jPYxMR9A97U0QDViNZIdhWT0zgW1k60qa9pzWKGDT3QxRfT3B36Dnhqpdkg/n7c/BdmQ8kYq1zuRO2GowhRouOdNV1O7F34Bjbf1oyJuKxQdQ+nSpRYFp0G5m2BppRdkFcmwz/c1ATjzg1p9eCqsz/SRsR5E3Wc4KW3vAbzvkQyLZgnNiD3U1LZn5iINhj+M3TeFAjY2RBEdd7jjTTNgIw1ZVisJEUY5ttoqwNWL2pmCDyD0RqwXuZ2E7Iae/0Exuu2C7Z82F9qJVr1Vcv+GwOQKauoVASIcjcTCsdMTuFKanGT0AcN+1PaGTIPK8TQd4sr1TbE2BqOkBbzIxbUsuyrDJNwNaxUCJMR82pHKe3Vs0RgPe3qLXWIOtJCrCJn1mvJVxTLKUUPQeu7+6nbztsYUWbV2nxzzHSoP6hEVrqqlJHfbk6smBJT/ACpPPZqzqIrQGfq1Zabr3E0vsY4qtIfQmbNSb3W6l1urZEo4YW9sUTN3q9AaLcQ/awmc2bZyAzfQaIR4V+rWlxxcClVXYHpW48W/02T/5IzyJXeuS8J6jCjLBxoZIYRxBarHWaUMq1IBMwL80Fu0ATpiV1uiYS3quzXvdmzOT7LdEdyLGVuOev71gcZvAF2gwbEt+MzjgPiRXVfPnwi0yCFRspjBWDHl7h6uwbarbckJRRFnnk2yPLaSX643lSBDj5um8SWW6wmrLkwYI6QE/Pi2cB8JfyLoX4hlDgVuM7Z6NurZk8mGRc4uxVfjJgRCJEe4+Np7zT6TlIZuuydoy821SptdMsE3jqzXnyhwWjKkZAk1kL5AHPqn2+ADraVq0g6eXgK6T+e0fK0z0J/vAW8hnD4WVRldqBvrAV2qlRWGxoNQqxQSa9PLhpPCZ2G4ywcZWYC21tJs0KEF0ZQwn1GUcyesgSNdKzFPpYPursGGLm2OsGTeuunQBiVuq0GK3SIStwnwXNd5WcNmgHM9uHJt8AdQPNvHSTZtLkknqcCbYaNeYMOEwBj3RSlSxUYn2fpvVJFJCGtIxkqzx6uljb1dZt7Hh1EpcQHvOMJHrZgsFZ6EW5RG3TnRGttxWrJ3GBIhPos3c+vX6exc9X4u5Q5lgY/POOKyFkmohjR/BhW7/g42ScffTOR22OjJt6qlYLbFzksYmjHQRtgYNocHkNhJzRyNszNI1/hMbz01I/maEFReZjh+m00xLb91ZD78ZuUywsYkYgoSo2ZhF3VZAlQHvi33uNJrxesk0o16j3WQ1JRZWskoeMyPYWChmkNh84UZLsPX1URvKwxbLMmziEkWsktwl2T4ohVMTrsoZYlukx7W4gG7F3aWtjMyGLqLRREjrtMgBaoXOiEAcaxZ8VGyGirDRSUntX6y+hI0ty7UxnS6zTFfEZimzoLse28pHo9IUxVDQVx8zwxbMU4Kv67HJDiKjg9xOepqoX6g92z45If2W5Wv6lxoNwRasXIFI2ELqzHi6NWaf3ioR1J2xlYzTXURYl/DXH26zwlbcCJt23425GmTTjY6RC+w6RpUST7ofW6FptWUyGrtgpihj07pE1L4ibHRaMrU7u3RgjvYrdsVWMl7PdlG5/PL+QcAZJ2cZYUuGcTfG1qVzGL7Fu/FGKOlw6iDgnWfaGfEGKS23DbYNrC0eT/WzMDP4yMJ3xrbPuu34AWfbGR/Xt1lESTa0Nn3eDaWDh794PjdJ4Jn6APjupp5jHKPoD1ZgY5FOBZtmbgu0g6RmGYPLsgvda5Dcc7l982ZEvmiS2vbYBsxd7Fip0s9tzPXCg2HcM9GyiXor6C/m48WhlmCwYjHYnUguCZ134Ti5AHElbDUa7O8kVxXC7iD4TmyFMslKziYFiA77eN2WLn11fMCr0GSRKKDCBjvQprFL5jgu6AkHyQpr9PoibIuU1AesFtsL6kpX4muuk8dPCdQMsN1cnZYuTh7XPqN4/fsJOSSnccHb1MeltsZGA0o8RrWFmJM4dKOaaRSKjZJDuixm0yNbUmsinb6MjQW7OonJrT+no0Q0EtD7hMYdJfEVPvlzb2x35JFs/O/XyucUby+PsPuPS56T1fbZg6EfJbfGxvYr9G7HatGGwtEyHiPj4GyFHYj70wT0OxxNNVEfG7FteRc8GZP0lZgkD5okp8wmnb9jA98X2yN7GrtkXKwwuLMTZlwl4ynigl+koNkn3RQbmwLoNKSmyOFDLT9SKy3RlU4aPBxPg84UAM1S4V4FG7GSM5arhJLZkrrojeSSoansALA4P0wQLoxYyCy6UfbE9opgxMtu/DR3an/fnhh0fY59/ydumKfJ9KANsfGYPsv/6Kjmdg+oR6Kb56Mi1INTrcKXN3GKFqu8PWHDm6/UxlNR4o2bBdtTsKVhstLjmw0RNjabFr2FMtqzFBOzE13dfthwXjEa9G7u7n6f4v+epD1i+k6oXt7d3b0TH5L/AmnS3DbEJoQo2GfqfRqyHNZ5aoXCFhnpMmZTTfkAWXjHYlFQ05NvFGF/OsbmcvhAyC+ve8IWUezl8lwhayxyC3g6lxOb7M7Y3nCpB+PIeIg7GRue8arvmjI+dhkz/WOwdPLC9tjYRCZsb/RZEofTE7mFDptokpMQ6xRmOlEXcg5z6YDo7XPUUFy7BUuBNN12FnLKPDAj6fzd+ljKhoyxcR+l6EB+weGAkTeteNDYFZvxt0CyioXfyLsxaD5WQsjYjHf216VB05IL22PjPSbk6PMdRwiGdLrp3vP4v25zm32ZWwhuLy8pj5IdcQnBhz4TjOOu7A7nYtoXxRaK2T6ebYMisG3phmDxUiFxy7S9mdtsVly/J+TtWnQo2BFbyXgpkN8HNnAXXz/f4MnqCtmU3iv5iFKBCi+vx9jkkPN5Sg9ti63Lm+bd17pd8mxQn08ppt1b1sMwHI6KDIep8c24auJgKAahauJzIPJ2iit8x7F6jVnrfjGX0+hYkoeS+6gJxbFQwFTgbnYQXJybx8vzlKRdsb1dky4nk9QzcjSeriPj0/7cefnUIMPnJSr43y3+QvR9rP+2xMZjIsgArMkksjlXyHWDnpre2hmtqFDKaJXXEMKp1ISHkZioD52O5alZqwxbf6F9OEGHrS8P2ErSrMnjJztb212BGNEzglLCTsYD+pvl9qvY3khaJPllWuMSGR1av73Ex5IJrmtelSaNadCMYwotxe0TJU94SQl5P6YtjqbCKGl25ChH24G6UwniKVXdni5Tn2c+CJtKtWJ6taYwK+w8t50+Pr6/EesiUXySW4KM6un9MqlfyAwLxBeJsv/LFyXjv+jQybbrNjEtjfROhK0wTeUGzTWPCze5fyBHfJs8ucpRDdb19B0M5eV2xG2usTcIpywLgd9WYVGLWKG2+35btATD1kVSxckjaxellFQFdLwc57JiHwZZ3xE/tCU2IXFcxFbQPDJE1JmvfeaWD01KghffN1efUcT+g46b06MwxATGIPnonee4cig5VqWnv//kxxz32N0mXYyGPDzFkYTk8oqXMuHR9PYCF3xZ9zvea98nORHvXR549RNP8xWxZzlKJnGoGrLVLJAP+PxAMtxZm1uJ01mTblX3WGKhPgDCYwOmBxrtghYbfm4u2Q4IxtJAvyc2Mvjdvn884NRwXWY4Y4HnvvL5x1/ss2gfa9scW3ch3LtCvLw2kp4BJq2d6PIjVVUgNInU5JCKbeoPELWXIgqcLgWmbYQ6+opiuEF96gC743lexwbzZVhQN264wrFcL2pGryqvYEB8XUls8YHUzK24j7G5FchCOvWNFVHBZ1bweXVG0fq3twb+HHi4qyF0xPBS4DY6tgOx/4WOORYYVzfbExjRh6iV4FjADujph9MivhCILgT5r14Df13/7DZWO/Rn99P7WTWMrooZuboXGMT1mriFaKk3Vh/dLqQ9eO7S58u9lDzJWCUWGFn1PiZc8O0uLniz5lWgm7x0tzucDnrzSW8wmskzV6U6GkyKnc583lu0wg3eDUHUblYiqV/oxp+nviujW1+Oe715rzeeVptSXc21J+dJjUlPt+uieueoFbjeZE0Vel3KbRnQhqQ8cSNw+w/bUXn1W+swDeMKg3u5WvcC103fldyvdPu6rgm6zTCsVNZPaVmp3660dzkbjWzCnn5MCLr7tWJ1niTdb1sNI9oAKOnzEHbCdmAKVALsXQ3OaNNRYTutTW8trWVGy21Q8EdiC4ammmzMIgSqX5GV8p9v2FfDng2VXYiQRcPS9wL3U45tLwXuGL8BiD/Ci9VkkVA4+ZwxMse2l0IaIoEeX33VTb7r7X/SiXNs+4hH3Uy0kMSrhHZ9xMOgugBMNsqx7aOKuGNmAzAHQAxfpb1can/l2PaSr7xPRvrL0z3Nlo1ybPupkYw5M/MrbvRO0J2UY9tP/UHa/rYz/yTnHyvHtqf6A0v7VJA3+URqOba9Fcy0m2ij1dkSeyrHtr/Q6k3eRHOAtyqfLAPl2LJQ7R7vkzoOhI5nATDaZAN3L+XYslEQVmeNxmDQWLbqX/Bbjzm2LBUEnxSDVJVjO0jl2A5SObaDVI7tIJVjO0idfzG23X5jOJei96/F9u+72/tDpHsz1idi+/vd7f0hKut+ZeHzsD1/d3t/ii6/0NyMpz1+0TuXqFvN04OfRc14WX89uTYTftNS8gdPspfBfnE2Vxa6fX3a6SW7W+riKl+zZayX40/XS75iy/X/rf8BQ/rgVIRtUc4AAAAASUVORK5CYII=)"
   ]
  },
  {
   "cell_type": "markdown",
   "metadata": {
    "id": "3Io8S5AZL2W3"
   },
   "source": [
    "# Shop orders analysis"
   ]
  },
  {
   "cell_type": "markdown",
   "metadata": {
    "id": "MjE1Uj8nGWOs"
   },
   "source": [
    "In this challenge, you will analyze data from [Sumup](https://www.sumup.com/fr-fr/) who wants to analyse its restaurant orders and categorize them.\n"
   ]
  },
  {
   "cell_type": "markdown",
   "metadata": {
    "id": "94I936yE-2xu"
   },
   "source": [
    "Upload [Tiller_order_data.csv](https://drive.google.com/file/d/1dVuD1hB3UnX5xhCHFMQ5R4iBdMdJMK4a/view?usp=sharing) in Colab and load it in a DataFrame `df_order`\n"
   ]
  },
  {
   "cell_type": "markdown",
   "metadata": {
    "id": "KyhyIi33GWOt"
   },
   "source": [
    "## Exploratory Analysis\n"
   ]
  },
  {
   "cell_type": "code",
   "execution_count": null,
   "metadata": {
    "ExecuteTime": {
     "end_time": "2024-02-13T21:49:02.217604Z",
     "start_time": "2024-02-13T21:49:01.792421Z"
    },
    "id": "CsTHaOeGxcfW"
   },
   "outputs": [
    {
     "name": "stderr",
     "output_type": "stream",
     "text": [
      "/tmp/ipykernel_10423/379044621.py:4: DtypeWarning: Columns (12) have mixed types. Specify dtype option on import or set low_memory=False.\n",
      "  df_order = pd.read_csv('Tiller_order_data.csv')\n"
     ]
    },
    {
     "data": {
      "text/html": [
       "<div>\n",
       "<style scoped>\n",
       "    .dataframe tbody tr th:only-of-type {\n",
       "        vertical-align: middle;\n",
       "    }\n",
       "\n",
       "    .dataframe tbody tr th {\n",
       "        vertical-align: top;\n",
       "    }\n",
       "\n",
       "    .dataframe thead th {\n",
       "        text-align: right;\n",
       "    }\n",
       "</style>\n",
       "<table border=\"1\" class=\"dataframe\">\n",
       "  <thead>\n",
       "    <tr style=\"text-align: right;\">\n",
       "      <th></th>\n",
       "      <th>id_order</th>\n",
       "      <th>id_store</th>\n",
       "      <th>id_table</th>\n",
       "      <th>id_waiter</th>\n",
       "      <th>id_customer</th>\n",
       "      <th>id_external</th>\n",
       "      <th>id_device</th>\n",
       "      <th>date_opened</th>\n",
       "      <th>date_closed</th>\n",
       "      <th>dim_name</th>\n",
       "      <th>dim_status</th>\n",
       "      <th>dim_type</th>\n",
       "      <th>dim_comment</th>\n",
       "      <th>dim_source</th>\n",
       "      <th>m_nb_customer</th>\n",
       "      <th>m_cached_payed</th>\n",
       "      <th>m_cached_price</th>\n",
       "    </tr>\n",
       "  </thead>\n",
       "  <tbody>\n",
       "    <tr>\n",
       "      <th>0</th>\n",
       "      <td>55538867</td>\n",
       "      <td>8052</td>\n",
       "      <td>NaN</td>\n",
       "      <td>NaN</td>\n",
       "      <td>NaN</td>\n",
       "      <td>0425716B-EFF4-41CA-AEA1-839104F36833</td>\n",
       "      <td>15327.0</td>\n",
       "      <td>2019-01-12 13:02:17 UTC</td>\n",
       "      <td>2019-01-12 19:58:38 UTC</td>\n",
       "      <td>vincent</td>\n",
       "      <td>CLOSED</td>\n",
       "      <td>1</td>\n",
       "      <td>NaN</td>\n",
       "      <td>Tiller iPAD</td>\n",
       "      <td>1</td>\n",
       "      <td>45.5</td>\n",
       "      <td>45.5</td>\n",
       "    </tr>\n",
       "    <tr>\n",
       "      <th>1</th>\n",
       "      <td>56035309</td>\n",
       "      <td>8052</td>\n",
       "      <td>NaN</td>\n",
       "      <td>NaN</td>\n",
       "      <td>NaN</td>\n",
       "      <td>75E41FE2-64FF-41D3-954C-A7DE4AA887EF</td>\n",
       "      <td>15327.0</td>\n",
       "      <td>2019-01-16 19:39:09 UTC</td>\n",
       "      <td>2019-01-16 22:10:50 UTC</td>\n",
       "      <td>frere et soeur avec pierre</td>\n",
       "      <td>CLOSED</td>\n",
       "      <td>1</td>\n",
       "      <td>NaN</td>\n",
       "      <td>Tiller iPAD</td>\n",
       "      <td>2</td>\n",
       "      <td>49.8</td>\n",
       "      <td>49.8</td>\n",
       "    </tr>\n",
       "    <tr>\n",
       "      <th>2</th>\n",
       "      <td>55550051</td>\n",
       "      <td>8052</td>\n",
       "      <td>NaN</td>\n",
       "      <td>NaN</td>\n",
       "      <td>NaN</td>\n",
       "      <td>F6051A05-C9AC-4033-BF72-BB5149B8F439</td>\n",
       "      <td>15327.0</td>\n",
       "      <td>2019-01-12 14:18:46 UTC</td>\n",
       "      <td>2019-01-12 19:50:32 UTC</td>\n",
       "      <td>rachel</td>\n",
       "      <td>CLOSED</td>\n",
       "      <td>1</td>\n",
       "      <td>NaN</td>\n",
       "      <td>Tiller iPAD</td>\n",
       "      <td>1</td>\n",
       "      <td>27.4</td>\n",
       "      <td>27.4</td>\n",
       "    </tr>\n",
       "    <tr>\n",
       "      <th>3</th>\n",
       "      <td>57000119</td>\n",
       "      <td>8052</td>\n",
       "      <td>NaN</td>\n",
       "      <td>16199.0</td>\n",
       "      <td>NaN</td>\n",
       "      <td>B8BEEC66-1C10-48A0-B4D5-035CB5EEFE62</td>\n",
       "      <td>15327.0</td>\n",
       "      <td>2019-01-24 17:49:12 UTC</td>\n",
       "      <td>2019-01-24 21:58:59 UTC</td>\n",
       "      <td>Groupe PEL</td>\n",
       "      <td>CLOSED</td>\n",
       "      <td>1</td>\n",
       "      <td>NaN</td>\n",
       "      <td>tiller-order</td>\n",
       "      <td>3</td>\n",
       "      <td>60.0</td>\n",
       "      <td>60.0</td>\n",
       "    </tr>\n",
       "    <tr>\n",
       "      <th>4</th>\n",
       "      <td>55558817</td>\n",
       "      <td>8052</td>\n",
       "      <td>NaN</td>\n",
       "      <td>NaN</td>\n",
       "      <td>NaN</td>\n",
       "      <td>17F0533C-2FF1-4FC5-A50D-12704C7B7A4B</td>\n",
       "      <td>15327.0</td>\n",
       "      <td>2019-01-12 15:25:06 UTC</td>\n",
       "      <td>2019-01-12 19:21:03 UTC</td>\n",
       "      <td>remi et date</td>\n",
       "      <td>CLOSED</td>\n",
       "      <td>1</td>\n",
       "      <td>NaN</td>\n",
       "      <td>Tiller iPAD</td>\n",
       "      <td>2</td>\n",
       "      <td>39.9</td>\n",
       "      <td>39.9</td>\n",
       "    </tr>\n",
       "  </tbody>\n",
       "</table>\n",
       "</div>"
      ],
      "text/plain": [
       "   id_order  id_store  id_table  id_waiter  id_customer  \\\n",
       "0  55538867      8052       NaN        NaN          NaN   \n",
       "1  56035309      8052       NaN        NaN          NaN   \n",
       "2  55550051      8052       NaN        NaN          NaN   \n",
       "3  57000119      8052       NaN    16199.0          NaN   \n",
       "4  55558817      8052       NaN        NaN          NaN   \n",
       "\n",
       "                            id_external  id_device              date_opened  \\\n",
       "0  0425716B-EFF4-41CA-AEA1-839104F36833    15327.0  2019-01-12 13:02:17 UTC   \n",
       "1  75E41FE2-64FF-41D3-954C-A7DE4AA887EF    15327.0  2019-01-16 19:39:09 UTC   \n",
       "2  F6051A05-C9AC-4033-BF72-BB5149B8F439    15327.0  2019-01-12 14:18:46 UTC   \n",
       "3  B8BEEC66-1C10-48A0-B4D5-035CB5EEFE62    15327.0  2019-01-24 17:49:12 UTC   \n",
       "4  17F0533C-2FF1-4FC5-A50D-12704C7B7A4B    15327.0  2019-01-12 15:25:06 UTC   \n",
       "\n",
       "               date_closed                    dim_name dim_status  dim_type  \\\n",
       "0  2019-01-12 19:58:38 UTC                     vincent     CLOSED         1   \n",
       "1  2019-01-16 22:10:50 UTC  frere et soeur avec pierre     CLOSED         1   \n",
       "2  2019-01-12 19:50:32 UTC                      rachel     CLOSED         1   \n",
       "3  2019-01-24 21:58:59 UTC                  Groupe PEL     CLOSED         1   \n",
       "4  2019-01-12 19:21:03 UTC                remi et date     CLOSED         1   \n",
       "\n",
       "  dim_comment    dim_source  m_nb_customer  m_cached_payed  m_cached_price  \n",
       "0         NaN   Tiller iPAD              1            45.5            45.5  \n",
       "1         NaN   Tiller iPAD              2            49.8            49.8  \n",
       "2         NaN   Tiller iPAD              1            27.4            27.4  \n",
       "3         NaN  tiller-order              3            60.0            60.0  \n",
       "4         NaN   Tiller iPAD              2            39.9            39.9  "
      ]
     },
     "execution_count": 1,
     "metadata": {},
     "output_type": "execute_result"
    }
   ],
   "source": [
    "import pandas as pd\n",
    "\n",
    "df_order = pd.read_csv('Tiller_order_data.csv')\n",
    "\n",
    "df_order.head(5)"
   ]
  },
  {
   "cell_type": "markdown",
   "metadata": {
    "id": "7PFtvyCYuy0P"
   },
   "source": [
    "What are the different statuses of an order? How many orders are there per status?   "
   ]
  },
  {
   "cell_type": "code",
   "execution_count": null,
   "metadata": {
    "ExecuteTime": {
     "end_time": "2024-02-13T21:49:02.227584Z",
     "start_time": "2024-02-13T21:49:02.218660Z"
    },
    "id": "oaUCabqUuyVS"
   },
   "outputs": [
    {
     "name": "stdout",
     "output_type": "stream",
     "text": [
      "    dim_status  id_order\n",
      "0       CLOSED    116939\n",
      "1  IN_PROGRESS       365\n"
     ]
    }
   ],
   "source": [
    "print(df_order.groupby('dim_status').id_order.count().reset_index())"
   ]
  },
  {
   "cell_type": "markdown",
   "metadata": {
    "id": "DspKznXmuDuZ"
   },
   "source": [
    "What is the proportion of orders ?  \\\n",
    "You can use the `.value_counts()` function, with the optional argument `normalize=True`"
   ]
  },
  {
   "cell_type": "code",
   "execution_count": null,
   "metadata": {
    "ExecuteTime": {
     "end_time": "2024-02-13T21:49:02.235699Z",
     "start_time": "2024-02-13T21:49:02.229549Z"
    },
    "id": "nKRY5m8kuEFS"
   },
   "outputs": [
    {
     "name": "stdout",
     "output_type": "stream",
     "text": [
      "dim_status\n",
      "CLOSED         0.996888\n",
      "IN_PROGRESS    0.003112\n",
      "Name: proportion, dtype: float64\n"
     ]
    }
   ],
   "source": [
    "print(df_order.dim_status.value_counts(normalize=True))"
   ]
  },
  {
   "cell_type": "markdown",
   "metadata": {
    "id": "DRcKAeUstPq9"
   },
   "source": [
    "How many restaurants are there? What are their ids?"
   ]
  },
  {
   "cell_type": "code",
   "execution_count": null,
   "metadata": {
    "ExecuteTime": {
     "end_time": "2024-02-13T21:49:02.239674Z",
     "start_time": "2024-02-13T21:49:02.236789Z"
    },
    "id": "L_An80n8s_T9"
   },
   "outputs": [
    {
     "name": "stdout",
     "output_type": "stream",
     "text": [
      "There is 10 restaurants\n",
      "Their ids are: [8052 8347 8283 9084 4337  360 1796 7965 6293 4542]\n"
     ]
    }
   ],
   "source": [
    "print(f'There is {len(df_order.id_store.unique())} restaurants')\n",
    "print(f'Their ids are: {df_order.id_store.unique()}')"
   ]
  },
  {
   "cell_type": "markdown",
   "metadata": {
    "id": "-se8IRlpGWOw"
   },
   "source": [
    "## Aggregations"
   ]
  },
  {
   "cell_type": "markdown",
   "metadata": {
    "id": "z1AA_gEsGblP"
   },
   "source": [
    "Compute the total turnover per restaurant. Which restaurant has the highest turnover?\n"
   ]
  },
  {
   "cell_type": "code",
   "execution_count": null,
   "metadata": {
    "ExecuteTime": {
     "end_time": "2024-02-13T21:49:02.245317Z",
     "start_time": "2024-02-13T21:49:02.240574Z"
    },
    "id": "YmsHXRrJHAJx"
   },
   "outputs": [
    {
     "data": {
      "text/html": [
       "<div>\n",
       "<style scoped>\n",
       "    .dataframe tbody tr th:only-of-type {\n",
       "        vertical-align: middle;\n",
       "    }\n",
       "\n",
       "    .dataframe tbody tr th {\n",
       "        vertical-align: top;\n",
       "    }\n",
       "\n",
       "    .dataframe thead th {\n",
       "        text-align: right;\n",
       "    }\n",
       "</style>\n",
       "<table border=\"1\" class=\"dataframe\">\n",
       "  <thead>\n",
       "    <tr style=\"text-align: right;\">\n",
       "      <th></th>\n",
       "      <th>id_store</th>\n",
       "      <th>m_cached_price</th>\n",
       "    </tr>\n",
       "  </thead>\n",
       "  <tbody>\n",
       "    <tr>\n",
       "      <th>5</th>\n",
       "      <td>7965</td>\n",
       "      <td>1138585.95</td>\n",
       "    </tr>\n",
       "    <tr>\n",
       "      <th>2</th>\n",
       "      <td>4337</td>\n",
       "      <td>865847.30</td>\n",
       "    </tr>\n",
       "    <tr>\n",
       "      <th>9</th>\n",
       "      <td>9084</td>\n",
       "      <td>479040.75</td>\n",
       "    </tr>\n",
       "    <tr>\n",
       "      <th>0</th>\n",
       "      <td>360</td>\n",
       "      <td>386934.14</td>\n",
       "    </tr>\n",
       "    <tr>\n",
       "      <th>7</th>\n",
       "      <td>8283</td>\n",
       "      <td>369822.82</td>\n",
       "    </tr>\n",
       "    <tr>\n",
       "      <th>4</th>\n",
       "      <td>6293</td>\n",
       "      <td>359718.00</td>\n",
       "    </tr>\n",
       "    <tr>\n",
       "      <th>6</th>\n",
       "      <td>8052</td>\n",
       "      <td>327758.85</td>\n",
       "    </tr>\n",
       "    <tr>\n",
       "      <th>1</th>\n",
       "      <td>1796</td>\n",
       "      <td>321099.69</td>\n",
       "    </tr>\n",
       "    <tr>\n",
       "      <th>3</th>\n",
       "      <td>4542</td>\n",
       "      <td>243789.69</td>\n",
       "    </tr>\n",
       "    <tr>\n",
       "      <th>8</th>\n",
       "      <td>8347</td>\n",
       "      <td>23.00</td>\n",
       "    </tr>\n",
       "  </tbody>\n",
       "</table>\n",
       "</div>"
      ],
      "text/plain": [
       "   id_store  m_cached_price\n",
       "5      7965      1138585.95\n",
       "2      4337       865847.30\n",
       "9      9084       479040.75\n",
       "0       360       386934.14\n",
       "7      8283       369822.82\n",
       "4      6293       359718.00\n",
       "6      8052       327758.85\n",
       "1      1796       321099.69\n",
       "3      4542       243789.69\n",
       "8      8347           23.00"
      ]
     },
     "execution_count": 5,
     "metadata": {},
     "output_type": "execute_result"
    }
   ],
   "source": [
    "df_order.groupby('id_store').m_cached_price.sum().reset_index().sort_values('m_cached_price', ascending=False)"
   ]
  },
  {
   "cell_type": "markdown",
   "metadata": {
    "id": "xqdF8tIlGWOw"
   },
   "source": [
    "> **7965**"
   ]
  },
  {
   "cell_type": "markdown",
   "metadata": {
    "id": "sLA7m7Rft12b"
   },
   "source": [
    "Count the number of orders per restaurant. Which restaurant has the most orders? Is it the same as the one with the highest turnover?\n"
   ]
  },
  {
   "cell_type": "code",
   "execution_count": null,
   "metadata": {
    "ExecuteTime": {
     "end_time": "2024-02-13T21:49:02.250423Z",
     "start_time": "2024-02-13T21:49:02.246454Z"
    },
    "id": "ryZBJEV5E6jO"
   },
   "outputs": [
    {
     "data": {
      "text/html": [
       "<div>\n",
       "<style scoped>\n",
       "    .dataframe tbody tr th:only-of-type {\n",
       "        vertical-align: middle;\n",
       "    }\n",
       "\n",
       "    .dataframe tbody tr th {\n",
       "        vertical-align: top;\n",
       "    }\n",
       "\n",
       "    .dataframe thead th {\n",
       "        text-align: right;\n",
       "    }\n",
       "</style>\n",
       "<table border=\"1\" class=\"dataframe\">\n",
       "  <thead>\n",
       "    <tr style=\"text-align: right;\">\n",
       "      <th></th>\n",
       "      <th>id_store</th>\n",
       "      <th>id_order</th>\n",
       "    </tr>\n",
       "  </thead>\n",
       "  <tbody>\n",
       "    <tr>\n",
       "      <th>1</th>\n",
       "      <td>1796</td>\n",
       "      <td>27349</td>\n",
       "    </tr>\n",
       "    <tr>\n",
       "      <th>2</th>\n",
       "      <td>4337</td>\n",
       "      <td>20003</td>\n",
       "    </tr>\n",
       "    <tr>\n",
       "      <th>3</th>\n",
       "      <td>4542</td>\n",
       "      <td>17641</td>\n",
       "    </tr>\n",
       "    <tr>\n",
       "      <th>4</th>\n",
       "      <td>6293</td>\n",
       "      <td>16103</td>\n",
       "    </tr>\n",
       "    <tr>\n",
       "      <th>7</th>\n",
       "      <td>8283</td>\n",
       "      <td>10023</td>\n",
       "    </tr>\n",
       "    <tr>\n",
       "      <th>5</th>\n",
       "      <td>7965</td>\n",
       "      <td>9091</td>\n",
       "    </tr>\n",
       "    <tr>\n",
       "      <th>9</th>\n",
       "      <td>9084</td>\n",
       "      <td>7804</td>\n",
       "    </tr>\n",
       "    <tr>\n",
       "      <th>6</th>\n",
       "      <td>8052</td>\n",
       "      <td>4906</td>\n",
       "    </tr>\n",
       "    <tr>\n",
       "      <th>0</th>\n",
       "      <td>360</td>\n",
       "      <td>4383</td>\n",
       "    </tr>\n",
       "    <tr>\n",
       "      <th>8</th>\n",
       "      <td>8347</td>\n",
       "      <td>1</td>\n",
       "    </tr>\n",
       "  </tbody>\n",
       "</table>\n",
       "</div>"
      ],
      "text/plain": [
       "   id_store  id_order\n",
       "1      1796     27349\n",
       "2      4337     20003\n",
       "3      4542     17641\n",
       "4      6293     16103\n",
       "7      8283     10023\n",
       "5      7965      9091\n",
       "9      9084      7804\n",
       "6      8052      4906\n",
       "0       360      4383\n",
       "8      8347         1"
      ]
     },
     "execution_count": 6,
     "metadata": {},
     "output_type": "execute_result"
    }
   ],
   "source": [
    "df_order.groupby('id_store').id_order.count().reset_index().sort_values('id_order', ascending=False)"
   ]
  },
  {
   "cell_type": "markdown",
   "metadata": {
    "id": "MciEHryJHgZT"
   },
   "source": [
    "Calculate the average price of an order for each restaurant. Do you think you are dealing with similar categories of restaurants ?\n"
   ]
  },
  {
   "cell_type": "code",
   "execution_count": 7,
   "metadata": {
    "ExecuteTime": {
     "end_time": "2024-02-13T21:49:02.266821Z",
     "start_time": "2024-02-13T21:49:02.251437Z"
    },
    "id": "zxTgCgoOGWOw"
   },
   "outputs": [
    {
     "data": {
      "text/html": [
       "<div>\n",
       "<style scoped>\n",
       "    .dataframe tbody tr th:only-of-type {\n",
       "        vertical-align: middle;\n",
       "    }\n",
       "\n",
       "    .dataframe tbody tr th {\n",
       "        vertical-align: top;\n",
       "    }\n",
       "\n",
       "    .dataframe thead th {\n",
       "        text-align: right;\n",
       "    }\n",
       "</style>\n",
       "<table border=\"1\" class=\"dataframe\">\n",
       "  <thead>\n",
       "    <tr style=\"text-align: right;\">\n",
       "      <th></th>\n",
       "      <th>id_store</th>\n",
       "      <th>m_cached_price</th>\n",
       "    </tr>\n",
       "  </thead>\n",
       "  <tbody>\n",
       "    <tr>\n",
       "      <th>5</th>\n",
       "      <td>7965</td>\n",
       "      <td>125.243202</td>\n",
       "    </tr>\n",
       "    <tr>\n",
       "      <th>0</th>\n",
       "      <td>360</td>\n",
       "      <td>88.280662</td>\n",
       "    </tr>\n",
       "    <tr>\n",
       "      <th>6</th>\n",
       "      <td>8052</td>\n",
       "      <td>66.807756</td>\n",
       "    </tr>\n",
       "    <tr>\n",
       "      <th>9</th>\n",
       "      <td>9084</td>\n",
       "      <td>61.384002</td>\n",
       "    </tr>\n",
       "    <tr>\n",
       "      <th>2</th>\n",
       "      <td>4337</td>\n",
       "      <td>43.285872</td>\n",
       "    </tr>\n",
       "    <tr>\n",
       "      <th>7</th>\n",
       "      <td>8283</td>\n",
       "      <td>36.897418</td>\n",
       "    </tr>\n",
       "    <tr>\n",
       "      <th>8</th>\n",
       "      <td>8347</td>\n",
       "      <td>23.000000</td>\n",
       "    </tr>\n",
       "    <tr>\n",
       "      <th>4</th>\n",
       "      <td>6293</td>\n",
       "      <td>22.338570</td>\n",
       "    </tr>\n",
       "    <tr>\n",
       "      <th>3</th>\n",
       "      <td>4542</td>\n",
       "      <td>13.819494</td>\n",
       "    </tr>\n",
       "    <tr>\n",
       "      <th>1</th>\n",
       "      <td>1796</td>\n",
       "      <td>11.740820</td>\n",
       "    </tr>\n",
       "  </tbody>\n",
       "</table>\n",
       "</div>"
      ],
      "text/plain": [
       "   id_store  m_cached_price\n",
       "5      7965      125.243202\n",
       "0       360       88.280662\n",
       "6      8052       66.807756\n",
       "9      9084       61.384002\n",
       "2      4337       43.285872\n",
       "7      8283       36.897418\n",
       "8      8347       23.000000\n",
       "4      6293       22.338570\n",
       "3      4542       13.819494\n",
       "1      1796       11.740820"
      ]
     },
     "execution_count": 7,
     "metadata": {},
     "output_type": "execute_result"
    }
   ],
   "source": [
    "df_order.groupby('id_store').m_cached_price.mean().reset_index().sort_values('m_cached_price', ascending=False)"
   ]
  },
  {
   "cell_type": "markdown",
   "metadata": {
    "id": "WNFnJ9eFGWOw"
   },
   "source": [
    "## Column transformations\n"
   ]
  },
  {
   "cell_type": "markdown",
   "metadata": {
    "id": "AO8vSsMQLFvL"
   },
   "source": [
    "The problem is that an order may be placed for several people. Instead, we want to know the average price spent by a single person in the restaurant.\n",
    "\n",
    "Add a column to `df_order`,  representing the price per customer for each order.\n"
   ]
  },
  {
   "cell_type": "code",
   "execution_count": null,
   "metadata": {
    "ExecuteTime": {
     "end_time": "2024-02-13T21:49:02.281101Z",
     "start_time": "2024-02-13T21:49:02.268665Z"
    },
    "id": "uuafguQgLBsb"
   },
   "outputs": [],
   "source": [
    "df_order['avg_price_per_person'] = df_order.m_cached_price / df_order.m_nb_customer"
   ]
  },
  {
   "cell_type": "markdown",
   "metadata": {
    "id": "qelSfFgsNBmB"
   },
   "source": [
    "Using the previous column, calculate the average price spent by each person in each of the restaurants."
   ]
  },
  {
   "cell_type": "code",
   "execution_count": 9,
   "metadata": {},
   "outputs": [
    {
     "data": {
      "text/plain": [
       "np.int64(356)"
      ]
     },
     "execution_count": 9,
     "metadata": {},
     "output_type": "execute_result"
    }
   ],
   "source": [
    "df_order[df_order['m_nb_customer'] == 0]['m_nb_customer'].count()"
   ]
  },
  {
   "cell_type": "code",
   "execution_count": null,
   "metadata": {
    "ExecuteTime": {
     "end_time": "2024-02-13T21:49:02.288889Z",
     "start_time": "2024-02-13T21:49:02.284153Z"
    },
    "id": "FDmNUDEANfKr"
   },
   "outputs": [
    {
     "data": {
      "text/html": [
       "<div>\n",
       "<style scoped>\n",
       "    .dataframe tbody tr th:only-of-type {\n",
       "        vertical-align: middle;\n",
       "    }\n",
       "\n",
       "    .dataframe tbody tr th {\n",
       "        vertical-align: top;\n",
       "    }\n",
       "\n",
       "    .dataframe thead th {\n",
       "        text-align: right;\n",
       "    }\n",
       "</style>\n",
       "<table border=\"1\" class=\"dataframe\">\n",
       "  <thead>\n",
       "    <tr style=\"text-align: right;\">\n",
       "      <th></th>\n",
       "      <th>id_store</th>\n",
       "      <th>avg_price_per_person</th>\n",
       "    </tr>\n",
       "  </thead>\n",
       "  <tbody>\n",
       "    <tr>\n",
       "      <th>0</th>\n",
       "      <td>360</td>\n",
       "      <td>inf</td>\n",
       "    </tr>\n",
       "    <tr>\n",
       "      <th>1</th>\n",
       "      <td>1796</td>\n",
       "      <td>inf</td>\n",
       "    </tr>\n",
       "    <tr>\n",
       "      <th>2</th>\n",
       "      <td>4337</td>\n",
       "      <td>inf</td>\n",
       "    </tr>\n",
       "    <tr>\n",
       "      <th>4</th>\n",
       "      <td>6293</td>\n",
       "      <td>inf</td>\n",
       "    </tr>\n",
       "    <tr>\n",
       "      <th>5</th>\n",
       "      <td>7965</td>\n",
       "      <td>inf</td>\n",
       "    </tr>\n",
       "    <tr>\n",
       "      <th>9</th>\n",
       "      <td>9084</td>\n",
       "      <td>inf</td>\n",
       "    </tr>\n",
       "    <tr>\n",
       "      <th>7</th>\n",
       "      <td>8283</td>\n",
       "      <td>36.897418</td>\n",
       "    </tr>\n",
       "    <tr>\n",
       "      <th>6</th>\n",
       "      <td>8052</td>\n",
       "      <td>16.698658</td>\n",
       "    </tr>\n",
       "    <tr>\n",
       "      <th>3</th>\n",
       "      <td>4542</td>\n",
       "      <td>13.819494</td>\n",
       "    </tr>\n",
       "    <tr>\n",
       "      <th>8</th>\n",
       "      <td>8347</td>\n",
       "      <td>11.500000</td>\n",
       "    </tr>\n",
       "  </tbody>\n",
       "</table>\n",
       "</div>"
      ],
      "text/plain": [
       "   id_store  avg_price_per_person\n",
       "0       360                   inf\n",
       "1      1796                   inf\n",
       "2      4337                   inf\n",
       "4      6293                   inf\n",
       "5      7965                   inf\n",
       "9      9084                   inf\n",
       "7      8283             36.897418\n",
       "6      8052             16.698658\n",
       "3      4542             13.819494\n",
       "8      8347             11.500000"
      ]
     },
     "execution_count": 10,
     "metadata": {},
     "output_type": "execute_result"
    }
   ],
   "source": [
    "df_order.groupby('id_store').avg_price_per_person.mean().reset_index().sort_values('avg_price_per_person', ascending=False)"
   ]
  },
  {
   "cell_type": "markdown",
   "metadata": {
    "id": "BMspTKGpPgB6"
   },
   "source": [
    "There seems to be problem with the quality of data, as we can notice the presence of `NaN`for half of our restaurant\n",
    "\n",
    "Do you have any idea why?\n"
   ]
  },
  {
   "cell_type": "markdown",
   "metadata": {
    "id": "BDHS1-IdGWOx"
   },
   "source": [
    "> **The column `m_nb_customer` has a lot of 0 values**"
   ]
  },
  {
   "cell_type": "markdown",
   "metadata": {
    "id": "BgdDGZAmGWOx"
   },
   "source": [
    "## Cleaning\n"
   ]
  },
  {
   "cell_type": "markdown",
   "metadata": {
    "id": "SF-JSLhhGWOx"
   },
   "source": [
    "Fill the 0 values in the `m_nb_customer` column with 1, then eliminate the rows where the `m_cached_price` is 0."
   ]
  },
  {
   "cell_type": "code",
   "execution_count": null,
   "metadata": {
    "ExecuteTime": {
     "end_time": "2024-02-13T21:51:16.666496Z",
     "start_time": "2024-02-13T21:51:16.643379Z"
    },
    "id": "0Abq1T50PQjQ",
    "scrolled": true
   },
   "outputs": [],
   "source": [
    "df_order[df_order['m_nb_customer'] == 0] = 1"
   ]
  },
  {
   "cell_type": "code",
   "execution_count": null,
   "metadata": {
    "ExecuteTime": {
     "end_time": "2024-02-13T21:51:01.175175Z",
     "start_time": "2024-02-13T21:51:01.132080Z"
    },
    "id": "3MLuGglmGWOx",
    "scrolled": true
   },
   "outputs": [],
   "source": [
    "df_order = df_order[df_order['m_cached_price'] != 0]"
   ]
  },
  {
   "cell_type": "markdown",
   "metadata": {
    "id": "qYKGt6GlRQ_m"
   },
   "source": [
    "Recalculate the price_per_customer column and the average price spent by each person in each restaurant."
   ]
  },
  {
   "cell_type": "code",
   "execution_count": null,
   "metadata": {
    "ExecuteTime": {
     "end_time": "2024-02-13T21:51:18.710366Z",
     "start_time": "2024-02-13T21:51:18.691243Z"
    },
    "id": "oLQY0R__OhkA"
   },
   "outputs": [
    {
     "data": {
      "text/html": [
       "<div>\n",
       "<style scoped>\n",
       "    .dataframe tbody tr th:only-of-type {\n",
       "        vertical-align: middle;\n",
       "    }\n",
       "\n",
       "    .dataframe tbody tr th {\n",
       "        vertical-align: top;\n",
       "    }\n",
       "\n",
       "    .dataframe thead th {\n",
       "        text-align: right;\n",
       "    }\n",
       "</style>\n",
       "<table border=\"1\" class=\"dataframe\">\n",
       "  <thead>\n",
       "    <tr style=\"text-align: right;\">\n",
       "      <th></th>\n",
       "      <th>id_store</th>\n",
       "      <th>avg_price_per_person</th>\n",
       "    </tr>\n",
       "  </thead>\n",
       "  <tbody>\n",
       "    <tr>\n",
       "      <th>6</th>\n",
       "      <td>7965</td>\n",
       "      <td>102.619056</td>\n",
       "    </tr>\n",
       "    <tr>\n",
       "      <th>3</th>\n",
       "      <td>4337</td>\n",
       "      <td>43.497471</td>\n",
       "    </tr>\n",
       "    <tr>\n",
       "      <th>8</th>\n",
       "      <td>8283</td>\n",
       "      <td>36.901100</td>\n",
       "    </tr>\n",
       "    <tr>\n",
       "      <th>1</th>\n",
       "      <td>360</td>\n",
       "      <td>31.892529</td>\n",
       "    </tr>\n",
       "    <tr>\n",
       "      <th>10</th>\n",
       "      <td>9084</td>\n",
       "      <td>30.567094</td>\n",
       "    </tr>\n",
       "    <tr>\n",
       "      <th>5</th>\n",
       "      <td>6293</td>\n",
       "      <td>16.809143</td>\n",
       "    </tr>\n",
       "    <tr>\n",
       "      <th>7</th>\n",
       "      <td>8052</td>\n",
       "      <td>16.722518</td>\n",
       "    </tr>\n",
       "    <tr>\n",
       "      <th>4</th>\n",
       "      <td>4542</td>\n",
       "      <td>13.821061</td>\n",
       "    </tr>\n",
       "    <tr>\n",
       "      <th>2</th>\n",
       "      <td>1796</td>\n",
       "      <td>11.846780</td>\n",
       "    </tr>\n",
       "    <tr>\n",
       "      <th>9</th>\n",
       "      <td>8347</td>\n",
       "      <td>11.500000</td>\n",
       "    </tr>\n",
       "    <tr>\n",
       "      <th>0</th>\n",
       "      <td>1</td>\n",
       "      <td>1.000000</td>\n",
       "    </tr>\n",
       "  </tbody>\n",
       "</table>\n",
       "</div>"
      ],
      "text/plain": [
       "    id_store  avg_price_per_person\n",
       "6       7965            102.619056\n",
       "3       4337             43.497471\n",
       "8       8283             36.901100\n",
       "1        360             31.892529\n",
       "10      9084             30.567094\n",
       "5       6293             16.809143\n",
       "7       8052             16.722518\n",
       "4       4542             13.821061\n",
       "2       1796             11.846780\n",
       "9       8347             11.500000\n",
       "0          1              1.000000"
      ]
     },
     "execution_count": 13,
     "metadata": {},
     "output_type": "execute_result"
    }
   ],
   "source": [
    "df_order['avg_price_per_person'] = df_order.m_cached_price / df_order.m_nb_customer\n",
    "df_order.groupby('id_store').avg_price_per_person.mean().reset_index().sort_values('avg_price_per_person', ascending=False)"
   ]
  },
  {
   "cell_type": "markdown",
   "metadata": {
    "id": "rPpEDlRQR0dP"
   },
   "source": [
    "## Order duration analysis\n"
   ]
  },
  {
   "cell_type": "markdown",
   "metadata": {
    "id": "gtgNDxu-Sk04"
   },
   "source": [
    "Restaurant `7965` has a higher price per person than the rest.  \n",
    "Let's look at the time spent at the table to determine if it matches the characteristics of a fancy restaurant.\n",
    "\n",
    "\n"
   ]
  },
  {
   "cell_type": "markdown",
   "metadata": {
    "id": "0XiLTXG0S1zt"
   },
   "source": [
    "Convert the `date_opened` and `date_closed` columns to **datetime** format.\n"
   ]
  },
  {
   "cell_type": "code",
   "execution_count": 23,
   "metadata": {
    "ExecuteTime": {
     "end_time": "2024-02-13T21:51:20.582336Z",
     "start_time": "2024-02-13T21:51:20.555820Z"
    },
    "id": "vr_lHtn2SzXW"
   },
   "outputs": [],
   "source": [
    "#your code here\n",
    "df_order['date_opened'] = pd.to_datetime(df_order['date_opened'], utc=True, errors='coerce')\n",
    "df_order['date_closed'] = pd.to_datetime(df_order['date_closed'], utc=True, errors='coerce')"
   ]
  },
  {
   "cell_type": "code",
   "execution_count": 24,
   "metadata": {},
   "outputs": [
    {
     "name": "stdout",
     "output_type": "stream",
     "text": [
      "id_order                              int64\n",
      "id_store                              int64\n",
      "id_table                            float64\n",
      "id_waiter                           float64\n",
      "id_customer                         float64\n",
      "id_external                          object\n",
      "id_device                           float64\n",
      "date_opened             datetime64[ns, UTC]\n",
      "date_closed             datetime64[ns, UTC]\n",
      "dim_name                             object\n",
      "dim_status                           object\n",
      "dim_type                              int64\n",
      "dim_comment                          object\n",
      "dim_source                           object\n",
      "m_nb_customer                         int64\n",
      "m_cached_payed                      float64\n",
      "m_cached_price                      float64\n",
      "avg_price_per_person                float64\n",
      "dtype: object\n"
     ]
    }
   ],
   "source": [
    "print(df_order.dtypes)"
   ]
  },
  {
   "cell_type": "markdown",
   "metadata": {
    "id": "n9ZCQJscq-xI"
   },
   "source": [
    "Run the code below to calculate the time between the opening and closing date of an order in minutes."
   ]
  },
  {
   "cell_type": "code",
   "execution_count": 25,
   "metadata": {
    "ExecuteTime": {
     "end_time": "2024-02-13T21:51:23.187230Z",
     "start_time": "2024-02-13T21:51:23.167410Z"
    },
    "id": "0CpgxYX6ezsR"
   },
   "outputs": [],
   "source": [
    "df_order[\"order_duration\"] = (df_order.date_closed - df_order.date_opened).dt.total_seconds() / 60"
   ]
  },
  {
   "cell_type": "markdown",
   "metadata": {
    "id": "J7rOdfqHUa1W"
   },
   "source": [
    "Compute the average duration spent at each table for every restaurant."
   ]
  },
  {
   "cell_type": "code",
   "execution_count": 26,
   "metadata": {
    "ExecuteTime": {
     "end_time": "2024-02-13T21:52:28.766744Z",
     "start_time": "2024-02-13T21:52:28.734137Z"
    },
    "id": "cCj4sDxyq-xJ"
   },
   "outputs": [
    {
     "data": {
      "text/html": [
       "<div>\n",
       "<style scoped>\n",
       "    .dataframe tbody tr th:only-of-type {\n",
       "        vertical-align: middle;\n",
       "    }\n",
       "\n",
       "    .dataframe tbody tr th {\n",
       "        vertical-align: top;\n",
       "    }\n",
       "\n",
       "    .dataframe thead th {\n",
       "        text-align: right;\n",
       "    }\n",
       "</style>\n",
       "<table border=\"1\" class=\"dataframe\">\n",
       "  <thead>\n",
       "    <tr style=\"text-align: right;\">\n",
       "      <th></th>\n",
       "      <th>id_store</th>\n",
       "      <th>order_duration</th>\n",
       "    </tr>\n",
       "  </thead>\n",
       "  <tbody>\n",
       "    <tr>\n",
       "      <th>7</th>\n",
       "      <td>8052</td>\n",
       "      <td>164.739022</td>\n",
       "    </tr>\n",
       "    <tr>\n",
       "      <th>10</th>\n",
       "      <td>9084</td>\n",
       "      <td>103.063969</td>\n",
       "    </tr>\n",
       "    <tr>\n",
       "      <th>1</th>\n",
       "      <td>360</td>\n",
       "      <td>96.551532</td>\n",
       "    </tr>\n",
       "    <tr>\n",
       "      <th>6</th>\n",
       "      <td>7965</td>\n",
       "      <td>53.649000</td>\n",
       "    </tr>\n",
       "    <tr>\n",
       "      <th>5</th>\n",
       "      <td>6293</td>\n",
       "      <td>30.249566</td>\n",
       "    </tr>\n",
       "    <tr>\n",
       "      <th>3</th>\n",
       "      <td>4337</td>\n",
       "      <td>5.855529</td>\n",
       "    </tr>\n",
       "    <tr>\n",
       "      <th>4</th>\n",
       "      <td>4542</td>\n",
       "      <td>3.930523</td>\n",
       "    </tr>\n",
       "    <tr>\n",
       "      <th>9</th>\n",
       "      <td>8347</td>\n",
       "      <td>3.900000</td>\n",
       "    </tr>\n",
       "    <tr>\n",
       "      <th>2</th>\n",
       "      <td>1796</td>\n",
       "      <td>3.409303</td>\n",
       "    </tr>\n",
       "    <tr>\n",
       "      <th>8</th>\n",
       "      <td>8283</td>\n",
       "      <td>2.005228</td>\n",
       "    </tr>\n",
       "    <tr>\n",
       "      <th>0</th>\n",
       "      <td>1</td>\n",
       "      <td>NaN</td>\n",
       "    </tr>\n",
       "  </tbody>\n",
       "</table>\n",
       "</div>"
      ],
      "text/plain": [
       "    id_store  order_duration\n",
       "7       8052      164.739022\n",
       "10      9084      103.063969\n",
       "1        360       96.551532\n",
       "6       7965       53.649000\n",
       "5       6293       30.249566\n",
       "3       4337        5.855529\n",
       "4       4542        3.930523\n",
       "9       8347        3.900000\n",
       "2       1796        3.409303\n",
       "8       8283        2.005228\n",
       "0          1             NaN"
      ]
     },
     "execution_count": 26,
     "metadata": {},
     "output_type": "execute_result"
    }
   ],
   "source": [
    "#your code here\n",
    "df_order.groupby('id_store').order_duration.mean().reset_index().sort_values('order_duration', ascending=False)"
   ]
  },
  {
   "cell_type": "markdown",
   "metadata": {
    "id": "82pz9YvrU1Rj"
   },
   "source": [
    "Certain restaurants exhibit notably brief average order times, indicating a potential presence of fast food establishments among them.\n"
   ]
  },
  {
   "cell_type": "markdown",
   "metadata": {
    "id": "vVyGwdcmWfgA"
   },
   "source": [
    "## Joins"
   ]
  },
  {
   "cell_type": "markdown",
   "metadata": {
    "ExecuteTime": {
     "end_time": "2021-12-05T16:57:15.668667Z",
     "start_time": "2021-12-05T16:57:15.666267Z"
    },
    "id": "6kN9eSVgq-xG"
   },
   "source": [
    "Download  [Tiller_order_line.csv](https://drive.google.com/file/d/1KSDFGLu2QAAR2C5SUlM5mfhINHU-LIuJ/view?usp=sharing) and [Tiller_store_data.csv](https://drive.google.com/file/d/1vQRlCYTAaikHMR3zTqy09r1QBNdZgraN/view?usp=sharing) and upload them in two DataFrame `df_line` and `df_store`.\n"
   ]
  },
  {
   "cell_type": "code",
   "execution_count": 53,
   "metadata": {
    "ExecuteTime": {
     "end_time": "2024-02-13T21:54:34.986852Z",
     "start_time": "2024-02-13T21:54:34.345807Z"
    },
    "id": "-LeTQt0lq-xG"
   },
   "outputs": [],
   "source": [
    "df_line =  pd.read_csv('Tiller_order_line.csv')\n",
    "df_store =  pd.read_csv('Tiller_store_data.csv')"
   ]
  },
  {
   "cell_type": "markdown",
   "metadata": {
    "id": "1iQwsa6hq-xG"
   },
   "source": [
    "What new information do you have access to through this data?"
   ]
  },
  {
   "cell_type": "code",
   "execution_count": 28,
   "metadata": {
    "ExecuteTime": {
     "end_time": "2024-02-13T21:54:56.444406Z",
     "start_time": "2024-02-13T21:54:56.413703Z"
    },
    "id": "BQb_6lpBq-xG"
   },
   "outputs": [
    {
     "data": {
      "text/html": [
       "<div>\n",
       "<style scoped>\n",
       "    .dataframe tbody tr th:only-of-type {\n",
       "        vertical-align: middle;\n",
       "    }\n",
       "\n",
       "    .dataframe tbody tr th {\n",
       "        vertical-align: top;\n",
       "    }\n",
       "\n",
       "    .dataframe thead th {\n",
       "        text-align: right;\n",
       "    }\n",
       "</style>\n",
       "<table border=\"1\" class=\"dataframe\">\n",
       "  <thead>\n",
       "    <tr style=\"text-align: right;\">\n",
       "      <th></th>\n",
       "      <th>id_order_line</th>\n",
       "      <th>id_order</th>\n",
       "      <th>date_opended</th>\n",
       "      <th>date_created</th>\n",
       "      <th>m_quantity</th>\n",
       "      <th>m_unit_price</th>\n",
       "      <th>m_unit_price_exc_vat</th>\n",
       "      <th>m_total_price_inc_vat</th>\n",
       "      <th>m_total_price_exc_vat</th>\n",
       "      <th>m_tax_percent</th>\n",
       "      <th>m_discount_amount</th>\n",
       "      <th>dim_type</th>\n",
       "      <th>dim_category</th>\n",
       "      <th>dim_name</th>\n",
       "      <th>dim_status</th>\n",
       "      <th>m_nb_payed</th>\n",
       "      <th>dim_feature_type</th>\n",
       "      <th>dim_unit_measure</th>\n",
       "      <th>dim_unit_measure_display</th>\n",
       "    </tr>\n",
       "  </thead>\n",
       "  <tbody>\n",
       "    <tr>\n",
       "      <th>0</th>\n",
       "      <td>626609716</td>\n",
       "      <td>139058632</td>\n",
       "      <td>2020-08-25 17:27:14 UTC</td>\n",
       "      <td>2020-08-25 17:27:25 UTC</td>\n",
       "      <td>1.0</td>\n",
       "      <td>15.00</td>\n",
       "      <td>12.500000</td>\n",
       "      <td>15.00</td>\n",
       "      <td>12.500000</td>\n",
       "      <td>0.200</td>\n",
       "      <td>0.0</td>\n",
       "      <td>PRODUCT</td>\n",
       "      <td>VINS ROUGES</td>\n",
       "      <td>TWIST AGAIN 2018 VDF - YOANN ROMAGNE</td>\n",
       "      <td>DONE</td>\n",
       "      <td>0</td>\n",
       "      <td>NaN</td>\n",
       "      <td>UNIT</td>\n",
       "      <td>UNIT</td>\n",
       "    </tr>\n",
       "    <tr>\n",
       "      <th>1</th>\n",
       "      <td>403167240</td>\n",
       "      <td>94770355</td>\n",
       "      <td>2019-09-27 07:47:14 UTC</td>\n",
       "      <td>2019-09-27 07:47:18 UTC</td>\n",
       "      <td>1.0</td>\n",
       "      <td>25.90</td>\n",
       "      <td>21.583333</td>\n",
       "      <td>25.90</td>\n",
       "      <td>21.583333</td>\n",
       "      <td>0.200</td>\n",
       "      <td>0.0</td>\n",
       "      <td>PRODUCT</td>\n",
       "      <td>LIQUIDES 50ML AUTRES</td>\n",
       "      <td>MOMMY CAKE</td>\n",
       "      <td>DONE</td>\n",
       "      <td>0</td>\n",
       "      <td>NaN</td>\n",
       "      <td>UNIT</td>\n",
       "      <td>UNIT</td>\n",
       "    </tr>\n",
       "    <tr>\n",
       "      <th>2</th>\n",
       "      <td>578564178</td>\n",
       "      <td>127794604</td>\n",
       "      <td>2020-06-12 11:07:09 UTC</td>\n",
       "      <td>2020-06-12 11:07:25 UTC</td>\n",
       "      <td>1.0</td>\n",
       "      <td>4.20</td>\n",
       "      <td>3.818182</td>\n",
       "      <td>4.20</td>\n",
       "      <td>3.818182</td>\n",
       "      <td>0.100</td>\n",
       "      <td>0.0</td>\n",
       "      <td>PRODUCT</td>\n",
       "      <td>Déjeuner</td>\n",
       "      <td>FORMULE JUS 30CL</td>\n",
       "      <td>DONE</td>\n",
       "      <td>0</td>\n",
       "      <td>NaN</td>\n",
       "      <td>UNIT</td>\n",
       "      <td>UNIT</td>\n",
       "    </tr>\n",
       "    <tr>\n",
       "      <th>3</th>\n",
       "      <td>329942564</td>\n",
       "      <td>77841193</td>\n",
       "      <td>2019-06-17 13:13:30 UTC</td>\n",
       "      <td>2019-06-17 13:13:43 UTC</td>\n",
       "      <td>1.0</td>\n",
       "      <td>2.20</td>\n",
       "      <td>2.085308</td>\n",
       "      <td>2.20</td>\n",
       "      <td>2.085308</td>\n",
       "      <td>0.055</td>\n",
       "      <td>0.0</td>\n",
       "      <td>PRODUCT</td>\n",
       "      <td>BOISSONS</td>\n",
       "      <td>EVIAN - BADOIT - COCA</td>\n",
       "      <td>DONE</td>\n",
       "      <td>0</td>\n",
       "      <td>NaN</td>\n",
       "      <td>UNIT</td>\n",
       "      <td>UNIT</td>\n",
       "    </tr>\n",
       "    <tr>\n",
       "      <th>4</th>\n",
       "      <td>348375251</td>\n",
       "      <td>82283609</td>\n",
       "      <td>2019-07-12 20:14:51 UTC</td>\n",
       "      <td>2019-07-12 20:15:38 UTC</td>\n",
       "      <td>1.0</td>\n",
       "      <td>-5.16</td>\n",
       "      <td>-5.160000</td>\n",
       "      <td>-5.16</td>\n",
       "      <td>-5.160000</td>\n",
       "      <td>0.000</td>\n",
       "      <td>0.0</td>\n",
       "      <td>DISCOUNT</td>\n",
       "      <td>VARIOUS</td>\n",
       "      <td>DISCOUNT</td>\n",
       "      <td>DONE</td>\n",
       "      <td>0</td>\n",
       "      <td>NaN</td>\n",
       "      <td>NaN</td>\n",
       "      <td>NaN</td>\n",
       "    </tr>\n",
       "    <tr>\n",
       "      <th>...</th>\n",
       "      <td>...</td>\n",
       "      <td>...</td>\n",
       "      <td>...</td>\n",
       "      <td>...</td>\n",
       "      <td>...</td>\n",
       "      <td>...</td>\n",
       "      <td>...</td>\n",
       "      <td>...</td>\n",
       "      <td>...</td>\n",
       "      <td>...</td>\n",
       "      <td>...</td>\n",
       "      <td>...</td>\n",
       "      <td>...</td>\n",
       "      <td>...</td>\n",
       "      <td>...</td>\n",
       "      <td>...</td>\n",
       "      <td>...</td>\n",
       "      <td>...</td>\n",
       "      <td>...</td>\n",
       "    </tr>\n",
       "    <tr>\n",
       "      <th>443832</th>\n",
       "      <td>290984866</td>\n",
       "      <td>68279225</td>\n",
       "      <td>2019-04-15 11:15:29 UTC</td>\n",
       "      <td>2019-04-15 11:16:52 UTC</td>\n",
       "      <td>1.0</td>\n",
       "      <td>9.50</td>\n",
       "      <td>9.004739</td>\n",
       "      <td>9.50</td>\n",
       "      <td>9.004739</td>\n",
       "      <td>0.055</td>\n",
       "      <td>0.0</td>\n",
       "      <td>PRODUCT</td>\n",
       "      <td>Déjeuner</td>\n",
       "      <td>COMPOSITION</td>\n",
       "      <td>DONE</td>\n",
       "      <td>0</td>\n",
       "      <td>NaN</td>\n",
       "      <td>UNIT</td>\n",
       "      <td>UNIT</td>\n",
       "    </tr>\n",
       "    <tr>\n",
       "      <th>443833</th>\n",
       "      <td>389430312</td>\n",
       "      <td>91598965</td>\n",
       "      <td>2019-09-09 10:50:22 UTC</td>\n",
       "      <td>2019-09-09 10:50:28 UTC</td>\n",
       "      <td>1.0</td>\n",
       "      <td>9.50</td>\n",
       "      <td>9.004739</td>\n",
       "      <td>9.50</td>\n",
       "      <td>9.004739</td>\n",
       "      <td>0.055</td>\n",
       "      <td>0.0</td>\n",
       "      <td>PRODUCT</td>\n",
       "      <td>Déjeuner</td>\n",
       "      <td>COMPOSITION</td>\n",
       "      <td>DONE</td>\n",
       "      <td>0</td>\n",
       "      <td>NaN</td>\n",
       "      <td>UNIT</td>\n",
       "      <td>UNIT</td>\n",
       "    </tr>\n",
       "    <tr>\n",
       "      <th>443834</th>\n",
       "      <td>312176545</td>\n",
       "      <td>73493364</td>\n",
       "      <td>2019-05-21 11:56:46 UTC</td>\n",
       "      <td>2019-05-21 11:57:35 UTC</td>\n",
       "      <td>1.0</td>\n",
       "      <td>9.50</td>\n",
       "      <td>9.004739</td>\n",
       "      <td>9.50</td>\n",
       "      <td>9.004739</td>\n",
       "      <td>0.055</td>\n",
       "      <td>0.0</td>\n",
       "      <td>PRODUCT</td>\n",
       "      <td>Déjeuner</td>\n",
       "      <td>COMPOSITION</td>\n",
       "      <td>DONE</td>\n",
       "      <td>0</td>\n",
       "      <td>NaN</td>\n",
       "      <td>UNIT</td>\n",
       "      <td>UNIT</td>\n",
       "    </tr>\n",
       "    <tr>\n",
       "      <th>443835</th>\n",
       "      <td>379325655</td>\n",
       "      <td>89449501</td>\n",
       "      <td>2019-08-28 11:20:46 UTC</td>\n",
       "      <td>2019-08-28 11:22:49 UTC</td>\n",
       "      <td>1.0</td>\n",
       "      <td>9.50</td>\n",
       "      <td>9.004739</td>\n",
       "      <td>9.50</td>\n",
       "      <td>9.004739</td>\n",
       "      <td>0.055</td>\n",
       "      <td>0.0</td>\n",
       "      <td>PRODUCT</td>\n",
       "      <td>Déjeuner</td>\n",
       "      <td>COMPOSITION</td>\n",
       "      <td>DONE</td>\n",
       "      <td>0</td>\n",
       "      <td>NaN</td>\n",
       "      <td>UNIT</td>\n",
       "      <td>UNIT</td>\n",
       "    </tr>\n",
       "    <tr>\n",
       "      <th>443836</th>\n",
       "      <td>422735997</td>\n",
       "      <td>99444426</td>\n",
       "      <td>2019-10-23 10:57:30 UTC</td>\n",
       "      <td>2019-10-23 11:00:12 UTC</td>\n",
       "      <td>1.0</td>\n",
       "      <td>9.50</td>\n",
       "      <td>9.004739</td>\n",
       "      <td>9.50</td>\n",
       "      <td>9.004739</td>\n",
       "      <td>0.055</td>\n",
       "      <td>0.0</td>\n",
       "      <td>PRODUCT</td>\n",
       "      <td>Déjeuner</td>\n",
       "      <td>COMPOSITION</td>\n",
       "      <td>DONE</td>\n",
       "      <td>0</td>\n",
       "      <td>NaN</td>\n",
       "      <td>UNIT</td>\n",
       "      <td>UNIT</td>\n",
       "    </tr>\n",
       "  </tbody>\n",
       "</table>\n",
       "<p>443837 rows × 19 columns</p>\n",
       "</div>"
      ],
      "text/plain": [
       "        id_order_line   id_order             date_opended  \\\n",
       "0           626609716  139058632  2020-08-25 17:27:14 UTC   \n",
       "1           403167240   94770355  2019-09-27 07:47:14 UTC   \n",
       "2           578564178  127794604  2020-06-12 11:07:09 UTC   \n",
       "3           329942564   77841193  2019-06-17 13:13:30 UTC   \n",
       "4           348375251   82283609  2019-07-12 20:14:51 UTC   \n",
       "...               ...        ...                      ...   \n",
       "443832      290984866   68279225  2019-04-15 11:15:29 UTC   \n",
       "443833      389430312   91598965  2019-09-09 10:50:22 UTC   \n",
       "443834      312176545   73493364  2019-05-21 11:56:46 UTC   \n",
       "443835      379325655   89449501  2019-08-28 11:20:46 UTC   \n",
       "443836      422735997   99444426  2019-10-23 10:57:30 UTC   \n",
       "\n",
       "                   date_created  m_quantity  m_unit_price  \\\n",
       "0       2020-08-25 17:27:25 UTC         1.0         15.00   \n",
       "1       2019-09-27 07:47:18 UTC         1.0         25.90   \n",
       "2       2020-06-12 11:07:25 UTC         1.0          4.20   \n",
       "3       2019-06-17 13:13:43 UTC         1.0          2.20   \n",
       "4       2019-07-12 20:15:38 UTC         1.0         -5.16   \n",
       "...                         ...         ...           ...   \n",
       "443832  2019-04-15 11:16:52 UTC         1.0          9.50   \n",
       "443833  2019-09-09 10:50:28 UTC         1.0          9.50   \n",
       "443834  2019-05-21 11:57:35 UTC         1.0          9.50   \n",
       "443835  2019-08-28 11:22:49 UTC         1.0          9.50   \n",
       "443836  2019-10-23 11:00:12 UTC         1.0          9.50   \n",
       "\n",
       "        m_unit_price_exc_vat  m_total_price_inc_vat  m_total_price_exc_vat  \\\n",
       "0                  12.500000                  15.00              12.500000   \n",
       "1                  21.583333                  25.90              21.583333   \n",
       "2                   3.818182                   4.20               3.818182   \n",
       "3                   2.085308                   2.20               2.085308   \n",
       "4                  -5.160000                  -5.16              -5.160000   \n",
       "...                      ...                    ...                    ...   \n",
       "443832              9.004739                   9.50               9.004739   \n",
       "443833              9.004739                   9.50               9.004739   \n",
       "443834              9.004739                   9.50               9.004739   \n",
       "443835              9.004739                   9.50               9.004739   \n",
       "443836              9.004739                   9.50               9.004739   \n",
       "\n",
       "        m_tax_percent  m_discount_amount  dim_type          dim_category  \\\n",
       "0               0.200                0.0   PRODUCT           VINS ROUGES   \n",
       "1               0.200                0.0   PRODUCT  LIQUIDES 50ML AUTRES   \n",
       "2               0.100                0.0   PRODUCT              Déjeuner   \n",
       "3               0.055                0.0   PRODUCT              BOISSONS   \n",
       "4               0.000                0.0  DISCOUNT               VARIOUS   \n",
       "...               ...                ...       ...                   ...   \n",
       "443832          0.055                0.0   PRODUCT              Déjeuner   \n",
       "443833          0.055                0.0   PRODUCT              Déjeuner   \n",
       "443834          0.055                0.0   PRODUCT              Déjeuner   \n",
       "443835          0.055                0.0   PRODUCT              Déjeuner   \n",
       "443836          0.055                0.0   PRODUCT              Déjeuner   \n",
       "\n",
       "                                    dim_name dim_status  m_nb_payed  \\\n",
       "0       TWIST AGAIN 2018 VDF - YOANN ROMAGNE       DONE           0   \n",
       "1                                 MOMMY CAKE       DONE           0   \n",
       "2                           FORMULE JUS 30CL       DONE           0   \n",
       "3                      EVIAN - BADOIT - COCA       DONE           0   \n",
       "4                                   DISCOUNT       DONE           0   \n",
       "...                                      ...        ...         ...   \n",
       "443832                           COMPOSITION       DONE           0   \n",
       "443833                           COMPOSITION       DONE           0   \n",
       "443834                           COMPOSITION       DONE           0   \n",
       "443835                           COMPOSITION       DONE           0   \n",
       "443836                           COMPOSITION       DONE           0   \n",
       "\n",
       "       dim_feature_type dim_unit_measure dim_unit_measure_display  \n",
       "0                   NaN             UNIT                     UNIT  \n",
       "1                   NaN             UNIT                     UNIT  \n",
       "2                   NaN             UNIT                     UNIT  \n",
       "3                   NaN             UNIT                     UNIT  \n",
       "4                   NaN              NaN                      NaN  \n",
       "...                 ...              ...                      ...  \n",
       "443832              NaN             UNIT                     UNIT  \n",
       "443833              NaN             UNIT                     UNIT  \n",
       "443834              NaN             UNIT                     UNIT  \n",
       "443835              NaN             UNIT                     UNIT  \n",
       "443836              NaN             UNIT                     UNIT  \n",
       "\n",
       "[443837 rows x 19 columns]"
      ]
     },
     "execution_count": 28,
     "metadata": {},
     "output_type": "execute_result"
    }
   ],
   "source": [
    "df_line"
   ]
  },
  {
   "cell_type": "code",
   "execution_count": 54,
   "metadata": {},
   "outputs": [
    {
     "data": {
      "text/html": [
       "<div>\n",
       "<style scoped>\n",
       "    .dataframe tbody tr th:only-of-type {\n",
       "        vertical-align: middle;\n",
       "    }\n",
       "\n",
       "    .dataframe tbody tr th {\n",
       "        vertical-align: top;\n",
       "    }\n",
       "\n",
       "    .dataframe thead th {\n",
       "        text-align: right;\n",
       "    }\n",
       "</style>\n",
       "<table border=\"1\" class=\"dataframe\">\n",
       "  <thead>\n",
       "    <tr style=\"text-align: right;\">\n",
       "      <th></th>\n",
       "      <th>id_store</th>\n",
       "      <th>date_created</th>\n",
       "      <th>dim_zipcode</th>\n",
       "      <th>dim_country</th>\n",
       "      <th>dim_currency</th>\n",
       "    </tr>\n",
       "  </thead>\n",
       "  <tbody>\n",
       "    <tr>\n",
       "      <th>0</th>\n",
       "      <td>2576</td>\n",
       "      <td>2016-07-12 16:15:31+00:00</td>\n",
       "      <td>34120</td>\n",
       "      <td>FR</td>\n",
       "      <td>EUR</td>\n",
       "    </tr>\n",
       "    <tr>\n",
       "      <th>1</th>\n",
       "      <td>2538</td>\n",
       "      <td>2016-07-07 16:35:44+00:00</td>\n",
       "      <td>47800</td>\n",
       "      <td>FR</td>\n",
       "      <td>EUR</td>\n",
       "    </tr>\n",
       "    <tr>\n",
       "      <th>2</th>\n",
       "      <td>2468</td>\n",
       "      <td>2016-06-30 12:44:25+00:00</td>\n",
       "      <td>06470</td>\n",
       "      <td>FR</td>\n",
       "      <td>EUR</td>\n",
       "    </tr>\n",
       "    <tr>\n",
       "      <th>3</th>\n",
       "      <td>2375</td>\n",
       "      <td>2016-06-21 12:52:36+00:00</td>\n",
       "      <td>76000</td>\n",
       "      <td>FR</td>\n",
       "      <td>EUR</td>\n",
       "    </tr>\n",
       "    <tr>\n",
       "      <th>4</th>\n",
       "      <td>2328</td>\n",
       "      <td>2016-06-16 13:59:52+00:00</td>\n",
       "      <td>75018</td>\n",
       "      <td>FR</td>\n",
       "      <td>EUR</td>\n",
       "    </tr>\n",
       "    <tr>\n",
       "      <th>...</th>\n",
       "      <td>...</td>\n",
       "      <td>...</td>\n",
       "      <td>...</td>\n",
       "      <td>...</td>\n",
       "      <td>...</td>\n",
       "    </tr>\n",
       "    <tr>\n",
       "      <th>495</th>\n",
       "      <td>11412</td>\n",
       "      <td>2019-11-11 17:38:57+00:00</td>\n",
       "      <td>7500</td>\n",
       "      <td>CH</td>\n",
       "      <td>CHF</td>\n",
       "    </tr>\n",
       "    <tr>\n",
       "      <th>496</th>\n",
       "      <td>3453</td>\n",
       "      <td>2016-12-05 17:40:56+00:00</td>\n",
       "      <td>Abidjan</td>\n",
       "      <td>CI</td>\n",
       "      <td>XOF</td>\n",
       "    </tr>\n",
       "    <tr>\n",
       "      <th>497</th>\n",
       "      <td>1070</td>\n",
       "      <td>2016-01-15 08:44:03+00:00</td>\n",
       "      <td>01 BP</td>\n",
       "      <td>CI</td>\n",
       "      <td>XOF</td>\n",
       "    </tr>\n",
       "    <tr>\n",
       "      <th>498</th>\n",
       "      <td>425</td>\n",
       "      <td>2015-08-28 18:58:25+00:00</td>\n",
       "      <td>2687</td>\n",
       "      <td>GN</td>\n",
       "      <td>GNF</td>\n",
       "    </tr>\n",
       "    <tr>\n",
       "      <th>499</th>\n",
       "      <td>10009</td>\n",
       "      <td>2019-06-06 14:35:42+00:00</td>\n",
       "      <td>4059</td>\n",
       "      <td>CH</td>\n",
       "      <td>CHF</td>\n",
       "    </tr>\n",
       "  </tbody>\n",
       "</table>\n",
       "<p>500 rows × 5 columns</p>\n",
       "</div>"
      ],
      "text/plain": [
       "     id_store               date_created dim_zipcode dim_country dim_currency\n",
       "0        2576  2016-07-12 16:15:31+00:00       34120          FR          EUR\n",
       "1        2538  2016-07-07 16:35:44+00:00       47800          FR          EUR\n",
       "2        2468  2016-06-30 12:44:25+00:00       06470          FR          EUR\n",
       "3        2375  2016-06-21 12:52:36+00:00       76000          FR          EUR\n",
       "4        2328  2016-06-16 13:59:52+00:00       75018          FR          EUR\n",
       "..        ...                        ...         ...         ...          ...\n",
       "495     11412  2019-11-11 17:38:57+00:00        7500          CH          CHF\n",
       "496      3453  2016-12-05 17:40:56+00:00     Abidjan          CI          XOF\n",
       "497      1070  2016-01-15 08:44:03+00:00       01 BP          CI          XOF\n",
       "498       425  2015-08-28 18:58:25+00:00        2687          GN          GNF\n",
       "499     10009  2019-06-06 14:35:42+00:00        4059          CH          CHF\n",
       "\n",
       "[500 rows x 5 columns]"
      ]
     },
     "execution_count": 54,
     "metadata": {},
     "output_type": "execute_result"
    }
   ],
   "source": [
    "df_store"
   ]
  },
  {
   "cell_type": "markdown",
   "metadata": {
    "id": "dYEeRzsqq-xH"
   },
   "source": [
    "<details>\n",
    "    <summary> Answer 💡 </summary>\n",
    "\n",
    "- `Order line` = The different products in an order\n",
    "- `Store data` = Information about the restaurant/bar\n",
    "\n",
    "</details>\n"
   ]
  },
  {
   "cell_type": "markdown",
   "metadata": {
    "id": "OYsG4N6Lq-xH"
   },
   "source": [
    "Paris is divided into 20 districts. Each of them has a unique code 75001, 75002, ..., 75019, 75020. \\\n",
    "How many orders were placed in the `2nd district`?\n",
    "\n"
   ]
  },
  {
   "cell_type": "code",
   "execution_count": 67,
   "metadata": {
    "ExecuteTime": {
     "end_time": "2024-02-13T21:58:33.867365Z",
     "start_time": "2024-02-13T21:58:33.769220Z"
    },
    "id": "EQkdLlUMq-xH"
   },
   "outputs": [
    {
     "name": "stdout",
     "output_type": "stream",
     "text": [
      "Paris second district has 59191 orders\n"
     ]
    }
   ],
   "source": [
    "df_some1 = df_order.merge(df_store, how='left', on='id_store')\n",
    "\n",
    "print(f'Paris second district has {df_some1[df_some1['dim_zipcode'] == '75002']['id_order'].count()} orders')"
   ]
  },
  {
   "cell_type": "markdown",
   "metadata": {
    "id": "ADA46_E1YZe_"
   },
   "source": [
    "Let's have a look at restaurant `4542`, which shows a very brief average ordering time.\n",
    "\n",
    "\n",
    "Retrieve the most ordered items in this restaurant by retaining only the **id_store** and **id_order** columns from `df_order`, as well as the **id_order**, **id_order_line**, and **dim_name** columns from `order_line`.\n"
   ]
  },
  {
   "cell_type": "code",
   "execution_count": null,
   "metadata": {
    "ExecuteTime": {
     "end_time": "2024-02-13T22:03:38.614018Z",
     "start_time": "2024-02-13T22:03:38.525366Z"
    },
    "id": "ggr_eaelq-xI"
   },
   "outputs": [
    {
     "name": "stdout",
     "output_type": "stream",
     "text": [
      "The most selled item is BIG\n"
     ]
    }
   ],
   "source": [
    "df_some2 = df_line[['id_order', 'id_order_line', 'dim_name']].merge(df_order[['id_store', 'id_order']], how='left', on='id_order')\n",
    "\n",
    "x = df_some2.groupby('dim_name').id_order_line.count().reset_index().sort_values('id_order_line', ascending=False)\n",
    "\n",
    "y = x.loc[x.id_order_line == x.id_order_line.max(), 'dim_name'].iloc[0]\n",
    "\n",
    "print(f'The most selled item is {y}')"
   ]
  }
 ],
 "metadata": {
  "colab": {
   "provenance": []
  },
  "kernelspec": {
   "display_name": "Python (le_wagon-python)",
   "language": "python",
   "name": "le_wagon-python"
  },
  "language_info": {
   "codemirror_mode": {
    "name": "ipython",
    "version": 3
   },
   "file_extension": ".py",
   "mimetype": "text/x-python",
   "name": "python",
   "nbconvert_exporter": "python",
   "pygments_lexer": "ipython3",
   "version": "3.13.3"
  },
  "toc": {
   "base_numbering": 1,
   "nav_menu": {},
   "number_sections": true,
   "sideBar": true,
   "skip_h1_title": false,
   "title_cell": "Table of Contents",
   "title_sidebar": "Contents",
   "toc_cell": false,
   "toc_position": {},
   "toc_section_display": true,
   "toc_window_display": false
  }
 },
 "nbformat": 4,
 "nbformat_minor": 0
}
