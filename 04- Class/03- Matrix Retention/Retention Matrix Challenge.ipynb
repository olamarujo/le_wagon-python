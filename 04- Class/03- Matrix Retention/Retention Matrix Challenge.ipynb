{
 "cells": [
  {
   "cell_type": "markdown",
   "metadata": {
    "id": "-JzbMZMGL2W1"
   },
   "source": [
    " ![Emil](data:image/png;base64,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)"
   ]
  },
  {
   "cell_type": "markdown",
   "metadata": {
    "id": "3Io8S5AZL2W3"
   },
   "source": [
    "# Greenweez Retention Matrix\n"
   ]
  },
  {
   "cell_type": "markdown",
   "metadata": {
    "id": "PRX7fnRzi9lp"
   },
   "source": [
    "In this challenge, we will study the impact of COVID-19 on Greenweez, with a focus on customer retention.\n",
    "\n"
   ]
  },
  {
   "cell_type": "markdown",
   "metadata": {
    "id": "APOuNd_SRWe9"
   },
   "source": [
    "There have been 3 lockdowns in France during the COVID-19 pandemic:\n",
    "\n",
    "\n",
    "- **March 17 to May 11, 2020**, i.e. 1 month and 25 days;\n",
    "- **October 30 to December 15, 2020**, i.e. 1 month and 15 days;\n",
    "- **April 3 to May 3, 2021**, i.e. 28 days."
   ]
  },
  {
   "cell_type": "markdown",
   "metadata": {
    "id": "YOVQ7T_SUDx8"
   },
   "source": [
    "## Turnover Analysis\n"
   ]
  },
  {
   "cell_type": "markdown",
   "metadata": {
    "id": "m4A2LylEoKAe"
   },
   "source": [
    "### Yearly Analysis\n",
    "\n"
   ]
  },
  {
   "cell_type": "markdown",
   "metadata": {
    "id": "I6MDzJAuMakU"
   },
   "source": [
    "Load Greenweez orders by executing the following cell. \\\n",
    "It may take a few minutes to execute"
   ]
  },
  {
   "cell_type": "code",
   "execution_count": 1,
   "metadata": {},
   "outputs": [
    {
     "name": "stdout",
     "output_type": "stream",
     "text": [
      "Please visit this URL to authorize this application: https://accounts.google.com/o/oauth2/auth?response_type=code&client_id=756995814547-628u7gu3u990plc8b5t7vrqvimldmlp7.apps.googleusercontent.com&redirect_uri=http%3A%2F%2Flocalhost%3A54503%2F&scope=https%3A%2F%2Fwww.googleapis.com%2Fauth%2Fbigquery&state=Vf0uP4dT79kF2dtYkI3a8LpdYDYzl4&access_type=offline\n",
      "Abrindo em uma sessão de navegador existente.\n",
      "Autenticação concluída!\n"
     ]
    }
   ],
   "source": [
    "from google_auth_oauthlib.flow import InstalledAppFlow\n",
    "\n",
    "SCOPES = [\"https://www.googleapis.com/auth/bigquery\"]\n",
    "\n",
    "\n",
    "flow = InstalledAppFlow.from_client_secrets_file(\n",
    "    \"client_secrets.json\",\n",
    "    scopes=SCOPES\n",
    ")\n",
    "\n",
    "creds = flow.run_local_server(port=0)\n",
    "\n",
    "print(\"Autenticação concluída!\")"
   ]
  },
  {
   "cell_type": "code",
   "execution_count": 2,
   "metadata": {},
   "outputs": [
    {
     "name": "stdout",
     "output_type": "stream",
     "text": [
      "✅ Conectado ao BigQuery com sucesso!\n"
     ]
    }
   ],
   "source": [
    "from google.cloud import bigquery\n",
    "\n",
    "project_id = 'sanguine-stock-438207-v6'\n",
    "client = bigquery.Client(credentials=creds, project=project_id)\n",
    "\n",
    "print(\"✅ Conectado ao BigQuery com sucesso!\")"
   ]
  },
  {
   "cell_type": "code",
   "execution_count": 3,
   "metadata": {},
   "outputs": [],
   "source": [
    "query = \"\"\"\n",
    "    SELECT *\n",
    "    FROM `sanguine-stock-438207-v6.course_17.gwz_orders_17`\n",
    "\"\"\"\n",
    "\n",
    "query_job = client.query(query)"
   ]
  },
  {
   "cell_type": "code",
   "execution_count": 4,
   "metadata": {},
   "outputs": [
    {
     "name": "stderr",
     "output_type": "stream",
     "text": [
      "/home/olamarujo/Projetos/Le Wagon/Python/le_wagon-python-env/lib/python3.13/site-packages/google/cloud/bigquery/table.py:1994: UserWarning: BigQuery Storage module not found, fetch data with the REST endpoint instead.\n",
      "  warnings.warn(\n"
     ]
    }
   ],
   "source": [
    "import pandas as pd\n",
    "df = query_job.to_dataframe()"
   ]
  },
  {
   "cell_type": "code",
   "execution_count": 5,
   "metadata": {},
   "outputs": [
    {
     "data": {
      "text/html": [
       "<div>\n",
       "<style scoped>\n",
       "    .dataframe tbody tr th:only-of-type {\n",
       "        vertical-align: middle;\n",
       "    }\n",
       "\n",
       "    .dataframe tbody tr th {\n",
       "        vertical-align: top;\n",
       "    }\n",
       "\n",
       "    .dataframe thead th {\n",
       "        text-align: right;\n",
       "    }\n",
       "</style>\n",
       "<table border=\"1\" class=\"dataframe\">\n",
       "  <thead>\n",
       "    <tr style=\"text-align: right;\">\n",
       "      <th></th>\n",
       "      <th>date_date</th>\n",
       "      <th>customers_id</th>\n",
       "      <th>orders_id</th>\n",
       "      <th>turnover</th>\n",
       "      <th>margin</th>\n",
       "      <th>shipping_fee</th>\n",
       "      <th>operationnal_cost</th>\n",
       "    </tr>\n",
       "  </thead>\n",
       "  <tbody>\n",
       "    <tr>\n",
       "      <th>0</th>\n",
       "      <td>2021-04-01</td>\n",
       "      <td>275664</td>\n",
       "      <td>825526</td>\n",
       "      <td>20.70</td>\n",
       "      <td>7.77</td>\n",
       "      <td>5.76</td>\n",
       "      <td>5.50</td>\n",
       "    </tr>\n",
       "    <tr>\n",
       "      <th>1</th>\n",
       "      <td>2021-04-01</td>\n",
       "      <td>275817</td>\n",
       "      <td>826308</td>\n",
       "      <td>23.79</td>\n",
       "      <td>7.79</td>\n",
       "      <td>8.87</td>\n",
       "      <td>5.50</td>\n",
       "    </tr>\n",
       "    <tr>\n",
       "      <th>2</th>\n",
       "      <td>2021-04-01</td>\n",
       "      <td>132578</td>\n",
       "      <td>826280</td>\n",
       "      <td>24.44</td>\n",
       "      <td>9.37</td>\n",
       "      <td>6.15</td>\n",
       "      <td>5.50</td>\n",
       "    </tr>\n",
       "    <tr>\n",
       "      <th>3</th>\n",
       "      <td>2021-04-01</td>\n",
       "      <td>167950</td>\n",
       "      <td>825740</td>\n",
       "      <td>45.08</td>\n",
       "      <td>3.74</td>\n",
       "      <td>5.78</td>\n",
       "      <td>6.50</td>\n",
       "    </tr>\n",
       "    <tr>\n",
       "      <th>4</th>\n",
       "      <td>2021-04-01</td>\n",
       "      <td>18511</td>\n",
       "      <td>825865</td>\n",
       "      <td>35.56</td>\n",
       "      <td>5.53</td>\n",
       "      <td>4.11</td>\n",
       "      <td>6.50</td>\n",
       "    </tr>\n",
       "    <tr>\n",
       "      <th>...</th>\n",
       "      <td>...</td>\n",
       "      <td>...</td>\n",
       "      <td>...</td>\n",
       "      <td>...</td>\n",
       "      <td>...</td>\n",
       "      <td>...</td>\n",
       "      <td>...</td>\n",
       "    </tr>\n",
       "    <tr>\n",
       "      <th>142404</th>\n",
       "      <td>2021-08-31</td>\n",
       "      <td>94569</td>\n",
       "      <td>974691</td>\n",
       "      <td>56.02</td>\n",
       "      <td>14.93</td>\n",
       "      <td>3.24</td>\n",
       "      <td>5.80</td>\n",
       "    </tr>\n",
       "    <tr>\n",
       "      <th>142405</th>\n",
       "      <td>2021-08-31</td>\n",
       "      <td>143620</td>\n",
       "      <td>975167</td>\n",
       "      <td>35.87</td>\n",
       "      <td>13.63</td>\n",
       "      <td>3.24</td>\n",
       "      <td>5.80</td>\n",
       "    </tr>\n",
       "    <tr>\n",
       "      <th>142406</th>\n",
       "      <td>2021-08-31</td>\n",
       "      <td>117179</td>\n",
       "      <td>974815</td>\n",
       "      <td>58.04</td>\n",
       "      <td>11.43</td>\n",
       "      <td>3.24</td>\n",
       "      <td>7.65</td>\n",
       "    </tr>\n",
       "    <tr>\n",
       "      <th>142407</th>\n",
       "      <td>2021-08-31</td>\n",
       "      <td>192997</td>\n",
       "      <td>975054</td>\n",
       "      <td>50.62</td>\n",
       "      <td>17.75</td>\n",
       "      <td>3.24</td>\n",
       "      <td>8.80</td>\n",
       "    </tr>\n",
       "    <tr>\n",
       "      <th>142408</th>\n",
       "      <td>2021-08-31</td>\n",
       "      <td>308669</td>\n",
       "      <td>975143</td>\n",
       "      <td>51.21</td>\n",
       "      <td>20.65</td>\n",
       "      <td>3.24</td>\n",
       "      <td>5.95</td>\n",
       "    </tr>\n",
       "  </tbody>\n",
       "</table>\n",
       "<p>142409 rows × 7 columns</p>\n",
       "</div>"
      ],
      "text/plain": [
       "         date_date  customers_id  orders_id  turnover  margin  shipping_fee  \\\n",
       "0       2021-04-01        275664     825526     20.70    7.77          5.76   \n",
       "1       2021-04-01        275817     826308     23.79    7.79          8.87   \n",
       "2       2021-04-01        132578     826280     24.44    9.37          6.15   \n",
       "3       2021-04-01        167950     825740     45.08    3.74          5.78   \n",
       "4       2021-04-01         18511     825865     35.56    5.53          4.11   \n",
       "...            ...           ...        ...       ...     ...           ...   \n",
       "142404  2021-08-31         94569     974691     56.02   14.93          3.24   \n",
       "142405  2021-08-31        143620     975167     35.87   13.63          3.24   \n",
       "142406  2021-08-31        117179     974815     58.04   11.43          3.24   \n",
       "142407  2021-08-31        192997     975054     50.62   17.75          3.24   \n",
       "142408  2021-08-31        308669     975143     51.21   20.65          3.24   \n",
       "\n",
       "        operationnal_cost  \n",
       "0                    5.50  \n",
       "1                    5.50  \n",
       "2                    5.50  \n",
       "3                    6.50  \n",
       "4                    6.50  \n",
       "...                   ...  \n",
       "142404               5.80  \n",
       "142405               5.80  \n",
       "142406               7.65  \n",
       "142407               8.80  \n",
       "142408               5.95  \n",
       "\n",
       "[142409 rows x 7 columns]"
      ]
     },
     "execution_count": 5,
     "metadata": {},
     "output_type": "execute_result"
    }
   ],
   "source": [
    "df"
   ]
  },
  {
   "cell_type": "markdown",
   "metadata": {
    "id": "lAGeu4WThKep"
   },
   "source": [
    "Convert the column `date_date` to **datetime**.\n"
   ]
  },
  {
   "cell_type": "code",
   "execution_count": 6,
   "metadata": {
    "ExecuteTime": {
     "end_time": "2024-02-15T15:35:37.650832Z",
     "start_time": "2024-02-15T15:35:37.509532Z"
    },
    "id": "vLf1znC7h9jd"
   },
   "outputs": [],
   "source": [
    "df['date_date'] = pd.to_datetime(df['date_date'])"
   ]
  },
  {
   "cell_type": "markdown",
   "metadata": {
    "id": "-8QQPUP-iC7_"
   },
   "source": [
    "Set the column `date_date` as index"
   ]
  },
  {
   "cell_type": "code",
   "execution_count": 7,
   "metadata": {
    "ExecuteTime": {
     "end_time": "2024-02-15T15:35:37.658333Z",
     "start_time": "2024-02-15T15:35:37.652001Z"
    },
    "id": "Rw6lHIL_i3m1"
   },
   "outputs": [],
   "source": [
    "df.set_index('date_date', inplace=True)"
   ]
  },
  {
   "cell_type": "markdown",
   "metadata": {
    "id": "VmqxnprDvdLf"
   },
   "source": [
    "Calculate the total turnover per month using the `.resample()` method and store the results in a DataFrame `df_m_turnover`."
   ]
  },
  {
   "cell_type": "code",
   "execution_count": 8,
   "metadata": {
    "ExecuteTime": {
     "end_time": "2024-02-15T15:35:37.713553Z",
     "start_time": "2024-02-15T15:35:37.659835Z"
    },
    "id": "xxUhXdfoQIbz"
   },
   "outputs": [
    {
     "name": "stderr",
     "output_type": "stream",
     "text": [
      "/tmp/ipykernel_27596/2987464257.py:1: FutureWarning: 'M' is deprecated and will be removed in a future version, please use 'ME' instead.\n",
      "  df_m_turnover = df['turnover'].resample('M').sum().reset_index()\n"
     ]
    },
    {
     "data": {
      "text/html": [
       "<div>\n",
       "<style scoped>\n",
       "    .dataframe tbody tr th:only-of-type {\n",
       "        vertical-align: middle;\n",
       "    }\n",
       "\n",
       "    .dataframe tbody tr th {\n",
       "        vertical-align: top;\n",
       "    }\n",
       "\n",
       "    .dataframe thead th {\n",
       "        text-align: right;\n",
       "    }\n",
       "</style>\n",
       "<table border=\"1\" class=\"dataframe\">\n",
       "  <thead>\n",
       "    <tr style=\"text-align: right;\">\n",
       "      <th></th>\n",
       "      <th>date_date</th>\n",
       "      <th>turnover</th>\n",
       "    </tr>\n",
       "  </thead>\n",
       "  <tbody>\n",
       "    <tr>\n",
       "      <th>0</th>\n",
       "      <td>2021-04-30</td>\n",
       "      <td>2552424.92</td>\n",
       "    </tr>\n",
       "    <tr>\n",
       "      <th>1</th>\n",
       "      <td>2021-05-31</td>\n",
       "      <td>2293246.08</td>\n",
       "    </tr>\n",
       "    <tr>\n",
       "      <th>2</th>\n",
       "      <td>2021-06-30</td>\n",
       "      <td>2155114.15</td>\n",
       "    </tr>\n",
       "    <tr>\n",
       "      <th>3</th>\n",
       "      <td>2021-07-31</td>\n",
       "      <td>1954372.03</td>\n",
       "    </tr>\n",
       "    <tr>\n",
       "      <th>4</th>\n",
       "      <td>2021-08-31</td>\n",
       "      <td>1903019.04</td>\n",
       "    </tr>\n",
       "  </tbody>\n",
       "</table>\n",
       "</div>"
      ],
      "text/plain": [
       "   date_date    turnover\n",
       "0 2021-04-30  2552424.92\n",
       "1 2021-05-31  2293246.08\n",
       "2 2021-06-30  2155114.15\n",
       "3 2021-07-31  1954372.03\n",
       "4 2021-08-31  1903019.04"
      ]
     },
     "execution_count": 8,
     "metadata": {},
     "output_type": "execute_result"
    }
   ],
   "source": [
    "df_m_turnover = df['turnover'].resample('M').sum().reset_index()\n",
    "df_m_turnover"
   ]
  },
  {
   "cell_type": "markdown",
   "metadata": {
    "id": "OdjuFba_R7BX"
   },
   "source": [
    "Calculate the evolution evolution of revenue:\n",
    "\n",
    "<u>Hint:</u> the `.pct_change()` method can help you."
   ]
  },
  {
   "cell_type": "code",
   "execution_count": 9,
   "metadata": {
    "ExecuteTime": {
     "end_time": "2024-02-15T15:39:55.124475Z",
     "start_time": "2024-02-15T15:39:55.108432Z"
    },
    "id": "Fhx3EzGESiMg"
   },
   "outputs": [
    {
     "data": {
      "text/plain": [
       "0         NaN\n",
       "1   -0.101542\n",
       "2   -0.060234\n",
       "3   -0.093147\n",
       "4   -0.026276\n",
       "Name: turnover, dtype: float64"
      ]
     },
     "execution_count": 9,
     "metadata": {},
     "output_type": "execute_result"
    }
   ],
   "source": [
    "df_m_turnover['turnover'].pct_change()"
   ]
  },
  {
   "cell_type": "markdown",
   "metadata": {
    "id": "J2dK1fMQoKAf"
   },
   "source": [
    "---\n",
    "\n",
    "Let's dive deeper in the analysis to assess if the turnover increase comes from new customers or from an increase of the average basket.\n",
    "\n",
    "### Order values analysis\n",
    "\n",
    "\n"
   ]
  },
  {
   "cell_type": "markdown",
   "metadata": {
    "id": "carPyE9GVW3Z"
   },
   "source": [
    "Plot the result using **Plotly Express**. 📈 \\\n",
    "Can you identify a peak in this chart? On which month?"
   ]
  },
  {
   "cell_type": "code",
   "execution_count": 10,
   "metadata": {
    "ExecuteTime": {
     "end_time": "2024-02-15T15:35:38.181724Z",
     "start_time": "2024-02-15T15:35:37.765569Z"
    },
    "id": "kPYD5cpaVbza"
   },
   "outputs": [
    {
     "data": {
      "application/vnd.plotly.v1+json": {
       "config": {
        "plotlyServerURL": "https://plot.ly"
       },
       "data": [
        {
         "hovertemplate": "date_date=%{x}<br>turnover=%{y}<extra></extra>",
         "legendgroup": "",
         "line": {
          "color": "#636efa",
          "dash": "solid"
         },
         "marker": {
          "symbol": "circle"
         },
         "mode": "lines",
         "name": "",
         "orientation": "v",
         "showlegend": false,
         "type": "scatter",
         "x": [
          "2021-04-30T00:00:00",
          "2021-05-31T00:00:00",
          "2021-06-30T00:00:00",
          "2021-07-31T00:00:00",
          "2021-08-31T00:00:00"
         ],
         "xaxis": "x",
         "y": {
          "bdata": "XI/CdTR5Q0GkcD0K/35BQTMzMxM1cUBBexSuB0TSPUGkcD0Kqwk9QQ==",
          "dtype": "f8"
         },
         "yaxis": "y"
        }
       ],
       "layout": {
        "legend": {
         "tracegroupgap": 0
        },
        "margin": {
         "t": 60
        },
        "template": {
         "data": {
          "bar": [
           {
            "error_x": {
             "color": "#2a3f5f"
            },
            "error_y": {
             "color": "#2a3f5f"
            },
            "marker": {
             "line": {
              "color": "#E5ECF6",
              "width": 0.5
             },
             "pattern": {
              "fillmode": "overlay",
              "size": 10,
              "solidity": 0.2
             }
            },
            "type": "bar"
           }
          ],
          "barpolar": [
           {
            "marker": {
             "line": {
              "color": "#E5ECF6",
              "width": 0.5
             },
             "pattern": {
              "fillmode": "overlay",
              "size": 10,
              "solidity": 0.2
             }
            },
            "type": "barpolar"
           }
          ],
          "carpet": [
           {
            "aaxis": {
             "endlinecolor": "#2a3f5f",
             "gridcolor": "white",
             "linecolor": "white",
             "minorgridcolor": "white",
             "startlinecolor": "#2a3f5f"
            },
            "baxis": {
             "endlinecolor": "#2a3f5f",
             "gridcolor": "white",
             "linecolor": "white",
             "minorgridcolor": "white",
             "startlinecolor": "#2a3f5f"
            },
            "type": "carpet"
           }
          ],
          "choropleth": [
           {
            "colorbar": {
             "outlinewidth": 0,
             "ticks": ""
            },
            "type": "choropleth"
           }
          ],
          "contour": [
           {
            "colorbar": {
             "outlinewidth": 0,
             "ticks": ""
            },
            "colorscale": [
             [
              0,
              "#0d0887"
             ],
             [
              0.1111111111111111,
              "#46039f"
             ],
             [
              0.2222222222222222,
              "#7201a8"
             ],
             [
              0.3333333333333333,
              "#9c179e"
             ],
             [
              0.4444444444444444,
              "#bd3786"
             ],
             [
              0.5555555555555556,
              "#d8576b"
             ],
             [
              0.6666666666666666,
              "#ed7953"
             ],
             [
              0.7777777777777778,
              "#fb9f3a"
             ],
             [
              0.8888888888888888,
              "#fdca26"
             ],
             [
              1,
              "#f0f921"
             ]
            ],
            "type": "contour"
           }
          ],
          "contourcarpet": [
           {
            "colorbar": {
             "outlinewidth": 0,
             "ticks": ""
            },
            "type": "contourcarpet"
           }
          ],
          "heatmap": [
           {
            "colorbar": {
             "outlinewidth": 0,
             "ticks": ""
            },
            "colorscale": [
             [
              0,
              "#0d0887"
             ],
             [
              0.1111111111111111,
              "#46039f"
             ],
             [
              0.2222222222222222,
              "#7201a8"
             ],
             [
              0.3333333333333333,
              "#9c179e"
             ],
             [
              0.4444444444444444,
              "#bd3786"
             ],
             [
              0.5555555555555556,
              "#d8576b"
             ],
             [
              0.6666666666666666,
              "#ed7953"
             ],
             [
              0.7777777777777778,
              "#fb9f3a"
             ],
             [
              0.8888888888888888,
              "#fdca26"
             ],
             [
              1,
              "#f0f921"
             ]
            ],
            "type": "heatmap"
           }
          ],
          "histogram": [
           {
            "marker": {
             "pattern": {
              "fillmode": "overlay",
              "size": 10,
              "solidity": 0.2
             }
            },
            "type": "histogram"
           }
          ],
          "histogram2d": [
           {
            "colorbar": {
             "outlinewidth": 0,
             "ticks": ""
            },
            "colorscale": [
             [
              0,
              "#0d0887"
             ],
             [
              0.1111111111111111,
              "#46039f"
             ],
             [
              0.2222222222222222,
              "#7201a8"
             ],
             [
              0.3333333333333333,
              "#9c179e"
             ],
             [
              0.4444444444444444,
              "#bd3786"
             ],
             [
              0.5555555555555556,
              "#d8576b"
             ],
             [
              0.6666666666666666,
              "#ed7953"
             ],
             [
              0.7777777777777778,
              "#fb9f3a"
             ],
             [
              0.8888888888888888,
              "#fdca26"
             ],
             [
              1,
              "#f0f921"
             ]
            ],
            "type": "histogram2d"
           }
          ],
          "histogram2dcontour": [
           {
            "colorbar": {
             "outlinewidth": 0,
             "ticks": ""
            },
            "colorscale": [
             [
              0,
              "#0d0887"
             ],
             [
              0.1111111111111111,
              "#46039f"
             ],
             [
              0.2222222222222222,
              "#7201a8"
             ],
             [
              0.3333333333333333,
              "#9c179e"
             ],
             [
              0.4444444444444444,
              "#bd3786"
             ],
             [
              0.5555555555555556,
              "#d8576b"
             ],
             [
              0.6666666666666666,
              "#ed7953"
             ],
             [
              0.7777777777777778,
              "#fb9f3a"
             ],
             [
              0.8888888888888888,
              "#fdca26"
             ],
             [
              1,
              "#f0f921"
             ]
            ],
            "type": "histogram2dcontour"
           }
          ],
          "mesh3d": [
           {
            "colorbar": {
             "outlinewidth": 0,
             "ticks": ""
            },
            "type": "mesh3d"
           }
          ],
          "parcoords": [
           {
            "line": {
             "colorbar": {
              "outlinewidth": 0,
              "ticks": ""
             }
            },
            "type": "parcoords"
           }
          ],
          "pie": [
           {
            "automargin": true,
            "type": "pie"
           }
          ],
          "scatter": [
           {
            "fillpattern": {
             "fillmode": "overlay",
             "size": 10,
             "solidity": 0.2
            },
            "type": "scatter"
           }
          ],
          "scatter3d": [
           {
            "line": {
             "colorbar": {
              "outlinewidth": 0,
              "ticks": ""
             }
            },
            "marker": {
             "colorbar": {
              "outlinewidth": 0,
              "ticks": ""
             }
            },
            "type": "scatter3d"
           }
          ],
          "scattercarpet": [
           {
            "marker": {
             "colorbar": {
              "outlinewidth": 0,
              "ticks": ""
             }
            },
            "type": "scattercarpet"
           }
          ],
          "scattergeo": [
           {
            "marker": {
             "colorbar": {
              "outlinewidth": 0,
              "ticks": ""
             }
            },
            "type": "scattergeo"
           }
          ],
          "scattergl": [
           {
            "marker": {
             "colorbar": {
              "outlinewidth": 0,
              "ticks": ""
             }
            },
            "type": "scattergl"
           }
          ],
          "scattermap": [
           {
            "marker": {
             "colorbar": {
              "outlinewidth": 0,
              "ticks": ""
             }
            },
            "type": "scattermap"
           }
          ],
          "scattermapbox": [
           {
            "marker": {
             "colorbar": {
              "outlinewidth": 0,
              "ticks": ""
             }
            },
            "type": "scattermapbox"
           }
          ],
          "scatterpolar": [
           {
            "marker": {
             "colorbar": {
              "outlinewidth": 0,
              "ticks": ""
             }
            },
            "type": "scatterpolar"
           }
          ],
          "scatterpolargl": [
           {
            "marker": {
             "colorbar": {
              "outlinewidth": 0,
              "ticks": ""
             }
            },
            "type": "scatterpolargl"
           }
          ],
          "scatterternary": [
           {
            "marker": {
             "colorbar": {
              "outlinewidth": 0,
              "ticks": ""
             }
            },
            "type": "scatterternary"
           }
          ],
          "surface": [
           {
            "colorbar": {
             "outlinewidth": 0,
             "ticks": ""
            },
            "colorscale": [
             [
              0,
              "#0d0887"
             ],
             [
              0.1111111111111111,
              "#46039f"
             ],
             [
              0.2222222222222222,
              "#7201a8"
             ],
             [
              0.3333333333333333,
              "#9c179e"
             ],
             [
              0.4444444444444444,
              "#bd3786"
             ],
             [
              0.5555555555555556,
              "#d8576b"
             ],
             [
              0.6666666666666666,
              "#ed7953"
             ],
             [
              0.7777777777777778,
              "#fb9f3a"
             ],
             [
              0.8888888888888888,
              "#fdca26"
             ],
             [
              1,
              "#f0f921"
             ]
            ],
            "type": "surface"
           }
          ],
          "table": [
           {
            "cells": {
             "fill": {
              "color": "#EBF0F8"
             },
             "line": {
              "color": "white"
             }
            },
            "header": {
             "fill": {
              "color": "#C8D4E3"
             },
             "line": {
              "color": "white"
             }
            },
            "type": "table"
           }
          ]
         },
         "layout": {
          "annotationdefaults": {
           "arrowcolor": "#2a3f5f",
           "arrowhead": 0,
           "arrowwidth": 1
          },
          "autotypenumbers": "strict",
          "coloraxis": {
           "colorbar": {
            "outlinewidth": 0,
            "ticks": ""
           }
          },
          "colorscale": {
           "diverging": [
            [
             0,
             "#8e0152"
            ],
            [
             0.1,
             "#c51b7d"
            ],
            [
             0.2,
             "#de77ae"
            ],
            [
             0.3,
             "#f1b6da"
            ],
            [
             0.4,
             "#fde0ef"
            ],
            [
             0.5,
             "#f7f7f7"
            ],
            [
             0.6,
             "#e6f5d0"
            ],
            [
             0.7,
             "#b8e186"
            ],
            [
             0.8,
             "#7fbc41"
            ],
            [
             0.9,
             "#4d9221"
            ],
            [
             1,
             "#276419"
            ]
           ],
           "sequential": [
            [
             0,
             "#0d0887"
            ],
            [
             0.1111111111111111,
             "#46039f"
            ],
            [
             0.2222222222222222,
             "#7201a8"
            ],
            [
             0.3333333333333333,
             "#9c179e"
            ],
            [
             0.4444444444444444,
             "#bd3786"
            ],
            [
             0.5555555555555556,
             "#d8576b"
            ],
            [
             0.6666666666666666,
             "#ed7953"
            ],
            [
             0.7777777777777778,
             "#fb9f3a"
            ],
            [
             0.8888888888888888,
             "#fdca26"
            ],
            [
             1,
             "#f0f921"
            ]
           ],
           "sequentialminus": [
            [
             0,
             "#0d0887"
            ],
            [
             0.1111111111111111,
             "#46039f"
            ],
            [
             0.2222222222222222,
             "#7201a8"
            ],
            [
             0.3333333333333333,
             "#9c179e"
            ],
            [
             0.4444444444444444,
             "#bd3786"
            ],
            [
             0.5555555555555556,
             "#d8576b"
            ],
            [
             0.6666666666666666,
             "#ed7953"
            ],
            [
             0.7777777777777778,
             "#fb9f3a"
            ],
            [
             0.8888888888888888,
             "#fdca26"
            ],
            [
             1,
             "#f0f921"
            ]
           ]
          },
          "colorway": [
           "#636efa",
           "#EF553B",
           "#00cc96",
           "#ab63fa",
           "#FFA15A",
           "#19d3f3",
           "#FF6692",
           "#B6E880",
           "#FF97FF",
           "#FECB52"
          ],
          "font": {
           "color": "#2a3f5f"
          },
          "geo": {
           "bgcolor": "white",
           "lakecolor": "white",
           "landcolor": "#E5ECF6",
           "showlakes": true,
           "showland": true,
           "subunitcolor": "white"
          },
          "hoverlabel": {
           "align": "left"
          },
          "hovermode": "closest",
          "mapbox": {
           "style": "light"
          },
          "paper_bgcolor": "white",
          "plot_bgcolor": "#E5ECF6",
          "polar": {
           "angularaxis": {
            "gridcolor": "white",
            "linecolor": "white",
            "ticks": ""
           },
           "bgcolor": "#E5ECF6",
           "radialaxis": {
            "gridcolor": "white",
            "linecolor": "white",
            "ticks": ""
           }
          },
          "scene": {
           "xaxis": {
            "backgroundcolor": "#E5ECF6",
            "gridcolor": "white",
            "gridwidth": 2,
            "linecolor": "white",
            "showbackground": true,
            "ticks": "",
            "zerolinecolor": "white"
           },
           "yaxis": {
            "backgroundcolor": "#E5ECF6",
            "gridcolor": "white",
            "gridwidth": 2,
            "linecolor": "white",
            "showbackground": true,
            "ticks": "",
            "zerolinecolor": "white"
           },
           "zaxis": {
            "backgroundcolor": "#E5ECF6",
            "gridcolor": "white",
            "gridwidth": 2,
            "linecolor": "white",
            "showbackground": true,
            "ticks": "",
            "zerolinecolor": "white"
           }
          },
          "shapedefaults": {
           "line": {
            "color": "#2a3f5f"
           }
          },
          "ternary": {
           "aaxis": {
            "gridcolor": "white",
            "linecolor": "white",
            "ticks": ""
           },
           "baxis": {
            "gridcolor": "white",
            "linecolor": "white",
            "ticks": ""
           },
           "bgcolor": "#E5ECF6",
           "caxis": {
            "gridcolor": "white",
            "linecolor": "white",
            "ticks": ""
           }
          },
          "title": {
           "x": 0.05
          },
          "xaxis": {
           "automargin": true,
           "gridcolor": "white",
           "linecolor": "white",
           "ticks": "",
           "title": {
            "standoff": 15
           },
           "zerolinecolor": "white",
           "zerolinewidth": 2
          },
          "yaxis": {
           "automargin": true,
           "gridcolor": "white",
           "linecolor": "white",
           "ticks": "",
           "title": {
            "standoff": 15
           },
           "zerolinecolor": "white",
           "zerolinewidth": 2
          }
         }
        },
        "xaxis": {
         "anchor": "y",
         "domain": [
          0,
          1
         ],
         "title": {
          "text": "date_date"
         }
        },
        "yaxis": {
         "anchor": "x",
         "domain": [
          0,
          1
         ],
         "title": {
          "text": "turnover"
         }
        }
       }
      }
     },
     "metadata": {},
     "output_type": "display_data"
    }
   ],
   "source": [
    "import plotly.express as px\n",
    "px.line(df_m_turnover,x='date_date', y= 'turnover').show()"
   ]
  },
  {
   "cell_type": "markdown",
   "metadata": {
    "id": "hzYPkPjQV5YW"
   },
   "source": [
    "MAY"
   ]
  },
  {
   "cell_type": "markdown",
   "metadata": {
    "id": "oi_FwmSxWGci"
   },
   "source": [
    "Plot a similar chart showing the **average** turnover instead. What do you notice?"
   ]
  },
  {
   "cell_type": "code",
   "execution_count": 11,
   "metadata": {
    "ExecuteTime": {
     "end_time": "2024-02-15T15:35:38.242112Z",
     "start_time": "2024-02-15T15:35:38.184062Z"
    },
    "id": "tMgaSr4MW8cO"
   },
   "outputs": [
    {
     "data": {
      "application/vnd.plotly.v1+json": {
       "config": {
        "plotlyServerURL": "https://plot.ly"
       },
       "data": [
        {
         "hovertemplate": "date_date=%{x}<br>turnover_mean=%{y}<extra></extra>",
         "legendgroup": "",
         "line": {
          "color": "#636efa",
          "dash": "solid"
         },
         "marker": {
          "symbol": "circle"
         },
         "mode": "lines",
         "name": "",
         "orientation": "v",
         "showlegend": false,
         "type": "scatter",
         "x": [
          "2021-04-30T00:00:00",
          "2021-05-31T00:00:00",
          "2021-06-30T00:00:00",
          "2021-07-31T00:00:00",
          "2021-08-31T00:00:00"
         ],
         "xaxis": "x",
         "y": {
          "bdata": "WmQ7n3mRQEFaZDufeZFAQVpkO595kUBBWmQ7n3mRQEFaZDufeZFAQQ==",
          "dtype": "f8"
         },
         "yaxis": "y"
        }
       ],
       "layout": {
        "legend": {
         "tracegroupgap": 0
        },
        "margin": {
         "t": 60
        },
        "template": {
         "data": {
          "bar": [
           {
            "error_x": {
             "color": "#2a3f5f"
            },
            "error_y": {
             "color": "#2a3f5f"
            },
            "marker": {
             "line": {
              "color": "#E5ECF6",
              "width": 0.5
             },
             "pattern": {
              "fillmode": "overlay",
              "size": 10,
              "solidity": 0.2
             }
            },
            "type": "bar"
           }
          ],
          "barpolar": [
           {
            "marker": {
             "line": {
              "color": "#E5ECF6",
              "width": 0.5
             },
             "pattern": {
              "fillmode": "overlay",
              "size": 10,
              "solidity": 0.2
             }
            },
            "type": "barpolar"
           }
          ],
          "carpet": [
           {
            "aaxis": {
             "endlinecolor": "#2a3f5f",
             "gridcolor": "white",
             "linecolor": "white",
             "minorgridcolor": "white",
             "startlinecolor": "#2a3f5f"
            },
            "baxis": {
             "endlinecolor": "#2a3f5f",
             "gridcolor": "white",
             "linecolor": "white",
             "minorgridcolor": "white",
             "startlinecolor": "#2a3f5f"
            },
            "type": "carpet"
           }
          ],
          "choropleth": [
           {
            "colorbar": {
             "outlinewidth": 0,
             "ticks": ""
            },
            "type": "choropleth"
           }
          ],
          "contour": [
           {
            "colorbar": {
             "outlinewidth": 0,
             "ticks": ""
            },
            "colorscale": [
             [
              0,
              "#0d0887"
             ],
             [
              0.1111111111111111,
              "#46039f"
             ],
             [
              0.2222222222222222,
              "#7201a8"
             ],
             [
              0.3333333333333333,
              "#9c179e"
             ],
             [
              0.4444444444444444,
              "#bd3786"
             ],
             [
              0.5555555555555556,
              "#d8576b"
             ],
             [
              0.6666666666666666,
              "#ed7953"
             ],
             [
              0.7777777777777778,
              "#fb9f3a"
             ],
             [
              0.8888888888888888,
              "#fdca26"
             ],
             [
              1,
              "#f0f921"
             ]
            ],
            "type": "contour"
           }
          ],
          "contourcarpet": [
           {
            "colorbar": {
             "outlinewidth": 0,
             "ticks": ""
            },
            "type": "contourcarpet"
           }
          ],
          "heatmap": [
           {
            "colorbar": {
             "outlinewidth": 0,
             "ticks": ""
            },
            "colorscale": [
             [
              0,
              "#0d0887"
             ],
             [
              0.1111111111111111,
              "#46039f"
             ],
             [
              0.2222222222222222,
              "#7201a8"
             ],
             [
              0.3333333333333333,
              "#9c179e"
             ],
             [
              0.4444444444444444,
              "#bd3786"
             ],
             [
              0.5555555555555556,
              "#d8576b"
             ],
             [
              0.6666666666666666,
              "#ed7953"
             ],
             [
              0.7777777777777778,
              "#fb9f3a"
             ],
             [
              0.8888888888888888,
              "#fdca26"
             ],
             [
              1,
              "#f0f921"
             ]
            ],
            "type": "heatmap"
           }
          ],
          "histogram": [
           {
            "marker": {
             "pattern": {
              "fillmode": "overlay",
              "size": 10,
              "solidity": 0.2
             }
            },
            "type": "histogram"
           }
          ],
          "histogram2d": [
           {
            "colorbar": {
             "outlinewidth": 0,
             "ticks": ""
            },
            "colorscale": [
             [
              0,
              "#0d0887"
             ],
             [
              0.1111111111111111,
              "#46039f"
             ],
             [
              0.2222222222222222,
              "#7201a8"
             ],
             [
              0.3333333333333333,
              "#9c179e"
             ],
             [
              0.4444444444444444,
              "#bd3786"
             ],
             [
              0.5555555555555556,
              "#d8576b"
             ],
             [
              0.6666666666666666,
              "#ed7953"
             ],
             [
              0.7777777777777778,
              "#fb9f3a"
             ],
             [
              0.8888888888888888,
              "#fdca26"
             ],
             [
              1,
              "#f0f921"
             ]
            ],
            "type": "histogram2d"
           }
          ],
          "histogram2dcontour": [
           {
            "colorbar": {
             "outlinewidth": 0,
             "ticks": ""
            },
            "colorscale": [
             [
              0,
              "#0d0887"
             ],
             [
              0.1111111111111111,
              "#46039f"
             ],
             [
              0.2222222222222222,
              "#7201a8"
             ],
             [
              0.3333333333333333,
              "#9c179e"
             ],
             [
              0.4444444444444444,
              "#bd3786"
             ],
             [
              0.5555555555555556,
              "#d8576b"
             ],
             [
              0.6666666666666666,
              "#ed7953"
             ],
             [
              0.7777777777777778,
              "#fb9f3a"
             ],
             [
              0.8888888888888888,
              "#fdca26"
             ],
             [
              1,
              "#f0f921"
             ]
            ],
            "type": "histogram2dcontour"
           }
          ],
          "mesh3d": [
           {
            "colorbar": {
             "outlinewidth": 0,
             "ticks": ""
            },
            "type": "mesh3d"
           }
          ],
          "parcoords": [
           {
            "line": {
             "colorbar": {
              "outlinewidth": 0,
              "ticks": ""
             }
            },
            "type": "parcoords"
           }
          ],
          "pie": [
           {
            "automargin": true,
            "type": "pie"
           }
          ],
          "scatter": [
           {
            "fillpattern": {
             "fillmode": "overlay",
             "size": 10,
             "solidity": 0.2
            },
            "type": "scatter"
           }
          ],
          "scatter3d": [
           {
            "line": {
             "colorbar": {
              "outlinewidth": 0,
              "ticks": ""
             }
            },
            "marker": {
             "colorbar": {
              "outlinewidth": 0,
              "ticks": ""
             }
            },
            "type": "scatter3d"
           }
          ],
          "scattercarpet": [
           {
            "marker": {
             "colorbar": {
              "outlinewidth": 0,
              "ticks": ""
             }
            },
            "type": "scattercarpet"
           }
          ],
          "scattergeo": [
           {
            "marker": {
             "colorbar": {
              "outlinewidth": 0,
              "ticks": ""
             }
            },
            "type": "scattergeo"
           }
          ],
          "scattergl": [
           {
            "marker": {
             "colorbar": {
              "outlinewidth": 0,
              "ticks": ""
             }
            },
            "type": "scattergl"
           }
          ],
          "scattermap": [
           {
            "marker": {
             "colorbar": {
              "outlinewidth": 0,
              "ticks": ""
             }
            },
            "type": "scattermap"
           }
          ],
          "scattermapbox": [
           {
            "marker": {
             "colorbar": {
              "outlinewidth": 0,
              "ticks": ""
             }
            },
            "type": "scattermapbox"
           }
          ],
          "scatterpolar": [
           {
            "marker": {
             "colorbar": {
              "outlinewidth": 0,
              "ticks": ""
             }
            },
            "type": "scatterpolar"
           }
          ],
          "scatterpolargl": [
           {
            "marker": {
             "colorbar": {
              "outlinewidth": 0,
              "ticks": ""
             }
            },
            "type": "scatterpolargl"
           }
          ],
          "scatterternary": [
           {
            "marker": {
             "colorbar": {
              "outlinewidth": 0,
              "ticks": ""
             }
            },
            "type": "scatterternary"
           }
          ],
          "surface": [
           {
            "colorbar": {
             "outlinewidth": 0,
             "ticks": ""
            },
            "colorscale": [
             [
              0,
              "#0d0887"
             ],
             [
              0.1111111111111111,
              "#46039f"
             ],
             [
              0.2222222222222222,
              "#7201a8"
             ],
             [
              0.3333333333333333,
              "#9c179e"
             ],
             [
              0.4444444444444444,
              "#bd3786"
             ],
             [
              0.5555555555555556,
              "#d8576b"
             ],
             [
              0.6666666666666666,
              "#ed7953"
             ],
             [
              0.7777777777777778,
              "#fb9f3a"
             ],
             [
              0.8888888888888888,
              "#fdca26"
             ],
             [
              1,
              "#f0f921"
             ]
            ],
            "type": "surface"
           }
          ],
          "table": [
           {
            "cells": {
             "fill": {
              "color": "#EBF0F8"
             },
             "line": {
              "color": "white"
             }
            },
            "header": {
             "fill": {
              "color": "#C8D4E3"
             },
             "line": {
              "color": "white"
             }
            },
            "type": "table"
           }
          ]
         },
         "layout": {
          "annotationdefaults": {
           "arrowcolor": "#2a3f5f",
           "arrowhead": 0,
           "arrowwidth": 1
          },
          "autotypenumbers": "strict",
          "coloraxis": {
           "colorbar": {
            "outlinewidth": 0,
            "ticks": ""
           }
          },
          "colorscale": {
           "diverging": [
            [
             0,
             "#8e0152"
            ],
            [
             0.1,
             "#c51b7d"
            ],
            [
             0.2,
             "#de77ae"
            ],
            [
             0.3,
             "#f1b6da"
            ],
            [
             0.4,
             "#fde0ef"
            ],
            [
             0.5,
             "#f7f7f7"
            ],
            [
             0.6,
             "#e6f5d0"
            ],
            [
             0.7,
             "#b8e186"
            ],
            [
             0.8,
             "#7fbc41"
            ],
            [
             0.9,
             "#4d9221"
            ],
            [
             1,
             "#276419"
            ]
           ],
           "sequential": [
            [
             0,
             "#0d0887"
            ],
            [
             0.1111111111111111,
             "#46039f"
            ],
            [
             0.2222222222222222,
             "#7201a8"
            ],
            [
             0.3333333333333333,
             "#9c179e"
            ],
            [
             0.4444444444444444,
             "#bd3786"
            ],
            [
             0.5555555555555556,
             "#d8576b"
            ],
            [
             0.6666666666666666,
             "#ed7953"
            ],
            [
             0.7777777777777778,
             "#fb9f3a"
            ],
            [
             0.8888888888888888,
             "#fdca26"
            ],
            [
             1,
             "#f0f921"
            ]
           ],
           "sequentialminus": [
            [
             0,
             "#0d0887"
            ],
            [
             0.1111111111111111,
             "#46039f"
            ],
            [
             0.2222222222222222,
             "#7201a8"
            ],
            [
             0.3333333333333333,
             "#9c179e"
            ],
            [
             0.4444444444444444,
             "#bd3786"
            ],
            [
             0.5555555555555556,
             "#d8576b"
            ],
            [
             0.6666666666666666,
             "#ed7953"
            ],
            [
             0.7777777777777778,
             "#fb9f3a"
            ],
            [
             0.8888888888888888,
             "#fdca26"
            ],
            [
             1,
             "#f0f921"
            ]
           ]
          },
          "colorway": [
           "#636efa",
           "#EF553B",
           "#00cc96",
           "#ab63fa",
           "#FFA15A",
           "#19d3f3",
           "#FF6692",
           "#B6E880",
           "#FF97FF",
           "#FECB52"
          ],
          "font": {
           "color": "#2a3f5f"
          },
          "geo": {
           "bgcolor": "white",
           "lakecolor": "white",
           "landcolor": "#E5ECF6",
           "showlakes": true,
           "showland": true,
           "subunitcolor": "white"
          },
          "hoverlabel": {
           "align": "left"
          },
          "hovermode": "closest",
          "mapbox": {
           "style": "light"
          },
          "paper_bgcolor": "white",
          "plot_bgcolor": "#E5ECF6",
          "polar": {
           "angularaxis": {
            "gridcolor": "white",
            "linecolor": "white",
            "ticks": ""
           },
           "bgcolor": "#E5ECF6",
           "radialaxis": {
            "gridcolor": "white",
            "linecolor": "white",
            "ticks": ""
           }
          },
          "scene": {
           "xaxis": {
            "backgroundcolor": "#E5ECF6",
            "gridcolor": "white",
            "gridwidth": 2,
            "linecolor": "white",
            "showbackground": true,
            "ticks": "",
            "zerolinecolor": "white"
           },
           "yaxis": {
            "backgroundcolor": "#E5ECF6",
            "gridcolor": "white",
            "gridwidth": 2,
            "linecolor": "white",
            "showbackground": true,
            "ticks": "",
            "zerolinecolor": "white"
           },
           "zaxis": {
            "backgroundcolor": "#E5ECF6",
            "gridcolor": "white",
            "gridwidth": 2,
            "linecolor": "white",
            "showbackground": true,
            "ticks": "",
            "zerolinecolor": "white"
           }
          },
          "shapedefaults": {
           "line": {
            "color": "#2a3f5f"
           }
          },
          "ternary": {
           "aaxis": {
            "gridcolor": "white",
            "linecolor": "white",
            "ticks": ""
           },
           "baxis": {
            "gridcolor": "white",
            "linecolor": "white",
            "ticks": ""
           },
           "bgcolor": "#E5ECF6",
           "caxis": {
            "gridcolor": "white",
            "linecolor": "white",
            "ticks": ""
           }
          },
          "title": {
           "x": 0.05
          },
          "xaxis": {
           "automargin": true,
           "gridcolor": "white",
           "linecolor": "white",
           "ticks": "",
           "title": {
            "standoff": 15
           },
           "zerolinecolor": "white",
           "zerolinewidth": 2
          },
          "yaxis": {
           "automargin": true,
           "gridcolor": "white",
           "linecolor": "white",
           "ticks": "",
           "title": {
            "standoff": 15
           },
           "zerolinecolor": "white",
           "zerolinewidth": 2
          }
         }
        },
        "xaxis": {
         "anchor": "y",
         "domain": [
          0,
          1
         ],
         "title": {
          "text": "date_date"
         }
        },
        "yaxis": {
         "anchor": "x",
         "domain": [
          0,
          1
         ],
         "title": {
          "text": "turnover_mean"
         }
        }
       }
      }
     },
     "metadata": {},
     "output_type": "display_data"
    }
   ],
   "source": [
    "df_m_turnover['turnover_mean'] = df_m_turnover['turnover'].mean()\n",
    "px.line(df_m_turnover,x='date_date', y= 'turnover_mean').show()"
   ]
  },
  {
   "cell_type": "markdown",
   "metadata": {
    "id": "xl2LhJBdoKAg"
   },
   "source": [
    "### Customer base analysis\n"
   ]
  },
  {
   "cell_type": "markdown",
   "metadata": {
    "id": "3iW27Wa2XdNk"
   },
   "source": [
    "We will consider that a customer is new at the moment he places his first order. \\\n",
    "What does the following line of code do?\n"
   ]
  },
  {
   "cell_type": "code",
   "execution_count": 12,
   "metadata": {
    "ExecuteTime": {
     "end_time": "2024-02-15T15:35:38.382233Z",
     "start_time": "2024-02-15T15:35:38.243003Z"
    },
    "id": "VKRE8lYyYH0F"
   },
   "outputs": [
    {
     "data": {
      "text/html": [
       "<div>\n",
       "<style scoped>\n",
       "    .dataframe tbody tr th:only-of-type {\n",
       "        vertical-align: middle;\n",
       "    }\n",
       "\n",
       "    .dataframe tbody tr th {\n",
       "        vertical-align: top;\n",
       "    }\n",
       "\n",
       "    .dataframe thead th {\n",
       "        text-align: right;\n",
       "    }\n",
       "</style>\n",
       "<table border=\"1\" class=\"dataframe\">\n",
       "  <thead>\n",
       "    <tr style=\"text-align: right;\">\n",
       "      <th></th>\n",
       "      <th>customers_id</th>\n",
       "      <th>date_date</th>\n",
       "      <th>orders_id</th>\n",
       "      <th>turnover</th>\n",
       "      <th>margin</th>\n",
       "      <th>shipping_fee</th>\n",
       "      <th>operationnal_cost</th>\n",
       "    </tr>\n",
       "  </thead>\n",
       "  <tbody>\n",
       "    <tr>\n",
       "      <th>0</th>\n",
       "      <td>10</td>\n",
       "      <td>2021-06-24</td>\n",
       "      <td>915362</td>\n",
       "      <td>79.93</td>\n",
       "      <td>21.47</td>\n",
       "      <td>3.65</td>\n",
       "      <td>10.15</td>\n",
       "    </tr>\n",
       "    <tr>\n",
       "      <th>1</th>\n",
       "      <td>14</td>\n",
       "      <td>2021-05-16</td>\n",
       "      <td>879103</td>\n",
       "      <td>80.28</td>\n",
       "      <td>24.61</td>\n",
       "      <td>0.88</td>\n",
       "      <td>6.95</td>\n",
       "    </tr>\n",
       "    <tr>\n",
       "      <th>2</th>\n",
       "      <td>15</td>\n",
       "      <td>2021-04-17</td>\n",
       "      <td>845941</td>\n",
       "      <td>115.84</td>\n",
       "      <td>43.30</td>\n",
       "      <td>0.00</td>\n",
       "      <td>11.05</td>\n",
       "    </tr>\n",
       "    <tr>\n",
       "      <th>3</th>\n",
       "      <td>18</td>\n",
       "      <td>2021-07-13</td>\n",
       "      <td>934071</td>\n",
       "      <td>2.48</td>\n",
       "      <td>0.81</td>\n",
       "      <td>9.38</td>\n",
       "      <td>4.90</td>\n",
       "    </tr>\n",
       "    <tr>\n",
       "      <th>4</th>\n",
       "      <td>21</td>\n",
       "      <td>2021-05-05</td>\n",
       "      <td>867585</td>\n",
       "      <td>53.87</td>\n",
       "      <td>20.98</td>\n",
       "      <td>5.83</td>\n",
       "      <td>6.50</td>\n",
       "    </tr>\n",
       "    <tr>\n",
       "      <th>...</th>\n",
       "      <td>...</td>\n",
       "      <td>...</td>\n",
       "      <td>...</td>\n",
       "      <td>...</td>\n",
       "      <td>...</td>\n",
       "      <td>...</td>\n",
       "      <td>...</td>\n",
       "    </tr>\n",
       "    <tr>\n",
       "      <th>90365</th>\n",
       "      <td>309394</td>\n",
       "      <td>2021-08-31</td>\n",
       "      <td>975436</td>\n",
       "      <td>11.77</td>\n",
       "      <td>4.40</td>\n",
       "      <td>8.25</td>\n",
       "      <td>5.05</td>\n",
       "    </tr>\n",
       "    <tr>\n",
       "      <th>90366</th>\n",
       "      <td>309395</td>\n",
       "      <td>2021-08-31</td>\n",
       "      <td>975444</td>\n",
       "      <td>70.37</td>\n",
       "      <td>27.10</td>\n",
       "      <td>3.44</td>\n",
       "      <td>9.60</td>\n",
       "    </tr>\n",
       "    <tr>\n",
       "      <th>90367</th>\n",
       "      <td>309397</td>\n",
       "      <td>2021-08-31</td>\n",
       "      <td>975449</td>\n",
       "      <td>69.72</td>\n",
       "      <td>28.27</td>\n",
       "      <td>0.00</td>\n",
       "      <td>8.10</td>\n",
       "    </tr>\n",
       "    <tr>\n",
       "      <th>90368</th>\n",
       "      <td>309398</td>\n",
       "      <td>2021-08-31</td>\n",
       "      <td>975452</td>\n",
       "      <td>38.93</td>\n",
       "      <td>11.14</td>\n",
       "      <td>0.00</td>\n",
       "      <td>7.40</td>\n",
       "    </tr>\n",
       "    <tr>\n",
       "      <th>90369</th>\n",
       "      <td>309399</td>\n",
       "      <td>2021-08-31</td>\n",
       "      <td>975453</td>\n",
       "      <td>72.30</td>\n",
       "      <td>27.76</td>\n",
       "      <td>0.00</td>\n",
       "      <td>5.65</td>\n",
       "    </tr>\n",
       "  </tbody>\n",
       "</table>\n",
       "<p>90370 rows × 7 columns</p>\n",
       "</div>"
      ],
      "text/plain": [
       "       customers_id  date_date  orders_id  turnover  margin  shipping_fee  \\\n",
       "0                10 2021-06-24     915362     79.93   21.47          3.65   \n",
       "1                14 2021-05-16     879103     80.28   24.61          0.88   \n",
       "2                15 2021-04-17     845941    115.84   43.30          0.00   \n",
       "3                18 2021-07-13     934071      2.48    0.81          9.38   \n",
       "4                21 2021-05-05     867585     53.87   20.98          5.83   \n",
       "...             ...        ...        ...       ...     ...           ...   \n",
       "90365        309394 2021-08-31     975436     11.77    4.40          8.25   \n",
       "90366        309395 2021-08-31     975444     70.37   27.10          3.44   \n",
       "90367        309397 2021-08-31     975449     69.72   28.27          0.00   \n",
       "90368        309398 2021-08-31     975452     38.93   11.14          0.00   \n",
       "90369        309399 2021-08-31     975453     72.30   27.76          0.00   \n",
       "\n",
       "       operationnal_cost  \n",
       "0                  10.15  \n",
       "1                   6.95  \n",
       "2                  11.05  \n",
       "3                   4.90  \n",
       "4                   6.50  \n",
       "...                  ...  \n",
       "90365               5.05  \n",
       "90366               9.60  \n",
       "90367               8.10  \n",
       "90368               7.40  \n",
       "90369               5.65  \n",
       "\n",
       "[90370 rows x 7 columns]"
      ]
     },
     "execution_count": 12,
     "metadata": {},
     "output_type": "execute_result"
    }
   ],
   "source": [
    "df_first_orders = df.reset_index().groupby(\"customers_id\", as_index=False).first()\n",
    "df_first_orders"
   ]
  },
  {
   "cell_type": "markdown",
   "metadata": {
    "id": "H1YWvw-MoKAg"
   },
   "source": [
    "Get the first row that correspond to each customer"
   ]
  },
  {
   "cell_type": "markdown",
   "metadata": {
    "id": "-FfDAl0hXfI_"
   },
   "source": [
    "From `df_first_orders`, compute the number of new customers per month. Store the results in a new DataFrame called`df_new_customers`.\n"
   ]
  },
  {
   "cell_type": "markdown",
   "metadata": {
    "id": "Ncz6PcrloKAg"
   },
   "source": [
    "<details>\n",
    "    <summary> Hint 🔍</summary>\n",
    "\n",
    "No need to set the date_date column as index, you can use the \"on\" parameter of the `resample()` function\n",
    "</details>\n",
    "\n"
   ]
  },
  {
   "cell_type": "code",
   "execution_count": 13,
   "metadata": {
    "ExecuteTime": {
     "end_time": "2024-02-15T15:35:38.465246Z",
     "start_time": "2024-02-15T15:35:38.385084Z"
    },
    "id": "t8x69Mysapoq",
    "scrolled": true
   },
   "outputs": [
    {
     "data": {
      "text/html": [
       "<div>\n",
       "<style scoped>\n",
       "    .dataframe tbody tr th:only-of-type {\n",
       "        vertical-align: middle;\n",
       "    }\n",
       "\n",
       "    .dataframe tbody tr th {\n",
       "        vertical-align: top;\n",
       "    }\n",
       "\n",
       "    .dataframe thead th {\n",
       "        text-align: right;\n",
       "    }\n",
       "</style>\n",
       "<table border=\"1\" class=\"dataframe\">\n",
       "  <thead>\n",
       "    <tr style=\"text-align: right;\">\n",
       "      <th></th>\n",
       "      <th>month</th>\n",
       "      <th>customers_id</th>\n",
       "    </tr>\n",
       "  </thead>\n",
       "  <tbody>\n",
       "    <tr>\n",
       "      <th>0</th>\n",
       "      <td>4</td>\n",
       "      <td>25802</td>\n",
       "    </tr>\n",
       "    <tr>\n",
       "      <th>1</th>\n",
       "      <td>5</td>\n",
       "      <td>19865</td>\n",
       "    </tr>\n",
       "    <tr>\n",
       "      <th>2</th>\n",
       "      <td>6</td>\n",
       "      <td>16356</td>\n",
       "    </tr>\n",
       "    <tr>\n",
       "      <th>3</th>\n",
       "      <td>7</td>\n",
       "      <td>14655</td>\n",
       "    </tr>\n",
       "    <tr>\n",
       "      <th>4</th>\n",
       "      <td>8</td>\n",
       "      <td>13692</td>\n",
       "    </tr>\n",
       "  </tbody>\n",
       "</table>\n",
       "</div>"
      ],
      "text/plain": [
       "   month  customers_id\n",
       "0      4         25802\n",
       "1      5         19865\n",
       "2      6         16356\n",
       "3      7         14655\n",
       "4      8         13692"
      ]
     },
     "execution_count": 13,
     "metadata": {},
     "output_type": "execute_result"
    }
   ],
   "source": [
    "df_first_orders['month'] = df_first_orders['date_date'].dt.month\n",
    "\n",
    "df_new_customers = df_first_orders.groupby('month').customers_id.count().reset_index()\n",
    "df_new_customers"
   ]
  },
  {
   "cell_type": "markdown",
   "metadata": {
    "id": "fjx1YnpBbVzQ"
   },
   "source": [
    "Plot the number of new customers in a graph with **Plotly Express**.\n",
    "\n",
    "Which months have the most new customers ?"
   ]
  },
  {
   "cell_type": "code",
   "execution_count": 14,
   "metadata": {
    "ExecuteTime": {
     "end_time": "2024-02-15T15:35:38.488913Z",
     "start_time": "2024-02-15T15:35:38.466312Z"
    },
    "id": "7fEb-3NlZfEN",
    "scrolled": false
   },
   "outputs": [
    {
     "data": {
      "application/vnd.plotly.v1+json": {
       "config": {
        "plotlyServerURL": "https://plot.ly"
       },
       "data": [
        {
         "hovertemplate": "month=%{x}<br>customers_id=%{y}<extra></extra>",
         "legendgroup": "",
         "marker": {
          "color": "#636efa",
          "pattern": {
           "shape": ""
          }
         },
         "name": "",
         "orientation": "v",
         "showlegend": false,
         "textposition": "auto",
         "type": "bar",
         "x": {
          "bdata": "BAAAAAUAAAAGAAAABwAAAAgAAAA=",
          "dtype": "i4"
         },
         "xaxis": "x",
         "y": {
          "bdata": "ymSZTeQ/Pzl8NQ==",
          "dtype": "i2"
         },
         "yaxis": "y"
        }
       ],
       "layout": {
        "barmode": "relative",
        "legend": {
         "tracegroupgap": 0
        },
        "margin": {
         "t": 60
        },
        "template": {
         "data": {
          "bar": [
           {
            "error_x": {
             "color": "#2a3f5f"
            },
            "error_y": {
             "color": "#2a3f5f"
            },
            "marker": {
             "line": {
              "color": "#E5ECF6",
              "width": 0.5
             },
             "pattern": {
              "fillmode": "overlay",
              "size": 10,
              "solidity": 0.2
             }
            },
            "type": "bar"
           }
          ],
          "barpolar": [
           {
            "marker": {
             "line": {
              "color": "#E5ECF6",
              "width": 0.5
             },
             "pattern": {
              "fillmode": "overlay",
              "size": 10,
              "solidity": 0.2
             }
            },
            "type": "barpolar"
           }
          ],
          "carpet": [
           {
            "aaxis": {
             "endlinecolor": "#2a3f5f",
             "gridcolor": "white",
             "linecolor": "white",
             "minorgridcolor": "white",
             "startlinecolor": "#2a3f5f"
            },
            "baxis": {
             "endlinecolor": "#2a3f5f",
             "gridcolor": "white",
             "linecolor": "white",
             "minorgridcolor": "white",
             "startlinecolor": "#2a3f5f"
            },
            "type": "carpet"
           }
          ],
          "choropleth": [
           {
            "colorbar": {
             "outlinewidth": 0,
             "ticks": ""
            },
            "type": "choropleth"
           }
          ],
          "contour": [
           {
            "colorbar": {
             "outlinewidth": 0,
             "ticks": ""
            },
            "colorscale": [
             [
              0,
              "#0d0887"
             ],
             [
              0.1111111111111111,
              "#46039f"
             ],
             [
              0.2222222222222222,
              "#7201a8"
             ],
             [
              0.3333333333333333,
              "#9c179e"
             ],
             [
              0.4444444444444444,
              "#bd3786"
             ],
             [
              0.5555555555555556,
              "#d8576b"
             ],
             [
              0.6666666666666666,
              "#ed7953"
             ],
             [
              0.7777777777777778,
              "#fb9f3a"
             ],
             [
              0.8888888888888888,
              "#fdca26"
             ],
             [
              1,
              "#f0f921"
             ]
            ],
            "type": "contour"
           }
          ],
          "contourcarpet": [
           {
            "colorbar": {
             "outlinewidth": 0,
             "ticks": ""
            },
            "type": "contourcarpet"
           }
          ],
          "heatmap": [
           {
            "colorbar": {
             "outlinewidth": 0,
             "ticks": ""
            },
            "colorscale": [
             [
              0,
              "#0d0887"
             ],
             [
              0.1111111111111111,
              "#46039f"
             ],
             [
              0.2222222222222222,
              "#7201a8"
             ],
             [
              0.3333333333333333,
              "#9c179e"
             ],
             [
              0.4444444444444444,
              "#bd3786"
             ],
             [
              0.5555555555555556,
              "#d8576b"
             ],
             [
              0.6666666666666666,
              "#ed7953"
             ],
             [
              0.7777777777777778,
              "#fb9f3a"
             ],
             [
              0.8888888888888888,
              "#fdca26"
             ],
             [
              1,
              "#f0f921"
             ]
            ],
            "type": "heatmap"
           }
          ],
          "histogram": [
           {
            "marker": {
             "pattern": {
              "fillmode": "overlay",
              "size": 10,
              "solidity": 0.2
             }
            },
            "type": "histogram"
           }
          ],
          "histogram2d": [
           {
            "colorbar": {
             "outlinewidth": 0,
             "ticks": ""
            },
            "colorscale": [
             [
              0,
              "#0d0887"
             ],
             [
              0.1111111111111111,
              "#46039f"
             ],
             [
              0.2222222222222222,
              "#7201a8"
             ],
             [
              0.3333333333333333,
              "#9c179e"
             ],
             [
              0.4444444444444444,
              "#bd3786"
             ],
             [
              0.5555555555555556,
              "#d8576b"
             ],
             [
              0.6666666666666666,
              "#ed7953"
             ],
             [
              0.7777777777777778,
              "#fb9f3a"
             ],
             [
              0.8888888888888888,
              "#fdca26"
             ],
             [
              1,
              "#f0f921"
             ]
            ],
            "type": "histogram2d"
           }
          ],
          "histogram2dcontour": [
           {
            "colorbar": {
             "outlinewidth": 0,
             "ticks": ""
            },
            "colorscale": [
             [
              0,
              "#0d0887"
             ],
             [
              0.1111111111111111,
              "#46039f"
             ],
             [
              0.2222222222222222,
              "#7201a8"
             ],
             [
              0.3333333333333333,
              "#9c179e"
             ],
             [
              0.4444444444444444,
              "#bd3786"
             ],
             [
              0.5555555555555556,
              "#d8576b"
             ],
             [
              0.6666666666666666,
              "#ed7953"
             ],
             [
              0.7777777777777778,
              "#fb9f3a"
             ],
             [
              0.8888888888888888,
              "#fdca26"
             ],
             [
              1,
              "#f0f921"
             ]
            ],
            "type": "histogram2dcontour"
           }
          ],
          "mesh3d": [
           {
            "colorbar": {
             "outlinewidth": 0,
             "ticks": ""
            },
            "type": "mesh3d"
           }
          ],
          "parcoords": [
           {
            "line": {
             "colorbar": {
              "outlinewidth": 0,
              "ticks": ""
             }
            },
            "type": "parcoords"
           }
          ],
          "pie": [
           {
            "automargin": true,
            "type": "pie"
           }
          ],
          "scatter": [
           {
            "fillpattern": {
             "fillmode": "overlay",
             "size": 10,
             "solidity": 0.2
            },
            "type": "scatter"
           }
          ],
          "scatter3d": [
           {
            "line": {
             "colorbar": {
              "outlinewidth": 0,
              "ticks": ""
             }
            },
            "marker": {
             "colorbar": {
              "outlinewidth": 0,
              "ticks": ""
             }
            },
            "type": "scatter3d"
           }
          ],
          "scattercarpet": [
           {
            "marker": {
             "colorbar": {
              "outlinewidth": 0,
              "ticks": ""
             }
            },
            "type": "scattercarpet"
           }
          ],
          "scattergeo": [
           {
            "marker": {
             "colorbar": {
              "outlinewidth": 0,
              "ticks": ""
             }
            },
            "type": "scattergeo"
           }
          ],
          "scattergl": [
           {
            "marker": {
             "colorbar": {
              "outlinewidth": 0,
              "ticks": ""
             }
            },
            "type": "scattergl"
           }
          ],
          "scattermap": [
           {
            "marker": {
             "colorbar": {
              "outlinewidth": 0,
              "ticks": ""
             }
            },
            "type": "scattermap"
           }
          ],
          "scattermapbox": [
           {
            "marker": {
             "colorbar": {
              "outlinewidth": 0,
              "ticks": ""
             }
            },
            "type": "scattermapbox"
           }
          ],
          "scatterpolar": [
           {
            "marker": {
             "colorbar": {
              "outlinewidth": 0,
              "ticks": ""
             }
            },
            "type": "scatterpolar"
           }
          ],
          "scatterpolargl": [
           {
            "marker": {
             "colorbar": {
              "outlinewidth": 0,
              "ticks": ""
             }
            },
            "type": "scatterpolargl"
           }
          ],
          "scatterternary": [
           {
            "marker": {
             "colorbar": {
              "outlinewidth": 0,
              "ticks": ""
             }
            },
            "type": "scatterternary"
           }
          ],
          "surface": [
           {
            "colorbar": {
             "outlinewidth": 0,
             "ticks": ""
            },
            "colorscale": [
             [
              0,
              "#0d0887"
             ],
             [
              0.1111111111111111,
              "#46039f"
             ],
             [
              0.2222222222222222,
              "#7201a8"
             ],
             [
              0.3333333333333333,
              "#9c179e"
             ],
             [
              0.4444444444444444,
              "#bd3786"
             ],
             [
              0.5555555555555556,
              "#d8576b"
             ],
             [
              0.6666666666666666,
              "#ed7953"
             ],
             [
              0.7777777777777778,
              "#fb9f3a"
             ],
             [
              0.8888888888888888,
              "#fdca26"
             ],
             [
              1,
              "#f0f921"
             ]
            ],
            "type": "surface"
           }
          ],
          "table": [
           {
            "cells": {
             "fill": {
              "color": "#EBF0F8"
             },
             "line": {
              "color": "white"
             }
            },
            "header": {
             "fill": {
              "color": "#C8D4E3"
             },
             "line": {
              "color": "white"
             }
            },
            "type": "table"
           }
          ]
         },
         "layout": {
          "annotationdefaults": {
           "arrowcolor": "#2a3f5f",
           "arrowhead": 0,
           "arrowwidth": 1
          },
          "autotypenumbers": "strict",
          "coloraxis": {
           "colorbar": {
            "outlinewidth": 0,
            "ticks": ""
           }
          },
          "colorscale": {
           "diverging": [
            [
             0,
             "#8e0152"
            ],
            [
             0.1,
             "#c51b7d"
            ],
            [
             0.2,
             "#de77ae"
            ],
            [
             0.3,
             "#f1b6da"
            ],
            [
             0.4,
             "#fde0ef"
            ],
            [
             0.5,
             "#f7f7f7"
            ],
            [
             0.6,
             "#e6f5d0"
            ],
            [
             0.7,
             "#b8e186"
            ],
            [
             0.8,
             "#7fbc41"
            ],
            [
             0.9,
             "#4d9221"
            ],
            [
             1,
             "#276419"
            ]
           ],
           "sequential": [
            [
             0,
             "#0d0887"
            ],
            [
             0.1111111111111111,
             "#46039f"
            ],
            [
             0.2222222222222222,
             "#7201a8"
            ],
            [
             0.3333333333333333,
             "#9c179e"
            ],
            [
             0.4444444444444444,
             "#bd3786"
            ],
            [
             0.5555555555555556,
             "#d8576b"
            ],
            [
             0.6666666666666666,
             "#ed7953"
            ],
            [
             0.7777777777777778,
             "#fb9f3a"
            ],
            [
             0.8888888888888888,
             "#fdca26"
            ],
            [
             1,
             "#f0f921"
            ]
           ],
           "sequentialminus": [
            [
             0,
             "#0d0887"
            ],
            [
             0.1111111111111111,
             "#46039f"
            ],
            [
             0.2222222222222222,
             "#7201a8"
            ],
            [
             0.3333333333333333,
             "#9c179e"
            ],
            [
             0.4444444444444444,
             "#bd3786"
            ],
            [
             0.5555555555555556,
             "#d8576b"
            ],
            [
             0.6666666666666666,
             "#ed7953"
            ],
            [
             0.7777777777777778,
             "#fb9f3a"
            ],
            [
             0.8888888888888888,
             "#fdca26"
            ],
            [
             1,
             "#f0f921"
            ]
           ]
          },
          "colorway": [
           "#636efa",
           "#EF553B",
           "#00cc96",
           "#ab63fa",
           "#FFA15A",
           "#19d3f3",
           "#FF6692",
           "#B6E880",
           "#FF97FF",
           "#FECB52"
          ],
          "font": {
           "color": "#2a3f5f"
          },
          "geo": {
           "bgcolor": "white",
           "lakecolor": "white",
           "landcolor": "#E5ECF6",
           "showlakes": true,
           "showland": true,
           "subunitcolor": "white"
          },
          "hoverlabel": {
           "align": "left"
          },
          "hovermode": "closest",
          "mapbox": {
           "style": "light"
          },
          "paper_bgcolor": "white",
          "plot_bgcolor": "#E5ECF6",
          "polar": {
           "angularaxis": {
            "gridcolor": "white",
            "linecolor": "white",
            "ticks": ""
           },
           "bgcolor": "#E5ECF6",
           "radialaxis": {
            "gridcolor": "white",
            "linecolor": "white",
            "ticks": ""
           }
          },
          "scene": {
           "xaxis": {
            "backgroundcolor": "#E5ECF6",
            "gridcolor": "white",
            "gridwidth": 2,
            "linecolor": "white",
            "showbackground": true,
            "ticks": "",
            "zerolinecolor": "white"
           },
           "yaxis": {
            "backgroundcolor": "#E5ECF6",
            "gridcolor": "white",
            "gridwidth": 2,
            "linecolor": "white",
            "showbackground": true,
            "ticks": "",
            "zerolinecolor": "white"
           },
           "zaxis": {
            "backgroundcolor": "#E5ECF6",
            "gridcolor": "white",
            "gridwidth": 2,
            "linecolor": "white",
            "showbackground": true,
            "ticks": "",
            "zerolinecolor": "white"
           }
          },
          "shapedefaults": {
           "line": {
            "color": "#2a3f5f"
           }
          },
          "ternary": {
           "aaxis": {
            "gridcolor": "white",
            "linecolor": "white",
            "ticks": ""
           },
           "baxis": {
            "gridcolor": "white",
            "linecolor": "white",
            "ticks": ""
           },
           "bgcolor": "#E5ECF6",
           "caxis": {
            "gridcolor": "white",
            "linecolor": "white",
            "ticks": ""
           }
          },
          "title": {
           "x": 0.05
          },
          "xaxis": {
           "automargin": true,
           "gridcolor": "white",
           "linecolor": "white",
           "ticks": "",
           "title": {
            "standoff": 15
           },
           "zerolinecolor": "white",
           "zerolinewidth": 2
          },
          "yaxis": {
           "automargin": true,
           "gridcolor": "white",
           "linecolor": "white",
           "ticks": "",
           "title": {
            "standoff": 15
           },
           "zerolinecolor": "white",
           "zerolinewidth": 2
          }
         }
        },
        "xaxis": {
         "anchor": "y",
         "domain": [
          0,
          1
         ],
         "title": {
          "text": "month"
         }
        },
        "yaxis": {
         "anchor": "x",
         "domain": [
          0,
          1
         ],
         "title": {
          "text": "customers_id"
         }
        }
       }
      }
     },
     "metadata": {},
     "output_type": "display_data"
    }
   ],
   "source": [
    "px.bar(df_new_customers, x='month', y='customers_id')"
   ]
  },
  {
   "cell_type": "markdown",
   "metadata": {
    "id": "vo7OuWMZoKAg"
   },
   "source": [
    "April"
   ]
  },
  {
   "cell_type": "markdown",
   "metadata": {
    "id": "8cY1eWCZiEKi"
   },
   "source": [
    "## Retention Matrix"
   ]
  },
  {
   "cell_type": "markdown",
   "metadata": {
    "id": "WcJPQcnwiD9B"
   },
   "source": [
    "We will now study the customer retention to go gain additional insights on our previous findings. \\\n",
    "To do so, we will do a **cohort analysis**.\n",
    "\n",
    "---\n",
    "\n",
    "### Data Transformation"
   ]
  },
  {
   "cell_type": "markdown",
   "metadata": {
    "id": "QvNKI4EPSV-e"
   },
   "source": [
    "Change the `date_date` column name in `df_first_orders` to `member_at`."
   ]
  },
  {
   "cell_type": "markdown",
   "metadata": {
    "id": "emHxcXnroKAk"
   },
   "source": [
    "<details>\n",
    "    <summary> Hint 🔍</summary>\n",
    "\n",
    "Have a look at the `.rename()`method and find out how to change column names in a DataFrame.\n",
    "    \n",
    "    \n",
    "</details>\n"
   ]
  },
  {
   "cell_type": "code",
   "execution_count": 15,
   "metadata": {
    "ExecuteTime": {
     "end_time": "2024-02-15T15:35:38.508487Z",
     "start_time": "2024-02-15T15:35:38.499728Z"
    },
    "id": "-fKTnmY8jK0v"
   },
   "outputs": [
    {
     "data": {
      "text/html": [
       "<div>\n",
       "<style scoped>\n",
       "    .dataframe tbody tr th:only-of-type {\n",
       "        vertical-align: middle;\n",
       "    }\n",
       "\n",
       "    .dataframe tbody tr th {\n",
       "        vertical-align: top;\n",
       "    }\n",
       "\n",
       "    .dataframe thead th {\n",
       "        text-align: right;\n",
       "    }\n",
       "</style>\n",
       "<table border=\"1\" class=\"dataframe\">\n",
       "  <thead>\n",
       "    <tr style=\"text-align: right;\">\n",
       "      <th></th>\n",
       "      <th>customers_id</th>\n",
       "      <th>member_at</th>\n",
       "      <th>orders_id</th>\n",
       "      <th>turnover</th>\n",
       "      <th>margin</th>\n",
       "      <th>shipping_fee</th>\n",
       "      <th>operationnal_cost</th>\n",
       "      <th>month</th>\n",
       "    </tr>\n",
       "  </thead>\n",
       "  <tbody>\n",
       "    <tr>\n",
       "      <th>0</th>\n",
       "      <td>10</td>\n",
       "      <td>2021-06-24</td>\n",
       "      <td>915362</td>\n",
       "      <td>79.93</td>\n",
       "      <td>21.47</td>\n",
       "      <td>3.65</td>\n",
       "      <td>10.15</td>\n",
       "      <td>6</td>\n",
       "    </tr>\n",
       "    <tr>\n",
       "      <th>1</th>\n",
       "      <td>14</td>\n",
       "      <td>2021-05-16</td>\n",
       "      <td>879103</td>\n",
       "      <td>80.28</td>\n",
       "      <td>24.61</td>\n",
       "      <td>0.88</td>\n",
       "      <td>6.95</td>\n",
       "      <td>5</td>\n",
       "    </tr>\n",
       "    <tr>\n",
       "      <th>2</th>\n",
       "      <td>15</td>\n",
       "      <td>2021-04-17</td>\n",
       "      <td>845941</td>\n",
       "      <td>115.84</td>\n",
       "      <td>43.30</td>\n",
       "      <td>0.00</td>\n",
       "      <td>11.05</td>\n",
       "      <td>4</td>\n",
       "    </tr>\n",
       "    <tr>\n",
       "      <th>3</th>\n",
       "      <td>18</td>\n",
       "      <td>2021-07-13</td>\n",
       "      <td>934071</td>\n",
       "      <td>2.48</td>\n",
       "      <td>0.81</td>\n",
       "      <td>9.38</td>\n",
       "      <td>4.90</td>\n",
       "      <td>7</td>\n",
       "    </tr>\n",
       "    <tr>\n",
       "      <th>4</th>\n",
       "      <td>21</td>\n",
       "      <td>2021-05-05</td>\n",
       "      <td>867585</td>\n",
       "      <td>53.87</td>\n",
       "      <td>20.98</td>\n",
       "      <td>5.83</td>\n",
       "      <td>6.50</td>\n",
       "      <td>5</td>\n",
       "    </tr>\n",
       "    <tr>\n",
       "      <th>...</th>\n",
       "      <td>...</td>\n",
       "      <td>...</td>\n",
       "      <td>...</td>\n",
       "      <td>...</td>\n",
       "      <td>...</td>\n",
       "      <td>...</td>\n",
       "      <td>...</td>\n",
       "      <td>...</td>\n",
       "    </tr>\n",
       "    <tr>\n",
       "      <th>90365</th>\n",
       "      <td>309394</td>\n",
       "      <td>2021-08-31</td>\n",
       "      <td>975436</td>\n",
       "      <td>11.77</td>\n",
       "      <td>4.40</td>\n",
       "      <td>8.25</td>\n",
       "      <td>5.05</td>\n",
       "      <td>8</td>\n",
       "    </tr>\n",
       "    <tr>\n",
       "      <th>90366</th>\n",
       "      <td>309395</td>\n",
       "      <td>2021-08-31</td>\n",
       "      <td>975444</td>\n",
       "      <td>70.37</td>\n",
       "      <td>27.10</td>\n",
       "      <td>3.44</td>\n",
       "      <td>9.60</td>\n",
       "      <td>8</td>\n",
       "    </tr>\n",
       "    <tr>\n",
       "      <th>90367</th>\n",
       "      <td>309397</td>\n",
       "      <td>2021-08-31</td>\n",
       "      <td>975449</td>\n",
       "      <td>69.72</td>\n",
       "      <td>28.27</td>\n",
       "      <td>0.00</td>\n",
       "      <td>8.10</td>\n",
       "      <td>8</td>\n",
       "    </tr>\n",
       "    <tr>\n",
       "      <th>90368</th>\n",
       "      <td>309398</td>\n",
       "      <td>2021-08-31</td>\n",
       "      <td>975452</td>\n",
       "      <td>38.93</td>\n",
       "      <td>11.14</td>\n",
       "      <td>0.00</td>\n",
       "      <td>7.40</td>\n",
       "      <td>8</td>\n",
       "    </tr>\n",
       "    <tr>\n",
       "      <th>90369</th>\n",
       "      <td>309399</td>\n",
       "      <td>2021-08-31</td>\n",
       "      <td>975453</td>\n",
       "      <td>72.30</td>\n",
       "      <td>27.76</td>\n",
       "      <td>0.00</td>\n",
       "      <td>5.65</td>\n",
       "      <td>8</td>\n",
       "    </tr>\n",
       "  </tbody>\n",
       "</table>\n",
       "<p>90370 rows × 8 columns</p>\n",
       "</div>"
      ],
      "text/plain": [
       "       customers_id  member_at  orders_id  turnover  margin  shipping_fee  \\\n",
       "0                10 2021-06-24     915362     79.93   21.47          3.65   \n",
       "1                14 2021-05-16     879103     80.28   24.61          0.88   \n",
       "2                15 2021-04-17     845941    115.84   43.30          0.00   \n",
       "3                18 2021-07-13     934071      2.48    0.81          9.38   \n",
       "4                21 2021-05-05     867585     53.87   20.98          5.83   \n",
       "...             ...        ...        ...       ...     ...           ...   \n",
       "90365        309394 2021-08-31     975436     11.77    4.40          8.25   \n",
       "90366        309395 2021-08-31     975444     70.37   27.10          3.44   \n",
       "90367        309397 2021-08-31     975449     69.72   28.27          0.00   \n",
       "90368        309398 2021-08-31     975452     38.93   11.14          0.00   \n",
       "90369        309399 2021-08-31     975453     72.30   27.76          0.00   \n",
       "\n",
       "       operationnal_cost  month  \n",
       "0                  10.15      6  \n",
       "1                   6.95      5  \n",
       "2                  11.05      4  \n",
       "3                   4.90      7  \n",
       "4                   6.50      5  \n",
       "...                  ...    ...  \n",
       "90365               5.05      8  \n",
       "90366               9.60      8  \n",
       "90367               8.10      8  \n",
       "90368               7.40      8  \n",
       "90369               5.65      8  \n",
       "\n",
       "[90370 rows x 8 columns]"
      ]
     },
     "execution_count": 15,
     "metadata": {},
     "output_type": "execute_result"
    }
   ],
   "source": [
    "df_first_orders.rename(columns={'date_date': 'member_at'}, inplace=True)\n",
    "df_first_orders"
   ]
  },
  {
   "cell_type": "markdown",
   "metadata": {
    "id": "33d_fXnUjPy9"
   },
   "source": [
    "Add the `member_at` column to `df_orders`.\n",
    "\n",
    "You will need to merge `df_orders` and `df_first_orders` together. When merging, keep only `customers_id` and `member_at` to avoid duplicate columns.\n",
    "\n",
    "Store the result in a `df_cohort` DataFrame."
   ]
  },
  {
   "cell_type": "code",
   "execution_count": 16,
   "metadata": {
    "ExecuteTime": {
     "end_time": "2024-02-15T15:35:38.627444Z",
     "start_time": "2024-02-15T15:35:38.509477Z"
    },
    "id": "angUGmH4jc8Y"
   },
   "outputs": [
    {
     "data": {
      "text/html": [
       "<div>\n",
       "<style scoped>\n",
       "    .dataframe tbody tr th:only-of-type {\n",
       "        vertical-align: middle;\n",
       "    }\n",
       "\n",
       "    .dataframe tbody tr th {\n",
       "        vertical-align: top;\n",
       "    }\n",
       "\n",
       "    .dataframe thead th {\n",
       "        text-align: right;\n",
       "    }\n",
       "</style>\n",
       "<table border=\"1\" class=\"dataframe\">\n",
       "  <thead>\n",
       "    <tr style=\"text-align: right;\">\n",
       "      <th></th>\n",
       "      <th>date_date</th>\n",
       "      <th>customers_id</th>\n",
       "      <th>orders_id</th>\n",
       "      <th>turnover</th>\n",
       "      <th>margin</th>\n",
       "      <th>shipping_fee</th>\n",
       "      <th>operationnal_cost</th>\n",
       "      <th>member_at</th>\n",
       "    </tr>\n",
       "  </thead>\n",
       "  <tbody>\n",
       "    <tr>\n",
       "      <th>0</th>\n",
       "      <td>2021-04-01</td>\n",
       "      <td>275664</td>\n",
       "      <td>825526</td>\n",
       "      <td>20.70</td>\n",
       "      <td>7.77</td>\n",
       "      <td>5.76</td>\n",
       "      <td>5.50</td>\n",
       "      <td>2021-04-01</td>\n",
       "    </tr>\n",
       "    <tr>\n",
       "      <th>1</th>\n",
       "      <td>2021-04-01</td>\n",
       "      <td>275817</td>\n",
       "      <td>826308</td>\n",
       "      <td>23.79</td>\n",
       "      <td>7.79</td>\n",
       "      <td>8.87</td>\n",
       "      <td>5.50</td>\n",
       "      <td>2021-04-01</td>\n",
       "    </tr>\n",
       "    <tr>\n",
       "      <th>2</th>\n",
       "      <td>2021-04-01</td>\n",
       "      <td>132578</td>\n",
       "      <td>826280</td>\n",
       "      <td>24.44</td>\n",
       "      <td>9.37</td>\n",
       "      <td>6.15</td>\n",
       "      <td>5.50</td>\n",
       "      <td>2021-04-01</td>\n",
       "    </tr>\n",
       "    <tr>\n",
       "      <th>3</th>\n",
       "      <td>2021-04-01</td>\n",
       "      <td>167950</td>\n",
       "      <td>825740</td>\n",
       "      <td>45.08</td>\n",
       "      <td>3.74</td>\n",
       "      <td>5.78</td>\n",
       "      <td>6.50</td>\n",
       "      <td>2021-04-01</td>\n",
       "    </tr>\n",
       "    <tr>\n",
       "      <th>4</th>\n",
       "      <td>2021-04-01</td>\n",
       "      <td>18511</td>\n",
       "      <td>825865</td>\n",
       "      <td>35.56</td>\n",
       "      <td>5.53</td>\n",
       "      <td>4.11</td>\n",
       "      <td>6.50</td>\n",
       "      <td>2021-04-01</td>\n",
       "    </tr>\n",
       "    <tr>\n",
       "      <th>...</th>\n",
       "      <td>...</td>\n",
       "      <td>...</td>\n",
       "      <td>...</td>\n",
       "      <td>...</td>\n",
       "      <td>...</td>\n",
       "      <td>...</td>\n",
       "      <td>...</td>\n",
       "      <td>...</td>\n",
       "    </tr>\n",
       "    <tr>\n",
       "      <th>142404</th>\n",
       "      <td>2021-08-31</td>\n",
       "      <td>94569</td>\n",
       "      <td>974691</td>\n",
       "      <td>56.02</td>\n",
       "      <td>14.93</td>\n",
       "      <td>3.24</td>\n",
       "      <td>5.80</td>\n",
       "      <td>2021-08-31</td>\n",
       "    </tr>\n",
       "    <tr>\n",
       "      <th>142405</th>\n",
       "      <td>2021-08-31</td>\n",
       "      <td>143620</td>\n",
       "      <td>975167</td>\n",
       "      <td>35.87</td>\n",
       "      <td>13.63</td>\n",
       "      <td>3.24</td>\n",
       "      <td>5.80</td>\n",
       "      <td>2021-05-02</td>\n",
       "    </tr>\n",
       "    <tr>\n",
       "      <th>142406</th>\n",
       "      <td>2021-08-31</td>\n",
       "      <td>117179</td>\n",
       "      <td>974815</td>\n",
       "      <td>58.04</td>\n",
       "      <td>11.43</td>\n",
       "      <td>3.24</td>\n",
       "      <td>7.65</td>\n",
       "      <td>2021-04-13</td>\n",
       "    </tr>\n",
       "    <tr>\n",
       "      <th>142407</th>\n",
       "      <td>2021-08-31</td>\n",
       "      <td>192997</td>\n",
       "      <td>975054</td>\n",
       "      <td>50.62</td>\n",
       "      <td>17.75</td>\n",
       "      <td>3.24</td>\n",
       "      <td>8.80</td>\n",
       "      <td>2021-04-04</td>\n",
       "    </tr>\n",
       "    <tr>\n",
       "      <th>142408</th>\n",
       "      <td>2021-08-31</td>\n",
       "      <td>308669</td>\n",
       "      <td>975143</td>\n",
       "      <td>51.21</td>\n",
       "      <td>20.65</td>\n",
       "      <td>3.24</td>\n",
       "      <td>5.95</td>\n",
       "      <td>2021-08-28</td>\n",
       "    </tr>\n",
       "  </tbody>\n",
       "</table>\n",
       "<p>142409 rows × 8 columns</p>\n",
       "</div>"
      ],
      "text/plain": [
       "        date_date  customers_id  orders_id  turnover  margin  shipping_fee  \\\n",
       "0      2021-04-01        275664     825526     20.70    7.77          5.76   \n",
       "1      2021-04-01        275817     826308     23.79    7.79          8.87   \n",
       "2      2021-04-01        132578     826280     24.44    9.37          6.15   \n",
       "3      2021-04-01        167950     825740     45.08    3.74          5.78   \n",
       "4      2021-04-01         18511     825865     35.56    5.53          4.11   \n",
       "...           ...           ...        ...       ...     ...           ...   \n",
       "142404 2021-08-31         94569     974691     56.02   14.93          3.24   \n",
       "142405 2021-08-31        143620     975167     35.87   13.63          3.24   \n",
       "142406 2021-08-31        117179     974815     58.04   11.43          3.24   \n",
       "142407 2021-08-31        192997     975054     50.62   17.75          3.24   \n",
       "142408 2021-08-31        308669     975143     51.21   20.65          3.24   \n",
       "\n",
       "        operationnal_cost  member_at  \n",
       "0                    5.50 2021-04-01  \n",
       "1                    5.50 2021-04-01  \n",
       "2                    5.50 2021-04-01  \n",
       "3                    6.50 2021-04-01  \n",
       "4                    6.50 2021-04-01  \n",
       "...                   ...        ...  \n",
       "142404               5.80 2021-08-31  \n",
       "142405               5.80 2021-05-02  \n",
       "142406               7.65 2021-04-13  \n",
       "142407               8.80 2021-04-04  \n",
       "142408               5.95 2021-08-28  \n",
       "\n",
       "[142409 rows x 8 columns]"
      ]
     },
     "execution_count": 16,
     "metadata": {},
     "output_type": "execute_result"
    }
   ],
   "source": [
    "df.reset_index(inplace=True)\n",
    "df_cohort = df.merge(df_first_orders[['customers_id', 'member_at']], how='left', on='customers_id')\n",
    "df_cohort"
   ]
  },
  {
   "cell_type": "markdown",
   "metadata": {
    "id": "lqMhKjValQ4R"
   },
   "source": [
    "We will create our cohorts based on the month of `member_at`. \\\n",
    "Note that since it is a **datetime** column, we can cast it to a specific format like **datetime64[M]**.\n",
    "\n",
    "Execute the following cell and try to understand what it did."
   ]
  },
  {
   "cell_type": "code",
   "execution_count": 17,
   "metadata": {
    "ExecuteTime": {
     "end_time": "2024-02-15T15:35:38.680620Z",
     "start_time": "2024-02-15T15:35:38.628615Z"
    },
    "id": "CITQJ4t7lY_B"
   },
   "outputs": [
    {
     "data": {
      "text/html": [
       "<div>\n",
       "<style scoped>\n",
       "    .dataframe tbody tr th:only-of-type {\n",
       "        vertical-align: middle;\n",
       "    }\n",
       "\n",
       "    .dataframe tbody tr th {\n",
       "        vertical-align: top;\n",
       "    }\n",
       "\n",
       "    .dataframe thead th {\n",
       "        text-align: right;\n",
       "    }\n",
       "</style>\n",
       "<table border=\"1\" class=\"dataframe\">\n",
       "  <thead>\n",
       "    <tr style=\"text-align: right;\">\n",
       "      <th></th>\n",
       "      <th>member_at</th>\n",
       "      <th>cohort</th>\n",
       "    </tr>\n",
       "  </thead>\n",
       "  <tbody>\n",
       "    <tr>\n",
       "      <th>0</th>\n",
       "      <td>2021-04-01</td>\n",
       "      <td>2021-04-01</td>\n",
       "    </tr>\n",
       "    <tr>\n",
       "      <th>1</th>\n",
       "      <td>2021-04-01</td>\n",
       "      <td>2021-04-01</td>\n",
       "    </tr>\n",
       "    <tr>\n",
       "      <th>2</th>\n",
       "      <td>2021-04-01</td>\n",
       "      <td>2021-04-01</td>\n",
       "    </tr>\n",
       "    <tr>\n",
       "      <th>3</th>\n",
       "      <td>2021-04-01</td>\n",
       "      <td>2021-04-01</td>\n",
       "    </tr>\n",
       "    <tr>\n",
       "      <th>4</th>\n",
       "      <td>2021-04-01</td>\n",
       "      <td>2021-04-01</td>\n",
       "    </tr>\n",
       "    <tr>\n",
       "      <th>...</th>\n",
       "      <td>...</td>\n",
       "      <td>...</td>\n",
       "    </tr>\n",
       "    <tr>\n",
       "      <th>142404</th>\n",
       "      <td>2021-08-31</td>\n",
       "      <td>2021-08-01</td>\n",
       "    </tr>\n",
       "    <tr>\n",
       "      <th>142405</th>\n",
       "      <td>2021-05-02</td>\n",
       "      <td>2021-05-01</td>\n",
       "    </tr>\n",
       "    <tr>\n",
       "      <th>142406</th>\n",
       "      <td>2021-04-13</td>\n",
       "      <td>2021-04-01</td>\n",
       "    </tr>\n",
       "    <tr>\n",
       "      <th>142407</th>\n",
       "      <td>2021-04-04</td>\n",
       "      <td>2021-04-01</td>\n",
       "    </tr>\n",
       "    <tr>\n",
       "      <th>142408</th>\n",
       "      <td>2021-08-28</td>\n",
       "      <td>2021-08-01</td>\n",
       "    </tr>\n",
       "  </tbody>\n",
       "</table>\n",
       "<p>142409 rows × 2 columns</p>\n",
       "</div>"
      ],
      "text/plain": [
       "        member_at     cohort\n",
       "0      2021-04-01 2021-04-01\n",
       "1      2021-04-01 2021-04-01\n",
       "2      2021-04-01 2021-04-01\n",
       "3      2021-04-01 2021-04-01\n",
       "4      2021-04-01 2021-04-01\n",
       "...           ...        ...\n",
       "142404 2021-08-31 2021-08-01\n",
       "142405 2021-05-02 2021-05-01\n",
       "142406 2021-04-13 2021-04-01\n",
       "142407 2021-04-04 2021-04-01\n",
       "142408 2021-08-28 2021-08-01\n",
       "\n",
       "[142409 rows x 2 columns]"
      ]
     },
     "execution_count": 17,
     "metadata": {},
     "output_type": "execute_result"
    }
   ],
   "source": [
    "df_cohort[\"cohort\"] = df_cohort[\"member_at\"].values.astype('datetime64[M]')\n",
    "df_cohort[[\"member_at\", \"cohort\"]]"
   ]
  },
  {
   "cell_type": "markdown",
   "metadata": {
    "id": "HKV0nXQbnQib"
   },
   "source": [
    "Compute the number of unique users per cohort. You can use the `.nunique()`aggregator to do so.\n",
    "\n",
    "Store the results in a **Series** variable named `cohort_size`.\n"
   ]
  },
  {
   "cell_type": "code",
   "execution_count": 18,
   "metadata": {
    "ExecuteTime": {
     "end_time": "2024-02-15T15:35:39.488698Z",
     "start_time": "2024-02-15T15:35:38.681833Z"
    },
    "id": "GAbRTzGInien",
    "scrolled": true
   },
   "outputs": [
    {
     "data": {
      "text/plain": [
       "cohort\n",
       "2021-04-01    25802\n",
       "2021-05-01    19865\n",
       "2021-06-01    16356\n",
       "2021-07-01    14655\n",
       "2021-08-01    13692\n",
       "Name: customers_id, dtype: int64"
      ]
     },
     "execution_count": 18,
     "metadata": {},
     "output_type": "execute_result"
    }
   ],
   "source": [
    "cohort_size = df_cohort.groupby('cohort').customers_id.nunique()\n",
    "cohort_size"
   ]
  },
  {
   "cell_type": "markdown",
   "metadata": {
    "id": "3s0Z0EGYnsQ1"
   },
   "source": [
    "---\n",
    "\n",
    "We will define a customer as active when they place an order. We will also consider a customer as active after its **second** order.\n",
    "\n",
    "\n",
    "Filter `df_cohort` on `date_date` > `member_at`"
   ]
  },
  {
   "cell_type": "code",
   "execution_count": 19,
   "metadata": {
    "ExecuteTime": {
     "end_time": "2024-02-15T15:35:39.529932Z",
     "start_time": "2024-02-15T15:35:39.516154Z"
    },
    "id": "itsy7_WcqGL7"
   },
   "outputs": [
    {
     "data": {
      "text/html": [
       "<div>\n",
       "<style scoped>\n",
       "    .dataframe tbody tr th:only-of-type {\n",
       "        vertical-align: middle;\n",
       "    }\n",
       "\n",
       "    .dataframe tbody tr th {\n",
       "        vertical-align: top;\n",
       "    }\n",
       "\n",
       "    .dataframe thead th {\n",
       "        text-align: right;\n",
       "    }\n",
       "</style>\n",
       "<table border=\"1\" class=\"dataframe\">\n",
       "  <thead>\n",
       "    <tr style=\"text-align: right;\">\n",
       "      <th></th>\n",
       "      <th>date_date</th>\n",
       "      <th>customers_id</th>\n",
       "      <th>orders_id</th>\n",
       "      <th>turnover</th>\n",
       "      <th>margin</th>\n",
       "      <th>shipping_fee</th>\n",
       "      <th>operationnal_cost</th>\n",
       "      <th>member_at</th>\n",
       "      <th>cohort</th>\n",
       "    </tr>\n",
       "  </thead>\n",
       "  <tbody>\n",
       "    <tr>\n",
       "      <th>459</th>\n",
       "      <td>2021-04-02</td>\n",
       "      <td>144022</td>\n",
       "      <td>826924</td>\n",
       "      <td>21.36</td>\n",
       "      <td>7.92</td>\n",
       "      <td>5.86</td>\n",
       "      <td>6.35</td>\n",
       "      <td>2021-04-01</td>\n",
       "      <td>2021-04-01</td>\n",
       "    </tr>\n",
       "    <tr>\n",
       "      <th>665</th>\n",
       "      <td>2021-04-03</td>\n",
       "      <td>245528</td>\n",
       "      <td>828338</td>\n",
       "      <td>61.64</td>\n",
       "      <td>21.05</td>\n",
       "      <td>3.53</td>\n",
       "      <td>5.80</td>\n",
       "      <td>2021-04-02</td>\n",
       "      <td>2021-04-01</td>\n",
       "    </tr>\n",
       "    <tr>\n",
       "      <th>1024</th>\n",
       "      <td>2021-04-04</td>\n",
       "      <td>229475</td>\n",
       "      <td>829270</td>\n",
       "      <td>8.28</td>\n",
       "      <td>2.91</td>\n",
       "      <td>0.09</td>\n",
       "      <td>5.35</td>\n",
       "      <td>2021-04-02</td>\n",
       "      <td>2021-04-01</td>\n",
       "    </tr>\n",
       "    <tr>\n",
       "      <th>1092</th>\n",
       "      <td>2021-04-04</td>\n",
       "      <td>230901</td>\n",
       "      <td>829235</td>\n",
       "      <td>59.58</td>\n",
       "      <td>22.43</td>\n",
       "      <td>3.39</td>\n",
       "      <td>8.45</td>\n",
       "      <td>2021-04-01</td>\n",
       "      <td>2021-04-01</td>\n",
       "    </tr>\n",
       "    <tr>\n",
       "      <th>1392</th>\n",
       "      <td>2021-04-05</td>\n",
       "      <td>246673</td>\n",
       "      <td>830413</td>\n",
       "      <td>54.81</td>\n",
       "      <td>24.00</td>\n",
       "      <td>5.87</td>\n",
       "      <td>7.80</td>\n",
       "      <td>2021-04-04</td>\n",
       "      <td>2021-04-01</td>\n",
       "    </tr>\n",
       "    <tr>\n",
       "      <th>...</th>\n",
       "      <td>...</td>\n",
       "      <td>...</td>\n",
       "      <td>...</td>\n",
       "      <td>...</td>\n",
       "      <td>...</td>\n",
       "      <td>...</td>\n",
       "      <td>...</td>\n",
       "      <td>...</td>\n",
       "      <td>...</td>\n",
       "    </tr>\n",
       "    <tr>\n",
       "      <th>142400</th>\n",
       "      <td>2021-08-30</td>\n",
       "      <td>284154</td>\n",
       "      <td>973833</td>\n",
       "      <td>49.46</td>\n",
       "      <td>16.30</td>\n",
       "      <td>3.24</td>\n",
       "      <td>6.20</td>\n",
       "      <td>2021-04-28</td>\n",
       "      <td>2021-04-01</td>\n",
       "    </tr>\n",
       "    <tr>\n",
       "      <th>142405</th>\n",
       "      <td>2021-08-31</td>\n",
       "      <td>143620</td>\n",
       "      <td>975167</td>\n",
       "      <td>35.87</td>\n",
       "      <td>13.63</td>\n",
       "      <td>3.24</td>\n",
       "      <td>5.80</td>\n",
       "      <td>2021-05-02</td>\n",
       "      <td>2021-05-01</td>\n",
       "    </tr>\n",
       "    <tr>\n",
       "      <th>142406</th>\n",
       "      <td>2021-08-31</td>\n",
       "      <td>117179</td>\n",
       "      <td>974815</td>\n",
       "      <td>58.04</td>\n",
       "      <td>11.43</td>\n",
       "      <td>3.24</td>\n",
       "      <td>7.65</td>\n",
       "      <td>2021-04-13</td>\n",
       "      <td>2021-04-01</td>\n",
       "    </tr>\n",
       "    <tr>\n",
       "      <th>142407</th>\n",
       "      <td>2021-08-31</td>\n",
       "      <td>192997</td>\n",
       "      <td>975054</td>\n",
       "      <td>50.62</td>\n",
       "      <td>17.75</td>\n",
       "      <td>3.24</td>\n",
       "      <td>8.80</td>\n",
       "      <td>2021-04-04</td>\n",
       "      <td>2021-04-01</td>\n",
       "    </tr>\n",
       "    <tr>\n",
       "      <th>142408</th>\n",
       "      <td>2021-08-31</td>\n",
       "      <td>308669</td>\n",
       "      <td>975143</td>\n",
       "      <td>51.21</td>\n",
       "      <td>20.65</td>\n",
       "      <td>3.24</td>\n",
       "      <td>5.95</td>\n",
       "      <td>2021-08-28</td>\n",
       "      <td>2021-08-01</td>\n",
       "    </tr>\n",
       "  </tbody>\n",
       "</table>\n",
       "<p>34263 rows × 9 columns</p>\n",
       "</div>"
      ],
      "text/plain": [
       "        date_date  customers_id  orders_id  turnover  margin  shipping_fee  \\\n",
       "459    2021-04-02        144022     826924     21.36    7.92          5.86   \n",
       "665    2021-04-03        245528     828338     61.64   21.05          3.53   \n",
       "1024   2021-04-04        229475     829270      8.28    2.91          0.09   \n",
       "1092   2021-04-04        230901     829235     59.58   22.43          3.39   \n",
       "1392   2021-04-05        246673     830413     54.81   24.00          5.87   \n",
       "...           ...           ...        ...       ...     ...           ...   \n",
       "142400 2021-08-30        284154     973833     49.46   16.30          3.24   \n",
       "142405 2021-08-31        143620     975167     35.87   13.63          3.24   \n",
       "142406 2021-08-31        117179     974815     58.04   11.43          3.24   \n",
       "142407 2021-08-31        192997     975054     50.62   17.75          3.24   \n",
       "142408 2021-08-31        308669     975143     51.21   20.65          3.24   \n",
       "\n",
       "        operationnal_cost  member_at     cohort  \n",
       "459                  6.35 2021-04-01 2021-04-01  \n",
       "665                  5.80 2021-04-02 2021-04-01  \n",
       "1024                 5.35 2021-04-02 2021-04-01  \n",
       "1092                 8.45 2021-04-01 2021-04-01  \n",
       "1392                 7.80 2021-04-04 2021-04-01  \n",
       "...                   ...        ...        ...  \n",
       "142400               6.20 2021-04-28 2021-04-01  \n",
       "142405               5.80 2021-05-02 2021-05-01  \n",
       "142406               7.65 2021-04-13 2021-04-01  \n",
       "142407               8.80 2021-04-04 2021-04-01  \n",
       "142408               5.95 2021-08-28 2021-08-01  \n",
       "\n",
       "[34263 rows x 9 columns]"
      ]
     },
     "execution_count": 19,
     "metadata": {},
     "output_type": "execute_result"
    }
   ],
   "source": [
    "df_cohort[df_cohort['date_date'] > df_cohort['member_at']]"
   ]
  },
  {
   "cell_type": "markdown",
   "metadata": {
    "id": "YopxDxh-nshx"
   },
   "source": [
    "Look at the cell below and comment on what it does, then execute it.\n"
   ]
  },
  {
   "cell_type": "code",
   "execution_count": null,
   "metadata": {
    "ExecuteTime": {
     "end_time": "2024-02-15T15:35:39.537722Z",
     "start_time": "2024-02-15T15:35:39.530991Z"
    },
    "id": "bRwg5G73rPJd"
   },
   "outputs": [
    {
     "data": {
      "text/html": [
       "<div>\n",
       "<style scoped>\n",
       "    .dataframe tbody tr th:only-of-type {\n",
       "        vertical-align: middle;\n",
       "    }\n",
       "\n",
       "    .dataframe tbody tr th {\n",
       "        vertical-align: top;\n",
       "    }\n",
       "\n",
       "    .dataframe thead th {\n",
       "        text-align: right;\n",
       "    }\n",
       "</style>\n",
       "<table border=\"1\" class=\"dataframe\">\n",
       "  <thead>\n",
       "    <tr style=\"text-align: right;\">\n",
       "      <th></th>\n",
       "      <th>date_date</th>\n",
       "      <th>customers_id</th>\n",
       "      <th>orders_id</th>\n",
       "      <th>turnover</th>\n",
       "      <th>margin</th>\n",
       "      <th>shipping_fee</th>\n",
       "      <th>operationnal_cost</th>\n",
       "      <th>member_at</th>\n",
       "      <th>cohort</th>\n",
       "      <th>nb_weeks</th>\n",
       "    </tr>\n",
       "  </thead>\n",
       "  <tbody>\n",
       "    <tr>\n",
       "      <th>0</th>\n",
       "      <td>2021-04-01</td>\n",
       "      <td>275664</td>\n",
       "      <td>825526</td>\n",
       "      <td>20.70</td>\n",
       "      <td>7.77</td>\n",
       "      <td>5.76</td>\n",
       "      <td>5.50</td>\n",
       "      <td>2021-04-01</td>\n",
       "      <td>2021-04-01</td>\n",
       "      <td>1</td>\n",
       "    </tr>\n",
       "    <tr>\n",
       "      <th>1</th>\n",
       "      <td>2021-04-01</td>\n",
       "      <td>275817</td>\n",
       "      <td>826308</td>\n",
       "      <td>23.79</td>\n",
       "      <td>7.79</td>\n",
       "      <td>8.87</td>\n",
       "      <td>5.50</td>\n",
       "      <td>2021-04-01</td>\n",
       "      <td>2021-04-01</td>\n",
       "      <td>1</td>\n",
       "    </tr>\n",
       "    <tr>\n",
       "      <th>2</th>\n",
       "      <td>2021-04-01</td>\n",
       "      <td>132578</td>\n",
       "      <td>826280</td>\n",
       "      <td>24.44</td>\n",
       "      <td>9.37</td>\n",
       "      <td>6.15</td>\n",
       "      <td>5.50</td>\n",
       "      <td>2021-04-01</td>\n",
       "      <td>2021-04-01</td>\n",
       "      <td>1</td>\n",
       "    </tr>\n",
       "    <tr>\n",
       "      <th>3</th>\n",
       "      <td>2021-04-01</td>\n",
       "      <td>167950</td>\n",
       "      <td>825740</td>\n",
       "      <td>45.08</td>\n",
       "      <td>3.74</td>\n",
       "      <td>5.78</td>\n",
       "      <td>6.50</td>\n",
       "      <td>2021-04-01</td>\n",
       "      <td>2021-04-01</td>\n",
       "      <td>1</td>\n",
       "    </tr>\n",
       "    <tr>\n",
       "      <th>4</th>\n",
       "      <td>2021-04-01</td>\n",
       "      <td>18511</td>\n",
       "      <td>825865</td>\n",
       "      <td>35.56</td>\n",
       "      <td>5.53</td>\n",
       "      <td>4.11</td>\n",
       "      <td>6.50</td>\n",
       "      <td>2021-04-01</td>\n",
       "      <td>2021-04-01</td>\n",
       "      <td>1</td>\n",
       "    </tr>\n",
       "    <tr>\n",
       "      <th>...</th>\n",
       "      <td>...</td>\n",
       "      <td>...</td>\n",
       "      <td>...</td>\n",
       "      <td>...</td>\n",
       "      <td>...</td>\n",
       "      <td>...</td>\n",
       "      <td>...</td>\n",
       "      <td>...</td>\n",
       "      <td>...</td>\n",
       "      <td>...</td>\n",
       "    </tr>\n",
       "    <tr>\n",
       "      <th>142404</th>\n",
       "      <td>2021-08-31</td>\n",
       "      <td>94569</td>\n",
       "      <td>974691</td>\n",
       "      <td>56.02</td>\n",
       "      <td>14.93</td>\n",
       "      <td>3.24</td>\n",
       "      <td>5.80</td>\n",
       "      <td>2021-08-31</td>\n",
       "      <td>2021-08-01</td>\n",
       "      <td>1</td>\n",
       "    </tr>\n",
       "    <tr>\n",
       "      <th>142405</th>\n",
       "      <td>2021-08-31</td>\n",
       "      <td>143620</td>\n",
       "      <td>975167</td>\n",
       "      <td>35.87</td>\n",
       "      <td>13.63</td>\n",
       "      <td>3.24</td>\n",
       "      <td>5.80</td>\n",
       "      <td>2021-05-02</td>\n",
       "      <td>2021-05-01</td>\n",
       "      <td>18</td>\n",
       "    </tr>\n",
       "    <tr>\n",
       "      <th>142406</th>\n",
       "      <td>2021-08-31</td>\n",
       "      <td>117179</td>\n",
       "      <td>974815</td>\n",
       "      <td>58.04</td>\n",
       "      <td>11.43</td>\n",
       "      <td>3.24</td>\n",
       "      <td>7.65</td>\n",
       "      <td>2021-04-13</td>\n",
       "      <td>2021-04-01</td>\n",
       "      <td>21</td>\n",
       "    </tr>\n",
       "    <tr>\n",
       "      <th>142407</th>\n",
       "      <td>2021-08-31</td>\n",
       "      <td>192997</td>\n",
       "      <td>975054</td>\n",
       "      <td>50.62</td>\n",
       "      <td>17.75</td>\n",
       "      <td>3.24</td>\n",
       "      <td>8.80</td>\n",
       "      <td>2021-04-04</td>\n",
       "      <td>2021-04-01</td>\n",
       "      <td>22</td>\n",
       "    </tr>\n",
       "    <tr>\n",
       "      <th>142408</th>\n",
       "      <td>2021-08-31</td>\n",
       "      <td>308669</td>\n",
       "      <td>975143</td>\n",
       "      <td>51.21</td>\n",
       "      <td>20.65</td>\n",
       "      <td>3.24</td>\n",
       "      <td>5.95</td>\n",
       "      <td>2021-08-28</td>\n",
       "      <td>2021-08-01</td>\n",
       "      <td>1</td>\n",
       "    </tr>\n",
       "  </tbody>\n",
       "</table>\n",
       "<p>142409 rows × 10 columns</p>\n",
       "</div>"
      ],
      "text/plain": [
       "        date_date  customers_id  orders_id  turnover  margin  shipping_fee  \\\n",
       "0      2021-04-01        275664     825526     20.70    7.77          5.76   \n",
       "1      2021-04-01        275817     826308     23.79    7.79          8.87   \n",
       "2      2021-04-01        132578     826280     24.44    9.37          6.15   \n",
       "3      2021-04-01        167950     825740     45.08    3.74          5.78   \n",
       "4      2021-04-01         18511     825865     35.56    5.53          4.11   \n",
       "...           ...           ...        ...       ...     ...           ...   \n",
       "142404 2021-08-31         94569     974691     56.02   14.93          3.24   \n",
       "142405 2021-08-31        143620     975167     35.87   13.63          3.24   \n",
       "142406 2021-08-31        117179     974815     58.04   11.43          3.24   \n",
       "142407 2021-08-31        192997     975054     50.62   17.75          3.24   \n",
       "142408 2021-08-31        308669     975143     51.21   20.65          3.24   \n",
       "\n",
       "        operationnal_cost  member_at     cohort  nb_weeks  \n",
       "0                    5.50 2021-04-01 2021-04-01         1  \n",
       "1                    5.50 2021-04-01 2021-04-01         1  \n",
       "2                    5.50 2021-04-01 2021-04-01         1  \n",
       "3                    6.50 2021-04-01 2021-04-01         1  \n",
       "4                    6.50 2021-04-01 2021-04-01         1  \n",
       "...                   ...        ...        ...       ...  \n",
       "142404               5.80 2021-08-31 2021-08-01         1  \n",
       "142405               5.80 2021-05-02 2021-05-01        18  \n",
       "142406               7.65 2021-04-13 2021-04-01        21  \n",
       "142407               8.80 2021-04-04 2021-04-01        22  \n",
       "142408               5.95 2021-08-28 2021-08-01         1  \n",
       "\n",
       "[142409 rows x 10 columns]"
      ]
     },
     "execution_count": 21,
     "metadata": {},
     "output_type": "execute_result"
    }
   ],
   "source": [
    "import numpy as np\n",
    "\n",
    "# create a new colum with the data of the difernace between dates in a month format 0.5 weeks meaning approximately 3 days\n",
    "df_cohort[\"nb_weeks\"] = (df_cohort[\"date_date\"] - df_cohort[\"member_at\"]) / np.timedelta64(1,'W')\n",
    "\n",
    "# add 1 to the number as interger becouse it might be 0.5 and the int would give a 0\n",
    "df_cohort[\"nb_weeks\"] = df_cohort[\"nb_weeks\"].astype(int) + 1\n",
    "df_cohort"
   ]
  },
  {
   "cell_type": "markdown",
   "metadata": {
    "id": "4Bi0Dqp8oKAk"
   },
   "source": [
    "### Matrix creation\n"
   ]
  },
  {
   "cell_type": "markdown",
   "metadata": {
    "id": "WLRbXWtNnsxI"
   },
   "source": [
    "To create a rentention matrix, we will have to count the number of unique `customers_id` by `cohort` and `nb_weeks`. \\\n",
    "Do it and store the result in a `df_retention` DataFrame.\n",
    "\n",
    "\n",
    "Don't forget to use **as_index=False** in the `groupby()` function as we don't want to set `cohort` and `nb_weeks` as indexes."
   ]
  },
  {
   "cell_type": "code",
   "execution_count": 28,
   "metadata": {
    "ExecuteTime": {
     "end_time": "2024-02-15T15:35:39.565472Z",
     "start_time": "2024-02-15T15:35:39.538831Z"
    },
    "id": "DZRJrCfbrcdz"
   },
   "outputs": [
    {
     "data": {
      "text/html": [
       "<div>\n",
       "<style scoped>\n",
       "    .dataframe tbody tr th:only-of-type {\n",
       "        vertical-align: middle;\n",
       "    }\n",
       "\n",
       "    .dataframe tbody tr th {\n",
       "        vertical-align: top;\n",
       "    }\n",
       "\n",
       "    .dataframe thead th {\n",
       "        text-align: right;\n",
       "    }\n",
       "</style>\n",
       "<table border=\"1\" class=\"dataframe\">\n",
       "  <thead>\n",
       "    <tr style=\"text-align: right;\">\n",
       "      <th></th>\n",
       "      <th>cohort</th>\n",
       "      <th>nb_weeks</th>\n",
       "      <th>customers_id</th>\n",
       "    </tr>\n",
       "  </thead>\n",
       "  <tbody>\n",
       "    <tr>\n",
       "      <th>0</th>\n",
       "      <td>2021-04-01</td>\n",
       "      <td>-3</td>\n",
       "      <td>6</td>\n",
       "    </tr>\n",
       "    <tr>\n",
       "      <th>1</th>\n",
       "      <td>2021-04-01</td>\n",
       "      <td>-2</td>\n",
       "      <td>84</td>\n",
       "    </tr>\n",
       "    <tr>\n",
       "      <th>2</th>\n",
       "      <td>2021-04-01</td>\n",
       "      <td>-1</td>\n",
       "      <td>176</td>\n",
       "    </tr>\n",
       "    <tr>\n",
       "      <th>3</th>\n",
       "      <td>2021-04-01</td>\n",
       "      <td>0</td>\n",
       "      <td>210</td>\n",
       "    </tr>\n",
       "    <tr>\n",
       "      <th>4</th>\n",
       "      <td>2021-04-01</td>\n",
       "      <td>1</td>\n",
       "      <td>25802</td>\n",
       "    </tr>\n",
       "    <tr>\n",
       "      <th>...</th>\n",
       "      <td>...</td>\n",
       "      <td>...</td>\n",
       "      <td>...</td>\n",
       "    </tr>\n",
       "    <tr>\n",
       "      <th>125</th>\n",
       "      <td>2021-08-01</td>\n",
       "      <td>1</td>\n",
       "      <td>13692</td>\n",
       "    </tr>\n",
       "    <tr>\n",
       "      <th>126</th>\n",
       "      <td>2021-08-01</td>\n",
       "      <td>2</td>\n",
       "      <td>150</td>\n",
       "    </tr>\n",
       "    <tr>\n",
       "      <th>127</th>\n",
       "      <td>2021-08-01</td>\n",
       "      <td>3</td>\n",
       "      <td>132</td>\n",
       "    </tr>\n",
       "    <tr>\n",
       "      <th>128</th>\n",
       "      <td>2021-08-01</td>\n",
       "      <td>4</td>\n",
       "      <td>78</td>\n",
       "    </tr>\n",
       "    <tr>\n",
       "      <th>129</th>\n",
       "      <td>2021-08-01</td>\n",
       "      <td>5</td>\n",
       "      <td>7</td>\n",
       "    </tr>\n",
       "  </tbody>\n",
       "</table>\n",
       "<p>130 rows × 3 columns</p>\n",
       "</div>"
      ],
      "text/plain": [
       "        cohort  nb_weeks  customers_id\n",
       "0   2021-04-01        -3             6\n",
       "1   2021-04-01        -2            84\n",
       "2   2021-04-01        -1           176\n",
       "3   2021-04-01         0           210\n",
       "4   2021-04-01         1         25802\n",
       "..         ...       ...           ...\n",
       "125 2021-08-01         1         13692\n",
       "126 2021-08-01         2           150\n",
       "127 2021-08-01         3           132\n",
       "128 2021-08-01         4            78\n",
       "129 2021-08-01         5             7\n",
       "\n",
       "[130 rows x 3 columns]"
      ]
     },
     "execution_count": 28,
     "metadata": {},
     "output_type": "execute_result"
    }
   ],
   "source": [
    "df_retention = df_cohort.groupby(['cohort', 'nb_weeks'], as_index=False).customers_id.nunique()\n",
    "df_retention"
   ]
  },
  {
   "cell_type": "markdown",
   "metadata": {
    "id": "1T_Z_dsrthg7"
   },
   "source": [
    "Using `df_retention`, create a **pivot table** with `cohort` as index and `nb_weeks` as columns. \\\n",
    "Store it in a variable named `retention_matrix`.\n"
   ]
  },
  {
   "cell_type": "code",
   "execution_count": 29,
   "metadata": {
    "ExecuteTime": {
     "end_time": "2024-02-15T15:35:39.591231Z",
     "start_time": "2024-02-15T15:35:39.566270Z"
    },
    "id": "ddK5nMC6tkWs"
   },
   "outputs": [
    {
     "data": {
      "text/html": [
       "<div>\n",
       "<style scoped>\n",
       "    .dataframe tbody tr th:only-of-type {\n",
       "        vertical-align: middle;\n",
       "    }\n",
       "\n",
       "    .dataframe tbody tr th {\n",
       "        vertical-align: top;\n",
       "    }\n",
       "\n",
       "    .dataframe thead th {\n",
       "        text-align: right;\n",
       "    }\n",
       "</style>\n",
       "<table border=\"1\" class=\"dataframe\">\n",
       "  <thead>\n",
       "    <tr style=\"text-align: right;\">\n",
       "      <th>nb_weeks</th>\n",
       "      <th>-20</th>\n",
       "      <th>-19</th>\n",
       "      <th>-18</th>\n",
       "      <th>-17</th>\n",
       "      <th>-16</th>\n",
       "      <th>-15</th>\n",
       "      <th>-14</th>\n",
       "      <th>-13</th>\n",
       "      <th>-12</th>\n",
       "      <th>-11</th>\n",
       "      <th>...</th>\n",
       "      <th>13</th>\n",
       "      <th>14</th>\n",
       "      <th>15</th>\n",
       "      <th>16</th>\n",
       "      <th>17</th>\n",
       "      <th>18</th>\n",
       "      <th>19</th>\n",
       "      <th>20</th>\n",
       "      <th>21</th>\n",
       "      <th>22</th>\n",
       "    </tr>\n",
       "    <tr>\n",
       "      <th>cohort</th>\n",
       "      <th></th>\n",
       "      <th></th>\n",
       "      <th></th>\n",
       "      <th></th>\n",
       "      <th></th>\n",
       "      <th></th>\n",
       "      <th></th>\n",
       "      <th></th>\n",
       "      <th></th>\n",
       "      <th></th>\n",
       "      <th></th>\n",
       "      <th></th>\n",
       "      <th></th>\n",
       "      <th></th>\n",
       "      <th></th>\n",
       "      <th></th>\n",
       "      <th></th>\n",
       "      <th></th>\n",
       "      <th></th>\n",
       "      <th></th>\n",
       "      <th></th>\n",
       "    </tr>\n",
       "  </thead>\n",
       "  <tbody>\n",
       "    <tr>\n",
       "      <th>2021-04-01</th>\n",
       "      <td>NaN</td>\n",
       "      <td>NaN</td>\n",
       "      <td>NaN</td>\n",
       "      <td>NaN</td>\n",
       "      <td>NaN</td>\n",
       "      <td>NaN</td>\n",
       "      <td>NaN</td>\n",
       "      <td>NaN</td>\n",
       "      <td>NaN</td>\n",
       "      <td>NaN</td>\n",
       "      <td>...</td>\n",
       "      <td>1040.0</td>\n",
       "      <td>922.0</td>\n",
       "      <td>787.0</td>\n",
       "      <td>802.0</td>\n",
       "      <td>830.0</td>\n",
       "      <td>863.0</td>\n",
       "      <td>679.0</td>\n",
       "      <td>495.0</td>\n",
       "      <td>310.0</td>\n",
       "      <td>118.0</td>\n",
       "    </tr>\n",
       "    <tr>\n",
       "      <th>2021-05-01</th>\n",
       "      <td>NaN</td>\n",
       "      <td>NaN</td>\n",
       "      <td>NaN</td>\n",
       "      <td>NaN</td>\n",
       "      <td>NaN</td>\n",
       "      <td>NaN</td>\n",
       "      <td>NaN</td>\n",
       "      <td>NaN</td>\n",
       "      <td>NaN</td>\n",
       "      <td>NaN</td>\n",
       "      <td>...</td>\n",
       "      <td>578.0</td>\n",
       "      <td>579.0</td>\n",
       "      <td>438.0</td>\n",
       "      <td>330.0</td>\n",
       "      <td>204.0</td>\n",
       "      <td>47.0</td>\n",
       "      <td>NaN</td>\n",
       "      <td>NaN</td>\n",
       "      <td>NaN</td>\n",
       "      <td>NaN</td>\n",
       "    </tr>\n",
       "    <tr>\n",
       "      <th>2021-06-01</th>\n",
       "      <td>NaN</td>\n",
       "      <td>NaN</td>\n",
       "      <td>NaN</td>\n",
       "      <td>NaN</td>\n",
       "      <td>NaN</td>\n",
       "      <td>NaN</td>\n",
       "      <td>NaN</td>\n",
       "      <td>NaN</td>\n",
       "      <td>NaN</td>\n",
       "      <td>60.0</td>\n",
       "      <td>...</td>\n",
       "      <td>111.0</td>\n",
       "      <td>6.0</td>\n",
       "      <td>NaN</td>\n",
       "      <td>NaN</td>\n",
       "      <td>NaN</td>\n",
       "      <td>NaN</td>\n",
       "      <td>NaN</td>\n",
       "      <td>NaN</td>\n",
       "      <td>NaN</td>\n",
       "      <td>NaN</td>\n",
       "    </tr>\n",
       "    <tr>\n",
       "      <th>2021-07-01</th>\n",
       "      <td>NaN</td>\n",
       "      <td>NaN</td>\n",
       "      <td>NaN</td>\n",
       "      <td>NaN</td>\n",
       "      <td>3.0</td>\n",
       "      <td>59.0</td>\n",
       "      <td>147.0</td>\n",
       "      <td>227.0</td>\n",
       "      <td>321.0</td>\n",
       "      <td>407.0</td>\n",
       "      <td>...</td>\n",
       "      <td>NaN</td>\n",
       "      <td>NaN</td>\n",
       "      <td>NaN</td>\n",
       "      <td>NaN</td>\n",
       "      <td>NaN</td>\n",
       "      <td>NaN</td>\n",
       "      <td>NaN</td>\n",
       "      <td>NaN</td>\n",
       "      <td>NaN</td>\n",
       "      <td>NaN</td>\n",
       "    </tr>\n",
       "    <tr>\n",
       "      <th>2021-08-01</th>\n",
       "      <td>21.0</td>\n",
       "      <td>85.0</td>\n",
       "      <td>166.0</td>\n",
       "      <td>219.0</td>\n",
       "      <td>369.0</td>\n",
       "      <td>357.0</td>\n",
       "      <td>365.0</td>\n",
       "      <td>335.0</td>\n",
       "      <td>369.0</td>\n",
       "      <td>331.0</td>\n",
       "      <td>...</td>\n",
       "      <td>NaN</td>\n",
       "      <td>NaN</td>\n",
       "      <td>NaN</td>\n",
       "      <td>NaN</td>\n",
       "      <td>NaN</td>\n",
       "      <td>NaN</td>\n",
       "      <td>NaN</td>\n",
       "      <td>NaN</td>\n",
       "      <td>NaN</td>\n",
       "      <td>NaN</td>\n",
       "    </tr>\n",
       "  </tbody>\n",
       "</table>\n",
       "<p>5 rows × 43 columns</p>\n",
       "</div>"
      ],
      "text/plain": [
       "nb_weeks     -20   -19    -18    -17    -16    -15    -14    -13    -12  \\\n",
       "cohort                                                                    \n",
       "2021-04-01   NaN   NaN    NaN    NaN    NaN    NaN    NaN    NaN    NaN   \n",
       "2021-05-01   NaN   NaN    NaN    NaN    NaN    NaN    NaN    NaN    NaN   \n",
       "2021-06-01   NaN   NaN    NaN    NaN    NaN    NaN    NaN    NaN    NaN   \n",
       "2021-07-01   NaN   NaN    NaN    NaN    3.0   59.0  147.0  227.0  321.0   \n",
       "2021-08-01  21.0  85.0  166.0  219.0  369.0  357.0  365.0  335.0  369.0   \n",
       "\n",
       "nb_weeks      -11  ...      13     14     15     16     17     18     19  \\\n",
       "cohort             ...                                                     \n",
       "2021-04-01    NaN  ...  1040.0  922.0  787.0  802.0  830.0  863.0  679.0   \n",
       "2021-05-01    NaN  ...   578.0  579.0  438.0  330.0  204.0   47.0    NaN   \n",
       "2021-06-01   60.0  ...   111.0    6.0    NaN    NaN    NaN    NaN    NaN   \n",
       "2021-07-01  407.0  ...     NaN    NaN    NaN    NaN    NaN    NaN    NaN   \n",
       "2021-08-01  331.0  ...     NaN    NaN    NaN    NaN    NaN    NaN    NaN   \n",
       "\n",
       "nb_weeks       20     21     22  \n",
       "cohort                           \n",
       "2021-04-01  495.0  310.0  118.0  \n",
       "2021-05-01    NaN    NaN    NaN  \n",
       "2021-06-01    NaN    NaN    NaN  \n",
       "2021-07-01    NaN    NaN    NaN  \n",
       "2021-08-01    NaN    NaN    NaN  \n",
       "\n",
       "[5 rows x 43 columns]"
      ]
     },
     "execution_count": 29,
     "metadata": {},
     "output_type": "execute_result"
    }
   ],
   "source": [
    "retention_matrix = df_retention.pivot(\n",
    "    index='cohort',\n",
    "    columns='nb_weeks',\n",
    "    values='customers_id'\n",
    ")\n",
    "retention_matrix"
   ]
  },
  {
   "cell_type": "markdown",
   "metadata": {
    "id": "OVxF25O3u_E2"
   },
   "source": [
    "This result is what we call a retention matrix:\n",
    "- Each row represents the number of users from a specific cohort who remain active in months 1, 2, 3, ..., X following their initial purchase.\n",
    "- Each column represents the number of users who are still active in month X after their first purchase, considering different cohorts.\n"
   ]
  },
  {
   "cell_type": "markdown",
   "metadata": {
    "id": "z2BFu0YLth8B"
   },
   "source": [
    "---\n",
    "\n",
    "Results can be hard to read when not represented as a percentage of active users.\n",
    "\n",
    "We need to divide those values by the `df_cohort_size` variable we calculated earlier. \\\n",
    "Since we are not dividing by a simple value but by a `Series` indexed by a date, you will need to use the `.div()` function.\n",
    "\n",
    "<u>Note:</u> Make sure to choose the correct *axis* parameter\n",
    "\n"
   ]
  },
  {
   "cell_type": "code",
   "execution_count": 30,
   "metadata": {
    "ExecuteTime": {
     "end_time": "2024-02-15T15:35:39.604375Z",
     "start_time": "2024-02-15T15:35:39.592489Z"
    },
    "id": "fURhHvVrtpA5"
   },
   "outputs": [
    {
     "data": {
      "text/html": [
       "<div>\n",
       "<style scoped>\n",
       "    .dataframe tbody tr th:only-of-type {\n",
       "        vertical-align: middle;\n",
       "    }\n",
       "\n",
       "    .dataframe tbody tr th {\n",
       "        vertical-align: top;\n",
       "    }\n",
       "\n",
       "    .dataframe thead th {\n",
       "        text-align: right;\n",
       "    }\n",
       "</style>\n",
       "<table border=\"1\" class=\"dataframe\">\n",
       "  <thead>\n",
       "    <tr style=\"text-align: right;\">\n",
       "      <th>nb_weeks</th>\n",
       "      <th>-20</th>\n",
       "      <th>-19</th>\n",
       "      <th>-18</th>\n",
       "      <th>-17</th>\n",
       "      <th>-16</th>\n",
       "      <th>-15</th>\n",
       "      <th>-14</th>\n",
       "      <th>-13</th>\n",
       "      <th>-12</th>\n",
       "      <th>-11</th>\n",
       "      <th>...</th>\n",
       "      <th>13</th>\n",
       "      <th>14</th>\n",
       "      <th>15</th>\n",
       "      <th>16</th>\n",
       "      <th>17</th>\n",
       "      <th>18</th>\n",
       "      <th>19</th>\n",
       "      <th>20</th>\n",
       "      <th>21</th>\n",
       "      <th>22</th>\n",
       "    </tr>\n",
       "    <tr>\n",
       "      <th>cohort</th>\n",
       "      <th></th>\n",
       "      <th></th>\n",
       "      <th></th>\n",
       "      <th></th>\n",
       "      <th></th>\n",
       "      <th></th>\n",
       "      <th></th>\n",
       "      <th></th>\n",
       "      <th></th>\n",
       "      <th></th>\n",
       "      <th></th>\n",
       "      <th></th>\n",
       "      <th></th>\n",
       "      <th></th>\n",
       "      <th></th>\n",
       "      <th></th>\n",
       "      <th></th>\n",
       "      <th></th>\n",
       "      <th></th>\n",
       "      <th></th>\n",
       "      <th></th>\n",
       "    </tr>\n",
       "  </thead>\n",
       "  <tbody>\n",
       "    <tr>\n",
       "      <th>2021-04-01</th>\n",
       "      <td>NaN</td>\n",
       "      <td>NaN</td>\n",
       "      <td>NaN</td>\n",
       "      <td>NaN</td>\n",
       "      <td>NaN</td>\n",
       "      <td>NaN</td>\n",
       "      <td>NaN</td>\n",
       "      <td>NaN</td>\n",
       "      <td>NaN</td>\n",
       "      <td>NaN</td>\n",
       "      <td>...</td>\n",
       "      <td>0.040307</td>\n",
       "      <td>0.035734</td>\n",
       "      <td>0.030502</td>\n",
       "      <td>0.031083</td>\n",
       "      <td>0.032168</td>\n",
       "      <td>0.033447</td>\n",
       "      <td>0.026316</td>\n",
       "      <td>0.019185</td>\n",
       "      <td>0.012015</td>\n",
       "      <td>0.004573</td>\n",
       "    </tr>\n",
       "    <tr>\n",
       "      <th>2021-05-01</th>\n",
       "      <td>NaN</td>\n",
       "      <td>NaN</td>\n",
       "      <td>NaN</td>\n",
       "      <td>NaN</td>\n",
       "      <td>NaN</td>\n",
       "      <td>NaN</td>\n",
       "      <td>NaN</td>\n",
       "      <td>NaN</td>\n",
       "      <td>NaN</td>\n",
       "      <td>NaN</td>\n",
       "      <td>...</td>\n",
       "      <td>0.029096</td>\n",
       "      <td>0.029147</td>\n",
       "      <td>0.022049</td>\n",
       "      <td>0.016612</td>\n",
       "      <td>0.010269</td>\n",
       "      <td>0.002366</td>\n",
       "      <td>NaN</td>\n",
       "      <td>NaN</td>\n",
       "      <td>NaN</td>\n",
       "      <td>NaN</td>\n",
       "    </tr>\n",
       "    <tr>\n",
       "      <th>2021-06-01</th>\n",
       "      <td>NaN</td>\n",
       "      <td>NaN</td>\n",
       "      <td>NaN</td>\n",
       "      <td>NaN</td>\n",
       "      <td>NaN</td>\n",
       "      <td>NaN</td>\n",
       "      <td>NaN</td>\n",
       "      <td>NaN</td>\n",
       "      <td>NaN</td>\n",
       "      <td>0.003668</td>\n",
       "      <td>...</td>\n",
       "      <td>0.006787</td>\n",
       "      <td>0.000367</td>\n",
       "      <td>NaN</td>\n",
       "      <td>NaN</td>\n",
       "      <td>NaN</td>\n",
       "      <td>NaN</td>\n",
       "      <td>NaN</td>\n",
       "      <td>NaN</td>\n",
       "      <td>NaN</td>\n",
       "      <td>NaN</td>\n",
       "    </tr>\n",
       "    <tr>\n",
       "      <th>2021-07-01</th>\n",
       "      <td>NaN</td>\n",
       "      <td>NaN</td>\n",
       "      <td>NaN</td>\n",
       "      <td>NaN</td>\n",
       "      <td>0.000205</td>\n",
       "      <td>0.004026</td>\n",
       "      <td>0.010031</td>\n",
       "      <td>0.015490</td>\n",
       "      <td>0.021904</td>\n",
       "      <td>0.027772</td>\n",
       "      <td>...</td>\n",
       "      <td>NaN</td>\n",
       "      <td>NaN</td>\n",
       "      <td>NaN</td>\n",
       "      <td>NaN</td>\n",
       "      <td>NaN</td>\n",
       "      <td>NaN</td>\n",
       "      <td>NaN</td>\n",
       "      <td>NaN</td>\n",
       "      <td>NaN</td>\n",
       "      <td>NaN</td>\n",
       "    </tr>\n",
       "    <tr>\n",
       "      <th>2021-08-01</th>\n",
       "      <td>0.001534</td>\n",
       "      <td>0.006208</td>\n",
       "      <td>0.012124</td>\n",
       "      <td>0.015995</td>\n",
       "      <td>0.026950</td>\n",
       "      <td>0.026074</td>\n",
       "      <td>0.026658</td>\n",
       "      <td>0.024467</td>\n",
       "      <td>0.026950</td>\n",
       "      <td>0.024175</td>\n",
       "      <td>...</td>\n",
       "      <td>NaN</td>\n",
       "      <td>NaN</td>\n",
       "      <td>NaN</td>\n",
       "      <td>NaN</td>\n",
       "      <td>NaN</td>\n",
       "      <td>NaN</td>\n",
       "      <td>NaN</td>\n",
       "      <td>NaN</td>\n",
       "      <td>NaN</td>\n",
       "      <td>NaN</td>\n",
       "    </tr>\n",
       "  </tbody>\n",
       "</table>\n",
       "<p>5 rows × 43 columns</p>\n",
       "</div>"
      ],
      "text/plain": [
       "nb_weeks         -20       -19       -18       -17       -16       -15  \\\n",
       "cohort                                                                   \n",
       "2021-04-01       NaN       NaN       NaN       NaN       NaN       NaN   \n",
       "2021-05-01       NaN       NaN       NaN       NaN       NaN       NaN   \n",
       "2021-06-01       NaN       NaN       NaN       NaN       NaN       NaN   \n",
       "2021-07-01       NaN       NaN       NaN       NaN  0.000205  0.004026   \n",
       "2021-08-01  0.001534  0.006208  0.012124  0.015995  0.026950  0.026074   \n",
       "\n",
       "nb_weeks         -14       -13       -12       -11  ...        13        14  \\\n",
       "cohort                                              ...                       \n",
       "2021-04-01       NaN       NaN       NaN       NaN  ...  0.040307  0.035734   \n",
       "2021-05-01       NaN       NaN       NaN       NaN  ...  0.029096  0.029147   \n",
       "2021-06-01       NaN       NaN       NaN  0.003668  ...  0.006787  0.000367   \n",
       "2021-07-01  0.010031  0.015490  0.021904  0.027772  ...       NaN       NaN   \n",
       "2021-08-01  0.026658  0.024467  0.026950  0.024175  ...       NaN       NaN   \n",
       "\n",
       "nb_weeks          15        16        17        18        19        20  \\\n",
       "cohort                                                                   \n",
       "2021-04-01  0.030502  0.031083  0.032168  0.033447  0.026316  0.019185   \n",
       "2021-05-01  0.022049  0.016612  0.010269  0.002366       NaN       NaN   \n",
       "2021-06-01       NaN       NaN       NaN       NaN       NaN       NaN   \n",
       "2021-07-01       NaN       NaN       NaN       NaN       NaN       NaN   \n",
       "2021-08-01       NaN       NaN       NaN       NaN       NaN       NaN   \n",
       "\n",
       "nb_weeks          21        22  \n",
       "cohort                          \n",
       "2021-04-01  0.012015  0.004573  \n",
       "2021-05-01       NaN       NaN  \n",
       "2021-06-01       NaN       NaN  \n",
       "2021-07-01       NaN       NaN  \n",
       "2021-08-01       NaN       NaN  \n",
       "\n",
       "[5 rows x 43 columns]"
      ]
     },
     "execution_count": 30,
     "metadata": {},
     "output_type": "execute_result"
    }
   ],
   "source": [
    "retention_matrix=retention_matrix.div(cohort_size,axis=0)\n",
    "retention_matrix"
   ]
  },
  {
   "cell_type": "markdown",
   "metadata": {
    "id": "qBHVMus8oKAl"
   },
   "source": [
    "Congratulations ! You just created your first retention Matrix with Python ! 🚀"
   ]
  },
  {
   "cell_type": "markdown",
   "metadata": {
    "id": "PJKcIF6SoKAl"
   },
   "source": [
    "### Matrix visualisation"
   ]
  },
  {
   "cell_type": "markdown",
   "metadata": {
    "id": "CdujoyfexOJk"
   },
   "source": [
    "Execute the following cell to view the Retention Matrix and gain insights from the graphical representation."
   ]
  },
  {
   "cell_type": "code",
   "execution_count": 31,
   "metadata": {
    "ExecuteTime": {
     "end_time": "2024-02-15T15:35:39.648470Z",
     "start_time": "2024-02-15T15:35:39.605603Z"
    },
    "id": "_Q1ZizXxxTyh"
   },
   "outputs": [
    {
     "data": {
      "application/vnd.plotly.v1+json": {
       "config": {
        "plotlyServerURL": "https://plot.ly"
       },
       "data": [
        {
         "coloraxis": "coloraxis",
         "hovertemplate": "nb_weeks: %{x}<br>cohort: %{y}<br>color: %{z}<extra></extra>",
         "name": "0",
         "texttemplate": "%{z:.0%}",
         "type": "heatmap",
         "x": {
          "bdata": "7O3u7/Dx8vP09fb3+Pn6+/z9/v8AAQIDBAUGBwgJCgsMDQ4PEBESExQVFg==",
          "dtype": "i1"
         },
         "xaxis": "x",
         "y": [
          "2021-04-01T00:00:00",
          "2021-05-01T00:00:00",
          "2021-06-01T00:00:00",
          "2021-07-01T00:00:00",
          "2021-08-01T00:00:00"
         ],
         "yaxis": "y",
         "z": {
          "bdata": "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",
          "dtype": "f8",
          "shape": "5, 43"
         }
        }
       ],
       "layout": {
        "coloraxis": {
         "colorscale": [
          [
           0,
           "#0d0887"
          ],
          [
           0.1111111111111111,
           "#46039f"
          ],
          [
           0.2222222222222222,
           "#7201a8"
          ],
          [
           0.3333333333333333,
           "#9c179e"
          ],
          [
           0.4444444444444444,
           "#bd3786"
          ],
          [
           0.5555555555555556,
           "#d8576b"
          ],
          [
           0.6666666666666666,
           "#ed7953"
          ],
          [
           0.7777777777777778,
           "#fb9f3a"
          ],
          [
           0.8888888888888888,
           "#fdca26"
          ],
          [
           1,
           "#f0f921"
          ]
         ]
        },
        "margin": {
         "t": 60
        },
        "template": {
         "data": {
          "bar": [
           {
            "error_x": {
             "color": "#2a3f5f"
            },
            "error_y": {
             "color": "#2a3f5f"
            },
            "marker": {
             "line": {
              "color": "#E5ECF6",
              "width": 0.5
             },
             "pattern": {
              "fillmode": "overlay",
              "size": 10,
              "solidity": 0.2
             }
            },
            "type": "bar"
           }
          ],
          "barpolar": [
           {
            "marker": {
             "line": {
              "color": "#E5ECF6",
              "width": 0.5
             },
             "pattern": {
              "fillmode": "overlay",
              "size": 10,
              "solidity": 0.2
             }
            },
            "type": "barpolar"
           }
          ],
          "carpet": [
           {
            "aaxis": {
             "endlinecolor": "#2a3f5f",
             "gridcolor": "white",
             "linecolor": "white",
             "minorgridcolor": "white",
             "startlinecolor": "#2a3f5f"
            },
            "baxis": {
             "endlinecolor": "#2a3f5f",
             "gridcolor": "white",
             "linecolor": "white",
             "minorgridcolor": "white",
             "startlinecolor": "#2a3f5f"
            },
            "type": "carpet"
           }
          ],
          "choropleth": [
           {
            "colorbar": {
             "outlinewidth": 0,
             "ticks": ""
            },
            "type": "choropleth"
           }
          ],
          "contour": [
           {
            "colorbar": {
             "outlinewidth": 0,
             "ticks": ""
            },
            "colorscale": [
             [
              0,
              "#0d0887"
             ],
             [
              0.1111111111111111,
              "#46039f"
             ],
             [
              0.2222222222222222,
              "#7201a8"
             ],
             [
              0.3333333333333333,
              "#9c179e"
             ],
             [
              0.4444444444444444,
              "#bd3786"
             ],
             [
              0.5555555555555556,
              "#d8576b"
             ],
             [
              0.6666666666666666,
              "#ed7953"
             ],
             [
              0.7777777777777778,
              "#fb9f3a"
             ],
             [
              0.8888888888888888,
              "#fdca26"
             ],
             [
              1,
              "#f0f921"
             ]
            ],
            "type": "contour"
           }
          ],
          "contourcarpet": [
           {
            "colorbar": {
             "outlinewidth": 0,
             "ticks": ""
            },
            "type": "contourcarpet"
           }
          ],
          "heatmap": [
           {
            "colorbar": {
             "outlinewidth": 0,
             "ticks": ""
            },
            "colorscale": [
             [
              0,
              "#0d0887"
             ],
             [
              0.1111111111111111,
              "#46039f"
             ],
             [
              0.2222222222222222,
              "#7201a8"
             ],
             [
              0.3333333333333333,
              "#9c179e"
             ],
             [
              0.4444444444444444,
              "#bd3786"
             ],
             [
              0.5555555555555556,
              "#d8576b"
             ],
             [
              0.6666666666666666,
              "#ed7953"
             ],
             [
              0.7777777777777778,
              "#fb9f3a"
             ],
             [
              0.8888888888888888,
              "#fdca26"
             ],
             [
              1,
              "#f0f921"
             ]
            ],
            "type": "heatmap"
           }
          ],
          "histogram": [
           {
            "marker": {
             "pattern": {
              "fillmode": "overlay",
              "size": 10,
              "solidity": 0.2
             }
            },
            "type": "histogram"
           }
          ],
          "histogram2d": [
           {
            "colorbar": {
             "outlinewidth": 0,
             "ticks": ""
            },
            "colorscale": [
             [
              0,
              "#0d0887"
             ],
             [
              0.1111111111111111,
              "#46039f"
             ],
             [
              0.2222222222222222,
              "#7201a8"
             ],
             [
              0.3333333333333333,
              "#9c179e"
             ],
             [
              0.4444444444444444,
              "#bd3786"
             ],
             [
              0.5555555555555556,
              "#d8576b"
             ],
             [
              0.6666666666666666,
              "#ed7953"
             ],
             [
              0.7777777777777778,
              "#fb9f3a"
             ],
             [
              0.8888888888888888,
              "#fdca26"
             ],
             [
              1,
              "#f0f921"
             ]
            ],
            "type": "histogram2d"
           }
          ],
          "histogram2dcontour": [
           {
            "colorbar": {
             "outlinewidth": 0,
             "ticks": ""
            },
            "colorscale": [
             [
              0,
              "#0d0887"
             ],
             [
              0.1111111111111111,
              "#46039f"
             ],
             [
              0.2222222222222222,
              "#7201a8"
             ],
             [
              0.3333333333333333,
              "#9c179e"
             ],
             [
              0.4444444444444444,
              "#bd3786"
             ],
             [
              0.5555555555555556,
              "#d8576b"
             ],
             [
              0.6666666666666666,
              "#ed7953"
             ],
             [
              0.7777777777777778,
              "#fb9f3a"
             ],
             [
              0.8888888888888888,
              "#fdca26"
             ],
             [
              1,
              "#f0f921"
             ]
            ],
            "type": "histogram2dcontour"
           }
          ],
          "mesh3d": [
           {
            "colorbar": {
             "outlinewidth": 0,
             "ticks": ""
            },
            "type": "mesh3d"
           }
          ],
          "parcoords": [
           {
            "line": {
             "colorbar": {
              "outlinewidth": 0,
              "ticks": ""
             }
            },
            "type": "parcoords"
           }
          ],
          "pie": [
           {
            "automargin": true,
            "type": "pie"
           }
          ],
          "scatter": [
           {
            "fillpattern": {
             "fillmode": "overlay",
             "size": 10,
             "solidity": 0.2
            },
            "type": "scatter"
           }
          ],
          "scatter3d": [
           {
            "line": {
             "colorbar": {
              "outlinewidth": 0,
              "ticks": ""
             }
            },
            "marker": {
             "colorbar": {
              "outlinewidth": 0,
              "ticks": ""
             }
            },
            "type": "scatter3d"
           }
          ],
          "scattercarpet": [
           {
            "marker": {
             "colorbar": {
              "outlinewidth": 0,
              "ticks": ""
             }
            },
            "type": "scattercarpet"
           }
          ],
          "scattergeo": [
           {
            "marker": {
             "colorbar": {
              "outlinewidth": 0,
              "ticks": ""
             }
            },
            "type": "scattergeo"
           }
          ],
          "scattergl": [
           {
            "marker": {
             "colorbar": {
              "outlinewidth": 0,
              "ticks": ""
             }
            },
            "type": "scattergl"
           }
          ],
          "scattermap": [
           {
            "marker": {
             "colorbar": {
              "outlinewidth": 0,
              "ticks": ""
             }
            },
            "type": "scattermap"
           }
          ],
          "scattermapbox": [
           {
            "marker": {
             "colorbar": {
              "outlinewidth": 0,
              "ticks": ""
             }
            },
            "type": "scattermapbox"
           }
          ],
          "scatterpolar": [
           {
            "marker": {
             "colorbar": {
              "outlinewidth": 0,
              "ticks": ""
             }
            },
            "type": "scatterpolar"
           }
          ],
          "scatterpolargl": [
           {
            "marker": {
             "colorbar": {
              "outlinewidth": 0,
              "ticks": ""
             }
            },
            "type": "scatterpolargl"
           }
          ],
          "scatterternary": [
           {
            "marker": {
             "colorbar": {
              "outlinewidth": 0,
              "ticks": ""
             }
            },
            "type": "scatterternary"
           }
          ],
          "surface": [
           {
            "colorbar": {
             "outlinewidth": 0,
             "ticks": ""
            },
            "colorscale": [
             [
              0,
              "#0d0887"
             ],
             [
              0.1111111111111111,
              "#46039f"
             ],
             [
              0.2222222222222222,
              "#7201a8"
             ],
             [
              0.3333333333333333,
              "#9c179e"
             ],
             [
              0.4444444444444444,
              "#bd3786"
             ],
             [
              0.5555555555555556,
              "#d8576b"
             ],
             [
              0.6666666666666666,
              "#ed7953"
             ],
             [
              0.7777777777777778,
              "#fb9f3a"
             ],
             [
              0.8888888888888888,
              "#fdca26"
             ],
             [
              1,
              "#f0f921"
             ]
            ],
            "type": "surface"
           }
          ],
          "table": [
           {
            "cells": {
             "fill": {
              "color": "#EBF0F8"
             },
             "line": {
              "color": "white"
             }
            },
            "header": {
             "fill": {
              "color": "#C8D4E3"
             },
             "line": {
              "color": "white"
             }
            },
            "type": "table"
           }
          ]
         },
         "layout": {
          "annotationdefaults": {
           "arrowcolor": "#2a3f5f",
           "arrowhead": 0,
           "arrowwidth": 1
          },
          "autotypenumbers": "strict",
          "coloraxis": {
           "colorbar": {
            "outlinewidth": 0,
            "ticks": ""
           }
          },
          "colorscale": {
           "diverging": [
            [
             0,
             "#8e0152"
            ],
            [
             0.1,
             "#c51b7d"
            ],
            [
             0.2,
             "#de77ae"
            ],
            [
             0.3,
             "#f1b6da"
            ],
            [
             0.4,
             "#fde0ef"
            ],
            [
             0.5,
             "#f7f7f7"
            ],
            [
             0.6,
             "#e6f5d0"
            ],
            [
             0.7,
             "#b8e186"
            ],
            [
             0.8,
             "#7fbc41"
            ],
            [
             0.9,
             "#4d9221"
            ],
            [
             1,
             "#276419"
            ]
           ],
           "sequential": [
            [
             0,
             "#0d0887"
            ],
            [
             0.1111111111111111,
             "#46039f"
            ],
            [
             0.2222222222222222,
             "#7201a8"
            ],
            [
             0.3333333333333333,
             "#9c179e"
            ],
            [
             0.4444444444444444,
             "#bd3786"
            ],
            [
             0.5555555555555556,
             "#d8576b"
            ],
            [
             0.6666666666666666,
             "#ed7953"
            ],
            [
             0.7777777777777778,
             "#fb9f3a"
            ],
            [
             0.8888888888888888,
             "#fdca26"
            ],
            [
             1,
             "#f0f921"
            ]
           ],
           "sequentialminus": [
            [
             0,
             "#0d0887"
            ],
            [
             0.1111111111111111,
             "#46039f"
            ],
            [
             0.2222222222222222,
             "#7201a8"
            ],
            [
             0.3333333333333333,
             "#9c179e"
            ],
            [
             0.4444444444444444,
             "#bd3786"
            ],
            [
             0.5555555555555556,
             "#d8576b"
            ],
            [
             0.6666666666666666,
             "#ed7953"
            ],
            [
             0.7777777777777778,
             "#fb9f3a"
            ],
            [
             0.8888888888888888,
             "#fdca26"
            ],
            [
             1,
             "#f0f921"
            ]
           ]
          },
          "colorway": [
           "#636efa",
           "#EF553B",
           "#00cc96",
           "#ab63fa",
           "#FFA15A",
           "#19d3f3",
           "#FF6692",
           "#B6E880",
           "#FF97FF",
           "#FECB52"
          ],
          "font": {
           "color": "#2a3f5f"
          },
          "geo": {
           "bgcolor": "white",
           "lakecolor": "white",
           "landcolor": "#E5ECF6",
           "showlakes": true,
           "showland": true,
           "subunitcolor": "white"
          },
          "hoverlabel": {
           "align": "left"
          },
          "hovermode": "closest",
          "mapbox": {
           "style": "light"
          },
          "paper_bgcolor": "white",
          "plot_bgcolor": "#E5ECF6",
          "polar": {
           "angularaxis": {
            "gridcolor": "white",
            "linecolor": "white",
            "ticks": ""
           },
           "bgcolor": "#E5ECF6",
           "radialaxis": {
            "gridcolor": "white",
            "linecolor": "white",
            "ticks": ""
           }
          },
          "scene": {
           "xaxis": {
            "backgroundcolor": "#E5ECF6",
            "gridcolor": "white",
            "gridwidth": 2,
            "linecolor": "white",
            "showbackground": true,
            "ticks": "",
            "zerolinecolor": "white"
           },
           "yaxis": {
            "backgroundcolor": "#E5ECF6",
            "gridcolor": "white",
            "gridwidth": 2,
            "linecolor": "white",
            "showbackground": true,
            "ticks": "",
            "zerolinecolor": "white"
           },
           "zaxis": {
            "backgroundcolor": "#E5ECF6",
            "gridcolor": "white",
            "gridwidth": 2,
            "linecolor": "white",
            "showbackground": true,
            "ticks": "",
            "zerolinecolor": "white"
           }
          },
          "shapedefaults": {
           "line": {
            "color": "#2a3f5f"
           }
          },
          "ternary": {
           "aaxis": {
            "gridcolor": "white",
            "linecolor": "white",
            "ticks": ""
           },
           "baxis": {
            "gridcolor": "white",
            "linecolor": "white",
            "ticks": ""
           },
           "bgcolor": "#E5ECF6",
           "caxis": {
            "gridcolor": "white",
            "linecolor": "white",
            "ticks": ""
           }
          },
          "title": {
           "x": 0.05
          },
          "xaxis": {
           "automargin": true,
           "gridcolor": "white",
           "linecolor": "white",
           "ticks": "",
           "title": {
            "standoff": 15
           },
           "zerolinecolor": "white",
           "zerolinewidth": 2
          },
          "yaxis": {
           "automargin": true,
           "gridcolor": "white",
           "linecolor": "white",
           "ticks": "",
           "title": {
            "standoff": 15
           },
           "zerolinecolor": "white",
           "zerolinewidth": 2
          }
         }
        },
        "xaxis": {
         "anchor": "y",
         "constrain": "domain",
         "domain": [
          0,
          1
         ],
         "scaleanchor": "y",
         "title": {
          "text": "nb_weeks"
         }
        },
        "yaxis": {
         "anchor": "x",
         "autorange": "reversed",
         "constrain": "domain",
         "domain": [
          0,
          1
         ],
         "title": {
          "text": "cohort"
         }
        }
       }
      }
     },
     "metadata": {},
     "output_type": "display_data"
    }
   ],
   "source": [
    "import plotly.express as px\n",
    "\n",
    "fig = px.imshow(retention_matrix, text_auto=\".0%\")\n",
    "fig.show()"
   ]
  }
 ],
 "metadata": {
  "colab": {
   "provenance": []
  },
  "kernelspec": {
   "display_name": "le_wagon-python-env",
   "language": "python",
   "name": "python3"
  },
  "language_info": {
   "codemirror_mode": {
    "name": "ipython",
    "version": 3
   },
   "file_extension": ".py",
   "mimetype": "text/x-python",
   "name": "python",
   "nbconvert_exporter": "python",
   "pygments_lexer": "ipython3",
   "version": "3.13.3"
  },
  "toc": {
   "base_numbering": 1,
   "nav_menu": {},
   "number_sections": true,
   "sideBar": true,
   "skip_h1_title": false,
   "title_cell": "Table of Contents",
   "title_sidebar": "Contents",
   "toc_cell": false,
   "toc_position": {},
   "toc_section_display": true,
   "toc_window_display": false
  }
 },
 "nbformat": 4,
 "nbformat_minor": 0
}
